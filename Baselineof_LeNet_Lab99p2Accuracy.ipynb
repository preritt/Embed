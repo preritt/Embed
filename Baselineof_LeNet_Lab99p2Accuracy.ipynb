{
  "nbformat": 4,
  "nbformat_minor": 0,
  "metadata": {
    "colab": {
      "name": "Baseof LeNet-Lab99p2Accuracy.ipynb",
      "version": "0.3.2",
      "provenance": [],
      "collapsed_sections": [],
      "include_colab_link": true
    },
    "language_info": {
      "codemirror_mode": {
        "name": "ipython",
        "version": 3
      },
      "file_extension": ".py",
      "mimetype": "text/x-python",
      "name": "python",
      "nbconvert_exporter": "python",
      "pygments_lexer": "ipython3",
      "version": "3.5.6"
    },
    "kernelspec": {
      "display_name": "Python [conda env:padhai]",
      "language": "python",
      "name": "conda-env-padhai-py"
    },
    "accelerator": "GPU"
  },
  "cells": [
    {
      "cell_type": "markdown",
      "metadata": {
        "id": "view-in-github",
        "colab_type": "text"
      },
      "source": [
        "<a href=\"https://colab.research.google.com/github/preritt/Embed/blob/master/Baselineof_LeNet_Lab99p2Accuracy.ipynb\" target=\"_parent\"><img src=\"https://colab.research.google.com/assets/colab-badge.svg\" alt=\"Open In Colab\"/></a>"
      ]
    },
    {
      "metadata": {
        "id": "IhXDOT-CZHes",
        "colab_type": "text"
      },
      "cell_type": "markdown",
      "source": [
        "# LeNet Lab\n",
        "![LeNet Architecture](https://github.com/sujaybabruwad/LeNet-in-Tensorflow/blob/master/lenet.png?raw=1)\n",
        "Source: Yan LeCun"
      ]
    },
    {
      "metadata": {
        "id": "9sheng-ZZHev",
        "colab_type": "text"
      },
      "cell_type": "markdown",
      "source": [
        "## Load Data\n",
        "\n",
        "Load the MNIST data, which comes pre-loaded with TensorFlow.\n",
        "\n",
        "You do not need to modify this section."
      ]
    },
    {
      "metadata": {
        "id": "t7J9GmniZHew",
        "colab_type": "code",
        "outputId": "db6f4317-ab39-43eb-a980-e9537ef40e95",
        "colab": {
          "base_uri": "https://localhost:8080/",
          "height": 462
        }
      },
      "cell_type": "code",
      "source": [
        "from tensorflow.examples.tutorials.mnist import input_data\n",
        "\n",
        "mnist = input_data.read_data_sets(\"MNIST_data/\", reshape=False)\n",
        "X_train, y_train           = mnist.train.images, mnist.train.labels\n",
        "X_validation, y_validation = mnist.validation.images, mnist.validation.labels\n",
        "X_test, y_test             = mnist.test.images, mnist.test.labels\n",
        "\n",
        "assert(len(X_train) == len(y_train))\n",
        "assert(len(X_validation) == len(y_validation))\n",
        "assert(len(X_test) == len(y_test))\n",
        "\n",
        "print()\n",
        "print(\"Image Shape: {}\".format(X_train[0].shape))\n",
        "print()\n",
        "print(\"Training Set:   {} samples\".format(len(X_train)))\n",
        "print(\"Validation Set: {} samples\".format(len(X_validation)))\n",
        "print(\"Test Set:       {} samples\".format(len(X_test)))"
      ],
      "execution_count": 1,
      "outputs": [
        {
          "output_type": "stream",
          "text": [
            "WARNING:tensorflow:From <ipython-input-1-566519a95339>:3: read_data_sets (from tensorflow.contrib.learn.python.learn.datasets.mnist) is deprecated and will be removed in a future version.\n",
            "Instructions for updating:\n",
            "Please use alternatives such as official/mnist/dataset.py from tensorflow/models.\n",
            "WARNING:tensorflow:From /usr/local/lib/python3.6/dist-packages/tensorflow/contrib/learn/python/learn/datasets/mnist.py:260: maybe_download (from tensorflow.contrib.learn.python.learn.datasets.base) is deprecated and will be removed in a future version.\n",
            "Instructions for updating:\n",
            "Please write your own downloading logic.\n",
            "WARNING:tensorflow:From /usr/local/lib/python3.6/dist-packages/tensorflow/contrib/learn/python/learn/datasets/mnist.py:262: extract_images (from tensorflow.contrib.learn.python.learn.datasets.mnist) is deprecated and will be removed in a future version.\n",
            "Instructions for updating:\n",
            "Please use tf.data to implement this functionality.\n",
            "Extracting MNIST_data/train-images-idx3-ubyte.gz\n",
            "WARNING:tensorflow:From /usr/local/lib/python3.6/dist-packages/tensorflow/contrib/learn/python/learn/datasets/mnist.py:267: extract_labels (from tensorflow.contrib.learn.python.learn.datasets.mnist) is deprecated and will be removed in a future version.\n",
            "Instructions for updating:\n",
            "Please use tf.data to implement this functionality.\n",
            "Extracting MNIST_data/train-labels-idx1-ubyte.gz\n",
            "Extracting MNIST_data/t10k-images-idx3-ubyte.gz\n",
            "Extracting MNIST_data/t10k-labels-idx1-ubyte.gz\n",
            "WARNING:tensorflow:From /usr/local/lib/python3.6/dist-packages/tensorflow/contrib/learn/python/learn/datasets/mnist.py:290: DataSet.__init__ (from tensorflow.contrib.learn.python.learn.datasets.mnist) is deprecated and will be removed in a future version.\n",
            "Instructions for updating:\n",
            "Please use alternatives such as official/mnist/dataset.py from tensorflow/models.\n",
            "\n",
            "Image Shape: (28, 28, 1)\n",
            "\n",
            "Training Set:   55000 samples\n",
            "Validation Set: 5000 samples\n",
            "Test Set:       10000 samples\n"
          ],
          "name": "stdout"
        }
      ]
    },
    {
      "metadata": {
        "id": "B3sJ2OzvZHe5",
        "colab_type": "text"
      },
      "cell_type": "markdown",
      "source": [
        "The MNIST data that TensorFlow pre-loads comes as 28x28x1 images.\n",
        "\n",
        "However, the LeNet architecture only accepts 32x32xC images, where C is the number of color channels.\n",
        "\n",
        "In order to reformat the MNIST data into a shape that LeNet will accept, we pad the data with two rows of zeros on the top and bottom, and two columns of zeros on the left and right (28+2+2 = 32).\n",
        "\n",
        "You do not need to modify this section."
      ]
    },
    {
      "metadata": {
        "id": "Ov_e4qaXZHe7",
        "colab_type": "code",
        "outputId": "41cf354f-ea63-4f61-a6d4-1525b9c9f728",
        "colab": {
          "base_uri": "https://localhost:8080/",
          "height": 34
        }
      },
      "cell_type": "code",
      "source": [
        "import numpy as np\n",
        "\n",
        "# Pad images with 0s\n",
        "X_train      = np.pad(X_train, ((0,0),(2,2),(2,2),(0,0)), 'constant')\n",
        "X_validation = np.pad(X_validation, ((0,0),(2,2),(2,2),(0,0)), 'constant')\n",
        "X_test       = np.pad(X_test, ((0,0),(2,2),(2,2),(0,0)), 'constant')\n",
        "    \n",
        "print(\"Updated Image Shape: {}\".format(X_train[0].shape))"
      ],
      "execution_count": 2,
      "outputs": [
        {
          "output_type": "stream",
          "text": [
            "Updated Image Shape: (32, 32, 1)\n"
          ],
          "name": "stdout"
        }
      ]
    },
    {
      "metadata": {
        "id": "ZKcSwjCmZHfB",
        "colab_type": "text"
      },
      "cell_type": "markdown",
      "source": [
        "## Visualize Data\n",
        "\n",
        "View a sample from the dataset.\n",
        "\n",
        "You do not need to modify this section."
      ]
    },
    {
      "metadata": {
        "id": "8c-ip1U9ZHfC",
        "colab_type": "code",
        "outputId": "c3f797cd-836c-4602-f028-38efeeae0fa1",
        "colab": {
          "base_uri": "https://localhost:8080/",
          "height": 123
        }
      },
      "cell_type": "code",
      "source": [
        "import random\n",
        "import numpy as np\n",
        "import matplotlib.pyplot as plt\n",
        "%matplotlib inline\n",
        "\n",
        "index = random.randint(0, len(X_train))\n",
        "image = X_train[index].squeeze()\n",
        "\n",
        "plt.figure(figsize=(1,1))\n",
        "plt.imshow(image, cmap=\"gray\")\n",
        "print(y_train[index])"
      ],
      "execution_count": 3,
      "outputs": [
        {
          "output_type": "stream",
          "text": [
            "2\n"
          ],
          "name": "stdout"
        },
        {
          "output_type": "display_data",
          "data": {
            "image/png": "[encoded data removed]",
            "text/plain": [
              "<Figure size 72x72 with 1 Axes>"
            ]
          },
          "metadata": {
            "tags": []
          }
        }
      ]
    },
    {
      "metadata": {
        "id": "ZYcNNS_OZHfJ",
        "colab_type": "text"
      },
      "cell_type": "markdown",
      "source": [
        "## Preprocess Data\n",
        "\n",
        "Shuffle the training data.\n",
        "\n",
        "You do not need to modify this section."
      ]
    },
    {
      "metadata": {
        "id": "ruzaxNTkZHfL",
        "colab_type": "code",
        "colab": {}
      },
      "cell_type": "code",
      "source": [
        "from sklearn.utils import shuffle\n",
        "\n",
        "X_train, y_train = shuffle(X_train, y_train)"
      ],
      "execution_count": 0,
      "outputs": []
    },
    {
      "metadata": {
        "id": "nD6O8IccZHfP",
        "colab_type": "text"
      },
      "cell_type": "markdown",
      "source": [
        "## Setup TensorFlow\n",
        "The `EPOCH` and `BATCH_SIZE` values affect the training speed and model accuracy.\n",
        "\n",
        "You do not need to modify this section."
      ]
    },
    {
      "metadata": {
        "id": "_1J0e74uZHfQ",
        "colab_type": "code",
        "colab": {}
      },
      "cell_type": "code",
      "source": [
        "import tensorflow as tf\n",
        "\n",
        "EPOCHS = 10\n",
        "BATCH_SIZE = 128"
      ],
      "execution_count": 0,
      "outputs": []
    },
    {
      "metadata": {
        "id": "wAaZHoyTZHfU",
        "colab_type": "text"
      },
      "cell_type": "markdown",
      "source": [
        "## TODO: Implement LeNet-5\n",
        "Implement the [LeNet-5](http://yann.lecun.com/exdb/lenet/) neural network architecture.\n",
        "\n",
        "This is the only cell you need to edit.\n",
        "### Input\n",
        "The LeNet architecture accepts a 32x32xC image as input, where C is the number of color channels. Since MNIST images are grayscale, C is 1 in this case.\n",
        "\n",
        "### Architecture\n",
        "**Layer 1: Convolutional.** The output shape should be 28x28x6.\n",
        "\n",
        "**Activation.** Your choice of activation function.\n",
        "\n",
        "**Pooling.** The output shape should be 14x14x6.\n",
        "\n",
        "**Layer 2: Convolutional.** The output shape should be 10x10x16.\n",
        "\n",
        "**Activation.** Your choice of activation function.\n",
        "\n",
        "**Pooling.** The output shape should be 5x5x16.\n",
        "\n",
        "**Flatten.** Flatten the output shape of the final pooling layer such that it's 1D instead of 3D. The easiest way to do is by using `tf.contrib.layers.flatten`, which is already imported for you.\n",
        "\n",
        "**Layer 3: Fully Connected.** This should have 120 outputs.\n",
        "\n",
        "**Activation.** Your choice of activation function.\n",
        "\n",
        "**Layer 4: Fully Connected.** This should have 84 outputs.\n",
        "\n",
        "**Activation.** Your choice of activation function.\n",
        "\n",
        "**Layer 5: Fully Connected (Logits).** This should have 10 outputs.\n",
        "\n",
        "### Output\n",
        "Return the result of the 2nd fully connected layer."
      ]
    },
    {
      "metadata": {
        "id": "3xuzyvlmZHfV",
        "colab_type": "code",
        "colab": {}
      },
      "cell_type": "code",
      "source": [
        "from tensorflow.contrib.layers import flatten\n",
        "\n",
        "def LeNet(x):    \n",
        "    # Hyperparameters\n",
        "    mu = 0\n",
        "    sigma = 0.1\n",
        "    layer_depth = {\n",
        "        'layer_1' : 6,\n",
        "        'layer_2' : 16,\n",
        "        'layer_3' : 120,\n",
        "        'layer_f1' : 84\n",
        "    }\n",
        "\n",
        "    \n",
        "    # TODO: Layer 1: Convolutional. Input = 32x32x1. Output = 28x28x6.\n",
        "    conv1_w = tf.Variable(tf.truncated_normal(shape = [5,5,1,6],mean = mu, stddev = sigma))\n",
        "    conv1_b = tf.Variable(tf.zeros(6))\n",
        "    conv1 = tf.nn.conv2d(x,conv1_w, strides = [1,1,1,1], padding = 'VALID') + conv1_b \n",
        "    # TODO: Activation.\n",
        "    conv1 = tf.nn.relu(conv1)\n",
        "\n",
        "    # TODO: Pooling. Input = 28x28x6. Output = 14x14x6.\n",
        "    pool_1 = tf.nn.max_pool(conv1,ksize = [1,2,2,1], strides = [1,2,2,1], padding = 'VALID')\n",
        "    \n",
        "    # TODO: Layer 2: Convolutional. Output = 10x10x16.\n",
        "    conv2_w = tf.Variable(tf.truncated_normal(shape = [5,5,6,16], mean = mu, stddev = sigma))\n",
        "    conv2_b = tf.Variable(tf.zeros(16))\n",
        "    conv2 = tf.nn.conv2d(pool_1, conv2_w, strides = [1,1,1,1], padding = 'VALID') + conv2_b\n",
        "    # TODO: Activation.\n",
        "    conv2 = tf.nn.relu(conv2)\n",
        "\n",
        "    # TODO: Pooling. Input = 10x10x16. Output = 5x5x16.\n",
        "    pool_2 = tf.nn.max_pool(conv2, ksize = [1,2,2,1], strides = [1,2,2,1], padding = 'VALID') \n",
        "    \n",
        "    # TODO: Flatten. Input = 5x5x16. Output = 400.\n",
        "    fc1 = flatten(pool_2)\n",
        "    \n",
        "    # TODO: Layer 3: Fully Connected. Input = 400. Output = 120.\n",
        "    fc1_w = tf.Variable(tf.truncated_normal(shape = (400,120), mean = mu, stddev = sigma))\n",
        "    fc1_b = tf.Variable(tf.zeros(120))\n",
        "    fc1 = tf.matmul(fc1,fc1_w) + fc1_b\n",
        "    \n",
        "    # TODO: Activation.\n",
        "    fc1 = tf.nn.relu(fc1)\n",
        "\n",
        "    # TODO: Layer 4: Fully Connected. Input = 120. Output = 84.\n",
        "    fc2_w = tf.Variable(tf.truncated_normal(shape = (120,84), mean = mu, stddev = sigma))\n",
        "    fc2_b = tf.Variable(tf.zeros(84))\n",
        "    fc2 = tf.matmul(fc1,fc2_w) + fc2_b\n",
        "    # TODO: Activation.\n",
        "    fc2 = tf.nn.relu(fc2)\n",
        "    \n",
        "    # TODO: Layer 5: Fully Connected. Input = 84. Output = 10.\n",
        "    fc3_w = tf.Variable(tf.truncated_normal(shape = (84,10), mean = mu , stddev = sigma))\n",
        "    fc3_b = tf.Variable(tf.zeros(10))\n",
        "    logits = tf.matmul(fc2, fc3_w) + fc3_b\n",
        "    return logits"
      ],
      "execution_count": 0,
      "outputs": []
    },
    {
      "metadata": {
        "id": "mbQ9oJaMZHfc",
        "colab_type": "text"
      },
      "cell_type": "markdown",
      "source": [
        "## Features and Labels\n",
        "Train LeNet to classify [MNIST](http://yann.lecun.com/exdb/mnist/) data.\n",
        "\n",
        "`x` is a placeholder for a batch of input images.\n",
        "`y` is a placeholder for a batch of output labels.\n",
        "\n",
        "You do not need to modify this section."
      ]
    },
    {
      "metadata": {
        "id": "DNJfpWL_ZHfe",
        "colab_type": "code",
        "colab": {}
      },
      "cell_type": "code",
      "source": [
        "x = tf.placeholder(tf.float32, (None, 32, 32, 1))\n",
        "y = tf.placeholder(tf.int32, (None))\n",
        "one_hot_y = tf.one_hot(y, 10)"
      ],
      "execution_count": 0,
      "outputs": []
    },
    {
      "metadata": {
        "id": "DgxcjFjvZHfi",
        "colab_type": "text"
      },
      "cell_type": "markdown",
      "source": [
        "## Training Pipeline\n",
        "Create a training pipeline that uses the model to classify MNIST data.\n",
        "\n",
        "You do not need to modify this section."
      ]
    },
    {
      "metadata": {
        "id": "8VQ5yfgiZHfk",
        "colab_type": "code",
        "colab": {
          "base_uri": "https://localhost:8080/",
          "height": 275
        },
        "outputId": "07006939-73a1-4a98-ac50-f0a83d82d424"
      },
      "cell_type": "code",
      "source": [
        "rate = 0.001\n",
        "\n",
        "logits = LeNet(x)\n",
        "cross_entropy = tf.nn.softmax_cross_entropy_with_logits(logits = logits, labels = one_hot_y)\n",
        "loss_operation = tf.reduce_mean(cross_entropy)\n",
        "optimizer = tf.train.AdamOptimizer(learning_rate = rate)\n",
        "training_operation = optimizer.minimize(loss_operation)"
      ],
      "execution_count": 8,
      "outputs": [
        {
          "output_type": "stream",
          "text": [
            "WARNING:tensorflow:From /usr/local/lib/python3.6/dist-packages/tensorflow/python/framework/op_def_library.py:263: colocate_with (from tensorflow.python.framework.ops) is deprecated and will be removed in a future version.\n",
            "Instructions for updating:\n",
            "Colocations handled automatically by placer.\n",
            "WARNING:tensorflow:From /usr/local/lib/python3.6/dist-packages/tensorflow/contrib/layers/python/layers/layers.py:1624: flatten (from tensorflow.python.layers.core) is deprecated and will be removed in a future version.\n",
            "Instructions for updating:\n",
            "Use keras.layers.flatten instead.\n",
            "WARNING:tensorflow:From <ipython-input-8-0236dcd0d1f1>:4: softmax_cross_entropy_with_logits (from tensorflow.python.ops.nn_ops) is deprecated and will be removed in a future version.\n",
            "Instructions for updating:\n",
            "\n",
            "Future major versions of TensorFlow will allow gradients to flow\n",
            "into the labels input on backprop by default.\n",
            "\n",
            "See `tf.nn.softmax_cross_entropy_with_logits_v2`.\n",
            "\n"
          ],
          "name": "stdout"
        }
      ]
    },
    {
      "metadata": {
        "id": "fVRfPY2GZHfn",
        "colab_type": "text"
      },
      "cell_type": "markdown",
      "source": [
        "## Model Evaluation\n",
        "Evaluate how well the loss and accuracy of the model for a given dataset.\n",
        "\n",
        "You do not need to modify this section."
      ]
    },
    {
      "metadata": {
        "id": "36Lr7QbyZHfo",
        "colab_type": "code",
        "colab": {}
      },
      "cell_type": "code",
      "source": [
        "correct_prediction = tf.equal(tf.argmax(logits, 1), tf.argmax(one_hot_y, 1))\n",
        "accuracy_operation = tf.reduce_mean(tf.cast(correct_prediction, tf.float32))\n",
        "saver = tf.train.Saver()\n",
        "\n",
        "def evaluate(X_data, y_data):\n",
        "    num_examples = len(X_data)\n",
        "    total_accuracy = 0\n",
        "    sess = tf.get_default_session()\n",
        "    for offset in range(0, num_examples, BATCH_SIZE):\n",
        "        batch_x, batch_y = X_data[offset:offset+BATCH_SIZE], y_data[offset:offset+BATCH_SIZE]\n",
        "        accuracy = sess.run(accuracy_operation, feed_dict={x: batch_x, y: batch_y})\n",
        "        total_accuracy += (accuracy * len(batch_x))\n",
        "    return total_accuracy / num_examples"
      ],
      "execution_count": 0,
      "outputs": []
    },
    {
      "metadata": {
        "id": "VXXZN-_RZHfs",
        "colab_type": "text"
      },
      "cell_type": "markdown",
      "source": [
        "## Train the Model\n",
        "Run the training data through the training pipeline to train the model.\n",
        "\n",
        "Before each epoch, shuffle the training set.\n",
        "\n",
        "After each epoch, measure the loss and accuracy of the validation set.\n",
        "\n",
        "Save the model after training.\n",
        "\n",
        "You do not need to modify this section."
      ]
    },
    {
      "metadata": {
        "id": "RgklH7xMZb1K",
        "colab_type": "code",
        "colab": {}
      },
      "cell_type": "code",
      "source": [
        "EPOCHS = 100"
      ],
      "execution_count": 0,
      "outputs": []
    },
    {
      "metadata": {
        "id": "8g-8zUeLZHft",
        "colab_type": "code",
        "outputId": "2393ff97-1fe4-41d8-a5a0-9c6e58056e81",
        "colab": {
          "base_uri": "https://localhost:8080/",
          "height": 428
        }
      },
      "cell_type": "code",
      "source": [
        "# with tf.Session() as sess:\n",
        "#     sess.run(tf.global_variables_initializer())\n",
        "#     num_examples = len(X_train)\n",
        "    \n",
        "#     print(\"Training...\")\n",
        "#     print()\n",
        "#     for i in range(EPOCHS):\n",
        "#         X_train, y_train = shuffle(X_train, y_train)\n",
        "#         for offset in range(0, num_examples, BATCH_SIZE):\n",
        "#             end = offset + BATCH_SIZE\n",
        "#             batch_x, batch_y = X_train[offset:end], y_train[offset:end]\n",
        "#             sess.run(training_operation, feed_dict={x: batch_x, y: batch_y})\n",
        "            \n",
        "#         validation_accuracy = evaluate(X_validation, y_validation)\n",
        "#         print(\"EPOCH {} ...\".format(i+1))\n",
        "#         print(\"Validation Accuracy = {:.3f}\".format(validation_accuracy))\n",
        "#         print()\n",
        "        \n",
        "#     saver.save(sess, './lenet')\n",
        "#     print(\"Model saved\")"
      ],
      "execution_count": 11,
      "outputs": [
        {
          "output_type": "stream",
          "text": [
            "Training...\n",
            "\n"
          ],
          "name": "stdout"
        },
        {
          "output_type": "error",
          "ename": "KeyboardInterrupt",
          "evalue": "ignored",
          "traceback": [
            "\u001b[0;31m---------------------------------------------------------------------------\u001b[0m",
            "\u001b[0;31mKeyboardInterrupt\u001b[0m                         Traceback (most recent call last)",
            "\u001b[0;32m<ipython-input-11-de51c8a63148>\u001b[0m in \u001b[0;36m<module>\u001b[0;34m()\u001b[0m\n\u001b[1;32m     10\u001b[0m             \u001b[0mend\u001b[0m \u001b[0;34m=\u001b[0m \u001b[0moffset\u001b[0m \u001b[0;34m+\u001b[0m \u001b[0mBATCH_SIZE\u001b[0m\u001b[0;34m\u001b[0m\u001b[0;34m\u001b[0m\u001b[0m\n\u001b[1;32m     11\u001b[0m             \u001b[0mbatch_x\u001b[0m\u001b[0;34m,\u001b[0m \u001b[0mbatch_y\u001b[0m \u001b[0;34m=\u001b[0m \u001b[0mX_train\u001b[0m\u001b[0;34m[\u001b[0m\u001b[0moffset\u001b[0m\u001b[0;34m:\u001b[0m\u001b[0mend\u001b[0m\u001b[0;34m]\u001b[0m\u001b[0;34m,\u001b[0m \u001b[0my_train\u001b[0m\u001b[0;34m[\u001b[0m\u001b[0moffset\u001b[0m\u001b[0;34m:\u001b[0m\u001b[0mend\u001b[0m\u001b[0;34m]\u001b[0m\u001b[0;34m\u001b[0m\u001b[0;34m\u001b[0m\u001b[0m\n\u001b[0;32m---> 12\u001b[0;31m             \u001b[0msess\u001b[0m\u001b[0;34m.\u001b[0m\u001b[0mrun\u001b[0m\u001b[0;34m(\u001b[0m\u001b[0mtraining_operation\u001b[0m\u001b[0;34m,\u001b[0m \u001b[0mfeed_dict\u001b[0m\u001b[0;34m=\u001b[0m\u001b[0;34m{\u001b[0m\u001b[0mx\u001b[0m\u001b[0;34m:\u001b[0m \u001b[0mbatch_x\u001b[0m\u001b[0;34m,\u001b[0m \u001b[0my\u001b[0m\u001b[0;34m:\u001b[0m \u001b[0mbatch_y\u001b[0m\u001b[0;34m}\u001b[0m\u001b[0;34m)\u001b[0m\u001b[0;34m\u001b[0m\u001b[0;34m\u001b[0m\u001b[0m\n\u001b[0m\u001b[1;32m     13\u001b[0m \u001b[0;34m\u001b[0m\u001b[0m\n\u001b[1;32m     14\u001b[0m         \u001b[0mvalidation_accuracy\u001b[0m \u001b[0;34m=\u001b[0m \u001b[0mevaluate\u001b[0m\u001b[0;34m(\u001b[0m\u001b[0mX_validation\u001b[0m\u001b[0;34m,\u001b[0m \u001b[0my_validation\u001b[0m\u001b[0;34m)\u001b[0m\u001b[0;34m\u001b[0m\u001b[0;34m\u001b[0m\u001b[0m\n",
            "\u001b[0;32m/usr/local/lib/python3.6/dist-packages/tensorflow/python/client/session.py\u001b[0m in \u001b[0;36mrun\u001b[0;34m(self, fetches, feed_dict, options, run_metadata)\u001b[0m\n\u001b[1;32m    927\u001b[0m     \u001b[0;32mtry\u001b[0m\u001b[0;34m:\u001b[0m\u001b[0;34m\u001b[0m\u001b[0;34m\u001b[0m\u001b[0m\n\u001b[1;32m    928\u001b[0m       result = self._run(None, fetches, feed_dict, options_ptr,\n\u001b[0;32m--> 929\u001b[0;31m                          run_metadata_ptr)\n\u001b[0m\u001b[1;32m    930\u001b[0m       \u001b[0;32mif\u001b[0m \u001b[0mrun_metadata\u001b[0m\u001b[0;34m:\u001b[0m\u001b[0;34m\u001b[0m\u001b[0;34m\u001b[0m\u001b[0m\n\u001b[1;32m    931\u001b[0m         \u001b[0mproto_data\u001b[0m \u001b[0;34m=\u001b[0m \u001b[0mtf_session\u001b[0m\u001b[0;34m.\u001b[0m\u001b[0mTF_GetBuffer\u001b[0m\u001b[0;34m(\u001b[0m\u001b[0mrun_metadata_ptr\u001b[0m\u001b[0;34m)\u001b[0m\u001b[0;34m\u001b[0m\u001b[0;34m\u001b[0m\u001b[0m\n",
            "\u001b[0;32m/usr/local/lib/python3.6/dist-packages/tensorflow/python/client/session.py\u001b[0m in \u001b[0;36m_run\u001b[0;34m(self, handle, fetches, feed_dict, options, run_metadata)\u001b[0m\n\u001b[1;32m   1150\u001b[0m     \u001b[0;32mif\u001b[0m \u001b[0mfinal_fetches\u001b[0m \u001b[0;32mor\u001b[0m \u001b[0mfinal_targets\u001b[0m \u001b[0;32mor\u001b[0m \u001b[0;34m(\u001b[0m\u001b[0mhandle\u001b[0m \u001b[0;32mand\u001b[0m \u001b[0mfeed_dict_tensor\u001b[0m\u001b[0;34m)\u001b[0m\u001b[0;34m:\u001b[0m\u001b[0;34m\u001b[0m\u001b[0;34m\u001b[0m\u001b[0m\n\u001b[1;32m   1151\u001b[0m       results = self._do_run(handle, final_targets, final_fetches,\n\u001b[0;32m-> 1152\u001b[0;31m                              feed_dict_tensor, options, run_metadata)\n\u001b[0m\u001b[1;32m   1153\u001b[0m     \u001b[0;32melse\u001b[0m\u001b[0;34m:\u001b[0m\u001b[0;34m\u001b[0m\u001b[0;34m\u001b[0m\u001b[0m\n\u001b[1;32m   1154\u001b[0m       \u001b[0mresults\u001b[0m \u001b[0;34m=\u001b[0m \u001b[0;34m[\u001b[0m\u001b[0;34m]\u001b[0m\u001b[0;34m\u001b[0m\u001b[0;34m\u001b[0m\u001b[0m\n",
            "\u001b[0;32m/usr/local/lib/python3.6/dist-packages/tensorflow/python/client/session.py\u001b[0m in \u001b[0;36m_do_run\u001b[0;34m(self, handle, target_list, fetch_list, feed_dict, options, run_metadata)\u001b[0m\n\u001b[1;32m   1326\u001b[0m     \u001b[0;32mif\u001b[0m \u001b[0mhandle\u001b[0m \u001b[0;32mis\u001b[0m \u001b[0;32mNone\u001b[0m\u001b[0;34m:\u001b[0m\u001b[0;34m\u001b[0m\u001b[0;34m\u001b[0m\u001b[0m\n\u001b[1;32m   1327\u001b[0m       return self._do_call(_run_fn, feeds, fetches, targets, options,\n\u001b[0;32m-> 1328\u001b[0;31m                            run_metadata)\n\u001b[0m\u001b[1;32m   1329\u001b[0m     \u001b[0;32melse\u001b[0m\u001b[0;34m:\u001b[0m\u001b[0;34m\u001b[0m\u001b[0;34m\u001b[0m\u001b[0m\n\u001b[1;32m   1330\u001b[0m       \u001b[0;32mreturn\u001b[0m \u001b[0mself\u001b[0m\u001b[0;34m.\u001b[0m\u001b[0m_do_call\u001b[0m\u001b[0;34m(\u001b[0m\u001b[0m_prun_fn\u001b[0m\u001b[0;34m,\u001b[0m \u001b[0mhandle\u001b[0m\u001b[0;34m,\u001b[0m \u001b[0mfeeds\u001b[0m\u001b[0;34m,\u001b[0m \u001b[0mfetches\u001b[0m\u001b[0;34m)\u001b[0m\u001b[0;34m\u001b[0m\u001b[0;34m\u001b[0m\u001b[0m\n",
            "\u001b[0;32m/usr/local/lib/python3.6/dist-packages/tensorflow/python/client/session.py\u001b[0m in \u001b[0;36m_do_call\u001b[0;34m(self, fn, *args)\u001b[0m\n\u001b[1;32m   1332\u001b[0m   \u001b[0;32mdef\u001b[0m \u001b[0m_do_call\u001b[0m\u001b[0;34m(\u001b[0m\u001b[0mself\u001b[0m\u001b[0;34m,\u001b[0m \u001b[0mfn\u001b[0m\u001b[0;34m,\u001b[0m \u001b[0;34m*\u001b[0m\u001b[0margs\u001b[0m\u001b[0;34m)\u001b[0m\u001b[0;34m:\u001b[0m\u001b[0;34m\u001b[0m\u001b[0;34m\u001b[0m\u001b[0m\n\u001b[1;32m   1333\u001b[0m     \u001b[0;32mtry\u001b[0m\u001b[0;34m:\u001b[0m\u001b[0;34m\u001b[0m\u001b[0;34m\u001b[0m\u001b[0m\n\u001b[0;32m-> 1334\u001b[0;31m       \u001b[0;32mreturn\u001b[0m \u001b[0mfn\u001b[0m\u001b[0;34m(\u001b[0m\u001b[0;34m*\u001b[0m\u001b[0margs\u001b[0m\u001b[0;34m)\u001b[0m\u001b[0;34m\u001b[0m\u001b[0;34m\u001b[0m\u001b[0m\n\u001b[0m\u001b[1;32m   1335\u001b[0m     \u001b[0;32mexcept\u001b[0m \u001b[0merrors\u001b[0m\u001b[0;34m.\u001b[0m\u001b[0mOpError\u001b[0m \u001b[0;32mas\u001b[0m \u001b[0me\u001b[0m\u001b[0;34m:\u001b[0m\u001b[0;34m\u001b[0m\u001b[0;34m\u001b[0m\u001b[0m\n\u001b[1;32m   1336\u001b[0m       \u001b[0mmessage\u001b[0m \u001b[0;34m=\u001b[0m \u001b[0mcompat\u001b[0m\u001b[0;34m.\u001b[0m\u001b[0mas_text\u001b[0m\u001b[0;34m(\u001b[0m\u001b[0me\u001b[0m\u001b[0;34m.\u001b[0m\u001b[0mmessage\u001b[0m\u001b[0;34m)\u001b[0m\u001b[0;34m\u001b[0m\u001b[0;34m\u001b[0m\u001b[0m\n",
            "\u001b[0;32m/usr/local/lib/python3.6/dist-packages/tensorflow/python/client/session.py\u001b[0m in \u001b[0;36m_run_fn\u001b[0;34m(feed_dict, fetch_list, target_list, options, run_metadata)\u001b[0m\n\u001b[1;32m   1317\u001b[0m       \u001b[0mself\u001b[0m\u001b[0;34m.\u001b[0m\u001b[0m_extend_graph\u001b[0m\u001b[0;34m(\u001b[0m\u001b[0;34m)\u001b[0m\u001b[0;34m\u001b[0m\u001b[0;34m\u001b[0m\u001b[0m\n\u001b[1;32m   1318\u001b[0m       return self._call_tf_sessionrun(\n\u001b[0;32m-> 1319\u001b[0;31m           options, feed_dict, fetch_list, target_list, run_metadata)\n\u001b[0m\u001b[1;32m   1320\u001b[0m \u001b[0;34m\u001b[0m\u001b[0m\n\u001b[1;32m   1321\u001b[0m     \u001b[0;32mdef\u001b[0m \u001b[0m_prun_fn\u001b[0m\u001b[0;34m(\u001b[0m\u001b[0mhandle\u001b[0m\u001b[0;34m,\u001b[0m \u001b[0mfeed_dict\u001b[0m\u001b[0;34m,\u001b[0m \u001b[0mfetch_list\u001b[0m\u001b[0;34m)\u001b[0m\u001b[0;34m:\u001b[0m\u001b[0;34m\u001b[0m\u001b[0;34m\u001b[0m\u001b[0m\n",
            "\u001b[0;32m/usr/local/lib/python3.6/dist-packages/tensorflow/python/client/session.py\u001b[0m in \u001b[0;36m_call_tf_sessionrun\u001b[0;34m(self, options, feed_dict, fetch_list, target_list, run_metadata)\u001b[0m\n\u001b[1;32m   1405\u001b[0m     return tf_session.TF_SessionRun_wrapper(\n\u001b[1;32m   1406\u001b[0m         \u001b[0mself\u001b[0m\u001b[0;34m.\u001b[0m\u001b[0m_session\u001b[0m\u001b[0;34m,\u001b[0m \u001b[0moptions\u001b[0m\u001b[0;34m,\u001b[0m \u001b[0mfeed_dict\u001b[0m\u001b[0;34m,\u001b[0m \u001b[0mfetch_list\u001b[0m\u001b[0;34m,\u001b[0m \u001b[0mtarget_list\u001b[0m\u001b[0;34m,\u001b[0m\u001b[0;34m\u001b[0m\u001b[0;34m\u001b[0m\u001b[0m\n\u001b[0;32m-> 1407\u001b[0;31m         run_metadata)\n\u001b[0m\u001b[1;32m   1408\u001b[0m \u001b[0;34m\u001b[0m\u001b[0m\n\u001b[1;32m   1409\u001b[0m   \u001b[0;32mdef\u001b[0m \u001b[0m_call_tf_sessionprun\u001b[0m\u001b[0;34m(\u001b[0m\u001b[0mself\u001b[0m\u001b[0;34m,\u001b[0m \u001b[0mhandle\u001b[0m\u001b[0;34m,\u001b[0m \u001b[0mfeed_dict\u001b[0m\u001b[0;34m,\u001b[0m \u001b[0mfetch_list\u001b[0m\u001b[0;34m)\u001b[0m\u001b[0;34m:\u001b[0m\u001b[0;34m\u001b[0m\u001b[0;34m\u001b[0m\u001b[0m\n",
            "\u001b[0;31mKeyboardInterrupt\u001b[0m: "
          ]
        }
      ]
    },
    {
      "metadata": {
        "id": "1FtX5o0uZrEh",
        "colab_type": "code",
        "colab": {}
      },
      "cell_type": "code",
      "source": [
        "\n",
        "images, labels = (X_train, y_train)"
      ],
      "execution_count": 0,
      "outputs": []
    },
    {
      "metadata": {
        "id": "3a2HAyP3ZzJ-",
        "colab_type": "code",
        "colab": {
          "base_uri": "https://localhost:8080/",
          "height": 34
        },
        "outputId": "6b1892d6-19e0-4005-d37c-911b7694bf98"
      },
      "cell_type": "code",
      "source": [
        "EPOCHS"
      ],
      "execution_count": 13,
      "outputs": [
        {
          "output_type": "execute_result",
          "data": {
            "text/plain": [
              "100"
            ]
          },
          "metadata": {
            "tags": []
          },
          "execution_count": 13
        }
      ]
    },
    {
      "metadata": {
        "id": "IuY5lO1uZmFt",
        "colab_type": "code",
        "colab": {
          "base_uri": "https://localhost:8080/",
          "height": 6868
        },
        "outputId": "b7b672ea-81d9-4394-9ca7-e084aec9bbb7"
      },
      "cell_type": "code",
      "source": [
        "validation_accuracy_track = []\n",
        "train_accuracy_track = []\n",
        "connection_probability_track = []\n",
        "print_every = 1\n",
        "number_of_ex = X_train.shape[0]\n",
        "total_steps_for_one_pass = number_of_ex//BATCH_SIZE + 1\n",
        "\n",
        "with tf.Session() as sess:\n",
        "    sess.run(tf.global_variables_initializer())\n",
        "    num_examples = len(X_train)\n",
        "    best_accuracy_valid = 0\n",
        "    \n",
        "    print(\"Training...\")\n",
        "    print()\n",
        "    for i in range(EPOCHS):\n",
        "        X_train, y_train = shuffle(X_train, y_train)\n",
        "        X_train, y_train = shuffle(images, labels)\n",
        "\n",
        "        for offset in range(0, num_examples, BATCH_SIZE):\n",
        "          end = offset + BATCH_SIZE\n",
        "          batch_x, batch_y = X_train[offset:end], y_train[offset:end]\n",
        "          \n",
        "#         for step in range(0, total_steps_for_one_pass):  \n",
        "# #           print(step)\n",
        "#           if step>=number_of_ex//BATCH_SIZE:\n",
        "#             batch_x, batch_y = X_train[step*BATCH_SIZE:,:,:,:],y_train[step*BATCH_SIZE:]\n",
        "# #             print(step,'Finishing',step*BATCH_SIZE )\n",
        "#             step = 0\n",
        "\n",
        "#           else:\n",
        "\n",
        "#             start = step*BATCH_SIZE\n",
        "#             finish = (step+1)*BATCH_SIZE\n",
        "# #             print(step,'Doing', 'Start = ', start, \"Finish = \", finish)\n",
        "#             batch_x, batch_y = X_train[step:finish,:,:,:],y_train[step:finish]\n",
        "  \n",
        "          tr_op = sess.run([training_operation], feed_dict={x: batch_x, y: batch_y})\n",
        "#         print(i)  \n",
        "        if i%print_every == 0:\n",
        "#           prob = sess.run(new_prob)\n",
        "#           print(prob)\n",
        "          validation_accuracy = evaluate(X_validation, y_validation)\n",
        "          validation_accuracy_track.append(validation_accuracy)\n",
        "          tr_accuracy = evaluate(X_train, y_train)\n",
        "          print(\"Train Accuracy = {:.5f}\".format(tr_accuracy))\n",
        "          train_accuracy_track.append(tr_accuracy)\n",
        "#           connection_probability_track.append(prob)\n",
        "          print(\"EPOCH {} ...\".format(i+1))\n",
        "          print(\"Validation Accuracy = {:.5f}\".format(validation_accuracy))\n",
        "          print()\n",
        "          if (validation_accuracy >= best_accuracy_valid):\n",
        "            best_accuracy_valid = validation_accuracy\n",
        "            saver.save(sess, './lenet5Init_0p0NonAug')\n",
        "        \n",
        "#     saver.save(sess, './lenet')\n",
        "    print(\"Model saved\")"
      ],
      "execution_count": 14,
      "outputs": [
        {
          "output_type": "stream",
          "text": [
            "Training...\n",
            "\n",
            "Train Accuracy = 0.96633\n",
            "EPOCH 1 ...\n",
            "Validation Accuracy = 0.96760\n",
            "\n",
            "Train Accuracy = 0.98031\n",
            "EPOCH 2 ...\n",
            "Validation Accuracy = 0.97960\n",
            "\n",
            "Train Accuracy = 0.98435\n",
            "EPOCH 3 ...\n",
            "Validation Accuracy = 0.98200\n",
            "\n",
            "Train Accuracy = 0.98718\n",
            "EPOCH 4 ...\n",
            "Validation Accuracy = 0.98580\n",
            "\n",
            "Train Accuracy = 0.99151\n",
            "EPOCH 5 ...\n",
            "Validation Accuracy = 0.98700\n",
            "\n",
            "Train Accuracy = 0.99120\n",
            "EPOCH 6 ...\n",
            "Validation Accuracy = 0.98800\n",
            "\n",
            "Train Accuracy = 0.99271\n",
            "EPOCH 7 ...\n",
            "Validation Accuracy = 0.98680\n",
            "\n",
            "Train Accuracy = 0.99018\n",
            "EPOCH 8 ...\n",
            "Validation Accuracy = 0.98680\n",
            "\n",
            "Train Accuracy = 0.99393\n",
            "EPOCH 9 ...\n",
            "Validation Accuracy = 0.98740\n",
            "\n",
            "Train Accuracy = 0.99555\n",
            "EPOCH 10 ...\n",
            "Validation Accuracy = 0.98840\n",
            "\n",
            "Train Accuracy = 0.99536\n",
            "EPOCH 11 ...\n",
            "Validation Accuracy = 0.98960\n",
            "\n",
            "Train Accuracy = 0.99725\n",
            "EPOCH 12 ...\n",
            "Validation Accuracy = 0.98980\n",
            "\n",
            "Train Accuracy = 0.99656\n",
            "EPOCH 13 ...\n",
            "Validation Accuracy = 0.98940\n",
            "\n",
            "Train Accuracy = 0.99640\n",
            "EPOCH 14 ...\n",
            "Validation Accuracy = 0.98880\n",
            "\n",
            "Train Accuracy = 0.99500\n",
            "EPOCH 15 ...\n",
            "Validation Accuracy = 0.98720\n",
            "\n",
            "Train Accuracy = 0.99847\n",
            "EPOCH 16 ...\n",
            "Validation Accuracy = 0.99060\n",
            "\n",
            "Train Accuracy = 0.99751\n",
            "EPOCH 17 ...\n",
            "Validation Accuracy = 0.98940\n",
            "\n",
            "Train Accuracy = 0.99807\n",
            "EPOCH 18 ...\n",
            "Validation Accuracy = 0.98980\n",
            "\n",
            "Train Accuracy = 0.99862\n",
            "EPOCH 19 ...\n",
            "Validation Accuracy = 0.98940\n",
            "\n",
            "Train Accuracy = 0.99698\n",
            "EPOCH 20 ...\n",
            "Validation Accuracy = 0.98940\n",
            "\n",
            "Train Accuracy = 0.99822\n",
            "EPOCH 21 ...\n",
            "Validation Accuracy = 0.99100\n",
            "\n",
            "Train Accuracy = 0.99696\n",
            "EPOCH 22 ...\n",
            "Validation Accuracy = 0.99100\n",
            "\n",
            "Train Accuracy = 0.99805\n",
            "EPOCH 23 ...\n",
            "Validation Accuracy = 0.99020\n",
            "\n",
            "Train Accuracy = 0.99905\n",
            "EPOCH 24 ...\n",
            "Validation Accuracy = 0.99160\n",
            "\n",
            "Train Accuracy = 0.99935\n",
            "EPOCH 25 ...\n",
            "Validation Accuracy = 0.99100\n",
            "\n",
            "Train Accuracy = 0.99909\n",
            "EPOCH 26 ...\n",
            "Validation Accuracy = 0.99020\n",
            "\n",
            "Train Accuracy = 0.99900\n",
            "EPOCH 27 ...\n",
            "Validation Accuracy = 0.98960\n",
            "\n",
            "Train Accuracy = 0.99940\n",
            "EPOCH 28 ...\n",
            "Validation Accuracy = 0.98980\n",
            "\n",
            "Train Accuracy = 0.99816\n",
            "EPOCH 29 ...\n",
            "Validation Accuracy = 0.98920\n",
            "\n",
            "Train Accuracy = 0.99824\n",
            "EPOCH 30 ...\n",
            "Validation Accuracy = 0.98880\n",
            "\n",
            "Train Accuracy = 0.99911\n",
            "EPOCH 31 ...\n",
            "Validation Accuracy = 0.99000\n",
            "\n",
            "Train Accuracy = 0.99876\n",
            "EPOCH 32 ...\n",
            "Validation Accuracy = 0.98920\n",
            "\n",
            "Train Accuracy = 0.99965\n",
            "EPOCH 33 ...\n",
            "Validation Accuracy = 0.99020\n",
            "\n",
            "Train Accuracy = 0.99955\n",
            "EPOCH 34 ...\n",
            "Validation Accuracy = 0.99080\n",
            "\n",
            "Train Accuracy = 0.99949\n",
            "EPOCH 35 ...\n",
            "Validation Accuracy = 0.99000\n",
            "\n",
            "Train Accuracy = 0.99942\n",
            "EPOCH 36 ...\n",
            "Validation Accuracy = 0.99020\n",
            "\n",
            "Train Accuracy = 0.99925\n",
            "EPOCH 37 ...\n",
            "Validation Accuracy = 0.99000\n",
            "\n",
            "Train Accuracy = 0.99980\n",
            "EPOCH 38 ...\n",
            "Validation Accuracy = 0.99120\n",
            "\n",
            "Train Accuracy = 0.99738\n",
            "EPOCH 39 ...\n",
            "Validation Accuracy = 0.98760\n",
            "\n",
            "Train Accuracy = 0.99958\n",
            "EPOCH 40 ...\n",
            "Validation Accuracy = 0.99040\n",
            "\n",
            "Train Accuracy = 0.99940\n",
            "EPOCH 41 ...\n",
            "Validation Accuracy = 0.99120\n",
            "\n",
            "Train Accuracy = 0.99955\n",
            "EPOCH 42 ...\n",
            "Validation Accuracy = 0.99280\n",
            "\n",
            "Train Accuracy = 0.99749\n",
            "EPOCH 43 ...\n",
            "Validation Accuracy = 0.98860\n",
            "\n",
            "Train Accuracy = 0.99931\n",
            "EPOCH 44 ...\n",
            "Validation Accuracy = 0.99080\n",
            "\n",
            "Train Accuracy = 0.99911\n",
            "EPOCH 45 ...\n",
            "Validation Accuracy = 0.98940\n",
            "\n",
            "Train Accuracy = 0.99924\n",
            "EPOCH 46 ...\n",
            "Validation Accuracy = 0.99020\n",
            "\n",
            "Train Accuracy = 0.99920\n",
            "EPOCH 47 ...\n",
            "Validation Accuracy = 0.98960\n",
            "\n",
            "Train Accuracy = 0.99960\n",
            "EPOCH 48 ...\n",
            "Validation Accuracy = 0.98940\n",
            "\n",
            "Train Accuracy = 0.99969\n",
            "EPOCH 49 ...\n",
            "Validation Accuracy = 0.99120\n",
            "\n",
            "Train Accuracy = 0.99873\n",
            "EPOCH 50 ...\n",
            "Validation Accuracy = 0.98920\n",
            "\n",
            "Train Accuracy = 0.99889\n",
            "EPOCH 51 ...\n",
            "Validation Accuracy = 0.98900\n",
            "\n",
            "Train Accuracy = 0.99942\n",
            "EPOCH 52 ...\n",
            "Validation Accuracy = 0.99140\n",
            "\n",
            "Train Accuracy = 0.99978\n",
            "EPOCH 53 ...\n",
            "Validation Accuracy = 0.99020\n",
            "\n",
            "Train Accuracy = 0.99960\n",
            "EPOCH 54 ...\n",
            "Validation Accuracy = 0.98940\n",
            "\n",
            "Train Accuracy = 0.99973\n",
            "EPOCH 55 ...\n",
            "Validation Accuracy = 0.99040\n",
            "\n",
            "Train Accuracy = 0.99996\n",
            "EPOCH 56 ...\n",
            "Validation Accuracy = 0.99200\n",
            "\n",
            "Train Accuracy = 0.99927\n",
            "EPOCH 57 ...\n",
            "Validation Accuracy = 0.99040\n",
            "\n",
            "Train Accuracy = 0.99880\n",
            "EPOCH 58 ...\n",
            "Validation Accuracy = 0.98880\n",
            "\n",
            "Train Accuracy = 0.99964\n",
            "EPOCH 59 ...\n",
            "Validation Accuracy = 0.99000\n",
            "\n",
            "Train Accuracy = 0.99998\n",
            "EPOCH 60 ...\n",
            "Validation Accuracy = 0.99100\n",
            "\n",
            "Train Accuracy = 1.00000\n",
            "EPOCH 61 ...\n",
            "Validation Accuracy = 0.99100\n",
            "\n",
            "Train Accuracy = 1.00000\n",
            "EPOCH 62 ...\n",
            "Validation Accuracy = 0.99160\n",
            "\n",
            "Train Accuracy = 1.00000\n",
            "EPOCH 63 ...\n",
            "Validation Accuracy = 0.99140\n",
            "\n",
            "Train Accuracy = 1.00000\n",
            "EPOCH 64 ...\n",
            "Validation Accuracy = 0.99140\n",
            "\n",
            "Train Accuracy = 1.00000\n",
            "EPOCH 65 ...\n",
            "Validation Accuracy = 0.99140\n",
            "\n",
            "Train Accuracy = 1.00000\n",
            "EPOCH 66 ...\n",
            "Validation Accuracy = 0.99140\n",
            "\n",
            "Train Accuracy = 1.00000\n",
            "EPOCH 67 ...\n",
            "Validation Accuracy = 0.99160\n",
            "\n",
            "Train Accuracy = 1.00000\n",
            "EPOCH 68 ...\n",
            "Validation Accuracy = 0.99180\n",
            "\n",
            "Train Accuracy = 1.00000\n",
            "EPOCH 69 ...\n",
            "Validation Accuracy = 0.99180\n",
            "\n",
            "Train Accuracy = 1.00000\n",
            "EPOCH 70 ...\n",
            "Validation Accuracy = 0.99180\n",
            "\n",
            "Train Accuracy = 1.00000\n",
            "EPOCH 71 ...\n",
            "Validation Accuracy = 0.99180\n",
            "\n",
            "Train Accuracy = 1.00000\n",
            "EPOCH 72 ...\n",
            "Validation Accuracy = 0.99180\n",
            "\n",
            "Train Accuracy = 1.00000\n",
            "EPOCH 73 ...\n",
            "Validation Accuracy = 0.99180\n",
            "\n",
            "Train Accuracy = 1.00000\n",
            "EPOCH 74 ...\n",
            "Validation Accuracy = 0.99160\n",
            "\n",
            "Train Accuracy = 1.00000\n",
            "EPOCH 75 ...\n",
            "Validation Accuracy = 0.99140\n",
            "\n",
            "Train Accuracy = 1.00000\n",
            "EPOCH 76 ...\n",
            "Validation Accuracy = 0.99140\n",
            "\n",
            "Train Accuracy = 1.00000\n",
            "EPOCH 77 ...\n",
            "Validation Accuracy = 0.99160\n",
            "\n",
            "Train Accuracy = 1.00000\n",
            "EPOCH 78 ...\n",
            "Validation Accuracy = 0.99160\n",
            "\n",
            "Train Accuracy = 1.00000\n",
            "EPOCH 79 ...\n",
            "Validation Accuracy = 0.99120\n",
            "\n",
            "Train Accuracy = 1.00000\n",
            "EPOCH 80 ...\n",
            "Validation Accuracy = 0.99160\n",
            "\n",
            "Train Accuracy = 1.00000\n",
            "EPOCH 81 ...\n",
            "Validation Accuracy = 0.99160\n",
            "\n",
            "Train Accuracy = 1.00000\n",
            "EPOCH 82 ...\n",
            "Validation Accuracy = 0.99160\n",
            "\n",
            "Train Accuracy = 1.00000\n",
            "EPOCH 83 ...\n",
            "Validation Accuracy = 0.99140\n",
            "\n",
            "Train Accuracy = 1.00000\n",
            "EPOCH 84 ...\n",
            "Validation Accuracy = 0.99220\n",
            "\n",
            "Train Accuracy = 1.00000\n",
            "EPOCH 85 ...\n",
            "Validation Accuracy = 0.99200\n",
            "\n",
            "Train Accuracy = 1.00000\n",
            "EPOCH 86 ...\n",
            "Validation Accuracy = 0.99200\n",
            "\n",
            "Train Accuracy = 1.00000\n",
            "EPOCH 87 ...\n",
            "Validation Accuracy = 0.99200\n",
            "\n",
            "Train Accuracy = 1.00000\n",
            "EPOCH 88 ...\n",
            "Validation Accuracy = 0.99160\n",
            "\n",
            "Train Accuracy = 1.00000\n",
            "EPOCH 89 ...\n",
            "Validation Accuracy = 0.99160\n",
            "\n",
            "Train Accuracy = 1.00000\n",
            "EPOCH 90 ...\n",
            "Validation Accuracy = 0.99160\n",
            "\n",
            "Train Accuracy = 1.00000\n",
            "EPOCH 91 ...\n",
            "Validation Accuracy = 0.99160\n",
            "\n",
            "Train Accuracy = 1.00000\n",
            "EPOCH 92 ...\n",
            "Validation Accuracy = 0.99180\n",
            "\n",
            "Train Accuracy = 1.00000\n",
            "EPOCH 93 ...\n",
            "Validation Accuracy = 0.99200\n",
            "\n",
            "Train Accuracy = 1.00000\n",
            "EPOCH 94 ...\n",
            "Validation Accuracy = 0.99180\n",
            "\n",
            "Train Accuracy = 1.00000\n",
            "EPOCH 95 ...\n",
            "Validation Accuracy = 0.99180\n",
            "\n",
            "Train Accuracy = 1.00000\n",
            "EPOCH 96 ...\n",
            "Validation Accuracy = 0.99180\n",
            "\n",
            "Train Accuracy = 1.00000\n",
            "EPOCH 97 ...\n",
            "Validation Accuracy = 0.99180\n",
            "\n",
            "Train Accuracy = 1.00000\n",
            "EPOCH 98 ...\n",
            "Validation Accuracy = 0.99180\n",
            "\n",
            "Train Accuracy = 1.00000\n",
            "EPOCH 99 ...\n",
            "Validation Accuracy = 0.99180\n",
            "\n",
            "Train Accuracy = 1.00000\n",
            "EPOCH 100 ...\n",
            "Validation Accuracy = 0.99160\n",
            "\n",
            "Model saved\n"
          ],
          "name": "stdout"
        }
      ]
    },
    {
      "metadata": {
        "id": "RHMTtoIJZHf3",
        "colab_type": "text"
      },
      "cell_type": "markdown",
      "source": [
        "## Evaluate the Model\n",
        "Once you are completely satisfied with your model, evaluate the performance of the model on the test set.\n",
        "\n",
        "Be sure to only do this once!\n",
        "\n",
        "If you were to measure the performance of your trained model on the test set, then improve your model, and then measure the performance of your model on the test set again, that would invalidate your test results. You wouldn't get a true measure of how well your model would perform against real data.\n",
        "\n",
        "You do not need to modify this section."
      ]
    },
    {
      "metadata": {
        "id": "p7UVftc0ZHf4",
        "colab_type": "code",
        "outputId": "550495bb-ead8-4910-85e6-898bb0d19f50",
        "colab": {
          "base_uri": "https://localhost:8080/",
          "height": 122
        }
      },
      "cell_type": "code",
      "source": [
        "with tf.Session() as sess:\n",
        "    saver.restore(sess, tf.train.latest_checkpoint('.'))\n",
        "\n",
        "    test_accuracy = evaluate(X_test, y_test)\n",
        "    print(\"Test Accuracy = {:.3f}\".format(test_accuracy))"
      ],
      "execution_count": 15,
      "outputs": [
        {
          "output_type": "stream",
          "text": [
            "WARNING:tensorflow:From /usr/local/lib/python3.6/dist-packages/tensorflow/python/training/saver.py:1266: checkpoint_exists (from tensorflow.python.training.checkpoint_management) is deprecated and will be removed in a future version.\n",
            "Instructions for updating:\n",
            "Use standard file APIs to check for files with this prefix.\n",
            "INFO:tensorflow:Restoring parameters from ./lenet5Init_0p0NonAug\n",
            "Test Accuracy = 0.992\n"
          ],
          "name": "stdout"
        }
      ]
    },
    {
      "metadata": {
        "id": "NCF2agZOZHf8",
        "colab_type": "code",
        "colab": {}
      },
      "cell_type": "code",
      "source": [
        ""
      ],
      "execution_count": 0,
      "outputs": []
    }
  ]
}