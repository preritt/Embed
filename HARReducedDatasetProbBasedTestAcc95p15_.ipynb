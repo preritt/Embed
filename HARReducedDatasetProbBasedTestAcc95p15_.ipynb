{
  "nbformat": 4,
  "nbformat_minor": 0,
  "metadata": {
    "colab": {
      "name": "HARReducedDatasetProbBasedTestAcc95p15 .ipynb",
      "version": "0.3.2",
      "provenance": [],
      "collapsed_sections": [],
      "toc_visible": true,
      "include_colab_link": true
    },
    "kernelspec": {
      "name": "python3",
      "display_name": "Python 3"
    },
    "accelerator": "GPU"
  },
  "cells": [
    {
      "cell_type": "markdown",
      "metadata": {
        "id": "view-in-github",
        "colab_type": "text"
      },
      "source": [
        "<a href=\"https://colab.research.google.com/github/preritt/Embed/blob/master/HARReducedDatasetProbBasedTestAcc95p15_.ipynb\" target=\"_parent\"><img src=\"https://colab.research.google.com/assets/colab-badge.svg\" alt=\"Open In Colab\"/></a>"
      ]
    },
    {
      "metadata": {
        "id": "qWL1XvRKt0EI",
        "colab_type": "code",
        "colab": {}
      },
      "cell_type": "code",
      "source": [
        "import numpy as np\n",
        "import matplotlib.pyplot as plt\n",
        "import pandas as pd\n",
        "from sklearn.neural_network import MLPClassifier\n",
        "from sklearn.preprocessing import OneHotEncoder\n",
        "%matplotlib inline\n",
        "import tensorflow as tf"
      ],
      "execution_count": 0,
      "outputs": []
    },
    {
      "metadata": {
        "id": "yuoNYnTshaZC",
        "colab_type": "code",
        "colab": {}
      },
      "cell_type": "code",
      "source": [
        "# Load data\n",
        "train_data = np.load('X_train.npy')\n",
        "train_label = np.load('y_train.npy')\n",
        "validation_data = np.load('X_validation.npy')\n",
        "validation_label = np.load('y_validation.npy')\n",
        "test_data = np.load('X_test.npy')\n",
        "test_label = np.load('y_test.npy')"
      ],
      "execution_count": 0,
      "outputs": []
    },
    {
      "metadata": {
        "id": "G4FSwFTChgdn",
        "colab_type": "code",
        "colab": {}
      },
      "cell_type": "code",
      "source": [
        "train_valid_combined = np.concatenate((train_data, validation_data))\n",
        "train_valid_label = np.concatenate((train_label, validation_label))"
      ],
      "execution_count": 0,
      "outputs": []
    },
    {
      "metadata": {
        "id": "j5erFTN6-BRM",
        "colab_type": "code",
        "colab": {
          "base_uri": "https://localhost:8080/"
        },
        "outputId": "7ef325cd-d624-4ef0-a569-fbc596609718"
      },
      "cell_type": "code",
      "source": [
        "train_valid_combined.shape"
      ],
      "execution_count": 4,
      "outputs": [
        {
          "output_type": "execute_result",
          "data": {
            "text/plain": [
              "(7352, 374)"
            ]
          },
          "metadata": {
            "tags": []
          },
          "execution_count": 4
        }
      ]
    },
    {
      "metadata": {
        "id": "VloppGYRyrEX",
        "colab_type": "code",
        "outputId": "43b8731e-123b-4987-da0a-ffa7b421a567",
        "colab": {
          "base_uri": "https://localhost:8080/"
        }
      },
      "cell_type": "code",
      "source": [
        "clf = MLPClassifier(hidden_layer_sizes=(250, ), max_iter=500, alpha=1e-4,\n",
        "                    solver='sgd', verbose=10, tol=1e-5, random_state=1,\n",
        "                    learning_rate_init=.01)\n",
        "\n",
        "clf.fit(train_data, train_label)"
      ],
      "execution_count": 5,
      "outputs": [
        {
          "output_type": "stream",
          "text": [
            "Iteration 1, loss = 1.79281312\n",
            "Iteration 2, loss = 1.78409267\n",
            "Iteration 3, loss = 1.78286704\n",
            "Iteration 4, loss = 1.78234338\n",
            "Iteration 5, loss = 1.78186988\n",
            "Iteration 6, loss = 1.78146073\n",
            "Iteration 7, loss = 1.78103332\n",
            "Iteration 8, loss = 1.78018217\n",
            "Iteration 9, loss = 1.77990886\n",
            "Iteration 10, loss = 1.77963231\n",
            "Iteration 11, loss = 1.77915781\n",
            "Iteration 12, loss = 1.77869779\n",
            "Iteration 13, loss = 1.77834140\n",
            "Iteration 14, loss = 1.77787317\n",
            "Iteration 15, loss = 1.77766253\n",
            "Iteration 16, loss = 1.77710127\n",
            "Iteration 17, loss = 1.77673977\n",
            "Iteration 18, loss = 1.77652416\n",
            "Iteration 19, loss = 1.77615836\n",
            "Iteration 20, loss = 1.77562556\n",
            "Iteration 21, loss = 1.77536142\n",
            "Iteration 22, loss = 1.77485804\n",
            "Iteration 23, loss = 1.77442456\n",
            "Iteration 24, loss = 1.77402926\n",
            "Iteration 25, loss = 1.77361005\n",
            "Iteration 26, loss = 1.77312919\n",
            "Iteration 27, loss = 1.77303202\n",
            "Iteration 28, loss = 1.77234520\n",
            "Iteration 29, loss = 1.77202528\n",
            "Iteration 30, loss = 1.77184732\n",
            "Iteration 31, loss = 1.77103097\n",
            "Iteration 32, loss = 1.77059855\n",
            "Iteration 33, loss = 1.77007916\n",
            "Iteration 34, loss = 1.76966236\n",
            "Iteration 35, loss = 1.76916232\n",
            "Iteration 36, loss = 1.76872120\n",
            "Iteration 37, loss = 1.76810343\n",
            "Iteration 38, loss = 1.76781573\n",
            "Iteration 39, loss = 1.76712834\n",
            "Iteration 40, loss = 1.76662540\n",
            "Iteration 41, loss = 1.76608147\n",
            "Iteration 42, loss = 1.76564334\n",
            "Iteration 43, loss = 1.76511593\n",
            "Iteration 44, loss = 1.76437817\n",
            "Iteration 45, loss = 1.76380413\n",
            "Iteration 46, loss = 1.76328401\n",
            "Iteration 47, loss = 1.76279495\n",
            "Iteration 48, loss = 1.76221200\n",
            "Iteration 49, loss = 1.76131343\n",
            "Iteration 50, loss = 1.76075347\n",
            "Iteration 51, loss = 1.76006866\n",
            "Iteration 52, loss = 1.75937440\n",
            "Iteration 53, loss = 1.75870029\n",
            "Iteration 54, loss = 1.75800624\n",
            "Iteration 55, loss = 1.75730717\n",
            "Iteration 56, loss = 1.75651184\n",
            "Iteration 57, loss = 1.75582322\n",
            "Iteration 58, loss = 1.75493969\n",
            "Iteration 59, loss = 1.75435959\n",
            "Iteration 60, loss = 1.75359470\n",
            "Iteration 61, loss = 1.75284606\n",
            "Iteration 62, loss = 1.75178244\n",
            "Iteration 63, loss = 1.75124621\n",
            "Iteration 64, loss = 1.75029248\n",
            "Iteration 65, loss = 1.74930052\n",
            "Iteration 66, loss = 1.74846630\n",
            "Iteration 67, loss = 1.74789368\n",
            "Iteration 68, loss = 1.74689579\n",
            "Iteration 69, loss = 1.74561584\n",
            "Iteration 70, loss = 1.74493671\n",
            "Iteration 71, loss = 1.74377198\n",
            "Iteration 72, loss = 1.74287766\n",
            "Iteration 73, loss = 1.74181195\n",
            "Iteration 74, loss = 1.74076840\n",
            "Iteration 75, loss = 1.73962697\n",
            "Iteration 76, loss = 1.73835495\n",
            "Iteration 77, loss = 1.73752875\n",
            "Iteration 78, loss = 1.73637230\n",
            "Iteration 79, loss = 1.73529344\n",
            "Iteration 80, loss = 1.73403520\n",
            "Iteration 81, loss = 1.73273996\n",
            "Iteration 82, loss = 1.73120967\n",
            "Iteration 83, loss = 1.73067012\n",
            "Iteration 84, loss = 1.72888087\n",
            "Iteration 85, loss = 1.72725950\n",
            "Iteration 86, loss = 1.72614569\n",
            "Iteration 87, loss = 1.72479423\n",
            "Iteration 88, loss = 1.72313047\n",
            "Iteration 89, loss = 1.72178041\n",
            "Iteration 90, loss = 1.72021457\n",
            "Iteration 91, loss = 1.71888839\n",
            "Iteration 92, loss = 1.71698273\n",
            "Iteration 93, loss = 1.71549914\n",
            "Iteration 94, loss = 1.71397748\n",
            "Iteration 95, loss = 1.71239100\n",
            "Iteration 96, loss = 1.71033918\n",
            "Iteration 97, loss = 1.70882074\n",
            "Iteration 98, loss = 1.70713932\n",
            "Iteration 99, loss = 1.70501804\n",
            "Iteration 100, loss = 1.70305927\n",
            "Iteration 101, loss = 1.70132388\n",
            "Iteration 102, loss = 1.69938039\n",
            "Iteration 103, loss = 1.69745682\n",
            "Iteration 104, loss = 1.69522565\n",
            "Iteration 105, loss = 1.69314697\n",
            "Iteration 106, loss = 1.69087197\n",
            "Iteration 107, loss = 1.68899594\n",
            "Iteration 108, loss = 1.68665841\n",
            "Iteration 109, loss = 1.68413277\n",
            "Iteration 110, loss = 1.68195558\n",
            "Iteration 111, loss = 1.67962063\n",
            "Iteration 112, loss = 1.67710113\n",
            "Iteration 113, loss = 1.67457256\n",
            "Iteration 114, loss = 1.67241807\n",
            "Iteration 115, loss = 1.66967015\n",
            "Iteration 116, loss = 1.66649762\n",
            "Iteration 117, loss = 1.66426134\n",
            "Iteration 118, loss = 1.66147146\n",
            "Iteration 119, loss = 1.65828584\n",
            "Iteration 120, loss = 1.65557340\n",
            "Iteration 121, loss = 1.65323625\n",
            "Iteration 122, loss = 1.64914910\n",
            "Iteration 123, loss = 1.64637517\n",
            "Iteration 124, loss = 1.64339607\n",
            "Iteration 125, loss = 1.64018156\n",
            "Iteration 126, loss = 1.63659162\n",
            "Iteration 127, loss = 1.63361355\n",
            "Iteration 128, loss = 1.62969100\n",
            "Iteration 129, loss = 1.62635372\n",
            "Iteration 130, loss = 1.62260403\n",
            "Iteration 131, loss = 1.61917504\n",
            "Iteration 132, loss = 1.61564139\n",
            "Iteration 133, loss = 1.61161771\n",
            "Iteration 134, loss = 1.60768693\n",
            "Iteration 135, loss = 1.60339083\n",
            "Iteration 136, loss = 1.60091626\n",
            "Iteration 137, loss = 1.59588699\n",
            "Iteration 138, loss = 1.59165586\n",
            "Iteration 139, loss = 1.58785131\n",
            "Iteration 140, loss = 1.58272990\n",
            "Iteration 141, loss = 1.57777490\n",
            "Iteration 142, loss = 1.57411561\n",
            "Iteration 143, loss = 1.56903226\n",
            "Iteration 144, loss = 1.56384924\n",
            "Iteration 145, loss = 1.55936001\n",
            "Iteration 146, loss = 1.55431398\n",
            "Iteration 147, loss = 1.54949851\n",
            "Iteration 148, loss = 1.54413273\n",
            "Iteration 149, loss = 1.53894368\n",
            "Iteration 150, loss = 1.53389135\n",
            "Iteration 151, loss = 1.52854781\n",
            "Iteration 152, loss = 1.52250376\n",
            "Iteration 153, loss = 1.51739497\n",
            "Iteration 154, loss = 1.51155802\n",
            "Iteration 155, loss = 1.50604025\n",
            "Iteration 156, loss = 1.49989578\n",
            "Iteration 157, loss = 1.49344928\n",
            "Iteration 158, loss = 1.48751940\n",
            "Iteration 159, loss = 1.48148236\n",
            "Iteration 160, loss = 1.47514475\n",
            "Iteration 161, loss = 1.46856742\n",
            "Iteration 162, loss = 1.46231197\n",
            "Iteration 163, loss = 1.45562236\n",
            "Iteration 164, loss = 1.44911458\n",
            "Iteration 165, loss = 1.44258015\n",
            "Iteration 166, loss = 1.43480145\n",
            "Iteration 167, loss = 1.42780067\n",
            "Iteration 168, loss = 1.42078843\n",
            "Iteration 169, loss = 1.41389141\n",
            "Iteration 170, loss = 1.40645242\n",
            "Iteration 171, loss = 1.39827348\n",
            "Iteration 172, loss = 1.39115515\n",
            "Iteration 173, loss = 1.38440858\n",
            "Iteration 174, loss = 1.37640224\n",
            "Iteration 175, loss = 1.36822196\n",
            "Iteration 176, loss = 1.35966267\n",
            "Iteration 177, loss = 1.35202405\n",
            "Iteration 178, loss = 1.34495145\n",
            "Iteration 179, loss = 1.33644896\n",
            "Iteration 180, loss = 1.32752939\n",
            "Iteration 181, loss = 1.31865589\n",
            "Iteration 182, loss = 1.30948497\n",
            "Iteration 183, loss = 1.30091850\n",
            "Iteration 184, loss = 1.29213119\n",
            "Iteration 185, loss = 1.28434076\n",
            "Iteration 186, loss = 1.27479207\n",
            "Iteration 187, loss = 1.26538931\n",
            "Iteration 188, loss = 1.25701398\n",
            "Iteration 189, loss = 1.24767004\n",
            "Iteration 190, loss = 1.23764730\n",
            "Iteration 191, loss = 1.22949642\n",
            "Iteration 192, loss = 1.22017922\n",
            "Iteration 193, loss = 1.20886874\n",
            "Iteration 194, loss = 1.20022175\n",
            "Iteration 195, loss = 1.19032422\n",
            "Iteration 196, loss = 1.18124303\n",
            "Iteration 197, loss = 1.17251415\n",
            "Iteration 198, loss = 1.16261541\n",
            "Iteration 199, loss = 1.15087901\n",
            "Iteration 200, loss = 1.14137905\n",
            "Iteration 201, loss = 1.13205633\n",
            "Iteration 202, loss = 1.12137007\n",
            "Iteration 203, loss = 1.11165330\n",
            "Iteration 204, loss = 1.10175935\n",
            "Iteration 205, loss = 1.09096471\n",
            "Iteration 206, loss = 1.08125221\n",
            "Iteration 207, loss = 1.07021979\n",
            "Iteration 208, loss = 1.06160631\n",
            "Iteration 209, loss = 1.05097282\n",
            "Iteration 210, loss = 1.04064711\n",
            "Iteration 211, loss = 1.03010443\n",
            "Iteration 212, loss = 1.02034570\n",
            "Iteration 213, loss = 1.00934314\n",
            "Iteration 214, loss = 0.99941967\n",
            "Iteration 215, loss = 0.98864076\n",
            "Iteration 216, loss = 0.97908886\n",
            "Iteration 217, loss = 0.96820780\n",
            "Iteration 218, loss = 0.95787124\n",
            "Iteration 219, loss = 0.94822422\n",
            "Iteration 220, loss = 0.93717335\n",
            "Iteration 221, loss = 0.92721581\n",
            "Iteration 222, loss = 0.91870558\n",
            "Iteration 223, loss = 0.90685787\n",
            "Iteration 224, loss = 0.89676028\n",
            "Iteration 225, loss = 0.88746234\n",
            "Iteration 226, loss = 0.87725228\n",
            "Iteration 227, loss = 0.86721126\n",
            "Iteration 228, loss = 0.85676809\n",
            "Iteration 229, loss = 0.84782601\n",
            "Iteration 230, loss = 0.83689056\n",
            "Iteration 231, loss = 0.82762291\n",
            "Iteration 232, loss = 0.81778297\n",
            "Iteration 233, loss = 0.80846239\n",
            "Iteration 234, loss = 0.79868497\n",
            "Iteration 235, loss = 0.78942367\n",
            "Iteration 236, loss = 0.78056141\n",
            "Iteration 237, loss = 0.77053040\n",
            "Iteration 238, loss = 0.76135945\n",
            "Iteration 239, loss = 0.75196509\n",
            "Iteration 240, loss = 0.74303447\n",
            "Iteration 241, loss = 0.73465447\n",
            "Iteration 242, loss = 0.72531039\n",
            "Iteration 243, loss = 0.71646742\n",
            "Iteration 244, loss = 0.70728212\n",
            "Iteration 245, loss = 0.69816443\n",
            "Iteration 246, loss = 0.69058328\n",
            "Iteration 247, loss = 0.68190522\n",
            "Iteration 248, loss = 0.67318479\n",
            "Iteration 249, loss = 0.66463317\n",
            "Iteration 250, loss = 0.65678909\n",
            "Iteration 251, loss = 0.64893406\n",
            "Iteration 252, loss = 0.64097807\n",
            "Iteration 253, loss = 0.63214904\n",
            "Iteration 254, loss = 0.62490790\n",
            "Iteration 255, loss = 0.61754808\n",
            "Iteration 256, loss = 0.60954835\n",
            "Iteration 257, loss = 0.60201850\n",
            "Iteration 258, loss = 0.59498210\n",
            "Iteration 259, loss = 0.58727264\n",
            "Iteration 260, loss = 0.58009708\n",
            "Iteration 261, loss = 0.57279619\n",
            "Iteration 262, loss = 0.56573947\n",
            "Iteration 263, loss = 0.55899599\n",
            "Iteration 264, loss = 0.55199065\n",
            "Iteration 265, loss = 0.54500301\n",
            "Iteration 266, loss = 0.53895248\n",
            "Iteration 267, loss = 0.53209846\n",
            "Iteration 268, loss = 0.52513012\n",
            "Iteration 269, loss = 0.51891530\n",
            "Iteration 270, loss = 0.51318550\n",
            "Iteration 271, loss = 0.50650863\n",
            "Iteration 272, loss = 0.50030175\n",
            "Iteration 273, loss = 0.49516078\n",
            "Iteration 274, loss = 0.48886056\n",
            "Iteration 275, loss = 0.48276535\n",
            "Iteration 276, loss = 0.47732707\n",
            "Iteration 277, loss = 0.47133789\n",
            "Iteration 278, loss = 0.46609367\n",
            "Iteration 279, loss = 0.46024434\n",
            "Iteration 280, loss = 0.45479134\n",
            "Iteration 281, loss = 0.44963415\n",
            "Iteration 282, loss = 0.44433916\n",
            "Iteration 283, loss = 0.43945533\n",
            "Iteration 284, loss = 0.43392231\n",
            "Iteration 285, loss = 0.42940101\n",
            "Iteration 286, loss = 0.42420147\n",
            "Iteration 287, loss = 0.41967976\n",
            "Iteration 288, loss = 0.41456791\n",
            "Iteration 289, loss = 0.40994313\n",
            "Iteration 290, loss = 0.40579160\n",
            "Iteration 291, loss = 0.40154648\n",
            "Iteration 292, loss = 0.39621624\n",
            "Iteration 293, loss = 0.39256004\n",
            "Iteration 294, loss = 0.38723922\n",
            "Iteration 295, loss = 0.38383551\n",
            "Iteration 296, loss = 0.38033731\n",
            "Iteration 297, loss = 0.37507063\n",
            "Iteration 298, loss = 0.37099426\n",
            "Iteration 299, loss = 0.36697034\n",
            "Iteration 300, loss = 0.36317250\n",
            "Iteration 301, loss = 0.35902437\n",
            "Iteration 302, loss = 0.35563501\n",
            "Iteration 303, loss = 0.35155967\n",
            "Iteration 304, loss = 0.34833378\n",
            "Iteration 305, loss = 0.34450084\n",
            "Iteration 306, loss = 0.34108165\n",
            "Iteration 307, loss = 0.33728510\n",
            "Iteration 308, loss = 0.33419144\n",
            "Iteration 309, loss = 0.33090720\n",
            "Iteration 310, loss = 0.32683550\n",
            "Iteration 311, loss = 0.32426930\n",
            "Iteration 312, loss = 0.32080083\n",
            "Iteration 313, loss = 0.31717623\n",
            "Iteration 314, loss = 0.31474044\n",
            "Iteration 315, loss = 0.31136728\n",
            "Iteration 316, loss = 0.30840439\n",
            "Iteration 317, loss = 0.30537202\n",
            "Iteration 318, loss = 0.30238795\n",
            "Iteration 319, loss = 0.29949066\n",
            "Iteration 320, loss = 0.29673205\n",
            "Iteration 321, loss = 0.29412204\n",
            "Iteration 322, loss = 0.29105642\n",
            "Iteration 323, loss = 0.28870676\n",
            "Iteration 324, loss = 0.28611086\n",
            "Iteration 325, loss = 0.28380749\n",
            "Iteration 326, loss = 0.28060971\n",
            "Iteration 327, loss = 0.27793920\n",
            "Iteration 328, loss = 0.27568118\n",
            "Iteration 329, loss = 0.27357784\n",
            "Iteration 330, loss = 0.27098126\n",
            "Iteration 331, loss = 0.26821809\n",
            "Iteration 332, loss = 0.26602403\n",
            "Iteration 333, loss = 0.26367006\n",
            "Iteration 334, loss = 0.26136521\n",
            "Iteration 335, loss = 0.25897067\n",
            "Iteration 336, loss = 0.25701686\n",
            "Iteration 337, loss = 0.25476939\n",
            "Iteration 338, loss = 0.25222043\n",
            "Iteration 339, loss = 0.24993471\n",
            "Iteration 340, loss = 0.24824819\n",
            "Iteration 341, loss = 0.24595829\n",
            "Iteration 342, loss = 0.24399144\n",
            "Iteration 343, loss = 0.24199151\n",
            "Iteration 344, loss = 0.24004800\n",
            "Iteration 345, loss = 0.23770432\n",
            "Iteration 346, loss = 0.23659437\n",
            "Iteration 347, loss = 0.23417951\n",
            "Iteration 348, loss = 0.23235897\n",
            "Iteration 349, loss = 0.23042313\n",
            "Iteration 350, loss = 0.22870873\n",
            "Iteration 351, loss = 0.22714155\n",
            "Iteration 352, loss = 0.22503718\n",
            "Iteration 353, loss = 0.22341739\n",
            "Iteration 354, loss = 0.22182777\n",
            "Iteration 355, loss = 0.22010282\n",
            "Iteration 356, loss = 0.21848662\n",
            "Iteration 357, loss = 0.21648586\n",
            "Iteration 358, loss = 0.21495127\n",
            "Iteration 359, loss = 0.21310556\n",
            "Iteration 360, loss = 0.21180446\n",
            "Iteration 361, loss = 0.21086147\n",
            "Iteration 362, loss = 0.20912461\n",
            "Iteration 363, loss = 0.20715798\n",
            "Iteration 364, loss = 0.20578643\n",
            "Iteration 365, loss = 0.20422406\n",
            "Iteration 366, loss = 0.20284225\n",
            "Iteration 367, loss = 0.20154749\n",
            "Iteration 368, loss = 0.19982227\n",
            "Iteration 369, loss = 0.19837967\n",
            "Iteration 370, loss = 0.19692527\n",
            "Iteration 371, loss = 0.19623387\n",
            "Iteration 372, loss = 0.19453482\n",
            "Iteration 373, loss = 0.19290129\n",
            "Iteration 374, loss = 0.19153073\n",
            "Iteration 375, loss = 0.19033137\n",
            "Iteration 376, loss = 0.18936722\n",
            "Iteration 377, loss = 0.18800724\n",
            "Iteration 378, loss = 0.18678361\n",
            "Iteration 379, loss = 0.18538304\n",
            "Iteration 380, loss = 0.18429160\n",
            "Iteration 381, loss = 0.18296025\n",
            "Iteration 382, loss = 0.18178657\n",
            "Iteration 383, loss = 0.18061263\n",
            "Iteration 384, loss = 0.18024736\n",
            "Iteration 385, loss = 0.17833417\n",
            "Iteration 386, loss = 0.17711794\n",
            "Iteration 387, loss = 0.17573493\n",
            "Iteration 388, loss = 0.17488727\n",
            "Iteration 389, loss = 0.17387723\n",
            "Iteration 390, loss = 0.17333966\n",
            "Iteration 391, loss = 0.17178641\n",
            "Iteration 392, loss = 0.17124825\n",
            "Iteration 393, loss = 0.16976597\n",
            "Iteration 394, loss = 0.16869909\n",
            "Iteration 395, loss = 0.16779526\n",
            "Iteration 396, loss = 0.16681553\n",
            "Iteration 397, loss = 0.16551245\n",
            "Iteration 398, loss = 0.16480501\n",
            "Iteration 399, loss = 0.16388326\n",
            "Iteration 400, loss = 0.16382854\n",
            "Iteration 401, loss = 0.16206510\n",
            "Iteration 402, loss = 0.16092735\n",
            "Iteration 403, loss = 0.15982795\n",
            "Iteration 404, loss = 0.15938999\n",
            "Iteration 405, loss = 0.15828980\n",
            "Iteration 406, loss = 0.15738746\n",
            "Iteration 407, loss = 0.15630601\n",
            "Iteration 408, loss = 0.15539912\n",
            "Iteration 409, loss = 0.15430802\n",
            "Iteration 410, loss = 0.15393162\n",
            "Iteration 411, loss = 0.15278968\n",
            "Iteration 412, loss = 0.15208570\n",
            "Iteration 413, loss = 0.15124782\n",
            "Iteration 414, loss = 0.15033600\n",
            "Iteration 415, loss = 0.14963427\n",
            "Iteration 416, loss = 0.14873312\n",
            "Iteration 417, loss = 0.14818946\n",
            "Iteration 418, loss = 0.14717558\n",
            "Iteration 419, loss = 0.14620539\n",
            "Iteration 420, loss = 0.14564035\n",
            "Iteration 421, loss = 0.14474810\n",
            "Iteration 422, loss = 0.14422071\n",
            "Iteration 423, loss = 0.14333928\n",
            "Iteration 424, loss = 0.14260485\n",
            "Iteration 425, loss = 0.14173106\n",
            "Iteration 426, loss = 0.14106279\n",
            "Iteration 427, loss = 0.14036921\n",
            "Iteration 428, loss = 0.13980864\n",
            "Iteration 429, loss = 0.13909145\n",
            "Iteration 430, loss = 0.13807445\n",
            "Iteration 431, loss = 0.13784559\n",
            "Iteration 432, loss = 0.13710162\n",
            "Iteration 433, loss = 0.13610878\n",
            "Iteration 434, loss = 0.13593509\n",
            "Iteration 435, loss = 0.13481313\n",
            "Iteration 436, loss = 0.13449321\n",
            "Iteration 437, loss = 0.13334644\n",
            "Iteration 438, loss = 0.13297898\n",
            "Iteration 439, loss = 0.13240042\n",
            "Iteration 440, loss = 0.13173190\n",
            "Iteration 441, loss = 0.13098352\n",
            "Iteration 442, loss = 0.13102125\n",
            "Iteration 443, loss = 0.13006664\n",
            "Iteration 444, loss = 0.12936974\n",
            "Iteration 445, loss = 0.12876717\n",
            "Iteration 446, loss = 0.12833005\n",
            "Iteration 447, loss = 0.12794600\n",
            "Iteration 448, loss = 0.12693210\n",
            "Iteration 449, loss = 0.12654019\n",
            "Iteration 450, loss = 0.12559329\n",
            "Iteration 451, loss = 0.12504356\n",
            "Iteration 452, loss = 0.12464722\n",
            "Iteration 453, loss = 0.12412521\n",
            "Iteration 454, loss = 0.12349989\n",
            "Iteration 455, loss = 0.12311222\n",
            "Iteration 456, loss = 0.12256944\n",
            "Iteration 457, loss = 0.12248171\n",
            "Iteration 458, loss = 0.12139413\n",
            "Iteration 459, loss = 0.12097964\n",
            "Iteration 460, loss = 0.12031586\n",
            "Iteration 461, loss = 0.11996786\n",
            "Iteration 462, loss = 0.11941564\n",
            "Iteration 463, loss = 0.11940470\n",
            "Iteration 464, loss = 0.11854340\n",
            "Iteration 465, loss = 0.11821890\n",
            "Iteration 466, loss = 0.11763473\n",
            "Iteration 467, loss = 0.11689724\n",
            "Iteration 468, loss = 0.11647208\n",
            "Iteration 469, loss = 0.11626966\n",
            "Iteration 470, loss = 0.11552505\n",
            "Iteration 471, loss = 0.11512202\n",
            "Iteration 472, loss = 0.11452314\n",
            "Iteration 473, loss = 0.11415262\n",
            "Iteration 474, loss = 0.11385679\n",
            "Iteration 475, loss = 0.11324885\n",
            "Iteration 476, loss = 0.11311076\n",
            "Iteration 477, loss = 0.11215511\n",
            "Iteration 478, loss = 0.11189266\n",
            "Iteration 479, loss = 0.11121751\n",
            "Iteration 480, loss = 0.11089278\n",
            "Iteration 481, loss = 0.11070220\n",
            "Iteration 482, loss = 0.11000425\n",
            "Iteration 483, loss = 0.10954341\n",
            "Iteration 484, loss = 0.10936055\n",
            "Iteration 485, loss = 0.10868100\n",
            "Iteration 486, loss = 0.10846762\n",
            "Iteration 487, loss = 0.10812901\n",
            "Iteration 488, loss = 0.10769528\n",
            "Iteration 489, loss = 0.10702001\n",
            "Iteration 490, loss = 0.10729627\n",
            "Iteration 491, loss = 0.10643208\n",
            "Iteration 492, loss = 0.10633126\n",
            "Iteration 493, loss = 0.10592406\n",
            "Iteration 494, loss = 0.10522121\n",
            "Iteration 495, loss = 0.10486911\n",
            "Iteration 496, loss = 0.10421313\n",
            "Iteration 497, loss = 0.10430259\n",
            "Iteration 498, loss = 0.10366775\n",
            "Iteration 499, loss = 0.10312161\n",
            "Iteration 500, loss = 0.10324319\n"
          ],
          "name": "stdout"
        },
        {
          "output_type": "stream",
          "text": [
            "/usr/local/lib/python3.6/dist-packages/sklearn/neural_network/multilayer_perceptron.py:562: ConvergenceWarning: Stochastic Optimizer: Maximum iterations (500) reached and the optimization hasn't converged yet.\n",
            "  % self.max_iter, ConvergenceWarning)\n"
          ],
          "name": "stderr"
        },
        {
          "output_type": "execute_result",
          "data": {
            "text/plain": [
              "MLPClassifier(activation='relu', alpha=0.0001, batch_size='auto', beta_1=0.9,\n",
              "       beta_2=0.999, early_stopping=False, epsilon=1e-08,\n",
              "       hidden_layer_sizes=(250,), learning_rate='constant',\n",
              "       learning_rate_init=0.01, max_iter=500, momentum=0.9,\n",
              "       n_iter_no_change=10, nesterovs_momentum=True, power_t=0.5,\n",
              "       random_state=1, shuffle=True, solver='sgd', tol=1e-05,\n",
              "       validation_fraction=0.1, verbose=10, warm_start=False)"
            ]
          },
          "metadata": {
            "tags": []
          },
          "execution_count": 5
        }
      ]
    },
    {
      "metadata": {
        "id": "8m9_X9bUdZJe",
        "colab_type": "code",
        "colab": {}
      },
      "cell_type": "code",
      "source": [
        "# train_valid_combined = np.concatenate((train_data, validation_data))\n",
        "# train_valid_label = np.concatenate((train_label, validation_label))\n"
      ],
      "execution_count": 0,
      "outputs": []
    },
    {
      "metadata": {
        "id": "Fo_lFxdIc85n",
        "colab_type": "code",
        "outputId": "533bae1f-3911-45c8-aff1-fe004d4eab45",
        "colab": {
          "base_uri": "https://localhost:8080/",
          "height": 8690
        }
      },
      "cell_type": "code",
      "source": [
        "# clf =MLPClassifier(hidden_layer_sizes=(300,100, ), max_iter=200, alpha=1e-4,\n",
        "#                     solver='adam', verbose=10, tol=1e-5, random_state=1,\n",
        "#                     learning_rate_init=.1)\n",
        "### acc is 98.41\n",
        "clf2 = MLPClassifier(hidden_layer_sizes=(250, ), max_iter=500, alpha=1e-4,\n",
        "                    solver='sgd', verbose=10, tol=1e-5, random_state=1,\n",
        "                    learning_rate_init=.01)\n",
        "# Test set score: 0.950119\n",
        "\n",
        "clf2.fit(train_valid_combined, train_valid_label)\n",
        "# clf2.fit(train_data, train_label)"
      ],
      "execution_count": 6,
      "outputs": [
        {
          "output_type": "stream",
          "text": [
            "Iteration 1, loss = 1.79132991\n",
            "Iteration 2, loss = 1.78372116\n",
            "Iteration 3, loss = 1.78269095\n",
            "Iteration 4, loss = 1.78189126\n",
            "Iteration 5, loss = 1.78137186\n",
            "Iteration 6, loss = 1.78067961\n",
            "Iteration 7, loss = 1.78014791\n",
            "Iteration 8, loss = 1.77973240\n",
            "Iteration 9, loss = 1.77911500\n",
            "Iteration 10, loss = 1.77872453\n",
            "Iteration 11, loss = 1.77823439\n",
            "Iteration 12, loss = 1.77779942\n",
            "Iteration 13, loss = 1.77735660\n",
            "Iteration 14, loss = 1.77691445\n",
            "Iteration 15, loss = 1.77638985\n",
            "Iteration 16, loss = 1.77609271\n",
            "Iteration 17, loss = 1.77546230\n",
            "Iteration 18, loss = 1.77495020\n",
            "Iteration 19, loss = 1.77459955\n",
            "Iteration 20, loss = 1.77400248\n",
            "Iteration 21, loss = 1.77358778\n",
            "Iteration 22, loss = 1.77292523\n",
            "Iteration 23, loss = 1.77262133\n",
            "Iteration 24, loss = 1.77188219\n",
            "Iteration 25, loss = 1.77144058\n",
            "Iteration 26, loss = 1.77083183\n",
            "Iteration 27, loss = 1.77025382\n",
            "Iteration 28, loss = 1.76987026\n",
            "Iteration 29, loss = 1.76906441\n",
            "Iteration 30, loss = 1.76862000\n",
            "Iteration 31, loss = 1.76806994\n",
            "Iteration 32, loss = 1.76745643\n",
            "Iteration 33, loss = 1.76666532\n",
            "Iteration 34, loss = 1.76589965\n",
            "Iteration 35, loss = 1.76518805\n",
            "Iteration 36, loss = 1.76474984\n",
            "Iteration 37, loss = 1.76389589\n",
            "Iteration 38, loss = 1.76306536\n",
            "Iteration 39, loss = 1.76237676\n",
            "Iteration 40, loss = 1.76161705\n",
            "Iteration 41, loss = 1.76074693\n",
            "Iteration 42, loss = 1.76012780\n",
            "Iteration 43, loss = 1.75927089\n",
            "Iteration 44, loss = 1.75825810\n",
            "Iteration 45, loss = 1.75753067\n",
            "Iteration 46, loss = 1.75659923\n",
            "Iteration 47, loss = 1.75566461\n",
            "Iteration 48, loss = 1.75485778\n",
            "Iteration 49, loss = 1.75410435\n",
            "Iteration 50, loss = 1.75303956\n",
            "Iteration 51, loss = 1.75207754\n",
            "Iteration 52, loss = 1.75099276\n",
            "Iteration 53, loss = 1.75003710\n",
            "Iteration 54, loss = 1.74896149\n",
            "Iteration 55, loss = 1.74772773\n",
            "Iteration 56, loss = 1.74671222\n",
            "Iteration 57, loss = 1.74539244\n",
            "Iteration 58, loss = 1.74421121\n",
            "Iteration 59, loss = 1.74293158\n",
            "Iteration 60, loss = 1.74185547\n",
            "Iteration 61, loss = 1.74046935\n",
            "Iteration 62, loss = 1.73908181\n",
            "Iteration 63, loss = 1.73800402\n",
            "Iteration 64, loss = 1.73659120\n",
            "Iteration 65, loss = 1.73489796\n",
            "Iteration 66, loss = 1.73355055\n",
            "Iteration 67, loss = 1.73200896\n",
            "Iteration 68, loss = 1.73039585\n",
            "Iteration 69, loss = 1.72868181\n",
            "Iteration 70, loss = 1.72721117\n",
            "Iteration 71, loss = 1.72543135\n",
            "Iteration 72, loss = 1.72371998\n",
            "Iteration 73, loss = 1.72209702\n",
            "Iteration 74, loss = 1.72020760\n",
            "Iteration 75, loss = 1.71823680\n",
            "Iteration 76, loss = 1.71647651\n",
            "Iteration 77, loss = 1.71426260\n",
            "Iteration 78, loss = 1.71200469\n",
            "Iteration 79, loss = 1.71013268\n",
            "Iteration 80, loss = 1.70790823\n",
            "Iteration 81, loss = 1.70561717\n",
            "Iteration 82, loss = 1.70333700\n",
            "Iteration 83, loss = 1.70141286\n",
            "Iteration 84, loss = 1.69875229\n",
            "Iteration 85, loss = 1.69629819\n",
            "Iteration 86, loss = 1.69368797\n",
            "Iteration 87, loss = 1.69079103\n",
            "Iteration 88, loss = 1.68832517\n",
            "Iteration 89, loss = 1.68569497\n",
            "Iteration 90, loss = 1.68275676\n",
            "Iteration 91, loss = 1.67983927\n",
            "Iteration 92, loss = 1.67681773\n",
            "Iteration 93, loss = 1.67350486\n",
            "Iteration 94, loss = 1.67057659\n",
            "Iteration 95, loss = 1.66693251\n",
            "Iteration 96, loss = 1.66421595\n",
            "Iteration 97, loss = 1.66032177\n",
            "Iteration 98, loss = 1.65677854\n",
            "Iteration 99, loss = 1.65337658\n",
            "Iteration 100, loss = 1.64926354\n",
            "Iteration 101, loss = 1.64578763\n",
            "Iteration 102, loss = 1.64150342\n",
            "Iteration 103, loss = 1.63790303\n",
            "Iteration 104, loss = 1.63328435\n",
            "Iteration 105, loss = 1.62948982\n",
            "Iteration 106, loss = 1.62479219\n",
            "Iteration 107, loss = 1.62060776\n",
            "Iteration 108, loss = 1.61607454\n",
            "Iteration 109, loss = 1.61116153\n",
            "Iteration 110, loss = 1.60620550\n",
            "Iteration 111, loss = 1.60196862\n",
            "Iteration 112, loss = 1.59703508\n",
            "Iteration 113, loss = 1.59144248\n",
            "Iteration 114, loss = 1.58650320\n",
            "Iteration 115, loss = 1.58072827\n",
            "Iteration 116, loss = 1.57491237\n",
            "Iteration 117, loss = 1.56929826\n",
            "Iteration 118, loss = 1.56311962\n",
            "Iteration 119, loss = 1.55719634\n",
            "Iteration 120, loss = 1.55228726\n",
            "Iteration 121, loss = 1.54575623\n",
            "Iteration 122, loss = 1.53886308\n",
            "Iteration 123, loss = 1.53185987\n",
            "Iteration 124, loss = 1.52580678\n",
            "Iteration 125, loss = 1.51965681\n",
            "Iteration 126, loss = 1.51231817\n",
            "Iteration 127, loss = 1.50458917\n",
            "Iteration 128, loss = 1.49716000\n",
            "Iteration 129, loss = 1.49020424\n",
            "Iteration 130, loss = 1.48236056\n",
            "Iteration 131, loss = 1.47469037\n",
            "Iteration 132, loss = 1.46666253\n",
            "Iteration 133, loss = 1.45891949\n",
            "Iteration 134, loss = 1.45067166\n",
            "Iteration 135, loss = 1.44273914\n",
            "Iteration 136, loss = 1.43351091\n",
            "Iteration 137, loss = 1.42571564\n",
            "Iteration 138, loss = 1.41653274\n",
            "Iteration 139, loss = 1.40730830\n",
            "Iteration 140, loss = 1.39825406\n",
            "Iteration 141, loss = 1.38869940\n",
            "Iteration 142, loss = 1.37931501\n",
            "Iteration 143, loss = 1.36953209\n",
            "Iteration 144, loss = 1.35996898\n",
            "Iteration 145, loss = 1.35018783\n",
            "Iteration 146, loss = 1.33969802\n",
            "Iteration 147, loss = 1.32963390\n",
            "Iteration 148, loss = 1.31888385\n",
            "Iteration 149, loss = 1.30923485\n",
            "Iteration 150, loss = 1.29750537\n",
            "Iteration 151, loss = 1.28658402\n",
            "Iteration 152, loss = 1.27610489\n",
            "Iteration 153, loss = 1.26519016\n",
            "Iteration 154, loss = 1.25357838\n",
            "Iteration 155, loss = 1.24267150\n",
            "Iteration 156, loss = 1.23088497\n",
            "Iteration 157, loss = 1.21970150\n",
            "Iteration 158, loss = 1.20793314\n",
            "Iteration 159, loss = 1.19619479\n",
            "Iteration 160, loss = 1.18471954\n",
            "Iteration 161, loss = 1.17204894\n",
            "Iteration 162, loss = 1.15975144\n",
            "Iteration 163, loss = 1.14846631\n",
            "Iteration 164, loss = 1.13616917\n",
            "Iteration 165, loss = 1.12380099\n",
            "Iteration 166, loss = 1.11097322\n",
            "Iteration 167, loss = 1.09988732\n",
            "Iteration 168, loss = 1.08603357\n",
            "Iteration 169, loss = 1.07374137\n",
            "Iteration 170, loss = 1.06127111\n",
            "Iteration 171, loss = 1.04879509\n",
            "Iteration 172, loss = 1.03590295\n",
            "Iteration 173, loss = 1.02402941\n",
            "Iteration 174, loss = 1.01163318\n",
            "Iteration 175, loss = 0.99875740\n",
            "Iteration 176, loss = 0.98526795\n",
            "Iteration 177, loss = 0.97314438\n",
            "Iteration 178, loss = 0.96044747\n",
            "Iteration 179, loss = 0.94786081\n",
            "Iteration 180, loss = 0.93508742\n",
            "Iteration 181, loss = 0.92236645\n",
            "Iteration 182, loss = 0.91107286\n",
            "Iteration 183, loss = 0.89798225\n",
            "Iteration 184, loss = 0.88535029\n",
            "Iteration 185, loss = 0.87332146\n",
            "Iteration 186, loss = 0.86135604\n",
            "Iteration 187, loss = 0.84917764\n",
            "Iteration 188, loss = 0.83730812\n",
            "Iteration 189, loss = 0.82583077\n",
            "Iteration 190, loss = 0.81318917\n",
            "Iteration 191, loss = 0.80081643\n",
            "Iteration 192, loss = 0.78961784\n",
            "Iteration 193, loss = 0.77851014\n",
            "Iteration 194, loss = 0.76672890\n",
            "Iteration 195, loss = 0.75608472\n",
            "Iteration 196, loss = 0.74451917\n",
            "Iteration 197, loss = 0.73301292\n",
            "Iteration 198, loss = 0.72206713\n",
            "Iteration 199, loss = 0.71153232\n",
            "Iteration 200, loss = 0.70052907\n",
            "Iteration 201, loss = 0.69039323\n",
            "Iteration 202, loss = 0.67951514\n",
            "Iteration 203, loss = 0.66949302\n",
            "Iteration 204, loss = 0.65909382\n",
            "Iteration 205, loss = 0.64939090\n",
            "Iteration 206, loss = 0.63956553\n",
            "Iteration 207, loss = 0.62971459\n",
            "Iteration 208, loss = 0.62010891\n",
            "Iteration 209, loss = 0.61069481\n",
            "Iteration 210, loss = 0.60130807\n",
            "Iteration 211, loss = 0.59248456\n",
            "Iteration 212, loss = 0.58320641\n",
            "Iteration 213, loss = 0.57495519\n",
            "Iteration 214, loss = 0.56625323\n",
            "Iteration 215, loss = 0.55754767\n",
            "Iteration 216, loss = 0.54926089\n",
            "Iteration 217, loss = 0.54091013\n",
            "Iteration 218, loss = 0.53266347\n",
            "Iteration 219, loss = 0.52522088\n",
            "Iteration 220, loss = 0.51702653\n",
            "Iteration 221, loss = 0.50948574\n",
            "Iteration 222, loss = 0.50159708\n",
            "Iteration 223, loss = 0.49430530\n",
            "Iteration 224, loss = 0.48707151\n",
            "Iteration 225, loss = 0.47982424\n",
            "Iteration 226, loss = 0.47310172\n",
            "Iteration 227, loss = 0.46606669\n",
            "Iteration 228, loss = 0.45914303\n",
            "Iteration 229, loss = 0.45291922\n",
            "Iteration 230, loss = 0.44628061\n",
            "Iteration 231, loss = 0.44006016\n",
            "Iteration 232, loss = 0.43338772\n",
            "Iteration 233, loss = 0.42748082\n",
            "Iteration 234, loss = 0.42165337\n",
            "Iteration 235, loss = 0.41564978\n",
            "Iteration 236, loss = 0.41027934\n",
            "Iteration 237, loss = 0.40413033\n",
            "Iteration 238, loss = 0.39923152\n",
            "Iteration 239, loss = 0.39331834\n",
            "Iteration 240, loss = 0.38836472\n",
            "Iteration 241, loss = 0.38286068\n",
            "Iteration 242, loss = 0.37786066\n",
            "Iteration 243, loss = 0.37275856\n",
            "Iteration 244, loss = 0.36808903\n",
            "Iteration 245, loss = 0.36285440\n",
            "Iteration 246, loss = 0.35792833\n",
            "Iteration 247, loss = 0.35338688\n",
            "Iteration 248, loss = 0.34907343\n",
            "Iteration 249, loss = 0.34531341\n",
            "Iteration 250, loss = 0.34044302\n",
            "Iteration 251, loss = 0.33634609\n",
            "Iteration 252, loss = 0.33218318\n",
            "Iteration 253, loss = 0.32770454\n",
            "Iteration 254, loss = 0.32369157\n",
            "Iteration 255, loss = 0.31994729\n",
            "Iteration 256, loss = 0.31559212\n",
            "Iteration 257, loss = 0.31227938\n",
            "Iteration 258, loss = 0.30858363\n",
            "Iteration 259, loss = 0.30453794\n",
            "Iteration 260, loss = 0.30154872\n",
            "Iteration 261, loss = 0.29779831\n",
            "Iteration 262, loss = 0.29433204\n",
            "Iteration 263, loss = 0.29083126\n",
            "Iteration 264, loss = 0.28747627\n",
            "Iteration 265, loss = 0.28449115\n",
            "Iteration 266, loss = 0.28090205\n",
            "Iteration 267, loss = 0.27825953\n",
            "Iteration 268, loss = 0.27496498\n",
            "Iteration 269, loss = 0.27183444\n",
            "Iteration 270, loss = 0.26883779\n",
            "Iteration 271, loss = 0.26592789\n",
            "Iteration 272, loss = 0.26275420\n",
            "Iteration 273, loss = 0.26053159\n",
            "Iteration 274, loss = 0.25746366\n",
            "Iteration 275, loss = 0.25474298\n",
            "Iteration 276, loss = 0.25234802\n",
            "Iteration 277, loss = 0.24950535\n",
            "Iteration 278, loss = 0.24699397\n",
            "Iteration 279, loss = 0.24445786\n",
            "Iteration 280, loss = 0.24186533\n",
            "Iteration 281, loss = 0.23982106\n",
            "Iteration 282, loss = 0.23748934\n",
            "Iteration 283, loss = 0.23492844\n",
            "Iteration 284, loss = 0.23266644\n",
            "Iteration 285, loss = 0.23029622\n",
            "Iteration 286, loss = 0.22784822\n",
            "Iteration 287, loss = 0.22628705\n",
            "Iteration 288, loss = 0.22387055\n",
            "Iteration 289, loss = 0.22167977\n",
            "Iteration 290, loss = 0.21962045\n",
            "Iteration 291, loss = 0.21764973\n",
            "Iteration 292, loss = 0.21548740\n",
            "Iteration 293, loss = 0.21391522\n",
            "Iteration 294, loss = 0.21153482\n",
            "Iteration 295, loss = 0.21012194\n",
            "Iteration 296, loss = 0.20804188\n",
            "Iteration 297, loss = 0.20621907\n",
            "Iteration 298, loss = 0.20415184\n",
            "Iteration 299, loss = 0.20249975\n",
            "Iteration 300, loss = 0.20104885\n",
            "Iteration 301, loss = 0.19946702\n",
            "Iteration 302, loss = 0.19750895\n",
            "Iteration 303, loss = 0.19584979\n",
            "Iteration 304, loss = 0.19422125\n",
            "Iteration 305, loss = 0.19245653\n",
            "Iteration 306, loss = 0.19066031\n",
            "Iteration 307, loss = 0.18957457\n",
            "Iteration 308, loss = 0.18775938\n",
            "Iteration 309, loss = 0.18663035\n",
            "Iteration 310, loss = 0.18458532\n",
            "Iteration 311, loss = 0.18297276\n",
            "Iteration 312, loss = 0.18200811\n",
            "Iteration 313, loss = 0.18048878\n",
            "Iteration 314, loss = 0.17899529\n",
            "Iteration 315, loss = 0.17778582\n",
            "Iteration 316, loss = 0.17637833\n",
            "Iteration 317, loss = 0.17505978\n",
            "Iteration 318, loss = 0.17354751\n",
            "Iteration 319, loss = 0.17231089\n",
            "Iteration 320, loss = 0.17068623\n",
            "Iteration 321, loss = 0.16951363\n",
            "Iteration 322, loss = 0.16857242\n",
            "Iteration 323, loss = 0.16715023\n",
            "Iteration 324, loss = 0.16598918\n",
            "Iteration 325, loss = 0.16484581\n",
            "Iteration 326, loss = 0.16369283\n",
            "Iteration 327, loss = 0.16259538\n",
            "Iteration 328, loss = 0.16167769\n",
            "Iteration 329, loss = 0.16038404\n",
            "Iteration 330, loss = 0.15910746\n",
            "Iteration 331, loss = 0.15789557\n",
            "Iteration 332, loss = 0.15707497\n",
            "Iteration 333, loss = 0.15581900\n",
            "Iteration 334, loss = 0.15456824\n",
            "Iteration 335, loss = 0.15416611\n",
            "Iteration 336, loss = 0.15268404\n",
            "Iteration 337, loss = 0.15197219\n",
            "Iteration 338, loss = 0.15071666\n",
            "Iteration 339, loss = 0.14986199\n",
            "Iteration 340, loss = 0.14864672\n",
            "Iteration 341, loss = 0.14818126\n",
            "Iteration 342, loss = 0.14690861\n",
            "Iteration 343, loss = 0.14596815\n",
            "Iteration 344, loss = 0.14515658\n",
            "Iteration 345, loss = 0.14435689\n",
            "Iteration 346, loss = 0.14318875\n",
            "Iteration 347, loss = 0.14229113\n",
            "Iteration 348, loss = 0.14152406\n",
            "Iteration 349, loss = 0.14041933\n",
            "Iteration 350, loss = 0.13945641\n",
            "Iteration 351, loss = 0.13926397\n",
            "Iteration 352, loss = 0.13809381\n",
            "Iteration 353, loss = 0.13726042\n",
            "Iteration 354, loss = 0.13652709\n",
            "Iteration 355, loss = 0.13556106\n",
            "Iteration 356, loss = 0.13475089\n",
            "Iteration 357, loss = 0.13414623\n",
            "Iteration 358, loss = 0.13353075\n",
            "Iteration 359, loss = 0.13288506\n",
            "Iteration 360, loss = 0.13177965\n",
            "Iteration 361, loss = 0.13098841\n",
            "Iteration 362, loss = 0.13042951\n",
            "Iteration 363, loss = 0.12944244\n",
            "Iteration 364, loss = 0.12869701\n",
            "Iteration 365, loss = 0.12823705\n",
            "Iteration 366, loss = 0.12730606\n",
            "Iteration 367, loss = 0.12669208\n",
            "Iteration 368, loss = 0.12604243\n",
            "Iteration 369, loss = 0.12563266\n",
            "Iteration 370, loss = 0.12494343\n",
            "Iteration 371, loss = 0.12410382\n",
            "Iteration 372, loss = 0.12344140\n",
            "Iteration 373, loss = 0.12258893\n",
            "Iteration 374, loss = 0.12204173\n",
            "Iteration 375, loss = 0.12145760\n",
            "Iteration 376, loss = 0.12111196\n",
            "Iteration 377, loss = 0.11994969\n",
            "Iteration 378, loss = 0.11954437\n",
            "Iteration 379, loss = 0.11888069\n",
            "Iteration 380, loss = 0.11822499\n",
            "Iteration 381, loss = 0.11765217\n",
            "Iteration 382, loss = 0.11713351\n",
            "Iteration 383, loss = 0.11626390\n",
            "Iteration 384, loss = 0.11621546\n",
            "Iteration 385, loss = 0.11553572\n",
            "Iteration 386, loss = 0.11485998\n",
            "Iteration 387, loss = 0.11426503\n",
            "Iteration 388, loss = 0.11393389\n",
            "Iteration 389, loss = 0.11333588\n",
            "Iteration 390, loss = 0.11277423\n",
            "Iteration 391, loss = 0.11240596\n",
            "Iteration 392, loss = 0.11156564\n",
            "Iteration 393, loss = 0.11107999\n",
            "Iteration 394, loss = 0.11046291\n",
            "Iteration 395, loss = 0.11001008\n",
            "Iteration 396, loss = 0.10936851\n",
            "Iteration 397, loss = 0.10889920\n",
            "Iteration 398, loss = 0.10877892\n",
            "Iteration 399, loss = 0.10787585\n",
            "Iteration 400, loss = 0.10758967\n",
            "Iteration 401, loss = 0.10709639\n",
            "Iteration 402, loss = 0.10670580\n",
            "Iteration 403, loss = 0.10599974\n",
            "Iteration 404, loss = 0.10564159\n",
            "Iteration 405, loss = 0.10516662\n",
            "Iteration 406, loss = 0.10467317\n",
            "Iteration 407, loss = 0.10437789\n",
            "Iteration 408, loss = 0.10399271\n",
            "Iteration 409, loss = 0.10330642\n",
            "Iteration 410, loss = 0.10295924\n",
            "Iteration 411, loss = 0.10269579\n",
            "Iteration 412, loss = 0.10235680\n",
            "Iteration 413, loss = 0.10160612\n",
            "Iteration 414, loss = 0.10114280\n",
            "Iteration 415, loss = 0.10079283\n",
            "Iteration 416, loss = 0.10056587\n",
            "Iteration 417, loss = 0.10018234\n",
            "Iteration 418, loss = 0.09961802\n",
            "Iteration 419, loss = 0.09909213\n",
            "Iteration 420, loss = 0.09878677\n",
            "Iteration 421, loss = 0.09834359\n",
            "Iteration 422, loss = 0.09788209\n",
            "Iteration 423, loss = 0.09746103\n",
            "Iteration 424, loss = 0.09718798\n",
            "Iteration 425, loss = 0.09674714\n",
            "Iteration 426, loss = 0.09650426\n",
            "Iteration 427, loss = 0.09596586\n",
            "Iteration 428, loss = 0.09564033\n",
            "Iteration 429, loss = 0.09527874\n",
            "Iteration 430, loss = 0.09513985\n",
            "Iteration 431, loss = 0.09476670\n",
            "Iteration 432, loss = 0.09451465\n",
            "Iteration 433, loss = 0.09377179\n",
            "Iteration 434, loss = 0.09364658\n",
            "Iteration 435, loss = 0.09293438\n",
            "Iteration 436, loss = 0.09267861\n",
            "Iteration 437, loss = 0.09244154\n",
            "Iteration 438, loss = 0.09216373\n",
            "Iteration 439, loss = 0.09169959\n",
            "Iteration 440, loss = 0.09176033\n",
            "Iteration 441, loss = 0.09099421\n",
            "Iteration 442, loss = 0.09052710\n",
            "Iteration 443, loss = 0.09037207\n",
            "Iteration 444, loss = 0.08992872\n",
            "Iteration 445, loss = 0.09010768\n",
            "Iteration 446, loss = 0.08943495\n",
            "Iteration 447, loss = 0.08920753\n",
            "Iteration 448, loss = 0.08881382\n",
            "Iteration 449, loss = 0.08861601\n",
            "Iteration 450, loss = 0.08815504\n",
            "Iteration 451, loss = 0.08786461\n",
            "Iteration 452, loss = 0.08756526\n",
            "Iteration 453, loss = 0.08714731\n",
            "Iteration 454, loss = 0.08716622\n",
            "Iteration 455, loss = 0.08662429\n",
            "Iteration 456, loss = 0.08660014\n",
            "Iteration 457, loss = 0.08626922\n",
            "Iteration 458, loss = 0.08570512\n",
            "Iteration 459, loss = 0.08560978\n",
            "Iteration 460, loss = 0.08534880\n",
            "Iteration 461, loss = 0.08483894\n",
            "Iteration 462, loss = 0.08462058\n",
            "Iteration 463, loss = 0.08453406\n",
            "Iteration 464, loss = 0.08413390\n",
            "Iteration 465, loss = 0.08368898\n",
            "Iteration 466, loss = 0.08345192\n",
            "Iteration 467, loss = 0.08337324\n",
            "Iteration 468, loss = 0.08292090\n",
            "Iteration 469, loss = 0.08287734\n",
            "Iteration 470, loss = 0.08234768\n",
            "Iteration 471, loss = 0.08216899\n",
            "Iteration 472, loss = 0.08200204\n",
            "Iteration 473, loss = 0.08188041\n",
            "Iteration 474, loss = 0.08148739\n",
            "Iteration 475, loss = 0.08126944\n",
            "Iteration 476, loss = 0.08107856\n",
            "Iteration 477, loss = 0.08077755\n",
            "Iteration 478, loss = 0.08029934\n",
            "Iteration 479, loss = 0.08012933\n",
            "Iteration 480, loss = 0.08006436\n",
            "Iteration 481, loss = 0.07964617\n",
            "Iteration 482, loss = 0.07934283\n",
            "Iteration 483, loss = 0.07912141\n",
            "Iteration 484, loss = 0.07900277\n",
            "Iteration 485, loss = 0.07881366\n",
            "Iteration 486, loss = 0.07843932\n",
            "Iteration 487, loss = 0.07829445\n",
            "Iteration 488, loss = 0.07797311\n",
            "Iteration 489, loss = 0.07792614\n",
            "Iteration 490, loss = 0.07756126\n",
            "Iteration 491, loss = 0.07720769\n",
            "Iteration 492, loss = 0.07722301\n",
            "Iteration 493, loss = 0.07690814\n",
            "Iteration 494, loss = 0.07674216\n",
            "Iteration 495, loss = 0.07660402\n",
            "Iteration 496, loss = 0.07613300\n",
            "Iteration 497, loss = 0.07622922\n",
            "Iteration 498, loss = 0.07572659\n",
            "Iteration 499, loss = 0.07549323\n",
            "Iteration 500, loss = 0.07535872\n"
          ],
          "name": "stdout"
        },
        {
          "output_type": "stream",
          "text": [
            "/usr/local/lib/python3.6/dist-packages/sklearn/neural_network/multilayer_perceptron.py:562: ConvergenceWarning: Stochastic Optimizer: Maximum iterations (500) reached and the optimization hasn't converged yet.\n",
            "  % self.max_iter, ConvergenceWarning)\n"
          ],
          "name": "stderr"
        },
        {
          "output_type": "execute_result",
          "data": {
            "text/plain": [
              "MLPClassifier(activation='relu', alpha=0.0001, batch_size='auto', beta_1=0.9,\n",
              "       beta_2=0.999, early_stopping=False, epsilon=1e-08,\n",
              "       hidden_layer_sizes=(250,), learning_rate='constant',\n",
              "       learning_rate_init=0.01, max_iter=500, momentum=0.9,\n",
              "       n_iter_no_change=10, nesterovs_momentum=True, power_t=0.5,\n",
              "       random_state=1, shuffle=True, solver='sgd', tol=1e-05,\n",
              "       validation_fraction=0.1, verbose=10, warm_start=False)"
            ]
          },
          "metadata": {
            "tags": []
          },
          "execution_count": 6
        }
      ]
    },
    {
      "metadata": {
        "id": "Wi_0y1C6e9Er",
        "colab_type": "code",
        "outputId": "422fc9e4-cf70-406d-91e6-bbcb82eda1df",
        "colab": {
          "base_uri": "https://localhost:8080/",
          "height": 34
        }
      },
      "cell_type": "code",
      "source": [
        "train_valid_combined.shape"
      ],
      "execution_count": 7,
      "outputs": [
        {
          "output_type": "execute_result",
          "data": {
            "text/plain": [
              "(7352, 374)"
            ]
          },
          "metadata": {
            "tags": []
          },
          "execution_count": 7
        }
      ]
    },
    {
      "metadata": {
        "id": "oy5MNJqFys-H",
        "colab_type": "code",
        "outputId": "fa07680e-7fc5-4e7d-d0f4-2cc5756fae18",
        "colab": {
          "base_uri": "https://localhost:8080/",
          "height": 34
        }
      },
      "cell_type": "code",
      "source": [
        "clf.score(train_data,train_label)"
      ],
      "execution_count": 8,
      "outputs": [
        {
          "output_type": "execute_result",
          "data": {
            "text/plain": [
              "0.9896276143513008"
            ]
          },
          "metadata": {
            "tags": []
          },
          "execution_count": 8
        }
      ]
    },
    {
      "metadata": {
        "id": "T0aiYNsdyuBR",
        "colab_type": "code",
        "outputId": "bc92176a-85e9-4fc8-cf57-2351981a0637",
        "colab": {
          "base_uri": "https://localhost:8080/",
          "height": 34
        }
      },
      "cell_type": "code",
      "source": [
        "clf.score(validation_data,validation_label)"
      ],
      "execution_count": 9,
      "outputs": [
        {
          "output_type": "execute_result",
          "data": {
            "text/plain": [
              "0.9843643779741672"
            ]
          },
          "metadata": {
            "tags": []
          },
          "execution_count": 9
        }
      ]
    },
    {
      "metadata": {
        "id": "w7DSKjQcyvL0",
        "colab_type": "code",
        "outputId": "0978728f-5a60-4aae-da90-d8292bfc70f0",
        "colab": {
          "base_uri": "https://localhost:8080/",
          "height": 34
        }
      },
      "cell_type": "code",
      "source": [
        "clf.score(test_data,test_label)"
      ],
      "execution_count": 10,
      "outputs": [
        {
          "output_type": "execute_result",
          "data": {
            "text/plain": [
              "0.9416355615880556"
            ]
          },
          "metadata": {
            "tags": []
          },
          "execution_count": 10
        }
      ]
    },
    {
      "metadata": {
        "id": "bOJLm3y6dkCs",
        "colab_type": "code",
        "outputId": "88c31d42-dadf-499f-86d9-090db6dd9e77",
        "colab": {
          "base_uri": "https://localhost:8080/",
          "height": 34
        }
      },
      "cell_type": "code",
      "source": [
        "clf2.score(train_data,train_label)"
      ],
      "execution_count": 11,
      "outputs": [
        {
          "output_type": "execute_result",
          "data": {
            "text/plain": [
              "0.9906478490052713"
            ]
          },
          "metadata": {
            "tags": []
          },
          "execution_count": 11
        }
      ]
    },
    {
      "metadata": {
        "id": "hnUFUI4rdjwi",
        "colab_type": "code",
        "outputId": "0424cccf-0cf2-4cba-b39c-bc30a5bbb6d4",
        "colab": {
          "base_uri": "https://localhost:8080/",
          "height": 34
        }
      },
      "cell_type": "code",
      "source": [
        "clf2.score(validation_data,validation_label)"
      ],
      "execution_count": 12,
      "outputs": [
        {
          "output_type": "execute_result",
          "data": {
            "text/plain": [
              "0.9891230455472467"
            ]
          },
          "metadata": {
            "tags": []
          },
          "execution_count": 12
        }
      ]
    },
    {
      "metadata": {
        "id": "1u7u5mLsirGr",
        "colab_type": "code",
        "outputId": "c5db740a-8234-4d85-81ac-ef7864aaa333",
        "colab": {
          "base_uri": "https://localhost:8080/",
          "height": 34
        }
      },
      "cell_type": "code",
      "source": [
        "clf.score(test_data,test_label)"
      ],
      "execution_count": 13,
      "outputs": [
        {
          "output_type": "execute_result",
          "data": {
            "text/plain": [
              "0.9416355615880556"
            ]
          },
          "metadata": {
            "tags": []
          },
          "execution_count": 13
        }
      ]
    },
    {
      "metadata": {
        "id": "BtNN_G2Bdkpr",
        "colab_type": "code",
        "outputId": "60301e97-2cb2-47a0-c675-306cd5fd315f",
        "colab": {
          "base_uri": "https://localhost:8080/",
          "height": 34
        }
      },
      "cell_type": "code",
      "source": [
        "clf2.score(test_data,test_label)"
      ],
      "execution_count": 14,
      "outputs": [
        {
          "output_type": "execute_result",
          "data": {
            "text/plain": [
              "0.9504580929759077"
            ]
          },
          "metadata": {
            "tags": []
          },
          "execution_count": 14
        }
      ]
    },
    {
      "metadata": {
        "id": "63SIF9YCiJ9X",
        "colab_type": "code",
        "colab": {}
      },
      "cell_type": "code",
      "source": [
        "enc = OneHotEncoder(handle_unknown='ignore',sparse=False)\n",
        "enc.fit(train_label.reshape(1,-1).T)\n",
        "train_label_one_hot = enc.transform(train_label.reshape(-1,1))\n",
        "test_label_one_hot = enc.transform(test_label.reshape(-1,1))\n",
        "validation_label_one_hot = enc.transform(validation_label.reshape(-1,1))\n",
        "validation_test_label_one_hot = enc.transform(train_valid_label.reshape(-1,1))"
      ],
      "execution_count": 0,
      "outputs": []
    },
    {
      "metadata": {
        "id": "9T8IoNGpkVv_",
        "colab_type": "code",
        "outputId": "d9f33970-f06f-4bc8-fdfd-c14bca2fefba",
        "colab": {
          "base_uri": "https://localhost:8080/",
          "height": 34
        }
      },
      "cell_type": "code",
      "source": [
        "test_label_one_hot.shape"
      ],
      "execution_count": 16,
      "outputs": [
        {
          "output_type": "execute_result",
          "data": {
            "text/plain": [
              "(2947, 6)"
            ]
          },
          "metadata": {
            "tags": []
          },
          "execution_count": 16
        }
      ]
    },
    {
      "metadata": {
        "id": "kxWBf1tjiJm4",
        "colab_type": "code",
        "colab": {}
      },
      "cell_type": "code",
      "source": [
        "def next_batch(num, data, labels):\n",
        "    '''\n",
        "    Return a total of `num` random samples and labels. \n",
        "    '''\n",
        "    idx = np.arange(0 , len(data))\n",
        "    np.random.shuffle(idx)\n",
        "    idx = idx[:num]\n",
        "    data_shuffle = [data[ i] for i in idx]\n",
        "    labels_shuffle = [labels[ i] for i in idx]\n",
        "    \n",
        "    return np.asarray(data_shuffle), np.asarray(labels_shuffle)"
      ],
      "execution_count": 0,
      "outputs": []
    },
    {
      "metadata": {
        "id": "DYHOkr0CiOxa",
        "colab_type": "code",
        "colab": {}
      },
      "cell_type": "code",
      "source": [
        "def xavier_init(size):\n",
        "    in_dim = size[0]\n",
        "    xavier_stddev = 1. / tf.sqrt(in_dim / 2.)\n",
        "    return tf.random_normal(shape=size, stddev=xavier_stddev, seed=1000)"
      ],
      "execution_count": 0,
      "outputs": []
    },
    {
      "metadata": {
        "id": "eDauxfwliQZb",
        "colab_type": "code",
        "colab": {}
      },
      "cell_type": "code",
      "source": [
        "## Define weights of the layer\n",
        "\n",
        "\n",
        "\n",
        "# saver = tf.train.Saver()"
      ],
      "execution_count": 0,
      "outputs": []
    },
    {
      "metadata": {
        "id": "GlClhIpViZoW",
        "colab_type": "text"
      },
      "cell_type": "markdown",
      "source": [
        "#### Divide valid in two parts for validation and validation-test"
      ]
    },
    {
      "metadata": {
        "id": "NhtjHgUwl0Kq",
        "colab_type": "code",
        "colab": {}
      },
      "cell_type": "code",
      "source": [
        ""
      ],
      "execution_count": 0,
      "outputs": []
    },
    {
      "metadata": {
        "id": "vLrSUA61iQW_",
        "colab_type": "code",
        "outputId": "8e52b68a-29ef-477d-f109-28f8e9a250c5",
        "colab": {
          "base_uri": "https://localhost:8080/",
          "height": 337
        }
      },
      "cell_type": "code",
      "source": [
        "plt.hist(np.argmax(train_label_one_hot,axis = 1))"
      ],
      "execution_count": 20,
      "outputs": [
        {
          "output_type": "execute_result",
          "data": {
            "text/plain": [
              "(array([ 981.,    0.,  858.,    0.,  789.,    0., 1029.,    0., 1099.,\n",
              "        1125.]),\n",
              " array([0. , 0.5, 1. , 1.5, 2. , 2.5, 3. , 3.5, 4. , 4.5, 5. ]),\n",
              " <a list of 10 Patch objects>)"
            ]
          },
          "metadata": {
            "tags": []
          },
          "execution_count": 20
        },
        {
          "output_type": "display_data",
          "data": {
            "image/png": "[encoded data removed]",
            "text/plain": [
              "<Figure size 432x288 with 1 Axes>"
            ]
          },
          "metadata": {
            "tags": []
          }
        }
      ]
    },
    {
      "metadata": {
        "id": "XfNKrbvrmDl6",
        "colab_type": "code",
        "outputId": "f53b11f5-5c4e-4316-d4af-4a123069ab37",
        "colab": {
          "base_uri": "https://localhost:8080/",
          "height": 320
        }
      },
      "cell_type": "code",
      "source": [
        "plt.hist(np.argmax(validation_label_one_hot,axis = 1))"
      ],
      "execution_count": 21,
      "outputs": [
        {
          "output_type": "execute_result",
          "data": {
            "text/plain": [
              "(array([245.,   0., 215.,   0., 197.,   0., 257.,   0., 275., 282.]),\n",
              " array([0. , 0.5, 1. , 1.5, 2. , 2.5, 3. , 3.5, 4. , 4.5, 5. ]),\n",
              " <a list of 10 Patch objects>)"
            ]
          },
          "metadata": {
            "tags": []
          },
          "execution_count": 21
        },
        {
          "output_type": "display_data",
          "data": {
            "image/png": "[encoded data removed]",
            "text/plain": [
              "<Figure size 432x288 with 1 Axes>"
            ]
          },
          "metadata": {
            "tags": []
          }
        }
      ]
    },
    {
      "metadata": {
        "id": "fX0eodcgiQTr",
        "colab_type": "code",
        "colab": {}
      },
      "cell_type": "code",
      "source": [
        ""
      ],
      "execution_count": 0,
      "outputs": []
    },
    {
      "metadata": {
        "id": "UYJZs7GgCy5p",
        "colab_type": "code",
        "colab": {}
      },
      "cell_type": "code",
      "source": [
        "from sklearn.utils import shuffle  #train_data, train_label\n",
        "\n",
        "X_train, y_train = shuffle(train_data, train_label_one_hot)\n",
        "validation_data, validation_label_one_hot = validation_data, validation_label_one_hot"
      ],
      "execution_count": 0,
      "outputs": []
    },
    {
      "metadata": {
        "id": "Q4WFIdiuCy53",
        "colab_type": "text"
      },
      "cell_type": "markdown",
      "source": [
        "## Setup TensorFlow\n",
        "The `EPOCH` and `BATCH_SIZE` values affect the training speed and model accuracy.\n",
        "\n",
        "You do not need to modify this section."
      ]
    },
    {
      "metadata": {
        "id": "est-t83SCy55",
        "colab_type": "code",
        "colab": {}
      },
      "cell_type": "code",
      "source": [
        "import tensorflow as tf\n",
        "\n",
        "EPOCHS = 100\n",
        "BATCH_SIZE = 512"
      ],
      "execution_count": 0,
      "outputs": []
    },
    {
      "metadata": {
        "id": "Vgad6Ny0OjqN",
        "colab_type": "code",
        "colab": {}
      },
      "cell_type": "code",
      "source": [
        "connection_probability = tf.Variable(1.)"
      ],
      "execution_count": 0,
      "outputs": []
    },
    {
      "metadata": {
        "id": "2ZqUctyopqzZ",
        "colab_type": "code",
        "outputId": "99f7e83b-2cfe-4408-beb1-b9c386eae584",
        "colab": {
          "base_uri": "https://localhost:8080/",
          "height": 34
        }
      },
      "cell_type": "code",
      "source": [
        "print(X_train.shape)\n",
        "# print(G_W1.shape)\n",
        "# print(G_W2.shape)\n",
        "# print(G_W3.shape)\n"
      ],
      "execution_count": 26,
      "outputs": [
        {
          "output_type": "stream",
          "text": [
            "(5881, 374)\n"
          ],
          "name": "stdout"
        }
      ]
    },
    {
      "metadata": {
        "id": "UYVUi6tIf1mG",
        "colab_type": "code",
        "colab": {}
      },
      "cell_type": "code",
      "source": [
        "# len(clf.coefs_)"
      ],
      "execution_count": 0,
      "outputs": []
    },
    {
      "metadata": {
        "id": "w6aNutv83RcA",
        "colab_type": "text"
      },
      "cell_type": "markdown",
      "source": [
        "#### Define the network"
      ]
    },
    {
      "metadata": {
        "colab_type": "code",
        "id": "stGmwMYz8vws",
        "colab": {}
      },
      "cell_type": "code",
      "source": [
        "G_W1 = tf.Variable(np.float32(clf.coefs_[0]))\n",
        "G_b1 = tf.Variable(np.float32(clf.intercepts_ [0]))\n",
        "\n",
        "G_W2 =  tf.Variable(np.float32(clf.coefs_[1]))\n",
        "G_b2 = tf.Variable(np.float32(clf.intercepts_ [1]))\n",
        "\n",
        "# G_W3 =  tf.Variable(np.float32(clf.coefs_[2]))\n",
        "# G_b3 = tf.Variable(np.float32(clf.intercepts_ [2]))\n",
        "\n",
        "# G_w_out_h1 = tf.Variable(xavier_init([10,80]))\n",
        "# G_b_out_h1 = tf.Variable(xavier_init([80]))\n",
        "\n",
        "# G_w_h2_h1 = tf.Variable(xavier_init([40,80]))\n",
        "# G_b_h2_h1 = tf.Variable(xavier_init([80]))\n",
        "\n",
        "\n",
        "# G_w_h1_input = tf.Variable(xavier_init([80,16]))\n",
        "# G_b_h1_input = tf.Variable(xavier_init([16]))\n",
        "\n",
        "\n",
        "# G_w_input_h1_h2 = tf.Variable(xavier_init([16,40]))\n",
        "# G_b_h1_input = tf.Variable(xavier_init([40]))\n",
        "\n",
        "\n"
      ],
      "execution_count": 0,
      "outputs": []
    },
    {
      "metadata": {
        "id": "2bajK44GmiR1",
        "colab_type": "code",
        "outputId": "703c3676-b211-4e63-a6bb-6368398638f7",
        "colab": {
          "base_uri": "https://localhost:8080/",
          "height": 34
        }
      },
      "cell_type": "code",
      "source": [
        "train_data.shape"
      ],
      "execution_count": 29,
      "outputs": [
        {
          "output_type": "execute_result",
          "data": {
            "text/plain": [
              "(5881, 374)"
            ]
          },
          "metadata": {
            "tags": []
          },
          "execution_count": 29
        }
      ]
    },
    {
      "metadata": {
        "id": "hncjRrBbmRDY",
        "colab_type": "code",
        "outputId": "0d3c24e7-a737-40c4-ebe1-72b5ddf54168",
        "colab": {
          "base_uri": "https://localhost:8080/",
          "height": 34
        }
      },
      "cell_type": "code",
      "source": [
        "clf.coefs_[0].shape"
      ],
      "execution_count": 30,
      "outputs": [
        {
          "output_type": "execute_result",
          "data": {
            "text/plain": [
              "(374, 250)"
            ]
          },
          "metadata": {
            "tags": []
          },
          "execution_count": 30
        }
      ]
    },
    {
      "metadata": {
        "id": "-sfSdtHU3JfJ",
        "colab_type": "code",
        "colab": {}
      },
      "cell_type": "code",
      "source": [
        "from tensorflow.contrib.layers import flatten\n",
        "\n",
        "def LeNet(x, test_mode = False):    \n",
        "    # Hyperparameters\n",
        "    mu = 0\n",
        "    sigma = 0.1\n",
        "    layer_depth = {\n",
        "        'layer_1' : 6,\n",
        "        'layer_2' : 16,\n",
        "        'layer_3' : 120,\n",
        "        'layer_f1' : 84\n",
        "    }\n",
        "\n",
        "\n",
        "    \n",
        "    # TODO: Flatten. Input = 5x5x16. Output = 400.\n",
        "    x_flat = flatten(x)\n",
        "    fc1 = flatten(x)\n",
        "    fdense = fc1\n",
        "    \n",
        "    # TODO: Layer 3: Fully Connected. Input = 400. Output = 120.\n",
        "    fc1_w = G_W1# tf.Variable(tf.truncated_normal(shape = (X_train.shape[1]*X_train.shape[2],300), mean = mu, stddev = sigma))\n",
        "    fc1_b = G_b1# tf.Variable(tf.zeros(300))\n",
        "    fc1 = tf.matmul(fc1,fc1_w) + fc1_b\n",
        "    \n",
        "    # TODO: Activation.\n",
        "    fc1 = tf.nn.relu(fc1)\n",
        "\n",
        "#     # TODO: Layer 4: Fully Connected. Input = 120. Output = 84.\n",
        "#     fc2_w = G_W2# tf.Variable(tf.truncated_normal(shape = (300,100), mean = mu, stddev = sigma))\n",
        "#     fc2_b = G_b2# tf.Variable(tf.zeros(100))\n",
        "#     fc2 = tf.matmul(fc1,fc2_w) + fc2_b\n",
        "#     # TODO: Activation.\n",
        "#     fc2 = tf.nn.relu(fc2)\n",
        "    fc3_w = G_W2\n",
        "    fc3_b = G_b2\n",
        "    \n",
        "    logits = tf.matmul(fc1, fc3_w) + fc3_b\n",
        "    \n",
        "    #################\n",
        "    ##### Inset probability connection from x to conv2\n",
        "    fc2p_w = tf.Variable(xavier_init([X_train.shape[1],clf.coefs_[1].shape[1]]))\n",
        "    fc2p_b = tf.Variable(xavier_init([clf.coefs_[1].shape[1]]))\n",
        "    fc2_2nd_input = tf.matmul(x_flat,fc2p_w) + fc2p_b\n",
        "#     fc2_2nd_input = tf.nn.relu(fc2_2nd_input)\n",
        "    connect2 = tf.logical_and(tf.random.uniform(shape = tf.shape(connection_probability)) < connection_probability, tf.equal(test_mode,False))\n",
        "    logits = tf.cond(connect2,lambda: logits + fc2_2nd_input, lambda: logits )    \n",
        "    ################    \n",
        "#     fc3_w = G_W3\n",
        "#     fc3_b = G_b3\n",
        "    \n",
        "#     logits = tf.matmul(fc2, fc3_w) + fc3_b\n",
        "#     print(logits.shape)\n",
        "    return logits"
      ],
      "execution_count": 0,
      "outputs": []
    },
    {
      "metadata": {
        "id": "AGmN34tg3_tv",
        "colab_type": "code",
        "outputId": "97670e9c-625e-4fa8-8529-7186a03c96cb",
        "colab": {
          "base_uri": "https://localhost:8080/",
          "height": 34
        }
      },
      "cell_type": "code",
      "source": [
        "train_label_one_hot.shape"
      ],
      "execution_count": 32,
      "outputs": [
        {
          "output_type": "execute_result",
          "data": {
            "text/plain": [
              "(5881, 6)"
            ]
          },
          "metadata": {
            "tags": []
          },
          "execution_count": 32
        }
      ]
    },
    {
      "metadata": {
        "id": "-NX_lWUB6zue",
        "colab_type": "code",
        "outputId": "6133cd75-1afb-4b8f-f7a4-2d3200945eec",
        "colab": {
          "base_uri": "https://localhost:8080/",
          "height": 34
        }
      },
      "cell_type": "code",
      "source": [
        "train_label"
      ],
      "execution_count": 33,
      "outputs": [
        {
          "output_type": "execute_result",
          "data": {
            "text/plain": [
              "array([3, 1, 0, ..., 4, 3, 4])"
            ]
          },
          "metadata": {
            "tags": []
          },
          "execution_count": 33
        }
      ]
    },
    {
      "metadata": {
        "id": "M3U_MKYr34Xp",
        "colab_type": "code",
        "colab": {}
      },
      "cell_type": "code",
      "source": [
        "\n",
        "with tf.name_scope('Input'):\n",
        "\n",
        "  x = tf.placeholder(tf.float32, (None, train_data.shape[1]), name='X')\n",
        "  y = tf.placeholder(\"float\", [None, 1+np.max(train_label)])\n",
        "# one_hot_y = tf.one_hot(y, train_label_one_hot.shape[1])\n",
        "is_testing= tf.placeholder(tf.bool)"
      ],
      "execution_count": 0,
      "outputs": []
    },
    {
      "metadata": {
        "id": "-rtTKpeM4P8z",
        "colab_type": "code",
        "colab": {}
      },
      "cell_type": "code",
      "source": [
        "BATCH_SIZE = 1024"
      ],
      "execution_count": 0,
      "outputs": []
    },
    {
      "metadata": {
        "id": "-e6BG9DI3Jb3",
        "colab_type": "code",
        "outputId": "da6b5cb2-7986-4047-8685-c30243bc493d",
        "colab": {
          "base_uri": "https://localhost:8080/",
          "height": 34
        }
      },
      "cell_type": "code",
      "source": [
        "rate = 0.001\n",
        "decay_rate = 1.0005**(X_train.shape[0]/BATCH_SIZE);\n",
        "decay_rate =1.36\n",
        "print(decay_rate)\n",
        "logits = LeNet(x,is_testing)\n",
        "with tf.name_scope('Train'):\n",
        "#   cross_entropy = tf.nn.softmax_cross_entropy_with_logits(logits = logits, labels = one_hot_y)\n",
        "#   loss_operation = tf.reduce_mean(cross_entropy, name='loss')\n",
        "  loss_operation = tf.reduce_mean(tf.nn.softmax_cross_entropy_with_logits(logits=LeNet(x, test_mode=False), labels=y))\n",
        "  tf.summary.scalar('loss', loss_operation)\n",
        "# optimizer = tf.train.MomentumOptimizer(learning_rate = rate,momentum=.9)\n",
        "optimizer = tf.train.AdamOptimizer(learning_rate = rate)\n",
        "# tf.train.natural_exp_decay()\n",
        "training_operation = optimizer.minimize(loss_operation)\n",
        "new_prob = connection_probability.assign(connection_probability/decay_rate)"
      ],
      "execution_count": 105,
      "outputs": [
        {
          "output_type": "stream",
          "text": [
            "1.36\n"
          ],
          "name": "stdout"
        }
      ]
    },
    {
      "metadata": {
        "id": "g8eQKHOw7PHm",
        "colab_type": "code",
        "colab": {}
      },
      "cell_type": "code",
      "source": [
        "# def evaluate(X_data, y_data):\n",
        "correct_pred = tf.equal(tf.argmax(LeNet(x,test_mode=True), 1), tf.argmax(y, 1))\n",
        "accuracy = tf.reduce_mean(tf.cast(correct_pred, tf.float32))"
      ],
      "execution_count": 0,
      "outputs": []
    },
    {
      "metadata": {
        "id": "8tb-sFE34OGp",
        "colab_type": "code",
        "colab": {}
      },
      "cell_type": "code",
      "source": [
        "\n",
        "# correct_prediction = tf.equal(tf.argmax(logits, 1), tf.argmax(one_hot_y, 1))\n",
        "# accuracy_operation = tf.reduce_mean(tf.cast(correct_prediction, tf.float32))\n",
        "# saver = tf.train.Saver()\n",
        "\n",
        "# def evaluate(X_data, y_data):\n",
        "#     num_examples = len(X_data)\n",
        "#     total_accuracy = 0\n",
        "#     sess = tf.get_default_session()\n",
        "#     for offset in range(0, num_examples, BATCH_SIZE):\n",
        "#         batch_x, batch_y = X_data[offset:offset+BATCH_SIZE], y_data[offset:offset+BATCH_SIZE]\n",
        "#         accuracy = sess.run(accuracy_operation, feed_dict={x: batch_x, y: batch_y, is_testing: True})\n",
        "#         total_accuracy += (accuracy * len(batch_x))\n",
        "#     tot_acc = total_accuracy / num_examples\n",
        "#     with tf.name_scope('Accuracy'):\n",
        "#       tf.summary.scalar('accuracy', tot_acc)\n",
        "#     return total_accuracy / num_examples"
      ],
      "execution_count": 0,
      "outputs": []
    },
    {
      "metadata": {
        "id": "yCovfr0E4oJq",
        "colab_type": "text"
      },
      "cell_type": "markdown",
      "source": [
        "### Train the mode"
      ]
    },
    {
      "metadata": {
        "id": "NGF2PRgw9nLL",
        "colab_type": "code",
        "outputId": "e4d05ae6-781e-46ef-e718-54e3a9b458ff",
        "colab": {
          "base_uri": "https://localhost:8080/",
          "height": 34
        }
      },
      "cell_type": "code",
      "source": [
        "2056*2"
      ],
      "execution_count": 108,
      "outputs": [
        {
          "output_type": "execute_result",
          "data": {
            "text/plain": [
              "4112"
            ]
          },
          "metadata": {
            "tags": []
          },
          "execution_count": 108
        }
      ]
    },
    {
      "metadata": {
        "id": "6Cl89uCj9hjc",
        "colab_type": "code",
        "colab": {}
      },
      "cell_type": "code",
      "source": [
        "BATCH_SIZE = 4112"
      ],
      "execution_count": 0,
      "outputs": []
    },
    {
      "metadata": {
        "id": "4H5Dgkf69TOx",
        "colab_type": "code",
        "colab": {}
      },
      "cell_type": "code",
      "source": [
        "EPOCHS = 5000"
      ],
      "execution_count": 0,
      "outputs": []
    },
    {
      "metadata": {
        "id": "nk5Kihg685LI",
        "colab_type": "code",
        "colab": {}
      },
      "cell_type": "code",
      "source": [
        "saver = tf.train.Saver()"
      ],
      "execution_count": 0,
      "outputs": []
    },
    {
      "metadata": {
        "id": "ZQaEeNO285BK",
        "colab_type": "code",
        "outputId": "e0a570a1-3cf1-49ab-b1c1-a62f769c3d09",
        "colab": {
          "base_uri": "https://localhost:8080/",
          "height": 34
        }
      },
      "cell_type": "code",
      "source": [
        "X_train.shape"
      ],
      "execution_count": 112,
      "outputs": [
        {
          "output_type": "execute_result",
          "data": {
            "text/plain": [
              "(5881, 374)"
            ]
          },
          "metadata": {
            "tags": []
          },
          "execution_count": 112
        }
      ]
    },
    {
      "metadata": {
        "id": "2kUXlIo82NoY",
        "colab_type": "code",
        "colab": {
          "base_uri": "https://localhost:8080/",
          "height": 34
        },
        "outputId": "576a85e2-314a-4db7-bdf2-eb37b5a7b102"
      },
      "cell_type": "code",
      "source": [
        "validation_data.shape"
      ],
      "execution_count": 113,
      "outputs": [
        {
          "output_type": "execute_result",
          "data": {
            "text/plain": [
              "(1471, 374)"
            ]
          },
          "metadata": {
            "tags": []
          },
          "execution_count": 113
        }
      ]
    },
    {
      "metadata": {
        "id": "4VP4QWKJ4ODG",
        "colab_type": "code",
        "outputId": "e4fffdb4-9693-4ac3-ddc6-5a5fe01e45ca",
        "colab": {
          "base_uri": "https://localhost:8080/",
          "height": 9200
        }
      },
      "cell_type": "code",
      "source": [
        "\n",
        "validation_accuracy_track = []\n",
        "train_accuracy_track = []\n",
        "connection_probability_track = []\n",
        "number_of_ex = X_train.shape[0]\n",
        "total_steps_for_one_pass = number_of_ex//BATCH_SIZE + 1\n",
        "epoch_track = []\n",
        "print_every = 1\n",
        "with tf.Session() as sess:\n",
        "    sess.run(tf.global_variables_initializer())\n",
        "    num_examples = len(X_train)\n",
        "    best_accuracy_valid = 0\n",
        "    print(\"Training...\")\n",
        "    print()\n",
        "    for i in range(EPOCHS):\n",
        "        X_train, y_train = shuffle(X_train, y_train)\n",
        "        for step in range(0, total_steps_for_one_pass):        \n",
        "          if step>=number_of_ex//BATCH_SIZE:\n",
        "            batch_x, batch_y = X_train[step*BATCH_SIZE:,:],y_train[step*BATCH_SIZE:]\n",
        "#             print(step,'Finishing',step*BATCH_SIZE )\n",
        "            step = 0\n",
        "\n",
        "          else:\n",
        "\n",
        "            start = step*BATCH_SIZE\n",
        "            finish = (step+1)*BATCH_SIZE\n",
        "#             print(step,'Doing', 'Start = ', start, \"Finish = \", finish)\n",
        "            batch_x, batch_y = X_train[step:finish,:],y_train[step:finish]\n",
        "#           print(batch_y.shape)\n",
        "          tr_op  = sess.run([training_operation], feed_dict={x: batch_x, y: batch_y, is_testing : False})\n",
        "#           train_writer.add_summary(summary_tr, i)\n",
        "        prob = sess.run(new_prob)\n",
        "        if i%print_every == 0:\n",
        "          tr_accuracy = sess.run(accuracy*100, feed_dict={x: X_train,y:y_train, is_testing: True})  # evaluate(X_train, y_train)\n",
        "          print(\"Train Accuracy = {:.5f}\".format(tr_accuracy))\n",
        "          validation_accuracy = sess.run(accuracy*100, feed_dict={x: validation_data,y:validation_label_one_hot, is_testing: True}) #evaluate(X_validation, y_validation)\n",
        "          validation_accuracy_track.append(validation_accuracy)\n",
        "          train_accuracy_track.append(tr_accuracy)\n",
        "          epoch_track.append(i)\n",
        "          connection_probability_track.append(prob)\n",
        "          print(\"EPOCH {} ...\".format(i+1))\n",
        "          print(\"Validation Accuracy = {:.5f}\".format(validation_accuracy))\n",
        "          print(prob)\n",
        "          print()\n",
        "          if (validation_accuracy >= best_accuracy_valid):\n",
        "            best_accuracy_valid = validation_accuracy\n",
        "            saver.save(sess, './DNAAdamBased')\n",
        "        \n",
        "#     saver.save(sess, './lenet')\n",
        "    print(\"Model saved\")"
      ],
      "execution_count": 114,
      "outputs": [
        {
          "output_type": "stream",
          "text": [
            "Training...\n",
            "\n",
            "Train Accuracy = 98.96276\n",
            "EPOCH 1 ...\n",
            "Validation Accuracy = 98.16452\n",
            "0.7352941\n",
            "\n",
            "Train Accuracy = 98.86074\n",
            "EPOCH 2 ...\n",
            "Validation Accuracy = 97.96057\n",
            "0.5406574\n",
            "\n",
            "Train Accuracy = 98.91175\n",
            "EPOCH 3 ...\n",
            "Validation Accuracy = 98.02855\n",
            "0.3975422\n",
            "\n",
            "Train Accuracy = 98.92876\n",
            "EPOCH 4 ...\n",
            "Validation Accuracy = 98.02855\n",
            "0.29231045\n",
            "\n",
            "Train Accuracy = 98.99677\n",
            "EPOCH 5 ...\n",
            "Validation Accuracy = 98.02855\n",
            "0.21493414\n",
            "\n",
            "Train Accuracy = 98.97977\n",
            "EPOCH 6 ...\n",
            "Validation Accuracy = 98.02855\n",
            "0.15803981\n",
            "\n",
            "Train Accuracy = 99.06479\n",
            "EPOCH 7 ...\n",
            "Validation Accuracy = 98.09653\n",
            "0.11620574\n",
            "\n",
            "Train Accuracy = 99.04778\n",
            "EPOCH 8 ...\n",
            "Validation Accuracy = 98.16452\n",
            "0.0854454\n",
            "\n",
            "Train Accuracy = 99.01378\n",
            "EPOCH 9 ...\n",
            "Validation Accuracy = 98.16452\n",
            "0.0628275\n",
            "\n",
            "Train Accuracy = 99.04778\n",
            "EPOCH 10 ...\n",
            "Validation Accuracy = 98.16452\n",
            "0.046196688\n",
            "\n",
            "Train Accuracy = 99.08179\n",
            "EPOCH 11 ...\n",
            "Validation Accuracy = 98.23250\n",
            "0.03396815\n",
            "\n",
            "Train Accuracy = 99.11579\n",
            "EPOCH 12 ...\n",
            "Validation Accuracy = 98.36845\n",
            "0.024976581\n",
            "\n",
            "Train Accuracy = 99.09879\n",
            "EPOCH 13 ...\n",
            "Validation Accuracy = 98.36845\n",
            "0.018365134\n",
            "\n",
            "Train Accuracy = 99.06479\n",
            "EPOCH 14 ...\n",
            "Validation Accuracy = 98.43644\n",
            "0.013503774\n",
            "\n",
            "Train Accuracy = 99.04778\n",
            "EPOCH 15 ...\n",
            "Validation Accuracy = 98.43644\n",
            "0.009929245\n",
            "\n",
            "Train Accuracy = 99.08179\n",
            "EPOCH 16 ...\n",
            "Validation Accuracy = 98.43644\n",
            "0.0073009157\n",
            "\n",
            "Train Accuracy = 99.08179\n",
            "EPOCH 17 ...\n",
            "Validation Accuracy = 98.43644\n",
            "0.0053683203\n",
            "\n",
            "Train Accuracy = 99.11579\n",
            "EPOCH 18 ...\n",
            "Validation Accuracy = 98.36845\n",
            "0.0039472943\n",
            "\n",
            "Train Accuracy = 99.14980\n",
            "EPOCH 19 ...\n",
            "Validation Accuracy = 98.36845\n",
            "0.0029024223\n",
            "\n",
            "Train Accuracy = 99.14980\n",
            "EPOCH 20 ...\n",
            "Validation Accuracy = 98.30048\n",
            "0.002134134\n",
            "\n",
            "Train Accuracy = 99.14980\n",
            "EPOCH 21 ...\n",
            "Validation Accuracy = 98.30048\n",
            "0.0015692161\n",
            "\n",
            "Train Accuracy = 99.13280\n",
            "EPOCH 22 ...\n",
            "Validation Accuracy = 98.36845\n",
            "0.0011538353\n",
            "\n",
            "Train Accuracy = 99.13280\n",
            "EPOCH 23 ...\n",
            "Validation Accuracy = 98.43644\n",
            "0.0008484083\n",
            "\n",
            "Train Accuracy = 99.13280\n",
            "EPOCH 24 ...\n",
            "Validation Accuracy = 98.43644\n",
            "0.00062382966\n",
            "\n",
            "Train Accuracy = 99.16681\n",
            "EPOCH 25 ...\n",
            "Validation Accuracy = 98.30048\n",
            "0.00045869828\n",
            "\n",
            "Train Accuracy = 99.16681\n",
            "EPOCH 26 ...\n",
            "Validation Accuracy = 98.30048\n",
            "0.00033727815\n",
            "\n",
            "Train Accuracy = 99.16681\n",
            "EPOCH 27 ...\n",
            "Validation Accuracy = 98.30048\n",
            "0.00024799863\n",
            "\n",
            "Train Accuracy = 99.16681\n",
            "EPOCH 28 ...\n",
            "Validation Accuracy = 98.30048\n",
            "0.00018235193\n",
            "\n",
            "Train Accuracy = 99.16681\n",
            "EPOCH 29 ...\n",
            "Validation Accuracy = 98.30048\n",
            "0.0001340823\n",
            "\n",
            "Train Accuracy = 99.18381\n",
            "EPOCH 30 ...\n",
            "Validation Accuracy = 98.30048\n",
            "9.858992e-05\n",
            "\n",
            "Train Accuracy = 99.18381\n",
            "EPOCH 31 ...\n",
            "Validation Accuracy = 98.30048\n",
            "7.2492585e-05\n",
            "\n",
            "Train Accuracy = 99.18381\n",
            "EPOCH 32 ...\n",
            "Validation Accuracy = 98.30048\n",
            "5.330337e-05\n",
            "\n",
            "Train Accuracy = 99.18381\n",
            "EPOCH 33 ...\n",
            "Validation Accuracy = 98.30048\n",
            "3.9193656e-05\n",
            "\n",
            "Train Accuracy = 99.18381\n",
            "EPOCH 34 ...\n",
            "Validation Accuracy = 98.30048\n",
            "2.8818864e-05\n",
            "\n",
            "Train Accuracy = 99.20081\n",
            "EPOCH 35 ...\n",
            "Validation Accuracy = 98.30048\n",
            "2.119034e-05\n",
            "\n",
            "Train Accuracy = 99.20081\n",
            "EPOCH 36 ...\n",
            "Validation Accuracy = 98.23250\n",
            "1.5581132e-05\n",
            "\n",
            "Train Accuracy = 99.23483\n",
            "EPOCH 37 ...\n",
            "Validation Accuracy = 98.23250\n",
            "1.1456715e-05\n",
            "\n",
            "Train Accuracy = 99.23483\n",
            "EPOCH 38 ...\n",
            "Validation Accuracy = 98.16452\n",
            "8.424055e-06\n",
            "\n",
            "Train Accuracy = 99.26883\n",
            "EPOCH 39 ...\n",
            "Validation Accuracy = 98.09653\n",
            "6.194158e-06\n",
            "\n",
            "Train Accuracy = 99.30284\n",
            "EPOCH 40 ...\n",
            "Validation Accuracy = 98.09653\n",
            "4.5545275e-06\n",
            "\n",
            "Train Accuracy = 99.26883\n",
            "EPOCH 41 ...\n",
            "Validation Accuracy = 98.09653\n",
            "3.3489173e-06\n",
            "\n",
            "Train Accuracy = 99.26883\n",
            "EPOCH 42 ...\n",
            "Validation Accuracy = 98.16452\n",
            "2.4624392e-06\n",
            "\n",
            "Train Accuracy = 99.25183\n",
            "EPOCH 43 ...\n",
            "Validation Accuracy = 98.16452\n",
            "1.810617e-06\n",
            "\n",
            "Train Accuracy = 99.25183\n",
            "EPOCH 44 ...\n",
            "Validation Accuracy = 98.16452\n",
            "1.3313361e-06\n",
            "\n",
            "Train Accuracy = 99.25183\n",
            "EPOCH 45 ...\n",
            "Validation Accuracy = 98.16452\n",
            "9.789236e-07\n",
            "\n",
            "Train Accuracy = 99.26883\n",
            "EPOCH 46 ...\n",
            "Validation Accuracy = 98.16452\n",
            "7.1979673e-07\n",
            "\n",
            "Train Accuracy = 99.28584\n",
            "EPOCH 47 ...\n",
            "Validation Accuracy = 98.16452\n",
            "5.292623e-07\n",
            "\n",
            "Train Accuracy = 99.28584\n",
            "EPOCH 48 ...\n",
            "Validation Accuracy = 98.09653\n",
            "3.8916346e-07\n",
            "\n",
            "Train Accuracy = 99.30284\n",
            "EPOCH 49 ...\n",
            "Validation Accuracy = 98.16452\n",
            "2.861496e-07\n",
            "\n",
            "Train Accuracy = 99.30284\n",
            "EPOCH 50 ...\n",
            "Validation Accuracy = 98.16452\n",
            "2.1040411e-07\n",
            "\n",
            "Train Accuracy = 99.30284\n",
            "EPOCH 51 ...\n",
            "Validation Accuracy = 98.09653\n",
            "1.547089e-07\n",
            "\n",
            "Train Accuracy = 99.31985\n",
            "EPOCH 52 ...\n",
            "Validation Accuracy = 98.09653\n",
            "1.1375654e-07\n",
            "\n",
            "Train Accuracy = 99.30284\n",
            "EPOCH 53 ...\n",
            "Validation Accuracy = 98.09653\n",
            "8.3644515e-08\n",
            "\n",
            "Train Accuracy = 99.31985\n",
            "EPOCH 54 ...\n",
            "Validation Accuracy = 98.09653\n",
            "6.150332e-08\n",
            "\n",
            "Train Accuracy = 99.33685\n",
            "EPOCH 55 ...\n",
            "Validation Accuracy = 98.23250\n",
            "4.522303e-08\n",
            "\n",
            "Train Accuracy = 99.33685\n",
            "EPOCH 56 ...\n",
            "Validation Accuracy = 98.16452\n",
            "3.3252228e-08\n",
            "\n",
            "Train Accuracy = 99.33685\n",
            "EPOCH 57 ...\n",
            "Validation Accuracy = 98.16452\n",
            "2.4450166e-08\n",
            "\n",
            "Train Accuracy = 99.33685\n",
            "EPOCH 58 ...\n",
            "Validation Accuracy = 98.16452\n",
            "1.7978063e-08\n",
            "\n",
            "Train Accuracy = 99.33685\n",
            "EPOCH 59 ...\n",
            "Validation Accuracy = 98.16452\n",
            "1.3219164e-08\n",
            "\n",
            "Train Accuracy = 99.33685\n",
            "EPOCH 60 ...\n",
            "Validation Accuracy = 98.16452\n",
            "9.719973e-09\n",
            "\n",
            "Train Accuracy = 99.33685\n",
            "EPOCH 61 ...\n",
            "Validation Accuracy = 98.16452\n",
            "7.147039e-09\n",
            "\n",
            "Train Accuracy = 99.35385\n",
            "EPOCH 62 ...\n",
            "Validation Accuracy = 98.09653\n",
            "5.2551754e-09\n",
            "\n",
            "Train Accuracy = 99.33685\n",
            "EPOCH 63 ...\n",
            "Validation Accuracy = 98.09653\n",
            "3.8640997e-09\n",
            "\n",
            "Train Accuracy = 99.33685\n",
            "EPOCH 64 ...\n",
            "Validation Accuracy = 98.09653\n",
            "2.8412497e-09\n",
            "\n",
            "Train Accuracy = 99.37086\n",
            "EPOCH 65 ...\n",
            "Validation Accuracy = 98.09653\n",
            "2.0891542e-09\n",
            "\n",
            "Train Accuracy = 99.38786\n",
            "EPOCH 66 ...\n",
            "Validation Accuracy = 98.16452\n",
            "1.5361428e-09\n",
            "\n",
            "Train Accuracy = 99.37086\n",
            "EPOCH 67 ...\n",
            "Validation Accuracy = 98.16452\n",
            "1.1295167e-09\n",
            "\n",
            "Train Accuracy = 99.37086\n",
            "EPOCH 68 ...\n",
            "Validation Accuracy = 98.16452\n",
            "8.30527e-10\n",
            "\n",
            "Train Accuracy = 99.37086\n",
            "EPOCH 69 ...\n",
            "Validation Accuracy = 98.16452\n",
            "6.106816e-10\n",
            "\n",
            "Train Accuracy = 99.38786\n",
            "EPOCH 70 ...\n",
            "Validation Accuracy = 98.09653\n",
            "4.490306e-10\n",
            "\n",
            "Train Accuracy = 99.43887\n",
            "EPOCH 71 ...\n",
            "Validation Accuracy = 98.09653\n",
            "3.3016956e-10\n",
            "\n",
            "Train Accuracy = 99.43887\n",
            "EPOCH 72 ...\n",
            "Validation Accuracy = 98.09653\n",
            "2.4277172e-10\n",
            "\n",
            "Train Accuracy = 99.43887\n",
            "EPOCH 73 ...\n",
            "Validation Accuracy = 98.09653\n",
            "1.7850861e-10\n",
            "\n",
            "Train Accuracy = 99.42187\n",
            "EPOCH 74 ...\n",
            "Validation Accuracy = 98.09653\n",
            "1.3125633e-10\n",
            "\n",
            "Train Accuracy = 99.42187\n",
            "EPOCH 75 ...\n",
            "Validation Accuracy = 98.16452\n",
            "9.6512e-11\n",
            "\n",
            "Train Accuracy = 99.42187\n",
            "EPOCH 76 ...\n",
            "Validation Accuracy = 98.16452\n",
            "7.0964706e-11\n",
            "\n",
            "Train Accuracy = 99.42187\n",
            "EPOCH 77 ...\n",
            "Validation Accuracy = 98.09653\n",
            "5.217993e-11\n",
            "\n",
            "Train Accuracy = 99.45587\n",
            "EPOCH 78 ...\n",
            "Validation Accuracy = 98.09653\n",
            "3.8367594e-11\n",
            "\n",
            "Train Accuracy = 99.45587\n",
            "EPOCH 79 ...\n",
            "Validation Accuracy = 98.09653\n",
            "2.8211466e-11\n",
            "\n",
            "Train Accuracy = 99.45587\n",
            "EPOCH 80 ...\n",
            "Validation Accuracy = 98.09653\n",
            "2.0743724e-11\n",
            "\n",
            "Train Accuracy = 99.45587\n",
            "EPOCH 81 ...\n",
            "Validation Accuracy = 98.09653\n",
            "1.5252738e-11\n",
            "\n",
            "Train Accuracy = 99.45587\n",
            "EPOCH 82 ...\n",
            "Validation Accuracy = 98.09653\n",
            "1.1215248e-11\n",
            "\n",
            "Train Accuracy = 99.45587\n",
            "EPOCH 83 ...\n",
            "Validation Accuracy = 98.09653\n",
            "8.246506e-12\n",
            "\n",
            "Train Accuracy = 99.47288\n",
            "EPOCH 84 ...\n",
            "Validation Accuracy = 98.09653\n",
            "6.063607e-12\n",
            "\n",
            "Train Accuracy = 99.48988\n",
            "EPOCH 85 ...\n",
            "Validation Accuracy = 98.09653\n",
            "4.4585347e-12\n",
            "\n",
            "Train Accuracy = 99.48988\n",
            "EPOCH 86 ...\n",
            "Validation Accuracy = 98.09653\n",
            "3.2783342e-12\n",
            "\n",
            "Train Accuracy = 99.48988\n",
            "EPOCH 87 ...\n",
            "Validation Accuracy = 98.09653\n",
            "2.4105399e-12\n",
            "\n",
            "Train Accuracy = 99.48988\n",
            "EPOCH 88 ...\n",
            "Validation Accuracy = 98.09653\n",
            "1.7724558e-12\n",
            "\n",
            "Train Accuracy = 99.48988\n",
            "EPOCH 89 ...\n",
            "Validation Accuracy = 98.09653\n",
            "1.3032763e-12\n",
            "\n",
            "Train Accuracy = 99.50688\n",
            "EPOCH 90 ...\n",
            "Validation Accuracy = 98.09653\n",
            "9.582914e-13\n",
            "\n",
            "Train Accuracy = 99.50688\n",
            "EPOCH 91 ...\n",
            "Validation Accuracy = 98.09653\n",
            "7.0462603e-13\n",
            "\n",
            "Train Accuracy = 99.48988\n",
            "EPOCH 92 ...\n",
            "Validation Accuracy = 98.09653\n",
            "5.1810737e-13\n",
            "\n",
            "Train Accuracy = 99.48988\n",
            "EPOCH 93 ...\n",
            "Validation Accuracy = 98.09653\n",
            "3.809613e-13\n",
            "\n",
            "Train Accuracy = 99.50688\n",
            "EPOCH 94 ...\n",
            "Validation Accuracy = 98.16452\n",
            "2.801186e-13\n",
            "\n",
            "Train Accuracy = 99.50688\n",
            "EPOCH 95 ...\n",
            "Validation Accuracy = 98.16452\n",
            "2.0596955e-13\n",
            "\n",
            "Train Accuracy = 99.50688\n",
            "EPOCH 96 ...\n",
            "Validation Accuracy = 98.16452\n",
            "1.5144819e-13\n",
            "\n",
            "Train Accuracy = 99.50688\n",
            "EPOCH 97 ...\n",
            "Validation Accuracy = 98.16452\n",
            "1.1135896e-13\n",
            "\n",
            "Train Accuracy = 99.50688\n",
            "EPOCH 98 ...\n",
            "Validation Accuracy = 98.16452\n",
            "8.1881584e-14\n",
            "\n",
            "Train Accuracy = 99.52389\n",
            "EPOCH 99 ...\n",
            "Validation Accuracy = 98.16452\n",
            "6.020705e-14\n",
            "\n",
            "Train Accuracy = 99.52389\n",
            "EPOCH 100 ...\n",
            "Validation Accuracy = 98.16452\n",
            "4.4269886e-14\n",
            "\n",
            "Train Accuracy = 99.54089\n",
            "EPOCH 101 ...\n",
            "Validation Accuracy = 98.16452\n",
            "3.2551385e-14\n",
            "\n",
            "Train Accuracy = 99.54089\n",
            "EPOCH 102 ...\n",
            "Validation Accuracy = 98.16452\n",
            "2.393484e-14\n",
            "\n",
            "Train Accuracy = 99.54089\n",
            "EPOCH 103 ...\n",
            "Validation Accuracy = 98.16452\n",
            "1.7599147e-14\n",
            "\n",
            "Train Accuracy = 99.54089\n"
          ],
          "name": "stdout"
        },
        {
          "output_type": "error",
          "ename": "KeyboardInterrupt",
          "evalue": "ignored",
          "traceback": [
            "\u001b[0;31m---------------------------------------------------------------------------\u001b[0m",
            "\u001b[0;31mKeyboardInterrupt\u001b[0m                         Traceback (most recent call last)",
            "\u001b[0;32m<ipython-input-114-c0250b5638f7>\u001b[0m in \u001b[0;36m<module>\u001b[0;34m()\u001b[0m\n\u001b[1;32m     34\u001b[0m           \u001b[0mtr_accuracy\u001b[0m \u001b[0;34m=\u001b[0m \u001b[0msess\u001b[0m\u001b[0;34m.\u001b[0m\u001b[0mrun\u001b[0m\u001b[0;34m(\u001b[0m\u001b[0maccuracy\u001b[0m\u001b[0;34m*\u001b[0m\u001b[0;36m100\u001b[0m\u001b[0;34m,\u001b[0m \u001b[0mfeed_dict\u001b[0m\u001b[0;34m=\u001b[0m\u001b[0;34m{\u001b[0m\u001b[0mx\u001b[0m\u001b[0;34m:\u001b[0m \u001b[0mX_train\u001b[0m\u001b[0;34m,\u001b[0m\u001b[0my\u001b[0m\u001b[0;34m:\u001b[0m\u001b[0my_train\u001b[0m\u001b[0;34m,\u001b[0m \u001b[0mis_testing\u001b[0m\u001b[0;34m:\u001b[0m \u001b[0;32mTrue\u001b[0m\u001b[0;34m}\u001b[0m\u001b[0;34m)\u001b[0m  \u001b[0;31m# evaluate(X_train, y_train)\u001b[0m\u001b[0;34m\u001b[0m\u001b[0;34m\u001b[0m\u001b[0m\n\u001b[1;32m     35\u001b[0m           \u001b[0mprint\u001b[0m\u001b[0;34m(\u001b[0m\u001b[0;34m\"Train Accuracy = {:.5f}\"\u001b[0m\u001b[0;34m.\u001b[0m\u001b[0mformat\u001b[0m\u001b[0;34m(\u001b[0m\u001b[0mtr_accuracy\u001b[0m\u001b[0;34m)\u001b[0m\u001b[0;34m)\u001b[0m\u001b[0;34m\u001b[0m\u001b[0;34m\u001b[0m\u001b[0m\n\u001b[0;32m---> 36\u001b[0;31m           \u001b[0mvalidation_accuracy\u001b[0m \u001b[0;34m=\u001b[0m \u001b[0msess\u001b[0m\u001b[0;34m.\u001b[0m\u001b[0mrun\u001b[0m\u001b[0;34m(\u001b[0m\u001b[0maccuracy\u001b[0m\u001b[0;34m*\u001b[0m\u001b[0;36m100\u001b[0m\u001b[0;34m,\u001b[0m \u001b[0mfeed_dict\u001b[0m\u001b[0;34m=\u001b[0m\u001b[0;34m{\u001b[0m\u001b[0mx\u001b[0m\u001b[0;34m:\u001b[0m \u001b[0mvalidation_data\u001b[0m\u001b[0;34m,\u001b[0m\u001b[0my\u001b[0m\u001b[0;34m:\u001b[0m\u001b[0mvalidation_label_one_hot\u001b[0m\u001b[0;34m,\u001b[0m \u001b[0mis_testing\u001b[0m\u001b[0;34m:\u001b[0m \u001b[0;32mTrue\u001b[0m\u001b[0;34m}\u001b[0m\u001b[0;34m)\u001b[0m \u001b[0;31m#evaluate(X_validation, y_validation)\u001b[0m\u001b[0;34m\u001b[0m\u001b[0;34m\u001b[0m\u001b[0m\n\u001b[0m\u001b[1;32m     37\u001b[0m           \u001b[0mvalidation_accuracy_track\u001b[0m\u001b[0;34m.\u001b[0m\u001b[0mappend\u001b[0m\u001b[0;34m(\u001b[0m\u001b[0mvalidation_accuracy\u001b[0m\u001b[0;34m)\u001b[0m\u001b[0;34m\u001b[0m\u001b[0;34m\u001b[0m\u001b[0m\n\u001b[1;32m     38\u001b[0m           \u001b[0mtrain_accuracy_track\u001b[0m\u001b[0;34m.\u001b[0m\u001b[0mappend\u001b[0m\u001b[0;34m(\u001b[0m\u001b[0mtr_accuracy\u001b[0m\u001b[0;34m)\u001b[0m\u001b[0;34m\u001b[0m\u001b[0;34m\u001b[0m\u001b[0m\n",
            "\u001b[0;32m/usr/local/lib/python3.6/dist-packages/tensorflow/python/client/session.py\u001b[0m in \u001b[0;36mrun\u001b[0;34m(self, fetches, feed_dict, options, run_metadata)\u001b[0m\n\u001b[1;32m    927\u001b[0m     \u001b[0;32mtry\u001b[0m\u001b[0;34m:\u001b[0m\u001b[0;34m\u001b[0m\u001b[0;34m\u001b[0m\u001b[0m\n\u001b[1;32m    928\u001b[0m       result = self._run(None, fetches, feed_dict, options_ptr,\n\u001b[0;32m--> 929\u001b[0;31m                          run_metadata_ptr)\n\u001b[0m\u001b[1;32m    930\u001b[0m       \u001b[0;32mif\u001b[0m \u001b[0mrun_metadata\u001b[0m\u001b[0;34m:\u001b[0m\u001b[0;34m\u001b[0m\u001b[0;34m\u001b[0m\u001b[0m\n\u001b[1;32m    931\u001b[0m         \u001b[0mproto_data\u001b[0m \u001b[0;34m=\u001b[0m \u001b[0mtf_session\u001b[0m\u001b[0;34m.\u001b[0m\u001b[0mTF_GetBuffer\u001b[0m\u001b[0;34m(\u001b[0m\u001b[0mrun_metadata_ptr\u001b[0m\u001b[0;34m)\u001b[0m\u001b[0;34m\u001b[0m\u001b[0;34m\u001b[0m\u001b[0m\n",
            "\u001b[0;32m/usr/local/lib/python3.6/dist-packages/tensorflow/python/client/session.py\u001b[0m in \u001b[0;36m_run\u001b[0;34m(self, handle, fetches, feed_dict, options, run_metadata)\u001b[0m\n\u001b[1;32m   1150\u001b[0m     \u001b[0;32mif\u001b[0m \u001b[0mfinal_fetches\u001b[0m \u001b[0;32mor\u001b[0m \u001b[0mfinal_targets\u001b[0m \u001b[0;32mor\u001b[0m \u001b[0;34m(\u001b[0m\u001b[0mhandle\u001b[0m \u001b[0;32mand\u001b[0m \u001b[0mfeed_dict_tensor\u001b[0m\u001b[0;34m)\u001b[0m\u001b[0;34m:\u001b[0m\u001b[0;34m\u001b[0m\u001b[0;34m\u001b[0m\u001b[0m\n\u001b[1;32m   1151\u001b[0m       results = self._do_run(handle, final_targets, final_fetches,\n\u001b[0;32m-> 1152\u001b[0;31m                              feed_dict_tensor, options, run_metadata)\n\u001b[0m\u001b[1;32m   1153\u001b[0m     \u001b[0;32melse\u001b[0m\u001b[0;34m:\u001b[0m\u001b[0;34m\u001b[0m\u001b[0;34m\u001b[0m\u001b[0m\n\u001b[1;32m   1154\u001b[0m       \u001b[0mresults\u001b[0m \u001b[0;34m=\u001b[0m \u001b[0;34m[\u001b[0m\u001b[0;34m]\u001b[0m\u001b[0;34m\u001b[0m\u001b[0;34m\u001b[0m\u001b[0m\n",
            "\u001b[0;32m/usr/local/lib/python3.6/dist-packages/tensorflow/python/client/session.py\u001b[0m in \u001b[0;36m_do_run\u001b[0;34m(self, handle, target_list, fetch_list, feed_dict, options, run_metadata)\u001b[0m\n\u001b[1;32m   1326\u001b[0m     \u001b[0;32mif\u001b[0m \u001b[0mhandle\u001b[0m \u001b[0;32mis\u001b[0m \u001b[0;32mNone\u001b[0m\u001b[0;34m:\u001b[0m\u001b[0;34m\u001b[0m\u001b[0;34m\u001b[0m\u001b[0m\n\u001b[1;32m   1327\u001b[0m       return self._do_call(_run_fn, feeds, fetches, targets, options,\n\u001b[0;32m-> 1328\u001b[0;31m                            run_metadata)\n\u001b[0m\u001b[1;32m   1329\u001b[0m     \u001b[0;32melse\u001b[0m\u001b[0;34m:\u001b[0m\u001b[0;34m\u001b[0m\u001b[0;34m\u001b[0m\u001b[0m\n\u001b[1;32m   1330\u001b[0m       \u001b[0;32mreturn\u001b[0m \u001b[0mself\u001b[0m\u001b[0;34m.\u001b[0m\u001b[0m_do_call\u001b[0m\u001b[0;34m(\u001b[0m\u001b[0m_prun_fn\u001b[0m\u001b[0;34m,\u001b[0m \u001b[0mhandle\u001b[0m\u001b[0;34m,\u001b[0m \u001b[0mfeeds\u001b[0m\u001b[0;34m,\u001b[0m \u001b[0mfetches\u001b[0m\u001b[0;34m)\u001b[0m\u001b[0;34m\u001b[0m\u001b[0;34m\u001b[0m\u001b[0m\n",
            "\u001b[0;32m/usr/local/lib/python3.6/dist-packages/tensorflow/python/client/session.py\u001b[0m in \u001b[0;36m_do_call\u001b[0;34m(self, fn, *args)\u001b[0m\n\u001b[1;32m   1332\u001b[0m   \u001b[0;32mdef\u001b[0m \u001b[0m_do_call\u001b[0m\u001b[0;34m(\u001b[0m\u001b[0mself\u001b[0m\u001b[0;34m,\u001b[0m \u001b[0mfn\u001b[0m\u001b[0;34m,\u001b[0m \u001b[0;34m*\u001b[0m\u001b[0margs\u001b[0m\u001b[0;34m)\u001b[0m\u001b[0;34m:\u001b[0m\u001b[0;34m\u001b[0m\u001b[0;34m\u001b[0m\u001b[0m\n\u001b[1;32m   1333\u001b[0m     \u001b[0;32mtry\u001b[0m\u001b[0;34m:\u001b[0m\u001b[0;34m\u001b[0m\u001b[0;34m\u001b[0m\u001b[0m\n\u001b[0;32m-> 1334\u001b[0;31m       \u001b[0;32mreturn\u001b[0m \u001b[0mfn\u001b[0m\u001b[0;34m(\u001b[0m\u001b[0;34m*\u001b[0m\u001b[0margs\u001b[0m\u001b[0;34m)\u001b[0m\u001b[0;34m\u001b[0m\u001b[0;34m\u001b[0m\u001b[0m\n\u001b[0m\u001b[1;32m   1335\u001b[0m     \u001b[0;32mexcept\u001b[0m \u001b[0merrors\u001b[0m\u001b[0;34m.\u001b[0m\u001b[0mOpError\u001b[0m \u001b[0;32mas\u001b[0m \u001b[0me\u001b[0m\u001b[0;34m:\u001b[0m\u001b[0;34m\u001b[0m\u001b[0;34m\u001b[0m\u001b[0m\n\u001b[1;32m   1336\u001b[0m       \u001b[0mmessage\u001b[0m \u001b[0;34m=\u001b[0m \u001b[0mcompat\u001b[0m\u001b[0;34m.\u001b[0m\u001b[0mas_text\u001b[0m\u001b[0;34m(\u001b[0m\u001b[0me\u001b[0m\u001b[0;34m.\u001b[0m\u001b[0mmessage\u001b[0m\u001b[0;34m)\u001b[0m\u001b[0;34m\u001b[0m\u001b[0;34m\u001b[0m\u001b[0m\n",
            "\u001b[0;32m/usr/local/lib/python3.6/dist-packages/tensorflow/python/client/session.py\u001b[0m in \u001b[0;36m_run_fn\u001b[0;34m(feed_dict, fetch_list, target_list, options, run_metadata)\u001b[0m\n\u001b[1;32m   1315\u001b[0m     \u001b[0;32mdef\u001b[0m \u001b[0m_run_fn\u001b[0m\u001b[0;34m(\u001b[0m\u001b[0mfeed_dict\u001b[0m\u001b[0;34m,\u001b[0m \u001b[0mfetch_list\u001b[0m\u001b[0;34m,\u001b[0m \u001b[0mtarget_list\u001b[0m\u001b[0;34m,\u001b[0m \u001b[0moptions\u001b[0m\u001b[0;34m,\u001b[0m \u001b[0mrun_metadata\u001b[0m\u001b[0;34m)\u001b[0m\u001b[0;34m:\u001b[0m\u001b[0;34m\u001b[0m\u001b[0;34m\u001b[0m\u001b[0m\n\u001b[1;32m   1316\u001b[0m       \u001b[0;31m# Ensure any changes to the graph are reflected in the runtime.\u001b[0m\u001b[0;34m\u001b[0m\u001b[0;34m\u001b[0m\u001b[0;34m\u001b[0m\u001b[0m\n\u001b[0;32m-> 1317\u001b[0;31m       \u001b[0mself\u001b[0m\u001b[0;34m.\u001b[0m\u001b[0m_extend_graph\u001b[0m\u001b[0;34m(\u001b[0m\u001b[0;34m)\u001b[0m\u001b[0;34m\u001b[0m\u001b[0;34m\u001b[0m\u001b[0m\n\u001b[0m\u001b[1;32m   1318\u001b[0m       return self._call_tf_sessionrun(\n\u001b[1;32m   1319\u001b[0m           options, feed_dict, fetch_list, target_list, run_metadata)\n",
            "\u001b[0;32m/usr/local/lib/python3.6/dist-packages/tensorflow/python/client/session.py\u001b[0m in \u001b[0;36m_extend_graph\u001b[0;34m(self)\u001b[0m\n\u001b[1;32m   1350\u001b[0m   \u001b[0;32mdef\u001b[0m \u001b[0m_extend_graph\u001b[0m\u001b[0;34m(\u001b[0m\u001b[0mself\u001b[0m\u001b[0;34m)\u001b[0m\u001b[0;34m:\u001b[0m\u001b[0;34m\u001b[0m\u001b[0;34m\u001b[0m\u001b[0m\n\u001b[1;32m   1351\u001b[0m     \u001b[0;32mwith\u001b[0m \u001b[0mself\u001b[0m\u001b[0;34m.\u001b[0m\u001b[0m_graph\u001b[0m\u001b[0;34m.\u001b[0m\u001b[0m_session_run_lock\u001b[0m\u001b[0;34m(\u001b[0m\u001b[0;34m)\u001b[0m\u001b[0;34m:\u001b[0m  \u001b[0;31m# pylint: disable=protected-access\u001b[0m\u001b[0;34m\u001b[0m\u001b[0;34m\u001b[0m\u001b[0m\n\u001b[0;32m-> 1352\u001b[0;31m       \u001b[0mtf_session\u001b[0m\u001b[0;34m.\u001b[0m\u001b[0mExtendSession\u001b[0m\u001b[0;34m(\u001b[0m\u001b[0mself\u001b[0m\u001b[0;34m.\u001b[0m\u001b[0m_session\u001b[0m\u001b[0;34m)\u001b[0m\u001b[0;34m\u001b[0m\u001b[0;34m\u001b[0m\u001b[0m\n\u001b[0m\u001b[1;32m   1353\u001b[0m \u001b[0;34m\u001b[0m\u001b[0m\n\u001b[1;32m   1354\u001b[0m   \u001b[0;31m# The threshold to run garbage collection to delete dead tensors.\u001b[0m\u001b[0;34m\u001b[0m\u001b[0;34m\u001b[0m\u001b[0;34m\u001b[0m\u001b[0m\n",
            "\u001b[0;31mKeyboardInterrupt\u001b[0m: "
          ]
        }
      ]
    },
    {
      "metadata": {
        "id": "zydEA48dDeNA",
        "colab_type": "code",
        "outputId": "e521225d-639d-4819-ac4b-e27cc28ebefe",
        "colab": {
          "base_uri": "https://localhost:8080/",
          "height": 34
        }
      },
      "cell_type": "code",
      "source": [
        "np.argmax(validation_accuracy_track)"
      ],
      "execution_count": 115,
      "outputs": [
        {
          "output_type": "execute_result",
          "data": {
            "text/plain": [
              "13"
            ]
          },
          "metadata": {
            "tags": []
          },
          "execution_count": 115
        }
      ]
    },
    {
      "metadata": {
        "id": "oDevMH2N3JZu",
        "colab_type": "code",
        "outputId": "51655c12-91b8-4e74-dbc2-2ef4052c4bcc",
        "colab": {
          "base_uri": "https://localhost:8080/",
          "height": 34
        }
      },
      "cell_type": "code",
      "source": [
        "best_accuracy_valid"
      ],
      "execution_count": 116,
      "outputs": [
        {
          "output_type": "execute_result",
          "data": {
            "text/plain": [
              "98.43644"
            ]
          },
          "metadata": {
            "tags": []
          },
          "execution_count": 116
        }
      ]
    },
    {
      "metadata": {
        "id": "uhbuJEM0-sVm",
        "colab_type": "code",
        "outputId": "3f486354-6c89-4f75-e00a-c291028fbcf0",
        "colab": {
          "base_uri": "https://localhost:8080/",
          "height": 122
        }
      },
      "cell_type": "code",
      "source": [
        "with tf.Session() as sess:\n",
        "#     saver.restore(sess, tf.train.latest_checkpoint('.'))\n",
        "    saver.restore(sess, './DNAAdamBased')\n",
        "    saver.save(sess, './HarReducedAdam')\n",
        "    validation_accuracy = sess.run(accuracy*100, feed_dict={x: validation_data,y:validation_label_one_hot, is_testing: True})\n",
        "    print(\"Validation Accuracy = {:.6f}\".format(validation_accuracy))"
      ],
      "execution_count": 117,
      "outputs": [
        {
          "output_type": "stream",
          "text": [
            "WARNING:tensorflow:From /usr/local/lib/python3.6/dist-packages/tensorflow/python/training/saver.py:1266: checkpoint_exists (from tensorflow.python.training.checkpoint_management) is deprecated and will be removed in a future version.\n",
            "Instructions for updating:\n",
            "Use standard file APIs to check for files with this prefix.\n",
            "INFO:tensorflow:Restoring parameters from ./DNAAdamBased\n",
            "Validation Accuracy = 98.436440\n"
          ],
          "name": "stdout"
        }
      ]
    },
    {
      "metadata": {
        "id": "D5okZYa4CSqu",
        "colab_type": "code",
        "colab": {}
      },
      "cell_type": "code",
      "source": [
        "import matplotlib.pyplot as plt\n",
        "from scipy.interpolate import spline\n",
        "from scipy.signal import savgol_filter"
      ],
      "execution_count": 0,
      "outputs": []
    },
    {
      "metadata": {
        "id": "7ou2-UqDCXZH",
        "colab_type": "code",
        "colab": {}
      },
      "cell_type": "code",
      "source": [
        "steps_plot =  [step for step in range(0, 4861, print_every)]\n"
      ],
      "execution_count": 0,
      "outputs": []
    },
    {
      "metadata": {
        "id": "p6G17qZY_Pxq",
        "colab_type": "code",
        "outputId": "5e591992-2e97-4187-9d1f-f9105410c7a9",
        "colab": {
          "base_uri": "https://localhost:8080/",
          "height": 34
        }
      },
      "cell_type": "code",
      "source": [
        "len(validation_accuracy_track)"
      ],
      "execution_count": 94,
      "outputs": [
        {
          "output_type": "execute_result",
          "data": {
            "text/plain": [
              "208"
            ]
          },
          "metadata": {
            "tags": []
          },
          "execution_count": 94
        }
      ]
    },
    {
      "metadata": {
        "id": "sNS-YE0XCg4s",
        "colab_type": "code",
        "outputId": "374db3e9-2789-49d5-d984-00662dc761f2",
        "colab": {
          "base_uri": "https://localhost:8080/",
          "height": 286
        }
      },
      "cell_type": "code",
      "source": [
        "# plt.plot( savgol_filter(np.asarray(validation_accuracy_track),51,1))\n",
        "plt.plot( (validation_accuracy_track))\n"
      ],
      "execution_count": 119,
      "outputs": [
        {
          "output_type": "execute_result",
          "data": {
            "text/plain": [
              "[<matplotlib.lines.Line2D at 0x7f005aaec438>]"
            ]
          },
          "metadata": {
            "tags": []
          },
          "execution_count": 119
        },
        {
          "output_type": "display_data",
          "data": {
            "image/png": "[encoded data removed]",
            "text/plain": [
              "<Figure size 432x288 with 1 Axes>"
            ]
          },
          "metadata": {
            "tags": []
          }
        }
      ]
    },
    {
      "metadata": {
        "id": "BBlFJwfn-45J",
        "colab_type": "code",
        "outputId": "262fd825-07e8-4b0f-9dff-08e82a4940f1",
        "colab": {
          "base_uri": "https://localhost:8080/",
          "height": 286
        }
      },
      "cell_type": "code",
      "source": [
        "plt.plot( (connection_probability_track))\n"
      ],
      "execution_count": 120,
      "outputs": [
        {
          "output_type": "execute_result",
          "data": {
            "text/plain": [
              "[<matplotlib.lines.Line2D at 0x7f005c999c18>]"
            ]
          },
          "metadata": {
            "tags": []
          },
          "execution_count": 120
        },
        {
          "output_type": "display_data",
          "data": {
            "image/png": "[encoded data removed]",
            "text/plain": [
              "<Figure size 432x288 with 1 Axes>"
            ]
          },
          "metadata": {
            "tags": []
          }
        }
      ]
    },
    {
      "metadata": {
        "id": "MCKAiyEFCg2F",
        "colab_type": "code",
        "outputId": "8f6e57dc-2763-4a93-efb2-4e2bf16c1bde",
        "colab": {
          "base_uri": "https://localhost:8080/",
          "height": 297
        }
      },
      "cell_type": "code",
      "source": [
        "steps_plot = epoch_track# [step for step in range(0, 2291, print_every)]\n",
        "# plt.plot(steps_plot, 100*np.asarray(train_accuracy))\n",
        "# plt.plot(steps_plot, val_accuracy)\n",
        "\n",
        "plt.plot(steps_plot, np.asarray(train_accuracy_track))  \n",
        "plt.plot(steps_plot, validation_accuracy_track)\n",
        "plt.tight_layout()\n",
        "# plt.xticks(np.arange(min(steps_plot), max(steps_plot)+1, 2000))\n",
        "plt.ylabel('Accuracy')\n",
        "plt.grid(abs)\n",
        "plt.show()"
      ],
      "execution_count": 121,
      "outputs": [
        {
          "output_type": "display_data",
          "data": {
            "image/png": "[encoded data removed]",
            "text/plain": [
              "<Figure size 432x288 with 1 Axes>"
            ]
          },
          "metadata": {
            "tags": []
          }
        }
      ]
    },
    {
      "metadata": {
        "id": "u7hYf8U_CXWh",
        "colab_type": "code",
        "outputId": "c5eff9aa-903c-4827-f84d-9d6437c67baa",
        "colab": {
          "base_uri": "https://localhost:8080/",
          "height": 68
        }
      },
      "cell_type": "code",
      "source": [
        "valid_accuracy_filtered = validation_accuracy_track\n",
        "print(max(valid_accuracy_filtered))\n",
        "valid_accuracy_filtered_np = np.asarray(valid_accuracy_filtered)\n",
        "print(np.argmax(valid_accuracy_filtered))\n",
        "print(steps_plot[np.argmax(valid_accuracy_filtered)])"
      ],
      "execution_count": 122,
      "outputs": [
        {
          "output_type": "stream",
          "text": [
            "98.43644\n",
            "13\n",
            "13\n"
          ],
          "name": "stdout"
        }
      ]
    },
    {
      "metadata": {
        "id": "TKucNn6bEZzn",
        "colab_type": "code",
        "colab": {}
      },
      "cell_type": "code",
      "source": [
        "import scipy.io as sio\n"
      ],
      "execution_count": 0,
      "outputs": []
    },
    {
      "metadata": {
        "id": "4lrwM4UUCXTc",
        "colab_type": "code",
        "colab": {}
      },
      "cell_type": "code",
      "source": [
        "sio.savemat('HarReducedDatasetADAM_ProbabilityBasedValid98p44.mat', {'ValidationTracked':validation_accuracy_track,\n",
        "                                       'train_accuracy_track':train_accuracy_track,\n",
        "                                       'connection_probability_track':connection_probability_track,\n",
        "                                       'epochTrack':epoch_track, 'TestAcc':'test_accuracy',\n",
        "                                                         'BestValidation':best_accuracy_valid})"
      ],
      "execution_count": 0,
      "outputs": []
    },
    {
      "metadata": {
        "id": "JFCL8d7-CIxP",
        "colab_type": "text"
      },
      "cell_type": "markdown",
      "source": [
        "### Now  retrain til 24 Epochs"
      ]
    },
    {
      "metadata": {
        "id": "qoqMxUbZCIRd",
        "colab_type": "code",
        "colab": {}
      },
      "cell_type": "code",
      "source": [
        "# keep aside \n",
        "aside_examples= 1\n",
        "aside_valid_test = train_valid_combined[-aside_examples:]\n",
        "aside_valid_test_label = validation_test_label_one_hot[-aside_examples:]\n",
        "combined_train_valid = train_valid_combined[:train_valid_combined.shape[0]-aside_examples,:]\n",
        "combined_train_valid_label = validation_test_label_one_hot[:train_valid_combined.shape[0]-aside_examples,:]"
      ],
      "execution_count": 0,
      "outputs": []
    },
    {
      "metadata": {
        "id": "5n7bYp9-FCn8",
        "colab_type": "code",
        "colab": {}
      },
      "cell_type": "code",
      "source": [
        "EPOCHS = 24"
      ],
      "execution_count": 0,
      "outputs": []
    },
    {
      "metadata": {
        "id": "puoBTQ3fCIOT",
        "colab_type": "code",
        "outputId": "c1442690-65ee-4089-c90d-14d1f4536e09",
        "colab": {
          "base_uri": "https://localhost:8080/",
          "height": 2108
        }
      },
      "cell_type": "code",
      "source": [
        "\n",
        "validation_accuracy_track = []\n",
        "train_accuracy_track = []\n",
        "connection_probability_track = []\n",
        "number_of_ex = combined_train_valid.shape[0]\n",
        "total_steps_for_one_pass = number_of_ex//BATCH_SIZE + 1\n",
        "\n",
        "print_every = 1\n",
        "with tf.Session() as sess:\n",
        "    sess.run(tf.global_variables_initializer())\n",
        "    num_examples = len(X_train)\n",
        "    best_accuracy_valid = 0\n",
        "    print(\"Training...\")\n",
        "    print()\n",
        "    for i in range(EPOCHS):\n",
        "        X_train, y_train = shuffle(combined_train_valid, combined_train_valid_label)\n",
        "        for step in range(0, total_steps_for_one_pass):        \n",
        "          if step>=number_of_ex//BATCH_SIZE:\n",
        "            batch_x, batch_y = X_train[step*BATCH_SIZE:,:],y_train[step*BATCH_SIZE:]\n",
        "#             print(step,'Finishing',step*BATCH_SIZE )\n",
        "            step = 0\n",
        "\n",
        "          else:\n",
        "\n",
        "            start = step*BATCH_SIZE\n",
        "            finish = (step+1)*BATCH_SIZE\n",
        "#             print(step,'Doing', 'Start = ', start, \"Finish = \", finish)\n",
        "            batch_x, batch_y = X_train[step:finish,:],y_train[step:finish]\n",
        "#           print(batch_y.shape)\n",
        "          tr_op  = sess.run([training_operation], feed_dict={x: batch_x, y: batch_y, is_testing : False})\n",
        "#           train_writer.add_summary(summary_tr, i)\n",
        "        prob = sess.run(new_prob)\n",
        "        if i%print_every == 0:\n",
        "          tr_accuracy = sess.run(accuracy*100, feed_dict={x: X_train,y:y_train, is_testing: True})  # evaluate(X_train, y_train)\n",
        "          print(\"Train Accuracy = {:.5f}\".format(tr_accuracy))\n",
        "          validation_accuracy = sess.run(accuracy*100, feed_dict={x: aside_valid_test,y:aside_valid_test_label, is_testing: True}) #evaluate(X_validation, y_validation)\n",
        "          validation_accuracy_track.append(validation_accuracy)\n",
        "          train_accuracy_track.append(tr_accuracy)\n",
        "          connection_probability_track.append(prob)\n",
        "          print(\"EPOCH {} ...\".format(i+1))\n",
        "          print(\"Validation Accuracy = {:.5f}\".format(validation_accuracy))\n",
        "          print(prob)\n",
        "          print()\n",
        "          if (validation_accuracy >= best_accuracy_valid):\n",
        "            best_accuracy_valid = validation_accuracy\n",
        "#             saver.save(sess, './PendigitSGDBased')\n",
        "    saver.save(sess, './DNAAdamBasedAllPass')   \n",
        "#     saver.save(sess, './lenet')\n",
        "    print(\"Model saved\")"
      ],
      "execution_count": 128,
      "outputs": [
        {
          "output_type": "stream",
          "text": [
            "Training...\n",
            "\n",
            "Train Accuracy = 98.77568\n",
            "EPOCH 1 ...\n",
            "Validation Accuracy = 100.00000\n",
            "0.7352941\n",
            "\n",
            "Train Accuracy = 98.72126\n",
            "EPOCH 2 ...\n",
            "Validation Accuracy = 100.00000\n",
            "0.5406574\n",
            "\n",
            "Train Accuracy = 98.73487\n",
            "EPOCH 3 ...\n",
            "Validation Accuracy = 100.00000\n",
            "0.3975422\n",
            "\n",
            "Train Accuracy = 98.78928\n",
            "EPOCH 4 ...\n",
            "Validation Accuracy = 100.00000\n",
            "0.29231045\n",
            "\n",
            "Train Accuracy = 98.84370\n",
            "EPOCH 5 ...\n",
            "Validation Accuracy = 100.00000\n",
            "0.21493414\n",
            "\n",
            "Train Accuracy = 98.87090\n",
            "EPOCH 6 ...\n",
            "Validation Accuracy = 100.00000\n",
            "0.15803981\n",
            "\n",
            "Train Accuracy = 98.92532\n",
            "EPOCH 7 ...\n",
            "Validation Accuracy = 100.00000\n",
            "0.11620574\n",
            "\n",
            "Train Accuracy = 98.99334\n",
            "EPOCH 8 ...\n",
            "Validation Accuracy = 100.00000\n",
            "0.0854454\n",
            "\n",
            "Train Accuracy = 98.96613\n",
            "EPOCH 9 ...\n",
            "Validation Accuracy = 100.00000\n",
            "0.0628275\n",
            "\n",
            "Train Accuracy = 98.99334\n",
            "EPOCH 10 ...\n",
            "Validation Accuracy = 100.00000\n",
            "0.046196688\n",
            "\n",
            "Train Accuracy = 99.00694\n",
            "EPOCH 11 ...\n",
            "Validation Accuracy = 100.00000\n",
            "0.03396815\n",
            "\n",
            "Train Accuracy = 99.00694\n",
            "EPOCH 12 ...\n",
            "Validation Accuracy = 100.00000\n",
            "0.024976581\n",
            "\n",
            "Train Accuracy = 99.02054\n",
            "EPOCH 13 ...\n",
            "Validation Accuracy = 100.00000\n",
            "0.018365134\n",
            "\n",
            "Train Accuracy = 98.99334\n",
            "EPOCH 14 ...\n",
            "Validation Accuracy = 100.00000\n",
            "0.013503774\n",
            "\n",
            "Train Accuracy = 99.02054\n",
            "EPOCH 15 ...\n",
            "Validation Accuracy = 100.00000\n",
            "0.009929245\n",
            "\n",
            "Train Accuracy = 99.04775\n",
            "EPOCH 16 ...\n",
            "Validation Accuracy = 100.00000\n",
            "0.0073009157\n",
            "\n",
            "Train Accuracy = 99.06136\n",
            "EPOCH 17 ...\n",
            "Validation Accuracy = 100.00000\n",
            "0.0053683203\n",
            "\n",
            "Train Accuracy = 99.06136\n",
            "EPOCH 18 ...\n",
            "Validation Accuracy = 100.00000\n",
            "0.0039472943\n",
            "\n",
            "Train Accuracy = 99.04775\n",
            "EPOCH 19 ...\n",
            "Validation Accuracy = 100.00000\n",
            "0.0029024223\n",
            "\n",
            "Train Accuracy = 99.06136\n",
            "EPOCH 20 ...\n",
            "Validation Accuracy = 100.00000\n",
            "0.002134134\n",
            "\n",
            "Train Accuracy = 99.04775\n",
            "EPOCH 21 ...\n",
            "Validation Accuracy = 100.00000\n",
            "0.0015692161\n",
            "\n",
            "Train Accuracy = 99.04775\n",
            "EPOCH 22 ...\n",
            "Validation Accuracy = 100.00000\n",
            "0.0011538353\n",
            "\n",
            "Train Accuracy = 99.07495\n",
            "EPOCH 23 ...\n",
            "Validation Accuracy = 100.00000\n",
            "0.0008484083\n",
            "\n",
            "Train Accuracy = 99.07495\n",
            "EPOCH 24 ...\n",
            "Validation Accuracy = 100.00000\n",
            "0.00062382966\n",
            "\n",
            "Model saved\n"
          ],
          "name": "stdout"
        }
      ]
    },
    {
      "metadata": {
        "id": "ImtSTCNJF9E_",
        "colab_type": "code",
        "outputId": "c1bf1f39-772a-46b3-fc95-376a0f49b0ab",
        "colab": {
          "base_uri": "https://localhost:8080/",
          "height": 51
        }
      },
      "cell_type": "code",
      "source": [
        "with tf.Session() as sess:\n",
        "#     saver.restore(sess, tf.train.latest_checkpoint('.'))\n",
        "    saver.restore(sess, './DNAAdamBasedAllPass')\n",
        "    saver.save(sess, './HarReducedAdamAllPass')  \n",
        "    validation_accuracy = sess.run(accuracy*100, feed_dict={x: validation_data,y:validation_label_one_hot, is_testing: True})\n",
        "    print(\"Validation Accuracy = {:.6f}\".format(validation_accuracy))"
      ],
      "execution_count": 129,
      "outputs": [
        {
          "output_type": "stream",
          "text": [
            "INFO:tensorflow:Restoring parameters from ./DNAAdamBasedAllPass\n",
            "Validation Accuracy = 98.912308\n"
          ],
          "name": "stdout"
        }
      ]
    },
    {
      "metadata": {
        "id": "4FVMAeXpCIL8",
        "colab_type": "code",
        "outputId": "efc4ee8b-fa06-405c-a3b2-915848091510",
        "colab": {
          "base_uri": "https://localhost:8080/",
          "height": 51
        }
      },
      "cell_type": "code",
      "source": [
        "# Without all pass\n",
        "with tf.Session() as sess:\n",
        "#     saver.restore(sess, tf.train.latest_checkpoint('.'))\n",
        "    saver.restore(sess, './HarReducedAdamAllPass')\n",
        "    test_accuracy = sess.run(accuracy*100, feed_dict={x: test_data,y:test_label_one_hot, is_testing: True})\n",
        "    print(\"Test Accuracy = {:.6f}\".format(test_accuracy))"
      ],
      "execution_count": 130,
      "outputs": [
        {
          "output_type": "stream",
          "text": [
            "INFO:tensorflow:Restoring parameters from ./HarReducedAdamAllPass\n",
            "Test Accuracy = 95.147614\n"
          ],
          "name": "stdout"
        }
      ]
    },
    {
      "metadata": {
        "id": "VGUWHQR3CIJg",
        "colab_type": "code",
        "colab": {}
      },
      "cell_type": "code",
      "source": [
        ""
      ],
      "execution_count": 0,
      "outputs": []
    },
    {
      "metadata": {
        "id": "-HXCpiAuCIGT",
        "colab_type": "code",
        "colab": {}
      },
      "cell_type": "code",
      "source": [
        ""
      ],
      "execution_count": 0,
      "outputs": []
    },
    {
      "metadata": {
        "id": "JGYzlt7KCIDI",
        "colab_type": "code",
        "colab": {}
      },
      "cell_type": "code",
      "source": [
        ""
      ],
      "execution_count": 0,
      "outputs": []
    },
    {
      "metadata": {
        "id": "hr57zkSqCIAK",
        "colab_type": "code",
        "colab": {}
      },
      "cell_type": "code",
      "source": [
        ""
      ],
      "execution_count": 0,
      "outputs": []
    },
    {
      "metadata": {
        "id": "q08ZXCdr-sTS",
        "colab_type": "code",
        "colab": {}
      },
      "cell_type": "code",
      "source": [
        "# # Without all pass\n",
        "# with tf.Session() as sess:\n",
        "# #     saver.restore(sess, tf.train.latest_checkpoint('.'))\n",
        "#     saver.restore(sess, './PendigitSGDBased')\n",
        "#     test_accuracy = sess.run(accuracy*100, feed_dict={x: test_data,y:test_label_one_hot, is_testing: True})\n",
        "#     print(\"Test Accuracy = {:.6f}\".format(test_accuracy))"
      ],
      "execution_count": 0,
      "outputs": []
    },
    {
      "metadata": {
        "id": "M9z1P1DG-sQM",
        "colab_type": "code",
        "colab": {}
      },
      "cell_type": "code",
      "source": [
        "import scipy.io as sio\n"
      ],
      "execution_count": 0,
      "outputs": []
    },
    {
      "metadata": {
        "id": "dW6V7O1e-sNf",
        "colab_type": "code",
        "colab": {}
      },
      "cell_type": "code",
      "source": [
        "epochTrack = epoch_track\n"
      ],
      "execution_count": 0,
      "outputs": []
    },
    {
      "metadata": {
        "id": "r7lCgbXR3JXa",
        "colab_type": "code",
        "colab": {}
      },
      "cell_type": "code",
      "source": [
        ""
      ],
      "execution_count": 0,
      "outputs": []
    },
    {
      "metadata": {
        "id": "vFfzfjOB3JTx",
        "colab_type": "code",
        "colab": {}
      },
      "cell_type": "code",
      "source": [
        ""
      ],
      "execution_count": 0,
      "outputs": []
    }
  ]
}