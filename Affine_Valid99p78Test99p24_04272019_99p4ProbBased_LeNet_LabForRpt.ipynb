{
  "nbformat": 4,
  "nbformat_minor": 0,
  "metadata": {
    "colab": {
      "name": "Affine Valid99p78Test99p24 04272019 99p4ProbBased LeNet-LabForRpt.ipynb",
      "version": "0.3.2",
      "provenance": [],
      "collapsed_sections": [],
      "toc_visible": true,
      "include_colab_link": true
    },
    "kernelspec": {
      "name": "python3",
      "display_name": "Python 3"
    },
    "accelerator": "GPU"
  },
  "cells": [
    {
      "cell_type": "markdown",
      "metadata": {
        "id": "view-in-github",
        "colab_type": "text"
      },
      "source": [
        "<a href=\"https://colab.research.google.com/github/preritt/Embed/blob/master/Affine_Valid99p78Test99p24_04272019_99p4ProbBased_LeNet_LabForRpt.ipynb\" target=\"_parent\"><img src=\"https://colab.research.google.com/assets/colab-badge.svg\" alt=\"Open In Colab\"/></a>"
      ]
    },
    {
      "metadata": {
        "id": "HFVqYNiRCy47",
        "colab_type": "text"
      },
      "cell_type": "markdown",
      "source": [
        "# LeNet Lab\n",
        "![LeNet Architecture](https://github.com/sujaybabruwad/LeNet-in-Tensorflow/blob/master/lenet.png?raw=1)\n",
        "Source: Yan LeCun"
      ]
    },
    {
      "metadata": {
        "id": "k7PXv7fjCy5B",
        "colab_type": "text"
      },
      "cell_type": "markdown",
      "source": [
        "## Load Data\n",
        "\n",
        "Load the MNIST data, which comes pre-loaded with TensorFlow.\n",
        "\n",
        "You do not need to modify this section."
      ]
    },
    {
      "metadata": {
        "id": "t4iqynjrCy5E",
        "colab_type": "code",
        "outputId": "45110226-9697-482b-d001-b149afbcb5c9",
        "colab": {
          "base_uri": "https://localhost:8080/",
          "height": 187
        }
      },
      "cell_type": "code",
      "source": [
        "from tensorflow.examples.tutorials.mnist import input_data\n",
        "\n",
        "mnist = input_data.read_data_sets(\"MNIST_data/\", reshape=False)\n",
        "X_train, y_train           = mnist.train.images, mnist.train.labels\n",
        "X_validation, y_validation = mnist.validation.images, mnist.validation.labels\n",
        "X_test, y_test             = mnist.test.images, mnist.test.labels\n",
        "\n",
        "assert(len(X_train) == len(y_train))\n",
        "assert(len(X_validation) == len(y_validation))\n",
        "assert(len(X_test) == len(y_test))\n",
        "\n",
        "print()\n",
        "print(\"Image Shape: {}\".format(X_train[0].shape))\n",
        "print()\n",
        "print(\"Training Set:   {} samples\".format(len(X_train)))\n",
        "print(\"Validation Set: {} samples\".format(len(X_validation)))\n",
        "print(\"Test Set:       {} samples\".format(len(X_test)))"
      ],
      "execution_count": 36,
      "outputs": [
        {
          "output_type": "stream",
          "text": [
            "Extracting MNIST_data/train-images-idx3-ubyte.gz\n",
            "Extracting MNIST_data/train-labels-idx1-ubyte.gz\n",
            "Extracting MNIST_data/t10k-images-idx3-ubyte.gz\n",
            "Extracting MNIST_data/t10k-labels-idx1-ubyte.gz\n",
            "\n",
            "Image Shape: (28, 28, 1)\n",
            "\n",
            "Training Set:   55000 samples\n",
            "Validation Set: 5000 samples\n",
            "Test Set:       10000 samples\n"
          ],
          "name": "stdout"
        }
      ]
    },
    {
      "metadata": {
        "id": "L7ESI_fVaxBT",
        "colab_type": "code",
        "colab": {
          "base_uri": "https://localhost:8080/",
          "height": 34
        },
        "outputId": "38221bea-f0cd-407c-d8dd-c99a9f67cbd5"
      },
      "cell_type": "code",
      "source": [
        "X_train.shape"
      ],
      "execution_count": 37,
      "outputs": [
        {
          "output_type": "execute_result",
          "data": {
            "text/plain": [
              "(55000, 28, 28, 1)"
            ]
          },
          "metadata": {
            "tags": []
          },
          "execution_count": 37
        }
      ]
    },
    {
      "metadata": {
        "id": "moyj2wnOYMVx",
        "colab_type": "code",
        "colab": {}
      },
      "cell_type": "code",
      "source": [
        "import numpy as np\n",
        "from sklearn.model_selection import train_test_split\n"
      ],
      "execution_count": 0,
      "outputs": []
    },
    {
      "metadata": {
        "id": "SyyhfjBFXcED",
        "colab_type": "code",
        "colab": {}
      },
      "cell_type": "code",
      "source": [
        "total_train_data = np.load('train_total_x.npy')\n",
        "test_data = np.load('test_x.npy')\n",
        "\n",
        "total_train_label = np.load('train_total_y.npy')\n",
        "test_label = np.load('test_y.npy')"
      ],
      "execution_count": 0,
      "outputs": []
    },
    {
      "metadata": {
        "id": "crrDKLpQZqB4",
        "colab_type": "code",
        "colab": {
          "base_uri": "https://localhost:8080/",
          "height": 34
        },
        "outputId": "27596030-d572-4ba2-e7d5-09ada2f002b7"
      },
      "cell_type": "code",
      "source": [
        "10000/600000"
      ],
      "execution_count": 40,
      "outputs": [
        {
          "output_type": "execute_result",
          "data": {
            "text/plain": [
              "0.016666666666666666"
            ]
          },
          "metadata": {
            "tags": []
          },
          "execution_count": 40
        }
      ]
    },
    {
      "metadata": {
        "id": "N_aId-4RYmOj",
        "colab_type": "code",
        "colab": {}
      },
      "cell_type": "code",
      "source": [
        "\n",
        "# split train data and to create validation data\n",
        "train_X,valid_X,train_ground,valid_ground = train_test_split(total_train_data,\n",
        "                                                             total_train_label,\n",
        "                                                             test_size=.1,\n",
        "                                                             random_state=13)"
      ],
      "execution_count": 0,
      "outputs": []
    },
    {
      "metadata": {
        "id": "LjL8jRvJaP1D",
        "colab_type": "code",
        "colab": {}
      },
      "cell_type": "code",
      "source": [
        "train_X_reshaped =  np.reshape(train_X, newshape=(-1,28,28,1))\n",
        "valid_X_reshaped =  np.reshape(valid_X, newshape=(-1,28,28,1))\n",
        "test_X_reshaped =  np.reshape(test_data, newshape=(-1,28,28,1))\n"
      ],
      "execution_count": 0,
      "outputs": []
    },
    {
      "metadata": {
        "id": "BjSYlqDKa7WZ",
        "colab_type": "code",
        "colab": {}
      },
      "cell_type": "code",
      "source": [
        "X_train = train_X_reshaped\n",
        "X_validation = valid_X_reshaped\n",
        "X_test = test_X_reshaped"
      ],
      "execution_count": 0,
      "outputs": []
    },
    {
      "metadata": {
        "id": "7i4JYdahbLo7",
        "colab_type": "code",
        "colab": {}
      },
      "cell_type": "code",
      "source": [
        "y_train = train_ground\n",
        "y_validation = valid_ground\n",
        "y_test = test_label"
      ],
      "execution_count": 0,
      "outputs": []
    },
    {
      "metadata": {
        "id": "WL65sl7Ua2EB",
        "colab_type": "code",
        "colab": {}
      },
      "cell_type": "code",
      "source": [
        "# test_X_reshaped.shape"
      ],
      "execution_count": 0,
      "outputs": []
    },
    {
      "metadata": {
        "id": "pV8kvNmMCy5T",
        "colab_type": "text"
      },
      "cell_type": "markdown",
      "source": [
        "The MNIST data that TensorFlow pre-loads comes as 28x28x1 images.\n",
        "\n",
        "However, the LeNet architecture only accepts 32x32xC images, where C is the number of color channels.\n",
        "\n",
        "In order to reformat the MNIST data into a shape that LeNet will accept, we pad the data with two rows of zeros on the top and bottom, and two columns of zeros on the left and right (28+2+2 = 32).\n",
        "\n",
        "You do not need to modify this section."
      ]
    },
    {
      "metadata": {
        "id": "sBWJCBw1Cy5U",
        "colab_type": "code",
        "outputId": "af59f5f5-d67e-4e3a-eca5-817fa1384ccf",
        "colab": {
          "base_uri": "https://localhost:8080/",
          "height": 34
        }
      },
      "cell_type": "code",
      "source": [
        "import numpy as np\n",
        "\n",
        "# Pad images with 0s\n",
        "X_train      = np.pad(X_train, ((0,0),(2,2),(2,2),(0,0)), 'constant')\n",
        "X_validation = np.pad(X_validation, ((0,0),(2,2),(2,2),(0,0)), 'constant')\n",
        "X_test       = np.pad(X_test, ((0,0),(2,2),(2,2),(0,0)), 'constant')\n",
        "    \n",
        "print(\"Updated Image Shape: {}\".format(X_train[0].shape))"
      ],
      "execution_count": 46,
      "outputs": [
        {
          "output_type": "stream",
          "text": [
            "Updated Image Shape: (32, 32, 1)\n"
          ],
          "name": "stdout"
        }
      ]
    },
    {
      "metadata": {
        "id": "cW7cCH1xCy5c",
        "colab_type": "text"
      },
      "cell_type": "markdown",
      "source": [
        "## Visualize Data\n",
        "\n",
        "View a sample from the dataset.\n",
        "\n",
        "You do not need to modify this section."
      ]
    },
    {
      "metadata": {
        "id": "h7UbBX8RCy5e",
        "colab_type": "code",
        "outputId": "595921c5-6421-4709-d147-a6bde2e025d4",
        "colab": {
          "base_uri": "https://localhost:8080/",
          "height": 123
        }
      },
      "cell_type": "code",
      "source": [
        "import random\n",
        "import numpy as np\n",
        "import matplotlib.pyplot as plt\n",
        "%matplotlib inline\n",
        "\n",
        "index = random.randint(0, len(X_train))\n",
        "image = X_train[index].squeeze()\n",
        "\n",
        "plt.figure(figsize=(1,1))\n",
        "plt.imshow(image, cmap=\"gray\")\n",
        "print(y_train[index])"
      ],
      "execution_count": 47,
      "outputs": [
        {
          "output_type": "stream",
          "text": [
            "6\n"
          ],
          "name": "stdout"
        },
        {
          "output_type": "display_data",
          "data": {
            "image/png": "[encoded data removed]",
            "text/plain": [
              "<Figure size 72x72 with 1 Axes>"
            ]
          },
          "metadata": {
            "tags": []
          }
        }
      ]
    },
    {
      "metadata": {
        "id": "1W6py5mlCy5n",
        "colab_type": "text"
      },
      "cell_type": "markdown",
      "source": [
        "## Preprocess Data\n",
        "\n",
        "Shuffle the training data.\n",
        "\n",
        "You do not need to modify this section."
      ]
    },
    {
      "metadata": {
        "id": "UYJZs7GgCy5p",
        "colab_type": "code",
        "colab": {}
      },
      "cell_type": "code",
      "source": [
        "from sklearn.utils import shuffle\n",
        "\n",
        "X_train, y_train = shuffle(X_train, y_train)"
      ],
      "execution_count": 0,
      "outputs": []
    },
    {
      "metadata": {
        "id": "Q4WFIdiuCy53",
        "colab_type": "text"
      },
      "cell_type": "markdown",
      "source": [
        "## Setup TensorFlow\n",
        "The `EPOCH` and `BATCH_SIZE` values affect the training speed and model accuracy.\n",
        "\n",
        "You do not need to modify this section."
      ]
    },
    {
      "metadata": {
        "id": "est-t83SCy55",
        "colab_type": "code",
        "colab": {}
      },
      "cell_type": "code",
      "source": [
        "import tensorflow as tf\n",
        "\n",
        "EPOCHS = 200\n",
        "BATCH_SIZE = 512"
      ],
      "execution_count": 0,
      "outputs": []
    },
    {
      "metadata": {
        "id": "cWVHSK0pCy59",
        "colab_type": "text"
      },
      "cell_type": "markdown",
      "source": [
        "## TODO: Implement LeNet-5\n",
        "Implement the [LeNet-5](http://yann.lecun.com/exdb/lenet/) neural network architecture.\n",
        "\n",
        "This is the only cell you need to edit.\n",
        "### Input\n",
        "The LeNet architecture accepts a 32x32xC image as input, where C is the number of color channels. Since MNIST images are grayscale, C is 1 in this case.\n",
        "\n",
        "### Architecture\n",
        "**Layer 1: Convolutional.** The output shape should be 28x28x6.\n",
        "\n",
        "**Activation.** Your choice of activation function.\n",
        "\n",
        "**Pooling.** The output shape should be 14x14x6.\n",
        "\n",
        "**Layer 2: Convolutional.** The output shape should be 10x10x16.\n",
        "\n",
        "**Activation.** Your choice of activation function.\n",
        "\n",
        "**Pooling.** The output shape should be 5x5x16.\n",
        "\n",
        "**Flatten.** Flatten the output shape of the final pooling layer such that it's 1D instead of 3D. The easiest way to do is by using `tf.contrib.layers.flatten`, which is already imported for you.\n",
        "\n",
        "**Layer 3: Fully Connected.** This should have 120 outputs.\n",
        "\n",
        "**Activation.** Your choice of activation function.\n",
        "\n",
        "**Layer 4: Fully Connected.** This should have 84 outputs.\n",
        "\n",
        "**Activation.** Your choice of activation function.\n",
        "\n",
        "**Layer 5: Fully Connected (Logits).** This should have 10 outputs.\n",
        "\n",
        "### Output\n",
        "Return the result of the 2nd fully connected layer."
      ]
    },
    {
      "metadata": {
        "id": "Vgad6Ny0OjqN",
        "colab_type": "code",
        "colab": {}
      },
      "cell_type": "code",
      "source": [
        "connection_probability = tf.Variable(.9)"
      ],
      "execution_count": 0,
      "outputs": []
    },
    {
      "metadata": {
        "id": "X1nJmcI7Cy5-",
        "colab_type": "code",
        "colab": {}
      },
      "cell_type": "code",
      "source": [
        "from tensorflow.contrib.layers import flatten\n",
        "\n",
        "def LeNet(x, test_mode = False):    \n",
        "    # Hyperparameters\n",
        "    mu = 0\n",
        "    sigma = 0.1\n",
        "    layer_depth = {\n",
        "        'layer_1' : 6,\n",
        "        'layer_2' : 16,\n",
        "        'layer_3' : 120,\n",
        "        'layer_f1' : 84\n",
        "    }\n",
        "\n",
        "    \n",
        "    # TODO: Layer 1: Convolutional. Input = 32x32x1. Output = 28x28x6.\n",
        "    conv1_w = tf.Variable(tf.truncated_normal(shape = [5,5,1,6],mean = mu, stddev = sigma))\n",
        "    conv1_b = tf.Variable(tf.zeros(6))\n",
        "    conv1 = tf.nn.conv2d(x,conv1_w, strides = [1,1,1,1], padding = 'VALID') + conv1_b \n",
        "    # TODO: Activation.\n",
        "    conv1 = tf.nn.relu(conv1)\n",
        "\n",
        "    # TODO: Pooling. Input = 28x28x6. Output = 14x14x6.\n",
        "    pool_1 = tf.nn.max_pool(conv1,ksize = [1,2,2,1], strides = [1,2,2,1], padding = 'VALID')\n",
        "    \n",
        "    # TODO: Layer 2: Convolutional. Output = 10x10x16.\n",
        "    conv2_w = tf.Variable(tf.truncated_normal(shape = [5,5,6,16], mean = mu, stddev = sigma))\n",
        "    conv2_b = tf.Variable(tf.zeros(16))\n",
        "    conv2 = tf.nn.conv2d(pool_1, conv2_w, strides = [1,1,1,1], padding = 'VALID') + conv2_b\n",
        "    # TODO: Activation.\n",
        "    conv2 = tf.nn.relu(conv2)\n",
        "    \n",
        "    ##### Inset probability connection from x to conv2\n",
        "    conv1p_w = tf.Variable(tf.truncated_normal(shape = [5,5,1,16], mean = mu, stddev = sigma))\n",
        "    conv1p_b = tf.Variable(tf.zeros(16))\n",
        "    conv2_2nd_input = tf.nn.conv2d(x, conv1p_w, strides = [1,3,3,1], padding = 'VALID') + conv1p_b\n",
        "    conv2_2nd_input = tf.nn.relu(conv2_2nd_input) #result = tf.cond(x < y, lambda: tf.add(x, z), lambda: tf.square(y))\n",
        "#     conv2 = tf.cond(tf.random.uniform(shape = tf.shape(connection_probability)) < connection_probability,lambda: conv2 + conv2_2nd_input, lambda: conv2 )\n",
        "    conv2 = tf.cond(tf.logical_and(tf.random.uniform(shape = tf.shape(connection_probability)) < connection_probability, tf.equal(test_mode,False)),lambda: conv2 + conv2_2nd_input, lambda: conv2 )\n",
        "\n",
        "#     if (np.random.random_sample()<connection_probability and test_mode == False):\n",
        "#         conv2 = conv2 + conv2_2nd_input\n",
        "#     if test_mode == True:\n",
        "#       conv2 = conv2 + conv2_2nd_input*connection_probability*0\n",
        "    \n",
        "    # TODO: Pooling. Input = 10x10x16. Output = 5x5x16.\n",
        "    pool_2 = tf.nn.max_pool(conv2, ksize = [1,2,2,1], strides = [1,2,2,1], padding = 'VALID') \n",
        "    \n",
        "    # TODO: Flatten. Input = 5x5x16. Output = 400.\n",
        "    fc1 = flatten(pool_2)\n",
        "    fdense = fc1\n",
        "    \n",
        "    # TODO: Layer 3: Fully Connected. Input = 400. Output = 120.\n",
        "    fc1_w = tf.Variable(tf.truncated_normal(shape = (400,120), mean = mu, stddev = sigma))\n",
        "    fc1_b = tf.Variable(tf.zeros(120))\n",
        "    fc1 = tf.matmul(fc1,fc1_w) + fc1_b\n",
        "    \n",
        "    # TODO: Activation.\n",
        "    fc1 = tf.nn.relu(fc1)\n",
        "\n",
        "    # TODO: Layer 4: Fully Connected. Input = 120. Output = 84.\n",
        "    fc2_w = tf.Variable(tf.truncated_normal(shape = (120,84), mean = mu, stddev = sigma))\n",
        "    fc2_b = tf.Variable(tf.zeros(84))\n",
        "    fc2 = tf.matmul(fc1,fc2_w) + fc2_b\n",
        "    # TODO: Activation.\n",
        "    fc2 = tf.nn.relu(fc2)\n",
        "    \n",
        "    \n",
        "    #################\n",
        "    ##### Inset probability connection from x to conv2\n",
        "    fc2p_w = tf.Variable(tf.truncated_normal(shape = [400,84], mean = mu, stddev = sigma))\n",
        "    fc2p_b = tf.Variable(tf.zeros(84))\n",
        "    fc2_2nd_input = tf.matmul(fdense,fc2p_w) + fc2p_b\n",
        "    fc2_2nd_input = tf.nn.relu(fc2_2nd_input)\n",
        "    fc2 = tf.cond(tf.logical_and(tf.random.uniform(shape = tf.shape(connection_probability)) < connection_probability, tf.equal(test_mode,False)),lambda: fc2 + fc2_2nd_input, lambda: fc2 )\n",
        "\n",
        "#     if (np.random.random_sample()<connection_probability and test_mode == False):\n",
        "#         fc2 = fc2 + fc2_2nd_input\n",
        "#     if test_mode == True:\n",
        "#         fc2 = fc2 + fc2_2nd_input*connection_probability*0\n",
        "    \n",
        "    ################\n",
        "    \n",
        "    # TODO: Layer 5: Fully Connected. Input = 84. Output = 10.\n",
        "    fc3_w = tf.Variable(tf.truncated_normal(shape = (84,10), mean = mu , stddev = sigma))\n",
        "    fc3_b = tf.Variable(tf.zeros(10))\n",
        "    logits = tf.matmul(fc2, fc3_w) + fc3_b\n",
        "    return logits"
      ],
      "execution_count": 0,
      "outputs": []
    },
    {
      "metadata": {
        "id": "aCx837c9Cy6E",
        "colab_type": "text"
      },
      "cell_type": "markdown",
      "source": [
        "## Features and Labels\n",
        "Train LeNet to classify [MNIST](http://yann.lecun.com/exdb/mnist/) data.\n",
        "\n",
        "`x` is a placeholder for a batch of input images.\n",
        "`y` is a placeholder for a batch of output labels.\n",
        "\n",
        "You do not need to modify this section."
      ]
    },
    {
      "metadata": {
        "id": "Mrb2FHFHCy6G",
        "colab_type": "code",
        "colab": {}
      },
      "cell_type": "code",
      "source": [
        "x = tf.placeholder(tf.float32, (None, 32, 32, 1))\n",
        "y = tf.placeholder(tf.int32, (None))\n",
        "one_hot_y = tf.one_hot(y, 10)\n",
        "is_testing= tf.placeholder(tf.bool) "
      ],
      "execution_count": 0,
      "outputs": []
    },
    {
      "metadata": {
        "id": "uk0pcAjmCy6M",
        "colab_type": "text"
      },
      "cell_type": "markdown",
      "source": [
        "## Training Pipeline\n",
        "Create a training pipeline that uses the model to classify MNIST data.\n",
        "\n",
        "You do not need to modify this section."
      ]
    },
    {
      "metadata": {
        "id": "3oYy_Y3FCy6N",
        "colab_type": "code",
        "outputId": "1ef71a93-858f-4024-9e5b-a47b5dcfb04a",
        "colab": {
          "base_uri": "https://localhost:8080/",
          "height": 34
        }
      },
      "cell_type": "code",
      "source": [
        "rate = 0.001\n",
        "decay_rate = 1.00002*(X_train.shape[0]/BATCH_SIZE)\n",
        "decay_rate = 2\n",
        "\n",
        "print(decay_rate)\n",
        "logits = LeNet(x,is_testing)\n",
        "with tf.name_scope('Train'):\n",
        "  cross_entropy = tf.nn.softmax_cross_entropy_with_logits(logits = logits, labels = one_hot_y)\n",
        "  loss_operation = tf.reduce_mean(cross_entropy, name='loss')\n",
        "  tf.summary.scalar('loss', loss_operation)\n",
        "# optimizer = tf.train.MomentumOptimizer(learning_rate = rate,momentum=.9)\n",
        "optimizer = tf.train.AdamOptimizer(learning_rate = rate)\n",
        "# tf.train.natural_exp_decay()\n",
        "training_operation = optimizer.minimize(loss_operation)\n",
        "new_prob = connection_probability.assign(connection_probability/decay_rate)\n",
        "\n"
      ],
      "execution_count": 53,
      "outputs": [
        {
          "output_type": "stream",
          "text": [
            "2\n"
          ],
          "name": "stdout"
        }
      ]
    },
    {
      "metadata": {
        "id": "KrMtHo6rCy6S",
        "colab_type": "text"
      },
      "cell_type": "markdown",
      "source": [
        "## Model Evaluation\n",
        "Evaluate how well the loss and accuracy of the model for a given dataset.\n",
        "\n",
        "You do not need to modify this section."
      ]
    },
    {
      "metadata": {
        "id": "OMR9XsLBCy6U",
        "colab_type": "code",
        "colab": {}
      },
      "cell_type": "code",
      "source": [
        "correct_prediction = tf.equal(tf.argmax(logits, 1), tf.argmax(one_hot_y, 1))\n",
        "accuracy_operation = tf.reduce_mean(tf.cast(correct_prediction, tf.float32))\n",
        "saver = tf.train.Saver()\n",
        "\n",
        "def evaluate(X_data, y_data):\n",
        "    num_examples = len(X_data)\n",
        "    total_accuracy = 0\n",
        "    sess = tf.get_default_session()\n",
        "    for offset in range(0, num_examples, BATCH_SIZE):\n",
        "        batch_x, batch_y = X_data[offset:offset+BATCH_SIZE], y_data[offset:offset+BATCH_SIZE]\n",
        "        accuracy = sess.run(accuracy_operation, feed_dict={x: batch_x, y: batch_y, is_testing: True})\n",
        "        total_accuracy += (accuracy * len(batch_x))\n",
        "    return total_accuracy / num_examples"
      ],
      "execution_count": 0,
      "outputs": []
    },
    {
      "metadata": {
        "id": "2Jw7iox3Cy6X",
        "colab_type": "text"
      },
      "cell_type": "markdown",
      "source": [
        "## Train the Model\n",
        "Run the training data through the training pipeline to train the model.\n",
        "\n",
        "Before each epoch, shuffle the training set.\n",
        "\n",
        "After each epoch, measure the loss and accuracy of the validation set.\n",
        "\n",
        "Save the model after training.\n",
        "\n",
        "You do not need to modify this section."
      ]
    },
    {
      "metadata": {
        "id": "c98G07hDQG2g",
        "colab_type": "code",
        "colab": {}
      },
      "cell_type": "code",
      "source": [
        "import math"
      ],
      "execution_count": 0,
      "outputs": []
    },
    {
      "metadata": {
        "id": "8QC1kt_DL1yU",
        "colab_type": "code",
        "colab": {}
      },
      "cell_type": "code",
      "source": [
        "def augment(images, labels,\n",
        "            resize=None, # (width, height) tuple or None\n",
        "            horizontal_flip=False,\n",
        "            vertical_flip=False,\n",
        "            rotate=0, # Maximum rotation angle in degrees\n",
        "            crop_probability=0, # How often we do crops\n",
        "            crop_min_percent=0.6, # Minimum linear dimension of a crop\n",
        "            crop_max_percent=1.,  # Maximum linear dimension of a crop\n",
        "            mixup=0):  # Mixup coeffecient, see https://arxiv.org/abs/1710.09412.pdf\n",
        "  if resize is not None:\n",
        "    images = tf.image.resize_bilinear(images, resize)\n",
        "  \n",
        "  # My experiments showed that casting on GPU improves training performance\n",
        "  if images.dtype != tf.float32:\n",
        "    images = tf.image.convert_image_dtype(images, dtype=tf.float32)\n",
        "    images = tf.subtract(images, 0.5)\n",
        "    images = tf.multiply(images, 2.0)\n",
        "  labels = tf.to_float(labels)\n",
        "\n",
        "  with tf.name_scope('augmentation'):\n",
        "    shp = tf.shape(images)\n",
        "    batch_size, height, width = shp[0], shp[1], shp[2]\n",
        "    width = tf.cast(width, tf.float32)\n",
        "    height = tf.cast(height, tf.float32)\n",
        "\n",
        "    # The list of affine transformations that our image will go under.\n",
        "    # Every element is Nx8 tensor, where N is a batch size.\n",
        "    transforms = []\n",
        "    identity = tf.constant([1, 0, 0, 0, 1, 0, 0, 0], dtype=tf.float32)\n",
        "    if horizontal_flip:\n",
        "      coin = tf.less(tf.random_uniform([batch_size], 0, 1.0), 0.5)\n",
        "      flip_transform = tf.convert_to_tensor(\n",
        "          [-1., 0., width, 0., 1., 0., 0., 0.], dtype=tf.float32)\n",
        "      transforms.append(\n",
        "          tf.where(coin,\n",
        "                   tf.tile(tf.expand_dims(flip_transform, 0), [batch_size, 1]),\n",
        "                   tf.tile(tf.expand_dims(identity, 0), [batch_size, 1])))\n",
        "\n",
        "    if vertical_flip:\n",
        "      coin = tf.less(tf.random_uniform([batch_size], 0, 1.0), 0.5)\n",
        "      flip_transform = tf.convert_to_tensor(\n",
        "          [1, 0, 0, 0, -1, height, 0, 0], dtype=tf.float32)\n",
        "      transforms.append(\n",
        "          tf.where(coin,\n",
        "                   tf.tile(tf.expand_dims(flip_transform, 0), [batch_size, 1]),\n",
        "                   tf.tile(tf.expand_dims(identity, 0), [batch_size, 1])))\n",
        "\n",
        "    if rotate > 0:\n",
        "      angle_rad = rotate / 180 * math.pi\n",
        "      angles = tf.random_uniform([batch_size], -angle_rad, angle_rad)\n",
        "      transforms.append(\n",
        "          tf.contrib.image.angles_to_projective_transforms(\n",
        "              angles, height, width))\n",
        "\n",
        "    if crop_probability > 0:\n",
        "      crop_pct = tf.random_uniform([batch_size], crop_min_percent,\n",
        "                                   crop_max_percent)\n",
        "      left = tf.random_uniform([batch_size], 0, width * (1 - crop_pct))\n",
        "      top = tf.random_uniform([batch_size], 0, height * (1 - crop_pct))\n",
        "      crop_transform = tf.stack([\n",
        "          crop_pct,\n",
        "          tf.zeros([batch_size]), top,\n",
        "          tf.zeros([batch_size]), crop_pct, left,\n",
        "          tf.zeros([batch_size]),\n",
        "          tf.zeros([batch_size])\n",
        "      ], 1)\n",
        "\n",
        "      coin = tf.less(\n",
        "          tf.random_uniform([batch_size], 0, 1.0), crop_probability)\n",
        "      transforms.append(\n",
        "          tf.where(coin, crop_transform,\n",
        "                   tf.tile(tf.expand_dims(identity, 0), [batch_size, 1])))\n",
        "\n",
        "    if transforms:\n",
        "      images = tf.contrib.image.transform(\n",
        "          images,\n",
        "          tf.contrib.image.compose_transforms(*transforms),\n",
        "          interpolation='BILINEAR') # or 'NEAREST'\n",
        "\n",
        "    def cshift(values): # Circular shift in batch dimension\n",
        "      return tf.concat([values[-1:, ...], values[:-1, ...]], 0)\n",
        "\n",
        "    if mixup > 0:\n",
        "      mixup = 1.0 * mixup # Convert to float, as tf.distributions.Beta requires floats.\n",
        "      beta = tf.distributions.Beta(mixup, mixup)\n",
        "      lam = beta.sample(batch_size)\n",
        "      ll = tf.expand_dims(tf.expand_dims(tf.expand_dims(lam, -1), -1), -1)\n",
        "      images = ll * images + (1 - ll) * cshift(images)\n",
        "      labels = lam * labels + (1 - lam) * cshift(labels)\n",
        "\n",
        "  return images, labels"
      ],
      "execution_count": 0,
      "outputs": []
    },
    {
      "metadata": {
        "id": "siI7jT2RUvYP",
        "colab_type": "code",
        "colab": {}
      },
      "cell_type": "code",
      "source": [
        "def augment_data(dataset, dataset_labels, augementation_factor=1, use_random_rotation=True, use_random_shear=True, use_random_shift=True, use_random_zoom=True):\n",
        "\taugmented_image = []\n",
        "\taugmented_image_labels = []\n",
        "\n",
        "\tfor num in range (0, dataset.shape[0]):\n",
        "\n",
        "\t\tfor i in range(0, augementation_factor):\n",
        "\t\t\t# original image:\n",
        "\t\t\taugmented_image.append(dataset[num])\n",
        "\t\t\taugmented_image_labels.append(dataset_labels[num])\n",
        "\n",
        "\t\t\tif use_random_rotation:\n",
        "\t\t\t\taugmented_image.append(tf.contrib.keras.preprocessing.image.random_rotation(dataset[num], 20, row_axis=0, col_axis=1, channel_axis=2))\n",
        "\t\t\t\taugmented_image_labels.append(dataset_labels[num])\n",
        "\n",
        "\t\t\tif use_random_shear:\n",
        "\t\t\t\taugmented_image.append(tf.contrib.keras.preprocessing.image.random_shear(dataset[num], 0.2, row_axis=0, col_axis=1, channel_axis=2))\n",
        "\t\t\t\taugmented_image_labels.append(dataset_labels[num])\n",
        "\n",
        "\t\t\tif use_random_shift:\n",
        "\t\t\t\taugmented_image.append(tf.contrib.keras.preprocessing.image.random_shift(dataset[num], 0.2, 0.2, row_axis=0, col_axis=1, channel_axis=2))\n",
        "\t\t\t\taugmented_image_labels.append(dataset_labels[num])\n",
        "\n",
        "# \t\t\tif use_random_zoom:\n",
        "# \t\t\t\taugmented_image.append(tf.contrib.keras.preprocessing.image.random_zoom(dataset[num], 0.9, row_axis=0, col_axis=1, channel_axis=2))\n",
        "# \t\t\t\taugmented_image_labels.append(dataset_labels[num])\n",
        "\n",
        "\treturn np.array(augmented_image), np.array(augmented_image_labels)"
      ],
      "execution_count": 0,
      "outputs": []
    },
    {
      "metadata": {
        "id": "Of2PvjkIQikg",
        "colab_type": "code",
        "outputId": "e6d56545-5813-4eac-aa2b-cea3de2d2dd4",
        "colab": {
          "base_uri": "https://localhost:8080/",
          "height": 34
        }
      },
      "cell_type": "code",
      "source": [
        "(X_train.shape)"
      ],
      "execution_count": 58,
      "outputs": [
        {
          "output_type": "execute_result",
          "data": {
            "text/plain": [
              "(540000, 32, 32, 1)"
            ]
          },
          "metadata": {
            "tags": []
          },
          "execution_count": 58
        }
      ]
    },
    {
      "metadata": {
        "id": "RbERCioKL6dc",
        "colab_type": "code",
        "colab": {}
      },
      "cell_type": "code",
      "source": [
        "# # These can be any tensors of matching type and dimensions.\n",
        "# images = tf.placeholder(tf.uint8, shape=(None, None, None, 3))\n",
        "# labels = tf.placeholder(tf.uint64, shape=(None))\n",
        "\n",
        "# images, labels = augment(tf.convert_to_tensor(X_train), tf.convert_to_tensor(y_train),\n",
        "#                          horizontal_flip=True, rotate=15, crop_probability=0.8, mixup=4)\n"
      ],
      "execution_count": 0,
      "outputs": []
    },
    {
      "metadata": {
        "id": "-bwtFMk5U0HH",
        "colab_type": "code",
        "colab": {}
      },
      "cell_type": "code",
      "source": [
        "images, labels = (X_train, y_train)"
      ],
      "execution_count": 0,
      "outputs": []
    },
    {
      "metadata": {
        "id": "VZA2k-ZQR7kU",
        "colab_type": "code",
        "outputId": "cfb1ce6e-61d5-40f0-d2e5-d186ca0f26ec",
        "colab": {
          "base_uri": "https://localhost:8080/",
          "height": 34
        }
      },
      "cell_type": "code",
      "source": [
        "images.shape"
      ],
      "execution_count": 60,
      "outputs": [
        {
          "output_type": "execute_result",
          "data": {
            "text/plain": [
              "(540000, 32, 32, 1)"
            ]
          },
          "metadata": {
            "tags": []
          },
          "execution_count": 60
        }
      ]
    },
    {
      "metadata": {
        "id": "MbueMHwfEbi4",
        "colab_type": "code",
        "colab": {}
      },
      "cell_type": "code",
      "source": [
        "EPOCHS = 100"
      ],
      "execution_count": 0,
      "outputs": []
    },
    {
      "metadata": {
        "id": "B0Gm4LylbU25",
        "colab_type": "code",
        "colab": {}
      },
      "cell_type": "code",
      "source": [
        "import os\n",
        "logs_path = \"./logs/embedding/\"  # path to the folder that we want to save the logs for Tensorboard"
      ],
      "execution_count": 0,
      "outputs": []
    },
    {
      "metadata": {
        "id": "b8PfIhXqbayL",
        "colab_type": "code",
        "colab": {}
      },
      "cell_type": "code",
      "source": [
        "merged = tf.summary.merge_all()"
      ],
      "execution_count": 0,
      "outputs": []
    },
    {
      "metadata": {
        "id": "dyifXDRlcE2s",
        "colab_type": "code",
        "colab": {}
      },
      "cell_type": "code",
      "source": [
        "BATCH_SIZE = 512"
      ],
      "execution_count": 0,
      "outputs": []
    },
    {
      "metadata": {
        "id": "IAw1R-c0cGsn",
        "colab_type": "code",
        "colab": {}
      },
      "cell_type": "code",
      "source": [
        "EPOCHS = 100"
      ],
      "execution_count": 0,
      "outputs": []
    },
    {
      "metadata": {
        "id": "etcSVRRS1y9Z",
        "colab_type": "code",
        "colab": {}
      },
      "cell_type": "code",
      "source": [
        "# total_steps_for_one_pass"
      ],
      "execution_count": 0,
      "outputs": []
    },
    {
      "metadata": {
        "id": "o6n9Cv8Wbf_K",
        "colab_type": "code",
        "outputId": "bcf8af6b-caed-431c-a1c4-a10360bb93fb",
        "colab": {
          "base_uri": "https://localhost:8080/",
          "height": 8568
        }
      },
      "cell_type": "code",
      "source": [
        "validation_accuracy_track = []\n",
        "train_accuracy_track = []\n",
        "connection_probability_track = []\n",
        "print_every = 1\n",
        "number_of_ex = X_train.shape[0]\n",
        "total_steps_for_one_pass = number_of_ex//BATCH_SIZE + 1\n",
        "\n",
        "with tf.Session() as sess:\n",
        "    sess.run(tf.global_variables_initializer())\n",
        "    num_examples = len(X_train)\n",
        "    best_accuracy_valid = 0\n",
        "    \n",
        "    print(\"Training...\")\n",
        "    print()\n",
        "    for i in range(EPOCHS):\n",
        "        X_train, y_train = shuffle(X_train, y_train)\n",
        "        X_train, y_train = shuffle(images, labels)\n",
        "\n",
        "        for offset in range(0, num_examples, BATCH_SIZE):\n",
        "          end = offset + BATCH_SIZE\n",
        "          batch_x, batch_y = X_train[offset:end], y_train[offset:end]\n",
        "          \n",
        "#         for step in range(0, total_steps_for_one_pass):  \n",
        "# #           print(step)\n",
        "#           if step>=number_of_ex//BATCH_SIZE:\n",
        "#             batch_x, batch_y = X_train[step*BATCH_SIZE:,:,:,:],y_train[step*BATCH_SIZE:]\n",
        "# #             print(step,'Finishing',step*BATCH_SIZE )\n",
        "#             step = 0\n",
        "\n",
        "#           else:\n",
        "\n",
        "#             start = step*BATCH_SIZE\n",
        "#             finish = (step+1)*BATCH_SIZE\n",
        "# #             print(step,'Doing', 'Start = ', start, \"Finish = \", finish)\n",
        "#             batch_x, batch_y = X_train[step:finish,:,:,:],y_train[step:finish]\n",
        "  \n",
        "          tr_op = sess.run([training_operation], feed_dict={x: batch_x, y: batch_y, is_testing : False})\n",
        "#         print(i)  \n",
        "        if i%print_every == 0:\n",
        "          prob = sess.run(new_prob)\n",
        "          print(prob)\n",
        "          validation_accuracy = evaluate(X_validation, y_validation)\n",
        "          validation_accuracy_track.append(validation_accuracy)\n",
        "          tr_accuracy = evaluate(X_train, y_train)\n",
        "          print(\"Train Accuracy = {:.5f}\".format(tr_accuracy))\n",
        "          train_accuracy_track.append(tr_accuracy)\n",
        "          connection_probability_track.append(prob)\n",
        "          print(\"EPOCH {} ...\".format(i+1))\n",
        "          print(\"Validation Accuracy = {:.5f}\".format(validation_accuracy))\n",
        "          print()\n",
        "          if (validation_accuracy >= best_accuracy_valid):\n",
        "            best_accuracy_valid = validation_accuracy\n",
        "            saver.save(sess, './lenet5')\n",
        "        \n",
        "#     saver.save(sess, './lenet')\n",
        "    print(\"Model saved\")"
      ],
      "execution_count": 67,
      "outputs": [
        {
          "output_type": "stream",
          "text": [
            "Training...\n",
            "\n",
            "0.45\n",
            "Train Accuracy = 0.93708\n",
            "EPOCH 1 ...\n",
            "Validation Accuracy = 0.93677\n",
            "\n",
            "0.225\n",
            "Train Accuracy = 0.97996\n",
            "EPOCH 2 ...\n",
            "Validation Accuracy = 0.97908\n",
            "\n",
            "0.1125\n",
            "Train Accuracy = 0.98826\n",
            "EPOCH 3 ...\n",
            "Validation Accuracy = 0.98722\n",
            "\n",
            "0.05625\n",
            "Train Accuracy = 0.98852\n",
            "EPOCH 4 ...\n",
            "Validation Accuracy = 0.98685\n",
            "\n",
            "0.028125\n",
            "Train Accuracy = 0.99041\n",
            "EPOCH 5 ...\n",
            "Validation Accuracy = 0.98877\n",
            "\n",
            "0.0140625\n",
            "Train Accuracy = 0.99329\n",
            "EPOCH 6 ...\n",
            "Validation Accuracy = 0.99097\n",
            "\n",
            "0.00703125\n",
            "Train Accuracy = 0.99416\n",
            "EPOCH 7 ...\n",
            "Validation Accuracy = 0.99258\n",
            "\n",
            "0.003515625\n",
            "Train Accuracy = 0.99484\n",
            "EPOCH 8 ...\n",
            "Validation Accuracy = 0.99297\n",
            "\n",
            "0.0017578125\n",
            "Train Accuracy = 0.99540\n",
            "EPOCH 9 ...\n",
            "Validation Accuracy = 0.99340\n",
            "\n",
            "0.0008789062\n",
            "Train Accuracy = 0.99607\n",
            "EPOCH 10 ...\n",
            "Validation Accuracy = 0.99438\n",
            "\n",
            "0.0004394531\n",
            "Train Accuracy = 0.99719\n",
            "EPOCH 11 ...\n",
            "Validation Accuracy = 0.99528\n",
            "\n",
            "0.00021972656\n",
            "Train Accuracy = 0.99692\n",
            "EPOCH 12 ...\n",
            "Validation Accuracy = 0.99503\n",
            "\n",
            "0.00010986328\n",
            "Train Accuracy = 0.99676\n",
            "EPOCH 13 ...\n",
            "Validation Accuracy = 0.99447\n",
            "\n",
            "5.493164e-05\n",
            "Train Accuracy = 0.99504\n",
            "EPOCH 14 ...\n",
            "Validation Accuracy = 0.99265\n",
            "\n",
            "2.746582e-05\n",
            "Train Accuracy = 0.99797\n",
            "EPOCH 15 ...\n",
            "Validation Accuracy = 0.99582\n",
            "\n",
            "1.373291e-05\n",
            "Train Accuracy = 0.99801\n",
            "EPOCH 16 ...\n",
            "Validation Accuracy = 0.99588\n",
            "\n",
            "6.866455e-06\n",
            "Train Accuracy = 0.99792\n",
            "EPOCH 17 ...\n",
            "Validation Accuracy = 0.99540\n",
            "\n",
            "3.4332274e-06\n",
            "Train Accuracy = 0.99823\n",
            "EPOCH 18 ...\n",
            "Validation Accuracy = 0.99575\n",
            "\n",
            "1.7166137e-06\n",
            "Train Accuracy = 0.99805\n",
            "EPOCH 19 ...\n",
            "Validation Accuracy = 0.99570\n",
            "\n",
            "8.5830686e-07\n",
            "Train Accuracy = 0.99847\n",
            "EPOCH 20 ...\n",
            "Validation Accuracy = 0.99643\n",
            "\n",
            "4.2915343e-07\n",
            "Train Accuracy = 0.99842\n",
            "EPOCH 21 ...\n",
            "Validation Accuracy = 0.99597\n",
            "\n",
            "2.1457672e-07\n",
            "Train Accuracy = 0.99867\n",
            "EPOCH 22 ...\n",
            "Validation Accuracy = 0.99627\n",
            "\n",
            "1.0728836e-07\n",
            "Train Accuracy = 0.99813\n",
            "EPOCH 23 ...\n",
            "Validation Accuracy = 0.99567\n",
            "\n",
            "5.364418e-08\n",
            "Train Accuracy = 0.99880\n",
            "EPOCH 24 ...\n",
            "Validation Accuracy = 0.99643\n",
            "\n",
            "2.682209e-08\n",
            "Train Accuracy = 0.99850\n",
            "EPOCH 25 ...\n",
            "Validation Accuracy = 0.99648\n",
            "\n",
            "1.3411045e-08\n",
            "Train Accuracy = 0.99789\n",
            "EPOCH 26 ...\n",
            "Validation Accuracy = 0.99540\n",
            "\n",
            "6.7055224e-09\n",
            "Train Accuracy = 0.99873\n",
            "EPOCH 27 ...\n",
            "Validation Accuracy = 0.99672\n",
            "\n",
            "3.3527612e-09\n",
            "Train Accuracy = 0.99766\n",
            "EPOCH 28 ...\n",
            "Validation Accuracy = 0.99522\n",
            "\n",
            "1.6763806e-09\n",
            "Train Accuracy = 0.99792\n",
            "EPOCH 29 ...\n",
            "Validation Accuracy = 0.99575\n",
            "\n",
            "8.381903e-10\n",
            "Train Accuracy = 0.99761\n",
            "EPOCH 30 ...\n",
            "Validation Accuracy = 0.99530\n",
            "\n",
            "4.1909515e-10\n",
            "Train Accuracy = 0.99812\n",
            "EPOCH 31 ...\n",
            "Validation Accuracy = 0.99583\n",
            "\n",
            "2.0954757e-10\n",
            "Train Accuracy = 0.99856\n",
            "EPOCH 32 ...\n",
            "Validation Accuracy = 0.99625\n",
            "\n",
            "1.0477379e-10\n",
            "Train Accuracy = 0.99896\n",
            "EPOCH 33 ...\n",
            "Validation Accuracy = 0.99672\n",
            "\n",
            "5.2386893e-11\n",
            "Train Accuracy = 0.99812\n",
            "EPOCH 34 ...\n",
            "Validation Accuracy = 0.99575\n",
            "\n",
            "2.6193447e-11\n",
            "Train Accuracy = 0.99862\n",
            "EPOCH 35 ...\n",
            "Validation Accuracy = 0.99625\n",
            "\n",
            "1.3096723e-11\n",
            "Train Accuracy = 0.99902\n",
            "EPOCH 36 ...\n",
            "Validation Accuracy = 0.99703\n",
            "\n",
            "6.5483617e-12\n",
            "Train Accuracy = 0.99836\n",
            "EPOCH 37 ...\n",
            "Validation Accuracy = 0.99603\n",
            "\n",
            "3.2741808e-12\n",
            "Train Accuracy = 0.99873\n",
            "EPOCH 38 ...\n",
            "Validation Accuracy = 0.99640\n",
            "\n",
            "1.6370904e-12\n",
            "Train Accuracy = 0.99810\n",
            "EPOCH 39 ...\n",
            "Validation Accuracy = 0.99605\n",
            "\n",
            "8.185452e-13\n",
            "Train Accuracy = 0.99811\n",
            "EPOCH 40 ...\n",
            "Validation Accuracy = 0.99545\n",
            "\n",
            "4.092726e-13\n",
            "Train Accuracy = 0.99904\n",
            "EPOCH 41 ...\n",
            "Validation Accuracy = 0.99673\n",
            "\n",
            "2.046363e-13\n",
            "Train Accuracy = 0.99864\n",
            "EPOCH 42 ...\n",
            "Validation Accuracy = 0.99653\n",
            "\n",
            "1.0231815e-13\n",
            "Train Accuracy = 0.99829\n",
            "EPOCH 43 ...\n",
            "Validation Accuracy = 0.99607\n",
            "\n",
            "5.1159076e-14\n",
            "Train Accuracy = 0.99906\n",
            "EPOCH 44 ...\n",
            "Validation Accuracy = 0.99708\n",
            "\n",
            "2.5579538e-14\n",
            "Train Accuracy = 0.99906\n",
            "EPOCH 45 ...\n",
            "Validation Accuracy = 0.99677\n",
            "\n",
            "1.2789769e-14\n",
            "Train Accuracy = 0.99891\n",
            "EPOCH 46 ...\n",
            "Validation Accuracy = 0.99680\n",
            "\n",
            "6.3948845e-15\n",
            "Train Accuracy = 0.99873\n",
            "EPOCH 47 ...\n",
            "Validation Accuracy = 0.99647\n",
            "\n",
            "3.1974422e-15\n",
            "Train Accuracy = 0.99866\n",
            "EPOCH 48 ...\n",
            "Validation Accuracy = 0.99592\n",
            "\n",
            "1.5987211e-15\n",
            "Train Accuracy = 0.99939\n",
            "EPOCH 49 ...\n",
            "Validation Accuracy = 0.99730\n",
            "\n",
            "7.9936056e-16\n",
            "Train Accuracy = 0.99903\n",
            "EPOCH 50 ...\n",
            "Validation Accuracy = 0.99678\n",
            "\n",
            "3.9968028e-16\n",
            "Train Accuracy = 0.99933\n",
            "EPOCH 51 ...\n",
            "Validation Accuracy = 0.99715\n",
            "\n",
            "1.9984014e-16\n",
            "Train Accuracy = 0.99938\n",
            "EPOCH 52 ...\n",
            "Validation Accuracy = 0.99753\n",
            "\n",
            "9.992007e-17\n",
            "Train Accuracy = 0.99881\n",
            "EPOCH 53 ...\n",
            "Validation Accuracy = 0.99670\n",
            "\n",
            "4.9960035e-17\n",
            "Train Accuracy = 0.99918\n",
            "EPOCH 54 ...\n",
            "Validation Accuracy = 0.99670\n",
            "\n",
            "2.4980017e-17\n",
            "Train Accuracy = 0.99876\n",
            "EPOCH 55 ...\n",
            "Validation Accuracy = 0.99690\n",
            "\n",
            "1.2490009e-17\n",
            "Train Accuracy = 0.99866\n",
            "EPOCH 56 ...\n",
            "Validation Accuracy = 0.99622\n",
            "\n",
            "6.2450043e-18\n",
            "Train Accuracy = 0.99884\n",
            "EPOCH 57 ...\n",
            "Validation Accuracy = 0.99617\n",
            "\n",
            "3.1225022e-18\n",
            "Train Accuracy = 0.99923\n",
            "EPOCH 58 ...\n",
            "Validation Accuracy = 0.99677\n",
            "\n",
            "1.5612511e-18\n",
            "Train Accuracy = 0.99947\n",
            "EPOCH 59 ...\n",
            "Validation Accuracy = 0.99745\n",
            "\n",
            "7.8062554e-19\n",
            "Train Accuracy = 0.99797\n",
            "EPOCH 60 ...\n",
            "Validation Accuracy = 0.99577\n",
            "\n",
            "3.9031277e-19\n",
            "Train Accuracy = 0.99930\n",
            "EPOCH 61 ...\n",
            "Validation Accuracy = 0.99668\n",
            "\n",
            "1.9515639e-19\n",
            "Train Accuracy = 0.99898\n",
            "EPOCH 62 ...\n",
            "Validation Accuracy = 0.99668\n",
            "\n",
            "9.757819e-20\n",
            "Train Accuracy = 0.99926\n",
            "EPOCH 63 ...\n",
            "Validation Accuracy = 0.99688\n",
            "\n",
            "4.8789096e-20\n",
            "Train Accuracy = 0.99888\n",
            "EPOCH 64 ...\n",
            "Validation Accuracy = 0.99658\n",
            "\n",
            "2.4394548e-20\n",
            "Train Accuracy = 0.99814\n",
            "EPOCH 65 ...\n",
            "Validation Accuracy = 0.99572\n",
            "\n",
            "1.2197274e-20\n",
            "Train Accuracy = 0.99940\n",
            "EPOCH 66 ...\n",
            "Validation Accuracy = 0.99722\n",
            "\n",
            "6.098637e-21\n",
            "Train Accuracy = 0.99878\n",
            "EPOCH 67 ...\n",
            "Validation Accuracy = 0.99690\n",
            "\n",
            "3.0493185e-21\n",
            "Train Accuracy = 0.99908\n",
            "EPOCH 68 ...\n",
            "Validation Accuracy = 0.99682\n",
            "\n",
            "1.5246593e-21\n",
            "Train Accuracy = 0.99924\n",
            "EPOCH 69 ...\n",
            "Validation Accuracy = 0.99687\n",
            "\n",
            "7.6232963e-22\n",
            "Train Accuracy = 0.99904\n",
            "EPOCH 70 ...\n",
            "Validation Accuracy = 0.99683\n",
            "\n",
            "3.8116482e-22\n",
            "Train Accuracy = 0.99943\n",
            "EPOCH 71 ...\n",
            "Validation Accuracy = 0.99730\n",
            "\n",
            "1.9058241e-22\n",
            "Train Accuracy = 0.99948\n",
            "EPOCH 72 ...\n",
            "Validation Accuracy = 0.99722\n",
            "\n",
            "9.5291204e-23\n",
            "Train Accuracy = 0.99934\n",
            "EPOCH 73 ...\n",
            "Validation Accuracy = 0.99718\n",
            "\n",
            "4.7645602e-23\n",
            "Train Accuracy = 0.99910\n",
            "EPOCH 74 ...\n",
            "Validation Accuracy = 0.99683\n",
            "\n",
            "2.3822801e-23\n",
            "Train Accuracy = 0.99934\n",
            "EPOCH 75 ...\n",
            "Validation Accuracy = 0.99732\n",
            "\n",
            "1.19114005e-23\n",
            "Train Accuracy = 0.99913\n",
            "EPOCH 76 ...\n",
            "Validation Accuracy = 0.99685\n",
            "\n",
            "5.9557003e-24\n",
            "Train Accuracy = 0.99960\n",
            "EPOCH 77 ...\n",
            "Validation Accuracy = 0.99758\n",
            "\n",
            "2.9778501e-24\n",
            "Train Accuracy = 0.99939\n",
            "EPOCH 78 ...\n",
            "Validation Accuracy = 0.99737\n",
            "\n",
            "1.4889251e-24\n",
            "Train Accuracy = 0.99918\n",
            "EPOCH 79 ...\n",
            "Validation Accuracy = 0.99715\n",
            "\n",
            "7.4446253e-25\n",
            "Train Accuracy = 0.99954\n",
            "EPOCH 80 ...\n",
            "Validation Accuracy = 0.99765\n",
            "\n",
            "3.7223127e-25\n",
            "Train Accuracy = 0.99890\n",
            "EPOCH 81 ...\n",
            "Validation Accuracy = 0.99678\n",
            "\n",
            "1.8611563e-25\n",
            "Train Accuracy = 0.99901\n",
            "EPOCH 82 ...\n",
            "Validation Accuracy = 0.99667\n",
            "\n",
            "9.3057816e-26\n",
            "Train Accuracy = 0.99965\n",
            "EPOCH 83 ...\n",
            "Validation Accuracy = 0.99772\n",
            "\n",
            "4.6528908e-26\n",
            "Train Accuracy = 0.99902\n",
            "EPOCH 84 ...\n",
            "Validation Accuracy = 0.99720\n",
            "\n",
            "2.3264454e-26\n",
            "Train Accuracy = 0.99898\n",
            "EPOCH 85 ...\n",
            "Validation Accuracy = 0.99700\n",
            "\n",
            "1.1632227e-26\n",
            "Train Accuracy = 0.99936\n",
            "EPOCH 86 ...\n",
            "Validation Accuracy = 0.99743\n",
            "\n",
            "5.8161135e-27\n",
            "Train Accuracy = 0.99935\n",
            "EPOCH 87 ...\n",
            "Validation Accuracy = 0.99700\n",
            "\n",
            "2.9080568e-27\n",
            "Train Accuracy = 0.99939\n",
            "EPOCH 88 ...\n",
            "Validation Accuracy = 0.99743\n",
            "\n",
            "1.4540284e-27\n",
            "Train Accuracy = 0.99948\n",
            "EPOCH 89 ...\n",
            "Validation Accuracy = 0.99772\n",
            "\n",
            "7.270142e-28\n",
            "Train Accuracy = 0.99930\n",
            "EPOCH 90 ...\n",
            "Validation Accuracy = 0.99725\n",
            "\n",
            "3.635071e-28\n",
            "Train Accuracy = 0.99944\n",
            "EPOCH 91 ...\n",
            "Validation Accuracy = 0.99753\n",
            "\n",
            "1.8175355e-28\n",
            "Train Accuracy = 0.99926\n",
            "EPOCH 92 ...\n",
            "Validation Accuracy = 0.99705\n",
            "\n",
            "9.0876774e-29\n",
            "Train Accuracy = 0.99899\n",
            "EPOCH 93 ...\n",
            "Validation Accuracy = 0.99697\n",
            "\n",
            "4.5438387e-29\n",
            "Train Accuracy = 0.99913\n",
            "EPOCH 94 ...\n",
            "Validation Accuracy = 0.99718\n",
            "\n",
            "2.2719193e-29\n",
            "Train Accuracy = 0.99951\n",
            "EPOCH 95 ...\n",
            "Validation Accuracy = 0.99752\n",
            "\n",
            "1.1359597e-29\n",
            "Train Accuracy = 0.99901\n",
            "EPOCH 96 ...\n",
            "Validation Accuracy = 0.99710\n",
            "\n",
            "5.6797984e-30\n",
            "Train Accuracy = 0.99949\n",
            "EPOCH 97 ...\n",
            "Validation Accuracy = 0.99760\n",
            "\n",
            "2.8398992e-30\n",
            "Train Accuracy = 0.99929\n",
            "EPOCH 98 ...\n",
            "Validation Accuracy = 0.99692\n",
            "\n",
            "1.4199496e-30\n",
            "Train Accuracy = 0.99965\n",
            "EPOCH 99 ...\n",
            "Validation Accuracy = 0.99783\n",
            "\n",
            "7.099748e-31\n",
            "Train Accuracy = 0.99961\n",
            "EPOCH 100 ...\n",
            "Validation Accuracy = 0.99735\n",
            "\n",
            "Model saved\n"
          ],
          "name": "stdout"
        }
      ]
    },
    {
      "metadata": {
        "id": "LMkW97BfhrFk",
        "colab_type": "code",
        "colab": {
          "base_uri": "https://localhost:8080/",
          "height": 34
        },
        "outputId": "77ad1255-3ef1-4c4c-8026-64f08de3a242"
      },
      "cell_type": "code",
      "source": [
        "best_accuracy_valid"
      ],
      "execution_count": 68,
      "outputs": [
        {
          "output_type": "execute_result",
          "data": {
            "text/plain": [
              "0.9978333333333333"
            ]
          },
          "metadata": {
            "tags": []
          },
          "execution_count": 68
        }
      ]
    },
    {
      "metadata": {
        "id": "bKU1MIyJCy6Y",
        "colab_type": "code",
        "colab": {}
      },
      "cell_type": "code",
      "source": [
        "# with tf.Session() as sess:\n",
        "#     sess.run(tf.global_variables_initializer())\n",
        "#     num_examples = len(X_train)\n",
        "#     best_accuracy_valid = 0\n",
        "    \n",
        "#     print(\"Training...\")\n",
        "#     print()\n",
        "#     for i in range(EPOCHS):\n",
        "#         X_train, y_train = shuffle(images, labels)\n",
        "#         for offset in range(0, num_examples, BATCH_SIZE):\n",
        "#             end = offset + BATCH_SIZE\n",
        "#             batch_x, batch_y = X_train[offset:end], y_train[offset:end]\n",
        "#             tr_op = sess.run([training_operation], feed_dict={x: batch_x, y: batch_y, is_testing : False})\n",
        "#             \n",
        "#             prob = sess.run(new_prob)\n",
        "#         print(prob)\n",
        "#         validation_accuracy = evaluate(X_validation, y_validation)\n",
        "#         print(\"EPOCH {} ...\".format(i+1))\n",
        "#         print(\"Validation Accuracy = {:.3f}\".format(validation_accuracy))\n",
        "#         print()\n",
        "#         if (validation_accuracy >= best_accuracy_valid):\n",
        "#           best_accuracy_valid = validation_accuracy\n",
        "#           saver.save(sess, './lenet')\n",
        "        \n",
        "# #     saver.save(sess, './lenet')\n",
        "#     print(\"Model saved\")"
      ],
      "execution_count": 0,
      "outputs": []
    },
    {
      "metadata": {
        "id": "yVIeYA_cCy6e",
        "colab_type": "text"
      },
      "cell_type": "markdown",
      "source": [
        "## Evaluate the Model\n",
        "Once you are completely satisfied with your model, evaluate the performance of the model on the test set.\n",
        "\n",
        "Be sure to only do this once!\n",
        "\n",
        "If you were to measure the performance of your trained model on the test set, then improve your model, and then measure the performance of your model on the test set again, that would invalidate your test results. You wouldn't get a true measure of how well your model would perform against real data.\n",
        "\n",
        "You do not need to modify this section."
      ]
    },
    {
      "metadata": {
        "id": "O4b5lSD5H_q9",
        "colab_type": "code",
        "outputId": "50ec1fd9-cab7-46f4-c4ff-bb042664ca55",
        "colab": {
          "base_uri": "https://localhost:8080/",
          "height": 51
        }
      },
      "cell_type": "code",
      "source": [
        "with tf.Session() as sess:\n",
        "#     saver.restore(sess, tf.train.latest_checkpoint('.'))\n",
        "    saver.restore(sess, './lenet5')\n",
        "    test_accuracy = evaluate(X_validation, y_validation)\n",
        "    print(\"Validation Accuracy = {:.5f}\".format(test_accuracy))"
      ],
      "execution_count": 69,
      "outputs": [
        {
          "output_type": "stream",
          "text": [
            "INFO:tensorflow:Restoring parameters from ./lenet5\n",
            "Validation Accuracy = 0.99783\n"
          ],
          "name": "stdout"
        }
      ]
    },
    {
      "metadata": {
        "id": "bJONJ7CeCy6f",
        "colab_type": "code",
        "outputId": "0c224f59-cde3-41b7-d40c-63f00c216766",
        "colab": {
          "base_uri": "https://localhost:8080/",
          "height": 51
        }
      },
      "cell_type": "code",
      "source": [
        "with tf.Session() as sess:\n",
        "#     saver.restore(sess, tf.train.latest_checkpoint('.'))\n",
        "    saver.restore(sess, './lenet5')\n",
        "    test_accuracy = evaluate(X_test, y_test)\n",
        "    print(\"Test Accuracy = {:.5f}\".format(test_accuracy))"
      ],
      "execution_count": 70,
      "outputs": [
        {
          "output_type": "stream",
          "text": [
            "INFO:tensorflow:Restoring parameters from ./lenet5\n",
            "Test Accuracy = 0.99240\n"
          ],
          "name": "stdout"
        }
      ]
    },
    {
      "metadata": {
        "id": "GSJ1mqpGmeqG",
        "colab_type": "code",
        "colab": {
          "base_uri": "https://localhost:8080/",
          "height": 34
        },
        "outputId": "39677980-495c-4b12-8c29-c5a1e7f47633"
      },
      "cell_type": "code",
      "source": [
        "(1-test_accuracy)*100"
      ],
      "execution_count": 72,
      "outputs": [
        {
          "output_type": "execute_result",
          "data": {
            "text/plain": [
              "0.7600000286102304"
            ]
          },
          "metadata": {
            "tags": []
          },
          "execution_count": 72
        }
      ]
    },
    {
      "metadata": {
        "id": "GAN9CwuEmngK",
        "colab_type": "code",
        "colab": {}
      },
      "cell_type": "code",
      "source": [
        "import scipy.io as sio\n"
      ],
      "execution_count": 0,
      "outputs": []
    },
    {
      "metadata": {
        "id": "wxlg_sUWmndo",
        "colab_type": "code",
        "colab": {}
      },
      "cell_type": "code",
      "source": [
        "epochTrack = [k for k in range(1,110,10)]\n",
        "\n"
      ],
      "execution_count": 0,
      "outputs": []
    },
    {
      "metadata": {
        "id": "S3vZjD2Imnau",
        "colab_type": "code",
        "colab": {}
      },
      "cell_type": "code",
      "source": [
        "sio.savemat('LeNEt5PRobBasedValid99p78Test99p24.mat', {'ValidationTracked':validation_accuracy_track,\n",
        "                                       'train_accuracy_track':train_accuracy_track,\n",
        "                                       'connection_probability_track':connection_probability_track,\n",
        "                                       'epochTrack':epochTrack, 'TestAcc':test_accuracy,\n",
        "                                                         'BestValidation':best_accuracy_valid})"
      ],
      "execution_count": 0,
      "outputs": []
    },
    {
      "metadata": {
        "id": "qvRqnUrrCy6m",
        "colab_type": "code",
        "colab": {}
      },
      "cell_type": "code",
      "source": [
        "def write_sprite_image(filename, images):\n",
        "    \"\"\"\n",
        "        Create a sprite image consisting of sample images\n",
        "        :param filename: name of the file to save on disk\n",
        "        :param shape: tensor of flattened images\n",
        "    \"\"\"\n",
        "\n",
        "    # Invert grayscale image\n",
        "    images = 1 - images\n",
        "\n",
        "    # Calculate number of plot\n",
        "    n_plots = int(np.ceil(np.sqrt(images.shape[0])))\n",
        "\n",
        "    # Make the background of sprite image\n",
        "    sprite_image = np.ones((img_h * n_plots, img_w * n_plots))\n",
        "\n",
        "    for i in range(n_plots):\n",
        "        for j in range(n_plots):\n",
        "            img_idx = i * n_plots + j\n",
        "            if img_idx < images.shape[0]:\n",
        "                img = images[img_idx]\n",
        "                sprite_image[i * img_h:(i + 1) * img_h,\n",
        "                j * img_w:(j + 1) * img_w] = img\n",
        "\n",
        "    plt.imsave(filename, sprite_image, cmap='gray')\n",
        "    print('Sprite image saved in {}'.format(filename))\n",
        "\n",
        "def write_metadata(filename, labels):\n",
        "    \"\"\"\n",
        "            Create a metadata file image consisting of sample indices and labels\n",
        "            :param filename: name of the file to save on disk\n",
        "            :param shape: tensor of labels\n",
        "    \"\"\"\n",
        "    with open(filename, 'w') as f:\n",
        "        f.write(\"Index\\tLabel\\n\")\n",
        "        for index, label in enumerate(labels):\n",
        "            f.write(\"{}\\t{}\\n\".format(index, label))\n",
        "\n",
        "    print('Metadata file saved in {}'.format(filename))\n",
        " "
      ],
      "execution_count": 0,
      "outputs": []
    },
    {
      "metadata": {
        "id": "e2S6lFLBySfi",
        "colab_type": "code",
        "colab": {}
      },
      "cell_type": "code",
      "source": [
        "img_w = 32\n",
        "img_h = 32"
      ],
      "execution_count": 0,
      "outputs": []
    },
    {
      "metadata": {
        "id": "BuqVjiWmwqJ-",
        "colab_type": "code",
        "outputId": "a5469f6e-d005-47a2-f12d-8f670ec3d6bc",
        "colab": {
          "base_uri": "https://localhost:8080/",
          "height": 225
        }
      },
      "cell_type": "code",
      "source": [
        "# Reshape images from vector to matrix\n",
        "x_test_images = np.reshape(np.array(X_test), (-1, img_w, img_h))\n",
        "# Reshape labels from one-hot-encode to index\n",
        "x_test_labels = y_test\n",
        "\n",
        "write_sprite_image(os.path.join(logs_path, 'sprite_images.png'), x_test_images)\n",
        "write_metadata(os.path.join(logs_path, 'metadata.tsv'), x_test_labels)"
      ],
      "execution_count": 0,
      "outputs": [
        {
          "output_type": "error",
          "ename": "NameError",
          "evalue": "ignored",
          "traceback": [
            "\u001b[0;31m---------------------------------------------------------------------------\u001b[0m",
            "\u001b[0;31mNameError\u001b[0m                                 Traceback (most recent call last)",
            "\u001b[0;32m<ipython-input-25-eec30453d89c>\u001b[0m in \u001b[0;36m<module>\u001b[0;34m()\u001b[0m\n\u001b[1;32m      3\u001b[0m \u001b[0mx_test_labels\u001b[0m \u001b[0;34m=\u001b[0m \u001b[0my_test\u001b[0m\u001b[0;34m\u001b[0m\u001b[0;34m\u001b[0m\u001b[0m\n\u001b[1;32m      4\u001b[0m \u001b[0;34m\u001b[0m\u001b[0m\n\u001b[0;32m----> 5\u001b[0;31m \u001b[0mwrite_sprite_image\u001b[0m\u001b[0;34m(\u001b[0m\u001b[0mos\u001b[0m\u001b[0;34m.\u001b[0m\u001b[0mpath\u001b[0m\u001b[0;34m.\u001b[0m\u001b[0mjoin\u001b[0m\u001b[0;34m(\u001b[0m\u001b[0mlogs_path\u001b[0m\u001b[0;34m,\u001b[0m \u001b[0;34m'sprite_images.png'\u001b[0m\u001b[0;34m)\u001b[0m\u001b[0;34m,\u001b[0m \u001b[0mx_test_images\u001b[0m\u001b[0;34m)\u001b[0m\u001b[0;34m\u001b[0m\u001b[0;34m\u001b[0m\u001b[0m\n\u001b[0m\u001b[1;32m      6\u001b[0m \u001b[0mwrite_metadata\u001b[0m\u001b[0;34m(\u001b[0m\u001b[0mos\u001b[0m\u001b[0;34m.\u001b[0m\u001b[0mpath\u001b[0m\u001b[0;34m.\u001b[0m\u001b[0mjoin\u001b[0m\u001b[0;34m(\u001b[0m\u001b[0mlogs_path\u001b[0m\u001b[0;34m,\u001b[0m \u001b[0;34m'metadata.tsv'\u001b[0m\u001b[0;34m)\u001b[0m\u001b[0;34m,\u001b[0m \u001b[0mx_test_labels\u001b[0m\u001b[0;34m)\u001b[0m\u001b[0;34m\u001b[0m\u001b[0;34m\u001b[0m\u001b[0m\n",
            "\u001b[0;31mNameError\u001b[0m: name 'os' is not defined"
          ]
        }
      ]
    },
    {
      "metadata": {
        "id": "ma8GQKVWwswP",
        "colab_type": "code",
        "colab": {}
      },
      "cell_type": "code",
      "source": [
        "!wget https://bin.equinox.io/c/4VmDzA7iaHb/ngrok-stable-linux-amd64.zip\n",
        "!unzip -o ngrok-stable-linux-amd64.zip\n",
        "# logdir=logs/embedding/\n",
        "LOG_DIR = 'logs/embedding/'\n",
        "get_ipython().system_raw(\n",
        "    'tensorboard --logdir {} --host 0.0.0.0 --port 6006 &'\n",
        "    .format(LOG_DIR)\n",
        ")\n",
        "\n",
        "get_ipython().system_raw('./ngrok http 6006 &')"
      ],
      "execution_count": 0,
      "outputs": []
    },
    {
      "metadata": {
        "id": "b_PM5kqHwuZP",
        "colab_type": "code",
        "colab": {}
      },
      "cell_type": "code",
      "source": [
        "ngrok_url = !curl -s http://localhost:4040/api/tunnels | python -c \\\n",
        "    \"import sys, json; print(json.load(sys.stdin)['tunnels'][0]['public_url'])\"\n",
        "        \n",
        "ngrok_url = ngrok_url[0].replace(\"'\", '')\n",
        "print(ngrok_url)"
      ],
      "execution_count": 0,
      "outputs": []
    },
    {
      "metadata": {
        "id": "0WeHkK34wvyk",
        "colab_type": "code",
        "colab": {}
      },
      "cell_type": "code",
      "source": [
        "from IPython.display import IFrame\n",
        "\n",
        "IFrame(ngrok_url, width=700, height=900)"
      ],
      "execution_count": 0,
      "outputs": []
    }
  ]
}