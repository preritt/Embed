{
  "nbformat": 4,
  "nbformat_minor": 0,
  "metadata": {
    "colab": {
      "name": "PendigitFullValid97p4DatasetAdam_ProbabilityBased04282019.ipynb",
      "version": "0.3.2",
      "provenance": [],
      "collapsed_sections": [],
      "include_colab_link": true
    },
    "kernelspec": {
      "name": "python3",
      "display_name": "Python 3"
    },
    "accelerator": "GPU"
  },
  "cells": [
    {
      "cell_type": "markdown",
      "metadata": {
        "id": "view-in-github",
        "colab_type": "text"
      },
      "source": [
        "<a href=\"https://colab.research.google.com/github/preritt/Embed/blob/master/PendigitFullValid97p4DatasetAdam_ProbabilityBased04282019.ipynb\" target=\"_parent\"><img src=\"https://colab.research.google.com/assets/colab-badge.svg\" alt=\"Open In Colab\"/></a>"
      ]
    },
    {
      "metadata": {
        "id": "qWL1XvRKt0EI",
        "colab_type": "code",
        "colab": {}
      },
      "cell_type": "code",
      "source": [
        "import numpy as np\n",
        "import matplotlib.pyplot as plt\n",
        "import pandas as pd\n",
        "from sklearn.neural_network import MLPClassifier\n",
        "from sklearn.preprocessing import OneHotEncoder\n",
        "%matplotlib inline\n",
        "import tensorflow as tf"
      ],
      "execution_count": 0,
      "outputs": []
    },
    {
      "metadata": {
        "id": "4rTq2SzhyZgD",
        "colab_type": "code",
        "colab": {}
      },
      "cell_type": "code",
      "source": [
        "# from tensorflow.examples.tutorials.mnist import input_data\n",
        "\n",
        "# mnist = input_data.read_data_sets(\"MNIST_data/\", reshape=False)\n",
        "# X_train, y_train           = mnist.train.images, mnist.train.labels\n",
        "# X_validation, y_validation = mnist.validation.images, mnist.validation.labels\n",
        "# X_test, y_test             = mnist.test.images, mnist.test.labels\n",
        "\n",
        "# assert(len(X_train) == len(y_train))\n",
        "# assert(len(X_validation) == len(y_validation))\n",
        "# assert(len(X_test) == len(y_test))\n",
        "\n",
        "# print()\n",
        "# print(\"Image Shape: {}\".format(X_train[0].shape))\n",
        "# print()\n",
        "# print(\"Training Set:   {} samples\".format(len(X_train)))\n",
        "# print(\"Validation Set: {} samples\".format(len(X_validation)))\n",
        "# print(\"Test Set:       {} samples\".format(len(X_test)))"
      ],
      "execution_count": 0,
      "outputs": []
    },
    {
      "metadata": {
        "id": "lopHk729ydu5",
        "colab_type": "code",
        "colab": {}
      },
      "cell_type": "code",
      "source": [
        "# train_data = X_train.reshape(X_train.shape[0],-1)\n",
        "# train_label = y_train\n",
        "# validation_data = X_validation.reshape(X_validation.shape[0],-1)\n",
        "# validation_label = y_validation\n",
        "# test_data = X_test.reshape(X_test.shape[0],-1)\n",
        "# test_label = y_test"
      ],
      "execution_count": 0,
      "outputs": []
    },
    {
      "metadata": {
        "id": "yuoNYnTshaZC",
        "colab_type": "code",
        "colab": {}
      },
      "cell_type": "code",
      "source": [
        "# Load data\n",
        "train_data = np.load('X_train.npy')\n",
        "train_label = np.load('y_train.npy')\n",
        "validation_data = np.load('X_validation.npy')\n",
        "validation_label = np.load('y_validation.npy')\n",
        "test_data = np.load('X_test.npy')\n",
        "test_label = np.load('y_test.npy')"
      ],
      "execution_count": 0,
      "outputs": []
    },
    {
      "metadata": {
        "id": "G4FSwFTChgdn",
        "colab_type": "code",
        "colab": {}
      },
      "cell_type": "code",
      "source": [
        "train_valid_combined = np.concatenate((train_data, validation_data))\n",
        "train_valid_label = np.concatenate((train_label, validation_label))"
      ],
      "execution_count": 0,
      "outputs": []
    },
    {
      "metadata": {
        "id": "VloppGYRyrEX",
        "colab_type": "code",
        "outputId": "bf990851-b708-401f-ed6b-9999e0232958",
        "colab": {
          "base_uri": "https://localhost:8080/",
          "height": 8690
        }
      },
      "cell_type": "code",
      "source": [
        "clf = MLPClassifier(hidden_layer_sizes=(80, 40, ), max_iter=500, alpha=1e-4,\n",
        "                    solver='sgd', verbose=10, tol=1e-5, random_state=1,\n",
        "                    learning_rate_init=.01)\n",
        "\n",
        "\n",
        "clf.fit(train_data, train_label)"
      ],
      "execution_count": 5,
      "outputs": [
        {
          "output_type": "stream",
          "text": [
            "Iteration 1, loss = 1.95489119\n",
            "Iteration 2, loss = 0.98170180\n",
            "Iteration 3, loss = 0.50873149\n",
            "Iteration 4, loss = 0.33459205\n",
            "Iteration 5, loss = 0.25779496\n",
            "Iteration 6, loss = 0.21278694\n",
            "Iteration 7, loss = 0.18346620\n",
            "Iteration 8, loss = 0.15914957\n",
            "Iteration 9, loss = 0.14152727\n",
            "Iteration 10, loss = 0.12701235\n",
            "Iteration 11, loss = 0.11560525\n",
            "Iteration 12, loss = 0.10628861\n",
            "Iteration 13, loss = 0.09794105\n",
            "Iteration 14, loss = 0.09102073\n",
            "Iteration 15, loss = 0.08553084\n",
            "Iteration 16, loss = 0.08047449\n",
            "Iteration 17, loss = 0.07596875\n",
            "Iteration 18, loss = 0.07220618\n",
            "Iteration 19, loss = 0.06878648\n",
            "Iteration 20, loss = 0.06588877\n",
            "Iteration 21, loss = 0.06339299\n",
            "Iteration 22, loss = 0.06088005\n",
            "Iteration 23, loss = 0.05833481\n",
            "Iteration 24, loss = 0.05645611\n",
            "Iteration 25, loss = 0.05408837\n",
            "Iteration 26, loss = 0.05232453\n",
            "Iteration 27, loss = 0.05047872\n",
            "Iteration 28, loss = 0.04933457\n",
            "Iteration 29, loss = 0.04746194\n",
            "Iteration 30, loss = 0.04640093\n",
            "Iteration 31, loss = 0.04464777\n",
            "Iteration 32, loss = 0.04361155\n",
            "Iteration 33, loss = 0.04231529\n",
            "Iteration 34, loss = 0.04125936\n",
            "Iteration 35, loss = 0.04053062\n",
            "Iteration 36, loss = 0.03940358\n",
            "Iteration 37, loss = 0.03834965\n",
            "Iteration 38, loss = 0.03753469\n",
            "Iteration 39, loss = 0.03654027\n",
            "Iteration 40, loss = 0.03572254\n",
            "Iteration 41, loss = 0.03497387\n",
            "Iteration 42, loss = 0.03433652\n",
            "Iteration 43, loss = 0.03348544\n",
            "Iteration 44, loss = 0.03283693\n",
            "Iteration 45, loss = 0.03218934\n",
            "Iteration 46, loss = 0.03149528\n",
            "Iteration 47, loss = 0.03094953\n",
            "Iteration 48, loss = 0.03041304\n",
            "Iteration 49, loss = 0.02985878\n",
            "Iteration 50, loss = 0.02926056\n",
            "Iteration 51, loss = 0.02890535\n",
            "Iteration 52, loss = 0.02831707\n",
            "Iteration 53, loss = 0.02764853\n",
            "Iteration 54, loss = 0.02736471\n",
            "Iteration 55, loss = 0.02673735\n",
            "Iteration 56, loss = 0.02637397\n",
            "Iteration 57, loss = 0.02589611\n",
            "Iteration 58, loss = 0.02558105\n",
            "Iteration 59, loss = 0.02499821\n",
            "Iteration 60, loss = 0.02478820\n",
            "Iteration 61, loss = 0.02425511\n",
            "Iteration 62, loss = 0.02397880\n",
            "Iteration 63, loss = 0.02371509\n",
            "Iteration 64, loss = 0.02320203\n",
            "Iteration 65, loss = 0.02280332\n",
            "Iteration 66, loss = 0.02251338\n",
            "Iteration 67, loss = 0.02227458\n",
            "Iteration 68, loss = 0.02191484\n",
            "Iteration 69, loss = 0.02143715\n",
            "Iteration 70, loss = 0.02130694\n",
            "Iteration 71, loss = 0.02096261\n",
            "Iteration 72, loss = 0.02074336\n",
            "Iteration 73, loss = 0.02036040\n",
            "Iteration 74, loss = 0.01999286\n",
            "Iteration 75, loss = 0.01976113\n",
            "Iteration 76, loss = 0.01964329\n",
            "Iteration 77, loss = 0.01946378\n",
            "Iteration 78, loss = 0.01919776\n",
            "Iteration 79, loss = 0.01877982\n",
            "Iteration 80, loss = 0.01851510\n",
            "Iteration 81, loss = 0.01831039\n",
            "Iteration 82, loss = 0.01810026\n",
            "Iteration 83, loss = 0.01805545\n",
            "Iteration 84, loss = 0.01765292\n",
            "Iteration 85, loss = 0.01760867\n",
            "Iteration 86, loss = 0.01721313\n",
            "Iteration 87, loss = 0.01696317\n",
            "Iteration 88, loss = 0.01687569\n",
            "Iteration 89, loss = 0.01657610\n",
            "Iteration 90, loss = 0.01636889\n",
            "Iteration 91, loss = 0.01614179\n",
            "Iteration 92, loss = 0.01606604\n",
            "Iteration 93, loss = 0.01585744\n",
            "Iteration 94, loss = 0.01567951\n",
            "Iteration 95, loss = 0.01550237\n",
            "Iteration 96, loss = 0.01521800\n",
            "Iteration 97, loss = 0.01512489\n",
            "Iteration 98, loss = 0.01492536\n",
            "Iteration 99, loss = 0.01469476\n",
            "Iteration 100, loss = 0.01461964\n",
            "Iteration 101, loss = 0.01457004\n",
            "Iteration 102, loss = 0.01431109\n",
            "Iteration 103, loss = 0.01412683\n",
            "Iteration 104, loss = 0.01398944\n",
            "Iteration 105, loss = 0.01378379\n",
            "Iteration 106, loss = 0.01364602\n",
            "Iteration 107, loss = 0.01360926\n",
            "Iteration 108, loss = 0.01347256\n",
            "Iteration 109, loss = 0.01331756\n",
            "Iteration 110, loss = 0.01312382\n",
            "Iteration 111, loss = 0.01295702\n",
            "Iteration 112, loss = 0.01286147\n",
            "Iteration 113, loss = 0.01276808\n",
            "Iteration 114, loss = 0.01260671\n",
            "Iteration 115, loss = 0.01249043\n",
            "Iteration 116, loss = 0.01247270\n",
            "Iteration 117, loss = 0.01230549\n",
            "Iteration 118, loss = 0.01221680\n",
            "Iteration 119, loss = 0.01207492\n",
            "Iteration 120, loss = 0.01196955\n",
            "Iteration 121, loss = 0.01197146\n",
            "Iteration 122, loss = 0.01170303\n",
            "Iteration 123, loss = 0.01161692\n",
            "Iteration 124, loss = 0.01153516\n",
            "Iteration 125, loss = 0.01145848\n",
            "Iteration 126, loss = 0.01133453\n",
            "Iteration 127, loss = 0.01119464\n",
            "Iteration 128, loss = 0.01112531\n",
            "Iteration 129, loss = 0.01105446\n",
            "Iteration 130, loss = 0.01099228\n",
            "Iteration 131, loss = 0.01089062\n",
            "Iteration 132, loss = 0.01071887\n",
            "Iteration 133, loss = 0.01065959\n",
            "Iteration 134, loss = 0.01060974\n",
            "Iteration 135, loss = 0.01056412\n",
            "Iteration 136, loss = 0.01042939\n",
            "Iteration 137, loss = 0.01034429\n",
            "Iteration 138, loss = 0.01023560\n",
            "Iteration 139, loss = 0.01021425\n",
            "Iteration 140, loss = 0.01011674\n",
            "Iteration 141, loss = 0.01008340\n",
            "Iteration 142, loss = 0.00993935\n",
            "Iteration 143, loss = 0.00991796\n",
            "Iteration 144, loss = 0.00977318\n",
            "Iteration 145, loss = 0.00978138\n",
            "Iteration 146, loss = 0.00967579\n",
            "Iteration 147, loss = 0.00962418\n",
            "Iteration 148, loss = 0.00965236\n",
            "Iteration 149, loss = 0.00946203\n",
            "Iteration 150, loss = 0.00942940\n",
            "Iteration 151, loss = 0.00927938\n",
            "Iteration 152, loss = 0.00921360\n",
            "Iteration 153, loss = 0.00917654\n",
            "Iteration 154, loss = 0.00909055\n",
            "Iteration 155, loss = 0.00899737\n",
            "Iteration 156, loss = 0.00901189\n",
            "Iteration 157, loss = 0.00897226\n",
            "Iteration 158, loss = 0.00892190\n",
            "Iteration 159, loss = 0.00878435\n",
            "Iteration 160, loss = 0.00877368\n",
            "Iteration 161, loss = 0.00876143\n",
            "Iteration 162, loss = 0.00861978\n",
            "Iteration 163, loss = 0.00851081\n",
            "Iteration 164, loss = 0.00851410\n",
            "Iteration 165, loss = 0.00844975\n",
            "Iteration 166, loss = 0.00838342\n",
            "Iteration 167, loss = 0.00837549\n",
            "Iteration 168, loss = 0.00828231\n",
            "Iteration 169, loss = 0.00817145\n",
            "Iteration 170, loss = 0.00816321\n",
            "Iteration 171, loss = 0.00808684\n",
            "Iteration 172, loss = 0.00806949\n",
            "Iteration 173, loss = 0.00800791\n",
            "Iteration 174, loss = 0.00796241\n",
            "Iteration 175, loss = 0.00796155\n",
            "Iteration 176, loss = 0.00788167\n",
            "Iteration 177, loss = 0.00788849\n",
            "Iteration 178, loss = 0.00779037\n",
            "Iteration 179, loss = 0.00774054\n",
            "Iteration 180, loss = 0.00771362\n",
            "Iteration 181, loss = 0.00765176\n",
            "Iteration 182, loss = 0.00760335\n",
            "Iteration 183, loss = 0.00757704\n",
            "Iteration 184, loss = 0.00752110\n",
            "Iteration 185, loss = 0.00749897\n",
            "Iteration 186, loss = 0.00748372\n",
            "Iteration 187, loss = 0.00739768\n",
            "Iteration 188, loss = 0.00737927\n",
            "Iteration 189, loss = 0.00728785\n",
            "Iteration 190, loss = 0.00731329\n",
            "Iteration 191, loss = 0.00724249\n",
            "Iteration 192, loss = 0.00719424\n",
            "Iteration 193, loss = 0.00716928\n",
            "Iteration 194, loss = 0.00713646\n",
            "Iteration 195, loss = 0.00705879\n",
            "Iteration 196, loss = 0.00699678\n",
            "Iteration 197, loss = 0.00704082\n",
            "Iteration 198, loss = 0.00694456\n",
            "Iteration 199, loss = 0.00693006\n",
            "Iteration 200, loss = 0.00703286\n",
            "Iteration 201, loss = 0.00683479\n",
            "Iteration 202, loss = 0.00679797\n",
            "Iteration 203, loss = 0.00681204\n",
            "Iteration 204, loss = 0.00674059\n",
            "Iteration 205, loss = 0.00681136\n",
            "Iteration 206, loss = 0.00673915\n",
            "Iteration 207, loss = 0.00664000\n",
            "Iteration 208, loss = 0.00673062\n",
            "Iteration 209, loss = 0.00658162\n",
            "Iteration 210, loss = 0.00653296\n",
            "Iteration 211, loss = 0.00651722\n",
            "Iteration 212, loss = 0.00649511\n",
            "Iteration 213, loss = 0.00642087\n",
            "Iteration 214, loss = 0.00637117\n",
            "Iteration 215, loss = 0.00632132\n",
            "Iteration 216, loss = 0.00625817\n",
            "Iteration 217, loss = 0.00630890\n",
            "Iteration 218, loss = 0.00628571\n",
            "Iteration 219, loss = 0.00623650\n",
            "Iteration 220, loss = 0.00622738\n",
            "Iteration 221, loss = 0.00617780\n",
            "Iteration 222, loss = 0.00612142\n",
            "Iteration 223, loss = 0.00613518\n",
            "Iteration 224, loss = 0.00606616\n",
            "Iteration 225, loss = 0.00604892\n",
            "Iteration 226, loss = 0.00604637\n",
            "Iteration 227, loss = 0.00600258\n",
            "Iteration 228, loss = 0.00594099\n",
            "Iteration 229, loss = 0.00595039\n",
            "Iteration 230, loss = 0.00590738\n",
            "Iteration 231, loss = 0.00588093\n",
            "Iteration 232, loss = 0.00584840\n",
            "Iteration 233, loss = 0.00589290\n",
            "Iteration 234, loss = 0.00582259\n",
            "Iteration 235, loss = 0.00577467\n",
            "Iteration 236, loss = 0.00573641\n",
            "Iteration 237, loss = 0.00575422\n",
            "Iteration 238, loss = 0.00570247\n",
            "Iteration 239, loss = 0.00564626\n",
            "Iteration 240, loss = 0.00564861\n",
            "Iteration 241, loss = 0.00565070\n",
            "Iteration 242, loss = 0.00571307\n",
            "Iteration 243, loss = 0.00554996\n",
            "Iteration 244, loss = 0.00558301\n",
            "Iteration 245, loss = 0.00555869\n",
            "Iteration 246, loss = 0.00549021\n",
            "Iteration 247, loss = 0.00546189\n",
            "Iteration 248, loss = 0.00544382\n",
            "Iteration 249, loss = 0.00544870\n",
            "Iteration 250, loss = 0.00549972\n",
            "Iteration 251, loss = 0.00536773\n",
            "Iteration 252, loss = 0.00537383\n",
            "Iteration 253, loss = 0.00531100\n",
            "Iteration 254, loss = 0.00527442\n",
            "Iteration 255, loss = 0.00527742\n",
            "Iteration 256, loss = 0.00528258\n",
            "Iteration 257, loss = 0.00528959\n",
            "Iteration 258, loss = 0.00523992\n",
            "Iteration 259, loss = 0.00533636\n",
            "Iteration 260, loss = 0.00516047\n",
            "Iteration 261, loss = 0.00515355\n",
            "Iteration 262, loss = 0.00514762\n",
            "Iteration 263, loss = 0.00509594\n",
            "Iteration 264, loss = 0.00514277\n",
            "Iteration 265, loss = 0.00503560\n",
            "Iteration 266, loss = 0.00511873\n",
            "Iteration 267, loss = 0.00502775\n",
            "Iteration 268, loss = 0.00505321\n",
            "Iteration 269, loss = 0.00498597\n",
            "Iteration 270, loss = 0.00496915\n",
            "Iteration 271, loss = 0.00493941\n",
            "Iteration 272, loss = 0.00493335\n",
            "Iteration 273, loss = 0.00497301\n",
            "Iteration 274, loss = 0.00490693\n",
            "Iteration 275, loss = 0.00492691\n",
            "Iteration 276, loss = 0.00486849\n",
            "Iteration 277, loss = 0.00486416\n",
            "Iteration 278, loss = 0.00481117\n",
            "Iteration 279, loss = 0.00484692\n",
            "Iteration 280, loss = 0.00488550\n",
            "Iteration 281, loss = 0.00475579\n",
            "Iteration 282, loss = 0.00474359\n",
            "Iteration 283, loss = 0.00475242\n",
            "Iteration 284, loss = 0.00473396\n",
            "Iteration 285, loss = 0.00470902\n",
            "Iteration 286, loss = 0.00468909\n",
            "Iteration 287, loss = 0.00467066\n",
            "Iteration 288, loss = 0.00466165\n",
            "Iteration 289, loss = 0.00461290\n",
            "Iteration 290, loss = 0.00462931\n",
            "Iteration 291, loss = 0.00462332\n",
            "Iteration 292, loss = 0.00455671\n",
            "Iteration 293, loss = 0.00457927\n",
            "Iteration 294, loss = 0.00451369\n",
            "Iteration 295, loss = 0.00449999\n",
            "Iteration 296, loss = 0.00447554\n",
            "Iteration 297, loss = 0.00445528\n",
            "Iteration 298, loss = 0.00452140\n",
            "Iteration 299, loss = 0.00449118\n",
            "Iteration 300, loss = 0.00442181\n",
            "Iteration 301, loss = 0.00445303\n",
            "Iteration 302, loss = 0.00443806\n",
            "Iteration 303, loss = 0.00443319\n",
            "Iteration 304, loss = 0.00437559\n",
            "Iteration 305, loss = 0.00440870\n",
            "Iteration 306, loss = 0.00434778\n",
            "Iteration 307, loss = 0.00431126\n",
            "Iteration 308, loss = 0.00430928\n",
            "Iteration 309, loss = 0.00427581\n",
            "Iteration 310, loss = 0.00427756\n",
            "Iteration 311, loss = 0.00427304\n",
            "Iteration 312, loss = 0.00426384\n",
            "Iteration 313, loss = 0.00422628\n",
            "Iteration 314, loss = 0.00420066\n",
            "Iteration 315, loss = 0.00427019\n",
            "Iteration 316, loss = 0.00419086\n",
            "Iteration 317, loss = 0.00419690\n",
            "Iteration 318, loss = 0.00416257\n",
            "Iteration 319, loss = 0.00416440\n",
            "Iteration 320, loss = 0.00416966\n",
            "Iteration 321, loss = 0.00414175\n",
            "Iteration 322, loss = 0.00412208\n",
            "Iteration 323, loss = 0.00407990\n",
            "Iteration 324, loss = 0.00405518\n",
            "Iteration 325, loss = 0.00403128\n",
            "Iteration 326, loss = 0.00404249\n",
            "Iteration 327, loss = 0.00399875\n",
            "Iteration 328, loss = 0.00399386\n",
            "Iteration 329, loss = 0.00402780\n",
            "Iteration 330, loss = 0.00400091\n",
            "Iteration 331, loss = 0.00396788\n",
            "Iteration 332, loss = 0.00399715\n",
            "Iteration 333, loss = 0.00394555\n",
            "Iteration 334, loss = 0.00396941\n",
            "Iteration 335, loss = 0.00393710\n",
            "Iteration 336, loss = 0.00397572\n",
            "Iteration 337, loss = 0.00385372\n",
            "Iteration 338, loss = 0.00396587\n",
            "Iteration 339, loss = 0.00387148\n",
            "Iteration 340, loss = 0.00388042\n",
            "Iteration 341, loss = 0.00388566\n",
            "Iteration 342, loss = 0.00385984\n",
            "Iteration 343, loss = 0.00386238\n",
            "Iteration 344, loss = 0.00382927\n",
            "Iteration 345, loss = 0.00380803\n",
            "Iteration 346, loss = 0.00381661\n",
            "Iteration 347, loss = 0.00380419\n",
            "Iteration 348, loss = 0.00378038\n",
            "Iteration 349, loss = 0.00374509\n",
            "Iteration 350, loss = 0.00372517\n",
            "Iteration 351, loss = 0.00373168\n",
            "Iteration 352, loss = 0.00374224\n",
            "Iteration 353, loss = 0.00369326\n",
            "Iteration 354, loss = 0.00372348\n",
            "Iteration 355, loss = 0.00375712\n",
            "Iteration 356, loss = 0.00368898\n",
            "Iteration 357, loss = 0.00367743\n",
            "Iteration 358, loss = 0.00366758\n",
            "Iteration 359, loss = 0.00365088\n",
            "Iteration 360, loss = 0.00368836\n",
            "Iteration 361, loss = 0.00365602\n",
            "Iteration 362, loss = 0.00362505\n",
            "Iteration 363, loss = 0.00362486\n",
            "Iteration 364, loss = 0.00356480\n",
            "Iteration 365, loss = 0.00359288\n",
            "Iteration 366, loss = 0.00363284\n",
            "Iteration 367, loss = 0.00356600\n",
            "Iteration 368, loss = 0.00358883\n",
            "Iteration 369, loss = 0.00354849\n",
            "Iteration 370, loss = 0.00356038\n",
            "Iteration 371, loss = 0.00357143\n",
            "Iteration 372, loss = 0.00350776\n",
            "Iteration 373, loss = 0.00348075\n",
            "Iteration 374, loss = 0.00347811\n",
            "Iteration 375, loss = 0.00346571\n",
            "Iteration 376, loss = 0.00348707\n",
            "Iteration 377, loss = 0.00344693\n",
            "Iteration 378, loss = 0.00347096\n",
            "Iteration 379, loss = 0.00342289\n",
            "Iteration 380, loss = 0.00342945\n",
            "Iteration 381, loss = 0.00337333\n",
            "Iteration 382, loss = 0.00343206\n",
            "Iteration 383, loss = 0.00343639\n",
            "Iteration 384, loss = 0.00339029\n",
            "Iteration 385, loss = 0.00337384\n",
            "Iteration 386, loss = 0.00338089\n",
            "Iteration 387, loss = 0.00335513\n",
            "Iteration 388, loss = 0.00338561\n",
            "Iteration 389, loss = 0.00342000\n",
            "Iteration 390, loss = 0.00333907\n",
            "Iteration 391, loss = 0.00335668\n",
            "Iteration 392, loss = 0.00330550\n",
            "Iteration 393, loss = 0.00330339\n",
            "Iteration 394, loss = 0.00332740\n",
            "Iteration 395, loss = 0.00327492\n",
            "Iteration 396, loss = 0.00331883\n",
            "Iteration 397, loss = 0.00324529\n",
            "Iteration 398, loss = 0.00329314\n",
            "Iteration 399, loss = 0.00324244\n",
            "Iteration 400, loss = 0.00324618\n",
            "Iteration 401, loss = 0.00324587\n",
            "Iteration 402, loss = 0.00323059\n",
            "Iteration 403, loss = 0.00327293\n",
            "Iteration 404, loss = 0.00322800\n",
            "Iteration 405, loss = 0.00325070\n",
            "Iteration 406, loss = 0.00319387\n",
            "Iteration 407, loss = 0.00322651\n",
            "Iteration 408, loss = 0.00318656\n",
            "Iteration 409, loss = 0.00317515\n",
            "Iteration 410, loss = 0.00320850\n",
            "Iteration 411, loss = 0.00317645\n",
            "Iteration 412, loss = 0.00316274\n",
            "Iteration 413, loss = 0.00315269\n",
            "Iteration 414, loss = 0.00314416\n",
            "Iteration 415, loss = 0.00312457\n",
            "Iteration 416, loss = 0.00312417\n",
            "Iteration 417, loss = 0.00312532\n",
            "Iteration 418, loss = 0.00312577\n",
            "Iteration 419, loss = 0.00312253\n",
            "Iteration 420, loss = 0.00311638\n",
            "Iteration 421, loss = 0.00309282\n",
            "Iteration 422, loss = 0.00306576\n",
            "Iteration 423, loss = 0.00305618\n",
            "Iteration 424, loss = 0.00309111\n",
            "Iteration 425, loss = 0.00308422\n",
            "Iteration 426, loss = 0.00304633\n",
            "Iteration 427, loss = 0.00307799\n",
            "Iteration 428, loss = 0.00302185\n",
            "Iteration 429, loss = 0.00302186\n",
            "Iteration 430, loss = 0.00303481\n",
            "Iteration 431, loss = 0.00302606\n",
            "Iteration 432, loss = 0.00299016\n",
            "Iteration 433, loss = 0.00298981\n",
            "Iteration 434, loss = 0.00297354\n",
            "Iteration 435, loss = 0.00299139\n",
            "Iteration 436, loss = 0.00297133\n",
            "Iteration 437, loss = 0.00300404\n",
            "Iteration 438, loss = 0.00295802\n",
            "Iteration 439, loss = 0.00296736\n",
            "Iteration 440, loss = 0.00291530\n",
            "Iteration 441, loss = 0.00298328\n",
            "Iteration 442, loss = 0.00292571\n",
            "Iteration 443, loss = 0.00300233\n",
            "Iteration 444, loss = 0.00291312\n",
            "Iteration 445, loss = 0.00297511\n",
            "Iteration 446, loss = 0.00294667\n",
            "Iteration 447, loss = 0.00294276\n",
            "Iteration 448, loss = 0.00288473\n",
            "Iteration 449, loss = 0.00285166\n",
            "Iteration 450, loss = 0.00290582\n",
            "Iteration 451, loss = 0.00288795\n",
            "Iteration 452, loss = 0.00293587\n",
            "Iteration 453, loss = 0.00289487\n",
            "Iteration 454, loss = 0.00285619\n",
            "Iteration 455, loss = 0.00285278\n",
            "Iteration 456, loss = 0.00285270\n",
            "Iteration 457, loss = 0.00288030\n",
            "Iteration 458, loss = 0.00280499\n",
            "Iteration 459, loss = 0.00282446\n",
            "Iteration 460, loss = 0.00284159\n",
            "Iteration 461, loss = 0.00280711\n",
            "Iteration 462, loss = 0.00280588\n",
            "Iteration 463, loss = 0.00282300\n",
            "Iteration 464, loss = 0.00280240\n",
            "Iteration 465, loss = 0.00279544\n",
            "Iteration 466, loss = 0.00275683\n",
            "Iteration 467, loss = 0.00281095\n",
            "Iteration 468, loss = 0.00284461\n",
            "Iteration 469, loss = 0.00281742\n",
            "Iteration 470, loss = 0.00273885\n",
            "Iteration 471, loss = 0.00277373\n",
            "Iteration 472, loss = 0.00272039\n",
            "Iteration 473, loss = 0.00273633\n",
            "Iteration 474, loss = 0.00272530\n",
            "Iteration 475, loss = 0.00269705\n",
            "Iteration 476, loss = 0.00273527\n",
            "Iteration 477, loss = 0.00270789\n",
            "Iteration 478, loss = 0.00270207\n",
            "Iteration 479, loss = 0.00279358\n",
            "Iteration 480, loss = 0.00278503\n",
            "Iteration 481, loss = 0.00268502\n",
            "Iteration 482, loss = 0.00267545\n",
            "Iteration 483, loss = 0.00268753\n",
            "Iteration 484, loss = 0.00271023\n",
            "Iteration 485, loss = 0.00266200\n",
            "Iteration 486, loss = 0.00264580\n",
            "Iteration 487, loss = 0.00266053\n",
            "Iteration 488, loss = 0.00267585\n",
            "Iteration 489, loss = 0.00270909\n",
            "Iteration 490, loss = 0.00267350\n",
            "Iteration 491, loss = 0.00262176\n",
            "Iteration 492, loss = 0.00261702\n",
            "Iteration 493, loss = 0.00262449\n",
            "Iteration 494, loss = 0.00258929\n",
            "Iteration 495, loss = 0.00262050\n",
            "Iteration 496, loss = 0.00258803\n",
            "Iteration 497, loss = 0.00262777\n",
            "Iteration 498, loss = 0.00256719\n",
            "Iteration 499, loss = 0.00255993\n",
            "Iteration 500, loss = 0.00257754\n"
          ],
          "name": "stdout"
        },
        {
          "output_type": "stream",
          "text": [
            "/usr/local/lib/python3.6/dist-packages/sklearn/neural_network/multilayer_perceptron.py:562: ConvergenceWarning: Stochastic Optimizer: Maximum iterations (500) reached and the optimization hasn't converged yet.\n",
            "  % self.max_iter, ConvergenceWarning)\n"
          ],
          "name": "stderr"
        },
        {
          "output_type": "execute_result",
          "data": {
            "text/plain": [
              "MLPClassifier(activation='relu', alpha=0.0001, batch_size='auto', beta_1=0.9,\n",
              "       beta_2=0.999, early_stopping=False, epsilon=1e-08,\n",
              "       hidden_layer_sizes=(80, 40), learning_rate='constant',\n",
              "       learning_rate_init=0.01, max_iter=500, momentum=0.9,\n",
              "       n_iter_no_change=10, nesterovs_momentum=True, power_t=0.5,\n",
              "       random_state=1, shuffle=True, solver='sgd', tol=1e-05,\n",
              "       validation_fraction=0.1, verbose=10, warm_start=False)"
            ]
          },
          "metadata": {
            "tags": []
          },
          "execution_count": 5
        }
      ]
    },
    {
      "metadata": {
        "id": "8m9_X9bUdZJe",
        "colab_type": "code",
        "colab": {}
      },
      "cell_type": "code",
      "source": [
        "# train_valid_combined = np.concatenate((train_data, validation_data))\n",
        "# train_valid_label = np.concatenate((train_label, validation_label))\n"
      ],
      "execution_count": 0,
      "outputs": []
    },
    {
      "metadata": {
        "id": "Fo_lFxdIc85n",
        "colab_type": "code",
        "outputId": "bdaefaac-fa15-4c06-bb88-05e08ce0e3b6",
        "colab": {
          "base_uri": "https://localhost:8080/",
          "height": 1173
        }
      },
      "cell_type": "code",
      "source": [
        "# clf =MLPClassifier(hidden_layer_sizes=(300,100, ), max_iter=200, alpha=1e-4,\n",
        "#                     solver='adam', verbose=10, tol=1e-5, random_state=1,\n",
        "#                     learning_rate_init=.1)\n",
        "### acc is 98.41\n",
        "clf2 = MLPClassifier(hidden_layer_sizes=(300,100,), max_iter=200, alpha=1e-4,\n",
        "                    solver='sgd', verbose=10, tol=1e-4, random_state=1,\n",
        "                    learning_rate_init=.1)\n",
        "# Test set score: 0.950119\n",
        "\n",
        "clf2.fit(train_valid_combined, train_valid_label)\n",
        "# clf2.fit(train_data, train_label)"
      ],
      "execution_count": 6,
      "outputs": [
        {
          "output_type": "stream",
          "text": [
            "Iteration 1, loss = 0.54899152\n",
            "Iteration 2, loss = 0.06616612\n",
            "Iteration 3, loss = 0.04279345\n",
            "Iteration 4, loss = 0.03166336\n",
            "Iteration 5, loss = 0.02479369\n",
            "Iteration 6, loss = 0.02170618\n",
            "Iteration 7, loss = 0.01858626\n",
            "Iteration 8, loss = 0.01581559\n",
            "Iteration 9, loss = 0.01390799\n",
            "Iteration 10, loss = 0.01265809\n",
            "Iteration 11, loss = 0.01127673\n",
            "Iteration 12, loss = 0.00996930\n",
            "Iteration 13, loss = 0.00956242\n",
            "Iteration 14, loss = 0.00903562\n",
            "Iteration 15, loss = 0.00835131\n",
            "Iteration 16, loss = 0.00850045\n",
            "Iteration 17, loss = 0.00744452\n",
            "Iteration 18, loss = 0.00710270\n",
            "Iteration 19, loss = 0.00679402\n",
            "Iteration 20, loss = 0.00656596\n",
            "Iteration 21, loss = 0.00575884\n",
            "Iteration 22, loss = 0.00510601\n",
            "Iteration 23, loss = 0.00508025\n",
            "Iteration 24, loss = 0.00522847\n",
            "Iteration 25, loss = 0.00518619\n",
            "Iteration 26, loss = 0.00499809\n",
            "Iteration 27, loss = 0.00462652\n",
            "Iteration 28, loss = 0.00430399\n",
            "Iteration 29, loss = 0.00405920\n",
            "Iteration 30, loss = 0.00449292\n",
            "Iteration 31, loss = 0.00388696\n",
            "Iteration 32, loss = 0.00381280\n",
            "Iteration 33, loss = 0.00355093\n",
            "Iteration 34, loss = 0.00384297\n",
            "Iteration 35, loss = 0.00370512\n",
            "Iteration 36, loss = 0.00326534\n",
            "Iteration 37, loss = 0.00390881\n",
            "Iteration 38, loss = 0.00309825\n",
            "Iteration 39, loss = 0.00313235\n",
            "Iteration 40, loss = 0.00316818\n",
            "Iteration 41, loss = 0.00308970\n",
            "Iteration 42, loss = 0.00278589\n",
            "Iteration 43, loss = 0.00309007\n",
            "Iteration 44, loss = 0.00278668\n",
            "Iteration 45, loss = 0.00268005\n",
            "Iteration 46, loss = 0.00268217\n",
            "Iteration 47, loss = 0.00271514\n",
            "Iteration 48, loss = 0.00259554\n",
            "Iteration 49, loss = 0.00240461\n",
            "Iteration 50, loss = 0.00263695\n",
            "Iteration 51, loss = 0.00245054\n",
            "Iteration 52, loss = 0.00231362\n",
            "Iteration 53, loss = 0.00246221\n",
            "Iteration 54, loss = 0.00262239\n",
            "Iteration 55, loss = 0.00235124\n",
            "Iteration 56, loss = 0.00263333\n",
            "Iteration 57, loss = 0.00231352\n",
            "Iteration 58, loss = 0.00240500\n",
            "Iteration 59, loss = 0.00244188\n",
            "Iteration 60, loss = 0.00229447\n",
            "Training loss did not improve more than tol=0.000100 for 10 consecutive epochs. Stopping.\n"
          ],
          "name": "stdout"
        },
        {
          "output_type": "execute_result",
          "data": {
            "text/plain": [
              "MLPClassifier(activation='relu', alpha=0.0001, batch_size='auto', beta_1=0.9,\n",
              "       beta_2=0.999, early_stopping=False, epsilon=1e-08,\n",
              "       hidden_layer_sizes=(300, 100), learning_rate='constant',\n",
              "       learning_rate_init=0.1, max_iter=200, momentum=0.9,\n",
              "       n_iter_no_change=10, nesterovs_momentum=True, power_t=0.5,\n",
              "       random_state=1, shuffle=True, solver='sgd', tol=0.0001,\n",
              "       validation_fraction=0.1, verbose=10, warm_start=False)"
            ]
          },
          "metadata": {
            "tags": []
          },
          "execution_count": 6
        }
      ]
    },
    {
      "metadata": {
        "id": "Wi_0y1C6e9Er",
        "colab_type": "code",
        "outputId": "2aa2e8aa-f458-4d20-a74f-8a4a9434ef50",
        "colab": {
          "base_uri": "https://localhost:8080/",
          "height": 34
        }
      },
      "cell_type": "code",
      "source": [
        "train_valid_combined.shape"
      ],
      "execution_count": 7,
      "outputs": [
        {
          "output_type": "execute_result",
          "data": {
            "text/plain": [
              "(7494, 16)"
            ]
          },
          "metadata": {
            "tags": []
          },
          "execution_count": 7
        }
      ]
    },
    {
      "metadata": {
        "id": "oy5MNJqFys-H",
        "colab_type": "code",
        "outputId": "74578baa-ca9b-4b45-ef85-4ccb1becd1ae",
        "colab": {
          "base_uri": "https://localhost:8080/",
          "height": 34
        }
      },
      "cell_type": "code",
      "source": [
        "clf.score(train_data,train_label)"
      ],
      "execution_count": 8,
      "outputs": [
        {
          "output_type": "execute_result",
          "data": {
            "text/plain": [
              "0.9996663886572144"
            ]
          },
          "metadata": {
            "tags": []
          },
          "execution_count": 8
        }
      ]
    },
    {
      "metadata": {
        "id": "T0aiYNsdyuBR",
        "colab_type": "code",
        "outputId": "f7368cb8-fcf0-4425-9761-6bad76d6eb40",
        "colab": {
          "base_uri": "https://localhost:8080/",
          "height": 34
        }
      },
      "cell_type": "code",
      "source": [
        "clf.score(validation_data,validation_label)"
      ],
      "execution_count": 9,
      "outputs": [
        {
          "output_type": "execute_result",
          "data": {
            "text/plain": [
              "0.9953302201467645"
            ]
          },
          "metadata": {
            "tags": []
          },
          "execution_count": 9
        }
      ]
    },
    {
      "metadata": {
        "id": "w7DSKjQcyvL0",
        "colab_type": "code",
        "outputId": "0f772150-a1cf-43e5-c050-ec970c13648a",
        "colab": {
          "base_uri": "https://localhost:8080/",
          "height": 34
        }
      },
      "cell_type": "code",
      "source": [
        "clf.score(test_data,test_label)"
      ],
      "execution_count": 10,
      "outputs": [
        {
          "output_type": "execute_result",
          "data": {
            "text/plain": [
              "0.9736992567181246"
            ]
          },
          "metadata": {
            "tags": []
          },
          "execution_count": 10
        }
      ]
    },
    {
      "metadata": {
        "id": "bOJLm3y6dkCs",
        "colab_type": "code",
        "outputId": "0e74ac4a-d31b-44f2-ceae-0d89248911c1",
        "colab": {
          "base_uri": "https://localhost:8080/",
          "height": 34
        }
      },
      "cell_type": "code",
      "source": [
        "clf2.score(train_data,train_label)"
      ],
      "execution_count": 11,
      "outputs": [
        {
          "output_type": "execute_result",
          "data": {
            "text/plain": [
              "0.9996663886572144"
            ]
          },
          "metadata": {
            "tags": []
          },
          "execution_count": 11
        }
      ]
    },
    {
      "metadata": {
        "id": "hnUFUI4rdjwi",
        "colab_type": "code",
        "outputId": "b566fcc8-d0a0-4a3f-f34d-a0f8c58fc23a",
        "colab": {
          "base_uri": "https://localhost:8080/",
          "height": 34
        }
      },
      "cell_type": "code",
      "source": [
        "clf2.score(validation_data,validation_label)"
      ],
      "execution_count": 12,
      "outputs": [
        {
          "output_type": "execute_result",
          "data": {
            "text/plain": [
              "1.0"
            ]
          },
          "metadata": {
            "tags": []
          },
          "execution_count": 12
        }
      ]
    },
    {
      "metadata": {
        "id": "1u7u5mLsirGr",
        "colab_type": "code",
        "colab": {
          "base_uri": "https://localhost:8080/",
          "height": 34
        },
        "outputId": "ad96a247-38eb-4f5a-9a12-2469ddd0065e"
      },
      "cell_type": "code",
      "source": [
        "train_data.shape"
      ],
      "execution_count": 19,
      "outputs": [
        {
          "output_type": "execute_result",
          "data": {
            "text/plain": [
              "(5995, 16)"
            ]
          },
          "metadata": {
            "tags": []
          },
          "execution_count": 19
        }
      ]
    },
    {
      "metadata": {
        "id": "BtNN_G2Bdkpr",
        "colab_type": "code",
        "outputId": "4bf8dae1-eba2-441f-ddbf-fe9f39bf61d7",
        "colab": {
          "base_uri": "https://localhost:8080/",
          "height": 34
        }
      },
      "cell_type": "code",
      "source": [
        "clf2.score(test_data,test_label)"
      ],
      "execution_count": 13,
      "outputs": [
        {
          "output_type": "execute_result",
          "data": {
            "text/plain": [
              "0.9722698684962836"
            ]
          },
          "metadata": {
            "tags": []
          },
          "execution_count": 13
        }
      ]
    },
    {
      "metadata": {
        "id": "63SIF9YCiJ9X",
        "colab_type": "code",
        "colab": {}
      },
      "cell_type": "code",
      "source": [
        "enc = OneHotEncoder(handle_unknown='ignore',sparse=False)\n",
        "enc.fit(train_label.reshape(1,-1).T)\n",
        "train_label_one_hot = enc.transform(train_label.reshape(-1,1))\n",
        "test_label_one_hot = enc.transform(test_label.reshape(-1,1))\n",
        "validation_label_one_hot = enc.transform(validation_label.reshape(-1,1))\n",
        "validation_test_label_one_hot = enc.transform(train_valid_label.reshape(-1,1))"
      ],
      "execution_count": 0,
      "outputs": []
    },
    {
      "metadata": {
        "id": "9T8IoNGpkVv_",
        "colab_type": "code",
        "colab": {
          "base_uri": "https://localhost:8080/",
          "height": 34
        },
        "outputId": "19431e20-a0ae-4be8-c789-af68d4e66ee6"
      },
      "cell_type": "code",
      "source": [
        "test_label_one_hot.shape"
      ],
      "execution_count": 21,
      "outputs": [
        {
          "output_type": "execute_result",
          "data": {
            "text/plain": [
              "(3498, 10)"
            ]
          },
          "metadata": {
            "tags": []
          },
          "execution_count": 21
        }
      ]
    },
    {
      "metadata": {
        "id": "kxWBf1tjiJm4",
        "colab_type": "code",
        "colab": {}
      },
      "cell_type": "code",
      "source": [
        "def next_batch(num, data, labels):\n",
        "    '''\n",
        "    Return a total of `num` random samples and labels. \n",
        "    '''\n",
        "    idx = np.arange(0 , len(data))\n",
        "    np.random.shuffle(idx)\n",
        "    idx = idx[:num]\n",
        "    data_shuffle = [data[ i] for i in idx]\n",
        "    labels_shuffle = [labels[ i] for i in idx]\n",
        "    \n",
        "    return np.asarray(data_shuffle), np.asarray(labels_shuffle)"
      ],
      "execution_count": 0,
      "outputs": []
    },
    {
      "metadata": {
        "id": "DYHOkr0CiOxa",
        "colab_type": "code",
        "colab": {}
      },
      "cell_type": "code",
      "source": [
        "def xavier_init(size):\n",
        "    in_dim = size[0]\n",
        "    xavier_stddev = 1. / tf.sqrt(in_dim / 2.)\n",
        "    return tf.random_normal(shape=size, stddev=xavier_stddev, seed=1000)"
      ],
      "execution_count": 0,
      "outputs": []
    },
    {
      "metadata": {
        "id": "eDauxfwliQZb",
        "colab_type": "code",
        "colab": {
          "base_uri": "https://localhost:8080/",
          "height": 88
        },
        "outputId": "30f57d69-19d5-49b2-f293-2265db98668c"
      },
      "cell_type": "code",
      "source": [
        "## Define weights of the layer\n",
        "\n",
        "G_W1 = tf.Variable(np.float32(clf.coefs_[0]))\n",
        "G_b1 = tf.Variable(np.float32(clf.intercepts_ [0]))\n",
        "\n",
        "G_W2 =  tf.Variable(np.float32(clf.coefs_[1]))\n",
        "G_b2 = tf.Variable(np.float32(clf.intercepts_ [1]))\n",
        "\n",
        "G_W3 =  tf.Variable(np.float32(clf.coefs_[2]))\n",
        "G_b3 = tf.Variable(np.float32(clf.intercepts_ [2]))\n",
        "\n",
        "G_w_out_h1 = tf.Variable(xavier_init([10,80]))\n",
        "G_b_out_h1 = tf.Variable(xavier_init([80]))\n",
        "\n",
        "G_w_h2_h1 = tf.Variable(xavier_init([40,80]))\n",
        "G_b_h2_h1 = tf.Variable(xavier_init([80]))\n",
        "\n",
        "\n",
        "G_w_h1_input = tf.Variable(xavier_init([80,16]))\n",
        "G_b_h1_input = tf.Variable(xavier_init([16]))\n",
        "\n",
        "\n",
        "G_w_input_h1_h2 = tf.Variable(xavier_init([16,40]))\n",
        "G_b_h1_input = tf.Variable(xavier_init([40]))\n",
        "\n",
        "\n",
        "saver = tf.train.Saver()"
      ],
      "execution_count": 17,
      "outputs": [
        {
          "output_type": "stream",
          "text": [
            "WARNING:tensorflow:From /usr/local/lib/python3.6/dist-packages/tensorflow/python/framework/op_def_library.py:263: colocate_with (from tensorflow.python.framework.ops) is deprecated and will be removed in a future version.\n",
            "Instructions for updating:\n",
            "Colocations handled automatically by placer.\n"
          ],
          "name": "stdout"
        }
      ]
    },
    {
      "metadata": {
        "id": "GlClhIpViZoW",
        "colab_type": "text"
      },
      "cell_type": "markdown",
      "source": [
        "#### Divide valid in two parts for validation and validation-test"
      ]
    },
    {
      "metadata": {
        "id": "NhtjHgUwl0Kq",
        "colab_type": "code",
        "colab": {}
      },
      "cell_type": "code",
      "source": [
        ""
      ],
      "execution_count": 0,
      "outputs": []
    },
    {
      "metadata": {
        "id": "vLrSUA61iQW_",
        "colab_type": "code",
        "colab": {
          "base_uri": "https://localhost:8080/",
          "height": 320
        },
        "outputId": "3d7b7ca0-eb10-4bc1-dc69-80f6a4a5e6b9"
      },
      "cell_type": "code",
      "source": [
        "plt.hist(np.argmax(train_label_one_hot,axis = 1))"
      ],
      "execution_count": 28,
      "outputs": [
        {
          "output_type": "execute_result",
          "data": {
            "text/plain": [
              "(array([624., 623., 624., 575., 624., 576., 576., 623., 575., 575.]),\n",
              " array([0. , 0.9, 1.8, 2.7, 3.6, 4.5, 5.4, 6.3, 7.2, 8.1, 9. ]),\n",
              " <a list of 10 Patch objects>)"
            ]
          },
          "metadata": {
            "tags": []
          },
          "execution_count": 28
        },
        {
          "output_type": "display_data",
          "data": {
            "image/png": "[encoded data removed]",
            "text/plain": [
              "<Figure size 432x288 with 1 Axes>"
            ]
          },
          "metadata": {
            "tags": []
          }
        }
      ]
    },
    {
      "metadata": {
        "id": "XfNKrbvrmDl6",
        "colab_type": "code",
        "colab": {
          "base_uri": "https://localhost:8080/",
          "height": 320
        },
        "outputId": "4532e1bb-1eb1-489d-c46b-e6c91c4cb61e"
      },
      "cell_type": "code",
      "source": [
        "plt.hist(np.argmax(validation_label_one_hot,axis = 1))"
      ],
      "execution_count": 29,
      "outputs": [
        {
          "output_type": "execute_result",
          "data": {
            "text/plain": [
              "(array([156., 156., 156., 144., 156., 144., 144., 155., 144., 144.]),\n",
              " array([0. , 0.9, 1.8, 2.7, 3.6, 4.5, 5.4, 6.3, 7.2, 8.1, 9. ]),\n",
              " <a list of 10 Patch objects>)"
            ]
          },
          "metadata": {
            "tags": []
          },
          "execution_count": 29
        },
        {
          "output_type": "display_data",
          "data": {
            "image/png": "[encoded data removed]",
            "text/plain": [
              "<Figure size 432x288 with 1 Axes>"
            ]
          },
          "metadata": {
            "tags": []
          }
        }
      ]
    },
    {
      "metadata": {
        "id": "fX0eodcgiQTr",
        "colab_type": "code",
        "colab": {}
      },
      "cell_type": "code",
      "source": [
        ""
      ],
      "execution_count": 0,
      "outputs": []
    },
    {
      "metadata": {
        "id": "UYJZs7GgCy5p",
        "colab_type": "code",
        "colab": {}
      },
      "cell_type": "code",
      "source": [
        "from sklearn.utils import shuffle  #train_data, train_label\n",
        "\n",
        "X_train, y_train = shuffle(train_data, train_label_one_hot)\n",
        "validation_data, validation_label_one_hot = validation_data, validation_label_one_hot"
      ],
      "execution_count": 0,
      "outputs": []
    },
    {
      "metadata": {
        "id": "Q4WFIdiuCy53",
        "colab_type": "text"
      },
      "cell_type": "markdown",
      "source": [
        "## Setup TensorFlow\n",
        "The `EPOCH` and `BATCH_SIZE` values affect the training speed and model accuracy.\n",
        "\n",
        "You do not need to modify this section."
      ]
    },
    {
      "metadata": {
        "id": "est-t83SCy55",
        "colab_type": "code",
        "colab": {}
      },
      "cell_type": "code",
      "source": [
        "import tensorflow as tf\n",
        "\n",
        "EPOCHS = 100\n",
        "BATCH_SIZE = 512"
      ],
      "execution_count": 0,
      "outputs": []
    },
    {
      "metadata": {
        "id": "Vgad6Ny0OjqN",
        "colab_type": "code",
        "outputId": "bbd7e267-cb9c-4ef7-9058-94080a867643",
        "colab": {
          "base_uri": "https://localhost:8080/",
          "height": 88
        }
      },
      "cell_type": "code",
      "source": [
        "connection_probability = tf.Variable(.9999)"
      ],
      "execution_count": 0,
      "outputs": [
        {
          "output_type": "stream",
          "text": [
            "WARNING:tensorflow:From /usr/local/lib/python3.6/dist-packages/tensorflow/python/framework/op_def_library.py:263: colocate_with (from tensorflow.python.framework.ops) is deprecated and will be removed in a future version.\n",
            "Instructions for updating:\n",
            "Colocations handled automatically by placer.\n"
          ],
          "name": "stdout"
        }
      ]
    },
    {
      "metadata": {
        "id": "2ZqUctyopqzZ",
        "colab_type": "code",
        "colab": {
          "base_uri": "https://localhost:8080/",
          "height": 85
        },
        "outputId": "3ba30338-aec0-4e44-f410-1c4137c691ad"
      },
      "cell_type": "code",
      "source": [
        "print(X_train.shape)\n",
        "print(G_W1.shape)\n",
        "print(G_W2.shape)\n",
        "print(G_W3.shape)\n"
      ],
      "execution_count": 32,
      "outputs": [
        {
          "output_type": "stream",
          "text": [
            "(5995, 16)\n",
            "(16, 80)\n",
            "(80, 40)\n",
            "(40, 10)\n"
          ],
          "name": "stdout"
        }
      ]
    },
    {
      "metadata": {
        "id": "w6aNutv83RcA",
        "colab_type": "text"
      },
      "cell_type": "markdown",
      "source": [
        "#### Define the network"
      ]
    },
    {
      "metadata": {
        "id": "-sfSdtHU3JfJ",
        "colab_type": "code",
        "colab": {}
      },
      "cell_type": "code",
      "source": [
        "from tensorflow.contrib.layers import flatten\n",
        "\n",
        "def LeNet(x, test_mode = False):    \n",
        "    # Hyperparameters\n",
        "    mu = 0\n",
        "    sigma = 0.1\n",
        "    layer_depth = {\n",
        "        'layer_1' : 6,\n",
        "        'layer_2' : 16,\n",
        "        'layer_3' : 120,\n",
        "        'layer_f1' : 84\n",
        "    }\n",
        "\n",
        "\n",
        "    \n",
        "    # TODO: Flatten. Input = 5x5x16. Output = 400.\n",
        "    x_flat = flatten(x)\n",
        "    fc1 = flatten(x)\n",
        "    fdense = fc1\n",
        "    \n",
        "    # TODO: Layer 3: Fully Connected. Input = 400. Output = 120.\n",
        "    fc1_w = G_W1# tf.Variable(tf.truncated_normal(shape = (X_train.shape[1]*X_train.shape[2],300), mean = mu, stddev = sigma))\n",
        "    fc1_b = G_b1# tf.Variable(tf.zeros(300))\n",
        "    fc1 = tf.matmul(fc1,fc1_w) + fc1_b\n",
        "    \n",
        "    # TODO: Activation.\n",
        "    fc1 = tf.nn.relu(fc1)\n",
        "\n",
        "    # TODO: Layer 4: Fully Connected. Input = 120. Output = 84.\n",
        "    fc2_w = G_W2# tf.Variable(tf.truncated_normal(shape = (300,100), mean = mu, stddev = sigma))\n",
        "    fc2_b = G_b2# tf.Variable(tf.zeros(100))\n",
        "    fc2 = tf.matmul(fc1,fc2_w) + fc2_b\n",
        "    # TODO: Activation.\n",
        "    fc2 = tf.nn.relu(fc2)\n",
        "    \n",
        "    \n",
        "    #################\n",
        "    ##### Inset probability connection from x to conv2\n",
        "    fc2p_w = tf.Variable(xavier_init([X_train.shape[1],clf.coefs_[1].shape[1]]))\n",
        "    fc2p_b = tf.Variable(xavier_init([clf.coefs_[1].shape[1]]))\n",
        "    fc2_2nd_input = tf.matmul(x_flat,fc2p_w) + fc2p_b\n",
        "    fc2_2nd_input = tf.nn.relu(fc2_2nd_input)\n",
        "    connect2 = tf.logical_and(tf.random.uniform(shape = tf.shape(connection_probability)) < connection_probability, tf.equal(test_mode,False))\n",
        "    fc2 = tf.cond(connect2,lambda: fc2 + fc2_2nd_input, lambda: fc2 )    \n",
        "    ################    \n",
        "    fc3_w = G_W3\n",
        "    fc3_b = G_b3\n",
        "    \n",
        "    logits = tf.matmul(fc2, fc3_w) + fc3_b\n",
        "#     print(logits.shape)\n",
        "    return logits"
      ],
      "execution_count": 0,
      "outputs": []
    },
    {
      "metadata": {
        "id": "AGmN34tg3_tv",
        "colab_type": "code",
        "colab": {
          "base_uri": "https://localhost:8080/",
          "height": 34
        },
        "outputId": "6c14770e-387d-427a-dd83-4856e11bc536"
      },
      "cell_type": "code",
      "source": [
        "train_label_one_hot.shape"
      ],
      "execution_count": 64,
      "outputs": [
        {
          "output_type": "execute_result",
          "data": {
            "text/plain": [
              "(5995, 10)"
            ]
          },
          "metadata": {
            "tags": []
          },
          "execution_count": 64
        }
      ]
    },
    {
      "metadata": {
        "id": "-NX_lWUB6zue",
        "colab_type": "code",
        "colab": {
          "base_uri": "https://localhost:8080/",
          "height": 34
        },
        "outputId": "fd170180-20c1-48e1-aed4-985adf9620a2"
      },
      "cell_type": "code",
      "source": [
        "train_label"
      ],
      "execution_count": 71,
      "outputs": [
        {
          "output_type": "execute_result",
          "data": {
            "text/plain": [
              "array([3, 4, 3, ..., 6, 3, 9])"
            ]
          },
          "metadata": {
            "tags": []
          },
          "execution_count": 71
        }
      ]
    },
    {
      "metadata": {
        "id": "M3U_MKYr34Xp",
        "colab_type": "code",
        "colab": {}
      },
      "cell_type": "code",
      "source": [
        "\n",
        "with tf.name_scope('Input'):\n",
        "\n",
        "  x = tf.placeholder(tf.float32, (None, train_data.shape[1]), name='X')\n",
        "  y = tf.placeholder(\"float\", [None, 1+np.max(train_label)])\n",
        "# one_hot_y = tf.one_hot(y, train_label_one_hot.shape[1])\n",
        "is_testing= tf.placeholder(tf.bool)"
      ],
      "execution_count": 0,
      "outputs": []
    },
    {
      "metadata": {
        "id": "-rtTKpeM4P8z",
        "colab_type": "code",
        "colab": {}
      },
      "cell_type": "code",
      "source": [
        "BATCH_SIZE = 1024"
      ],
      "execution_count": 0,
      "outputs": []
    },
    {
      "metadata": {
        "id": "-e6BG9DI3Jb3",
        "colab_type": "code",
        "colab": {
          "base_uri": "https://localhost:8080/",
          "height": 34
        },
        "outputId": "e59b5301-2d38-4712-b6a0-c75c3366165b"
      },
      "cell_type": "code",
      "source": [
        "rate = 0.001\n",
        "decay_rate = 1.0005**(X_train.shape[0]/BATCH_SIZE);\n",
        "decay_rate = 1.2\n",
        "print(decay_rate)\n",
        "logits = LeNet(x,is_testing)\n",
        "with tf.name_scope('Train'):\n",
        "#   cross_entropy = tf.nn.softmax_cross_entropy_with_logits(logits = logits, labels = one_hot_y)\n",
        "#   loss_operation = tf.reduce_mean(cross_entropy, name='loss')\n",
        "  loss_operation = tf.reduce_mean(tf.nn.softmax_cross_entropy_with_logits(logits=LeNet(x, test_mode=False), labels=y))\n",
        "  tf.summary.scalar('loss', loss_operation)\n",
        "# optimizer = tf.train.MomentumOptimizer(learning_rate = rate,momentum=.9)\n",
        "optimizer = tf.train.AdamOptimizer(learning_rate = rate)\n",
        "# tf.train.natural_exp_decay()\n",
        "training_operation = optimizer.minimize(loss_operation)\n",
        "new_prob = connection_probability.assign(connection_probability/decay_rate)"
      ],
      "execution_count": 102,
      "outputs": [
        {
          "output_type": "stream",
          "text": [
            "1.2\n"
          ],
          "name": "stdout"
        }
      ]
    },
    {
      "metadata": {
        "id": "g8eQKHOw7PHm",
        "colab_type": "code",
        "colab": {}
      },
      "cell_type": "code",
      "source": [
        "# def evaluate(X_data, y_data):\n",
        "correct_pred = tf.equal(tf.argmax(LeNet(x,test_mode=True), 1), tf.argmax(y, 1))\n",
        "accuracy = tf.reduce_mean(tf.cast(correct_pred, tf.float32))"
      ],
      "execution_count": 0,
      "outputs": []
    },
    {
      "metadata": {
        "id": "8tb-sFE34OGp",
        "colab_type": "code",
        "colab": {}
      },
      "cell_type": "code",
      "source": [
        "\n",
        "# correct_prediction = tf.equal(tf.argmax(logits, 1), tf.argmax(one_hot_y, 1))\n",
        "# accuracy_operation = tf.reduce_mean(tf.cast(correct_prediction, tf.float32))\n",
        "# saver = tf.train.Saver()\n",
        "\n",
        "# def evaluate(X_data, y_data):\n",
        "#     num_examples = len(X_data)\n",
        "#     total_accuracy = 0\n",
        "#     sess = tf.get_default_session()\n",
        "#     for offset in range(0, num_examples, BATCH_SIZE):\n",
        "#         batch_x, batch_y = X_data[offset:offset+BATCH_SIZE], y_data[offset:offset+BATCH_SIZE]\n",
        "#         accuracy = sess.run(accuracy_operation, feed_dict={x: batch_x, y: batch_y, is_testing: True})\n",
        "#         total_accuracy += (accuracy * len(batch_x))\n",
        "#     tot_acc = total_accuracy / num_examples\n",
        "#     with tf.name_scope('Accuracy'):\n",
        "#       tf.summary.scalar('accuracy', tot_acc)\n",
        "#     return total_accuracy / num_examples"
      ],
      "execution_count": 0,
      "outputs": []
    },
    {
      "metadata": {
        "id": "yCovfr0E4oJq",
        "colab_type": "text"
      },
      "cell_type": "markdown",
      "source": [
        "### Train the mode"
      ]
    },
    {
      "metadata": {
        "id": "NGF2PRgw9nLL",
        "colab_type": "code",
        "colab": {
          "base_uri": "https://localhost:8080/",
          "height": 34
        },
        "outputId": "b13bd30e-611e-4b7e-eceb-5cc21dd9afe7"
      },
      "cell_type": "code",
      "source": [
        "2056*2"
      ],
      "execution_count": 105,
      "outputs": [
        {
          "output_type": "execute_result",
          "data": {
            "text/plain": [
              "4112"
            ]
          },
          "metadata": {
            "tags": []
          },
          "execution_count": 105
        }
      ]
    },
    {
      "metadata": {
        "id": "6Cl89uCj9hjc",
        "colab_type": "code",
        "colab": {}
      },
      "cell_type": "code",
      "source": [
        "BATCH_SIZE = 4112"
      ],
      "execution_count": 0,
      "outputs": []
    },
    {
      "metadata": {
        "id": "4H5Dgkf69TOx",
        "colab_type": "code",
        "colab": {}
      },
      "cell_type": "code",
      "source": [
        "EPOCHS = 10000"
      ],
      "execution_count": 0,
      "outputs": []
    },
    {
      "metadata": {
        "id": "4VP4QWKJ4ODG",
        "colab_type": "code",
        "colab": {
          "base_uri": "https://localhost:8080/",
          "height": 19995
        },
        "outputId": "12362719-263d-4f79-9f53-e69c5f6c4b40"
      },
      "cell_type": "code",
      "source": [
        "\n",
        "validation_accuracy_track = []\n",
        "train_accuracy_track = []\n",
        "connection_probability_track = []\n",
        "number_of_ex = X_train.shape[0]\n",
        "total_steps_for_one_pass = number_of_ex//BATCH_SIZE + 1\n",
        "\n",
        "print_every = 10\n",
        "with tf.Session() as sess:\n",
        "    sess.run(tf.global_variables_initializer())\n",
        "    num_examples = len(X_train)\n",
        "    best_accuracy_valid = 0\n",
        "    print(\"Training...\")\n",
        "    print()\n",
        "    for i in range(EPOCHS):\n",
        "        X_train, y_train = shuffle(X_train, y_train)\n",
        "        for step in range(0, total_steps_for_one_pass):        \n",
        "          if step>=number_of_ex//BATCH_SIZE:\n",
        "            batch_x, batch_y = X_train[step*BATCH_SIZE:,:],y_train[step*BATCH_SIZE:]\n",
        "#             print(step,'Finishing',step*BATCH_SIZE )\n",
        "            step = 0\n",
        "\n",
        "          else:\n",
        "\n",
        "            start = step*BATCH_SIZE\n",
        "            finish = (step+1)*BATCH_SIZE\n",
        "#             print(step,'Doing', 'Start = ', start, \"Finish = \", finish)\n",
        "            batch_x, batch_y = X_train[step:finish,:],y_train[step:finish]\n",
        "#           print(batch_y.shape)\n",
        "          tr_op  = sess.run([training_operation], feed_dict={x: batch_x, y: batch_y, is_testing : False})\n",
        "#           train_writer.add_summary(summary_tr, i)\n",
        "        prob = sess.run(new_prob)\n",
        "        if i%print_every == 0:\n",
        "          tr_accuracy = sess.run(accuracy*100, feed_dict={x: X_train,y:y_train, is_testing: True})  # evaluate(X_train, y_train)\n",
        "          print(\"Train Accuracy = {:.5f}\".format(tr_accuracy))\n",
        "          validation_accuracy = sess.run(accuracy*100, feed_dict={x: validation_data,y:validation_label_one_hot, is_testing: True}) #evaluate(X_validation, y_validation)\n",
        "          validation_accuracy_track.append(validation_accuracy)\n",
        "          train_accuracy_track.append(tr_accuracy)\n",
        "          connection_probability_track.append(prob)\n",
        "          print(\"EPOCH {} ...\".format(i+1))\n",
        "          print(\"Validation Accuracy = {:.5f}\".format(validation_accuracy))\n",
        "          print(prob)\n",
        "          print()\n",
        "          if (validation_accuracy >= best_accuracy_valid):\n",
        "            best_accuracy_valid = validation_accuracy\n",
        "            saver.save(sess, './PendigitSGDBased')\n",
        "        \n",
        "#     saver.save(sess, './lenet')\n",
        "    print(\"Model saved\")"
      ],
      "execution_count": 108,
      "outputs": [
        {
          "output_type": "stream",
          "text": [
            "Training...\n",
            "\n",
            "Train Accuracy = 99.94996\n",
            "EPOCH 1 ...\n",
            "Validation Accuracy = 99.26617\n",
            "0.83325\n",
            "\n",
            "Train Accuracy = 99.94996\n",
            "EPOCH 11 ...\n",
            "Validation Accuracy = 99.06604\n",
            "0.1345745\n",
            "\n",
            "Train Accuracy = 99.94996\n",
            "EPOCH 21 ...\n",
            "Validation Accuracy = 99.59973\n",
            "0.021734525\n",
            "\n",
            "Train Accuracy = 99.96664\n",
            "EPOCH 31 ...\n",
            "Validation Accuracy = 99.59973\n",
            "0.0035102463\n",
            "\n",
            "Train Accuracy = 99.96664\n",
            "EPOCH 41 ...\n",
            "Validation Accuracy = 99.59973\n",
            "0.0005669242\n",
            "\n",
            "Train Accuracy = 99.96664\n",
            "EPOCH 51 ...\n",
            "Validation Accuracy = 99.59973\n",
            "9.156141e-05\n",
            "\n",
            "Train Accuracy = 99.96664\n",
            "EPOCH 61 ...\n",
            "Validation Accuracy = 99.59973\n",
            "1.4787675e-05\n",
            "\n",
            "Train Accuracy = 99.96664\n",
            "EPOCH 71 ...\n",
            "Validation Accuracy = 99.59973\n",
            "2.3882915e-06\n",
            "\n",
            "Train Accuracy = 99.96664\n",
            "EPOCH 81 ...\n",
            "Validation Accuracy = 99.59973\n",
            "3.8572227e-07\n",
            "\n",
            "Train Accuracy = 99.96664\n",
            "EPOCH 91 ...\n",
            "Validation Accuracy = 99.59973\n",
            "6.229629e-08\n",
            "\n",
            "Train Accuracy = 99.96664\n",
            "EPOCH 101 ...\n",
            "Validation Accuracy = 99.59973\n",
            "1.0061196e-08\n",
            "\n",
            "Train Accuracy = 99.96664\n",
            "EPOCH 111 ...\n",
            "Validation Accuracy = 99.59973\n",
            "1.6249389e-09\n",
            "\n",
            "Train Accuracy = 99.96664\n",
            "EPOCH 121 ...\n",
            "Validation Accuracy = 99.59973\n",
            "2.6243663e-10\n",
            "\n",
            "Train Accuracy = 99.96664\n",
            "EPOCH 131 ...\n",
            "Validation Accuracy = 99.59973\n",
            "4.238497e-11\n",
            "\n",
            "Train Accuracy = 99.96664\n",
            "EPOCH 141 ...\n",
            "Validation Accuracy = 99.59973\n",
            "6.845409e-12\n",
            "\n",
            "Train Accuracy = 99.96664\n",
            "EPOCH 151 ...\n",
            "Validation Accuracy = 99.59973\n",
            "1.1055714e-12\n",
            "\n",
            "Train Accuracy = 99.96664\n",
            "EPOCH 161 ...\n",
            "Validation Accuracy = 99.59973\n",
            "1.7855591e-13\n",
            "\n",
            "Train Accuracy = 99.96664\n",
            "EPOCH 171 ...\n",
            "Validation Accuracy = 99.59973\n",
            "2.8837775e-14\n",
            "\n",
            "Train Accuracy = 99.96664\n",
            "EPOCH 181 ...\n",
            "Validation Accuracy = 99.59973\n",
            "4.6574606e-15\n",
            "\n",
            "Train Accuracy = 99.96664\n",
            "EPOCH 191 ...\n",
            "Validation Accuracy = 99.59973\n",
            "7.522058e-16\n",
            "\n",
            "Train Accuracy = 99.96664\n",
            "EPOCH 201 ...\n",
            "Validation Accuracy = 99.59973\n",
            "1.214854e-16\n",
            "\n",
            "Train Accuracy = 99.96664\n",
            "EPOCH 211 ...\n",
            "Validation Accuracy = 99.59973\n",
            "1.9620562e-17\n",
            "\n",
            "Train Accuracy = 99.96664\n",
            "EPOCH 221 ...\n",
            "Validation Accuracy = 99.59973\n",
            "3.1688293e-18\n",
            "\n",
            "Train Accuracy = 99.98331\n",
            "EPOCH 231 ...\n",
            "Validation Accuracy = 99.53302\n",
            "5.117835e-19\n",
            "\n",
            "Train Accuracy = 99.96664\n",
            "EPOCH 241 ...\n",
            "Validation Accuracy = 99.59973\n",
            "8.2655874e-20\n",
            "\n",
            "Train Accuracy = 99.98331\n",
            "EPOCH 251 ...\n",
            "Validation Accuracy = 99.59973\n",
            "1.33493824e-20\n",
            "\n",
            "Train Accuracy = 99.96664\n",
            "EPOCH 261 ...\n",
            "Validation Accuracy = 99.59973\n",
            "2.1559994e-21\n",
            "\n",
            "Train Accuracy = 99.98331\n",
            "EPOCH 271 ...\n",
            "Validation Accuracy = 99.59973\n",
            "3.4820585e-22\n",
            "\n",
            "Train Accuracy = 99.96664\n",
            "EPOCH 281 ...\n",
            "Validation Accuracy = 99.59973\n",
            "5.6237174e-23\n",
            "\n",
            "Train Accuracy = 99.98331\n",
            "EPOCH 291 ...\n",
            "Validation Accuracy = 99.59973\n",
            "9.0826155e-24\n",
            "\n",
            "Train Accuracy = 99.98331\n",
            "EPOCH 301 ...\n",
            "Validation Accuracy = 99.59973\n",
            "1.4668928e-24\n",
            "\n",
            "Train Accuracy = 99.98331\n",
            "EPOCH 311 ...\n",
            "Validation Accuracy = 99.59973\n",
            "2.369113e-25\n",
            "\n",
            "Train Accuracy = 99.98331\n",
            "EPOCH 321 ...\n",
            "Validation Accuracy = 99.59973\n",
            "3.8262487e-26\n",
            "\n",
            "Train Accuracy = 99.98331\n",
            "EPOCH 331 ...\n",
            "Validation Accuracy = 99.59973\n",
            "6.1796043e-27\n",
            "\n",
            "Train Accuracy = 99.98331\n",
            "EPOCH 341 ...\n",
            "Validation Accuracy = 99.59973\n",
            "9.980403e-28\n",
            "\n",
            "Train Accuracy = 99.98331\n",
            "EPOCH 351 ...\n",
            "Validation Accuracy = 99.59973\n",
            "1.6118906e-28\n",
            "\n",
            "Train Accuracy = 99.98331\n",
            "EPOCH 361 ...\n",
            "Validation Accuracy = 99.59973\n",
            "2.6032927e-29\n",
            "\n",
            "Train Accuracy = 99.98331\n",
            "EPOCH 371 ...\n",
            "Validation Accuracy = 99.59973\n",
            "4.2044616e-30\n",
            "\n",
            "Train Accuracy = 99.98331\n",
            "EPOCH 381 ...\n",
            "Validation Accuracy = 99.59973\n",
            "6.7904387e-31\n",
            "\n",
            "Train Accuracy = 99.98331\n",
            "EPOCH 391 ...\n",
            "Validation Accuracy = 99.59973\n",
            "1.0966934e-31\n",
            "\n",
            "Train Accuracy = 99.98331\n",
            "EPOCH 401 ...\n",
            "Validation Accuracy = 99.59973\n",
            "1.771221e-32\n",
            "\n",
            "Train Accuracy = 99.98331\n",
            "EPOCH 411 ...\n",
            "Validation Accuracy = 99.59973\n",
            "2.8606202e-33\n",
            "\n",
            "Train Accuracy = 99.98331\n",
            "EPOCH 421 ...\n",
            "Validation Accuracy = 99.59973\n",
            "4.6200606e-34\n",
            "\n",
            "Train Accuracy = 99.98331\n",
            "EPOCH 431 ...\n",
            "Validation Accuracy = 99.59973\n",
            "7.461655e-35\n",
            "\n",
            "Train Accuracy = 99.98331\n",
            "EPOCH 441 ...\n",
            "Validation Accuracy = 99.59973\n",
            "1.2050985e-35\n",
            "\n",
            "Train Accuracy = 99.98331\n",
            "EPOCH 451 ...\n",
            "Validation Accuracy = 99.59973\n",
            "1.946301e-36\n",
            "\n",
            "Train Accuracy = 99.98331\n",
            "EPOCH 461 ...\n",
            "Validation Accuracy = 99.59973\n",
            "3.1433837e-37\n",
            "\n",
            "Train Accuracy = 99.98331\n",
            "EPOCH 471 ...\n",
            "Validation Accuracy = 99.59973\n",
            "5.076739e-38\n",
            "\n",
            "Train Accuracy = 99.98331\n",
            "EPOCH 481 ...\n",
            "Validation Accuracy = 99.59973\n",
            "0.0\n",
            "\n",
            "Train Accuracy = 99.98331\n",
            "EPOCH 491 ...\n",
            "Validation Accuracy = 99.59973\n",
            "0.0\n",
            "\n",
            "Train Accuracy = 99.98331\n",
            "EPOCH 501 ...\n",
            "Validation Accuracy = 99.59973\n",
            "0.0\n",
            "\n",
            "Train Accuracy = 99.98331\n",
            "EPOCH 511 ...\n",
            "Validation Accuracy = 99.59973\n",
            "0.0\n",
            "\n",
            "Train Accuracy = 99.98331\n",
            "EPOCH 521 ...\n",
            "Validation Accuracy = 99.59973\n",
            "0.0\n",
            "\n",
            "Train Accuracy = 99.98331\n",
            "EPOCH 531 ...\n",
            "Validation Accuracy = 99.59973\n",
            "0.0\n",
            "\n",
            "Train Accuracy = 99.98331\n",
            "EPOCH 541 ...\n",
            "Validation Accuracy = 99.59973\n",
            "0.0\n",
            "\n",
            "Train Accuracy = 99.98331\n",
            "EPOCH 551 ...\n",
            "Validation Accuracy = 99.59973\n",
            "0.0\n",
            "\n",
            "Train Accuracy = 99.98331\n",
            "EPOCH 561 ...\n",
            "Validation Accuracy = 99.59973\n",
            "0.0\n",
            "\n",
            "Train Accuracy = 99.98331\n",
            "EPOCH 571 ...\n",
            "Validation Accuracy = 99.59973\n",
            "0.0\n",
            "\n",
            "Train Accuracy = 99.98331\n",
            "EPOCH 581 ...\n",
            "Validation Accuracy = 99.59973\n",
            "0.0\n",
            "\n",
            "Train Accuracy = 99.98331\n",
            "EPOCH 591 ...\n",
            "Validation Accuracy = 99.59973\n",
            "0.0\n",
            "\n",
            "Train Accuracy = 99.98331\n",
            "EPOCH 601 ...\n",
            "Validation Accuracy = 99.59973\n",
            "0.0\n",
            "\n",
            "Train Accuracy = 99.98331\n",
            "EPOCH 611 ...\n",
            "Validation Accuracy = 99.59973\n",
            "0.0\n",
            "\n",
            "Train Accuracy = 99.98331\n",
            "EPOCH 621 ...\n",
            "Validation Accuracy = 99.59973\n",
            "0.0\n",
            "\n",
            "Train Accuracy = 99.98331\n",
            "EPOCH 631 ...\n",
            "Validation Accuracy = 99.59973\n",
            "0.0\n",
            "\n",
            "Train Accuracy = 99.98331\n",
            "EPOCH 641 ...\n",
            "Validation Accuracy = 99.59973\n",
            "0.0\n",
            "\n",
            "Train Accuracy = 100.00000\n",
            "EPOCH 651 ...\n",
            "Validation Accuracy = 99.59973\n",
            "0.0\n",
            "\n",
            "Train Accuracy = 100.00000\n",
            "EPOCH 661 ...\n",
            "Validation Accuracy = 99.59973\n",
            "0.0\n",
            "\n",
            "Train Accuracy = 99.98331\n",
            "EPOCH 671 ...\n",
            "Validation Accuracy = 99.59973\n",
            "0.0\n",
            "\n",
            "Train Accuracy = 99.98331\n",
            "EPOCH 681 ...\n",
            "Validation Accuracy = 99.59973\n",
            "0.0\n",
            "\n",
            "Train Accuracy = 99.98331\n",
            "EPOCH 691 ...\n",
            "Validation Accuracy = 99.59973\n",
            "0.0\n",
            "\n",
            "Train Accuracy = 99.98331\n",
            "EPOCH 701 ...\n",
            "Validation Accuracy = 99.59973\n",
            "0.0\n",
            "\n",
            "Train Accuracy = 99.98331\n",
            "EPOCH 711 ...\n",
            "Validation Accuracy = 99.59973\n",
            "0.0\n",
            "\n",
            "Train Accuracy = 99.98331\n",
            "EPOCH 721 ...\n",
            "Validation Accuracy = 99.59973\n",
            "0.0\n",
            "\n",
            "Train Accuracy = 100.00000\n",
            "EPOCH 731 ...\n",
            "Validation Accuracy = 99.59973\n",
            "0.0\n",
            "\n",
            "Train Accuracy = 100.00000\n",
            "EPOCH 741 ...\n",
            "Validation Accuracy = 99.59973\n",
            "0.0\n",
            "\n",
            "Train Accuracy = 100.00000\n",
            "EPOCH 751 ...\n",
            "Validation Accuracy = 99.59973\n",
            "0.0\n",
            "\n",
            "Train Accuracy = 100.00000\n",
            "EPOCH 761 ...\n",
            "Validation Accuracy = 99.59973\n",
            "0.0\n",
            "\n",
            "Train Accuracy = 100.00000\n",
            "EPOCH 771 ...\n",
            "Validation Accuracy = 99.59973\n",
            "0.0\n",
            "\n",
            "Train Accuracy = 100.00000\n",
            "EPOCH 781 ...\n",
            "Validation Accuracy = 99.59973\n",
            "0.0\n",
            "\n",
            "Train Accuracy = 100.00000\n",
            "EPOCH 791 ...\n",
            "Validation Accuracy = 99.59973\n",
            "0.0\n",
            "\n",
            "Train Accuracy = 100.00000\n",
            "EPOCH 801 ...\n",
            "Validation Accuracy = 99.59973\n",
            "0.0\n",
            "\n",
            "Train Accuracy = 100.00000\n",
            "EPOCH 811 ...\n",
            "Validation Accuracy = 99.59973\n",
            "0.0\n",
            "\n",
            "Train Accuracy = 100.00000\n",
            "EPOCH 821 ...\n",
            "Validation Accuracy = 99.59973\n",
            "0.0\n",
            "\n",
            "Train Accuracy = 100.00000\n",
            "EPOCH 831 ...\n",
            "Validation Accuracy = 99.59973\n",
            "0.0\n",
            "\n",
            "Train Accuracy = 100.00000\n",
            "EPOCH 841 ...\n",
            "Validation Accuracy = 99.59973\n",
            "0.0\n",
            "\n",
            "Train Accuracy = 100.00000\n",
            "EPOCH 851 ...\n",
            "Validation Accuracy = 99.59973\n",
            "0.0\n",
            "\n",
            "Train Accuracy = 100.00000\n",
            "EPOCH 861 ...\n",
            "Validation Accuracy = 99.59973\n",
            "0.0\n",
            "\n",
            "Train Accuracy = 100.00000\n",
            "EPOCH 871 ...\n",
            "Validation Accuracy = 99.59973\n",
            "0.0\n",
            "\n",
            "Train Accuracy = 100.00000\n",
            "EPOCH 881 ...\n",
            "Validation Accuracy = 99.59973\n",
            "0.0\n",
            "\n",
            "Train Accuracy = 100.00000\n",
            "EPOCH 891 ...\n",
            "Validation Accuracy = 99.59973\n",
            "0.0\n",
            "\n",
            "Train Accuracy = 100.00000\n",
            "EPOCH 901 ...\n",
            "Validation Accuracy = 99.59973\n",
            "0.0\n",
            "\n",
            "Train Accuracy = 100.00000\n",
            "EPOCH 911 ...\n",
            "Validation Accuracy = 99.59973\n",
            "0.0\n",
            "\n",
            "Train Accuracy = 100.00000\n",
            "EPOCH 921 ...\n",
            "Validation Accuracy = 99.59973\n",
            "0.0\n",
            "\n",
            "Train Accuracy = 100.00000\n",
            "EPOCH 931 ...\n",
            "Validation Accuracy = 99.59973\n",
            "0.0\n",
            "\n",
            "Train Accuracy = 100.00000\n",
            "EPOCH 941 ...\n",
            "Validation Accuracy = 99.59973\n",
            "0.0\n",
            "\n",
            "Train Accuracy = 100.00000\n",
            "EPOCH 951 ...\n",
            "Validation Accuracy = 99.59973\n",
            "0.0\n",
            "\n",
            "Train Accuracy = 100.00000\n",
            "EPOCH 961 ...\n",
            "Validation Accuracy = 99.59973\n",
            "0.0\n",
            "\n",
            "Train Accuracy = 100.00000\n",
            "EPOCH 971 ...\n",
            "Validation Accuracy = 99.59973\n",
            "0.0\n",
            "\n",
            "Train Accuracy = 100.00000\n",
            "EPOCH 981 ...\n",
            "Validation Accuracy = 99.59973\n",
            "0.0\n",
            "\n",
            "Train Accuracy = 100.00000\n",
            "EPOCH 991 ...\n",
            "Validation Accuracy = 99.59973\n",
            "0.0\n",
            "\n",
            "Train Accuracy = 100.00000\n",
            "EPOCH 1001 ...\n",
            "Validation Accuracy = 99.59973\n",
            "0.0\n",
            "\n",
            "Train Accuracy = 100.00000\n",
            "EPOCH 1011 ...\n",
            "Validation Accuracy = 99.59973\n",
            "0.0\n",
            "\n",
            "Train Accuracy = 100.00000\n",
            "EPOCH 1021 ...\n",
            "Validation Accuracy = 99.59973\n",
            "0.0\n",
            "\n",
            "Train Accuracy = 100.00000\n",
            "EPOCH 1031 ...\n",
            "Validation Accuracy = 99.59973\n",
            "0.0\n",
            "\n",
            "Train Accuracy = 100.00000\n",
            "EPOCH 1041 ...\n",
            "Validation Accuracy = 99.59973\n",
            "0.0\n",
            "\n",
            "Train Accuracy = 100.00000\n",
            "EPOCH 1051 ...\n",
            "Validation Accuracy = 99.59973\n",
            "0.0\n",
            "\n",
            "Train Accuracy = 100.00000\n",
            "EPOCH 1061 ...\n",
            "Validation Accuracy = 99.59973\n",
            "0.0\n",
            "\n",
            "Train Accuracy = 100.00000\n",
            "EPOCH 1071 ...\n",
            "Validation Accuracy = 99.59973\n",
            "0.0\n",
            "\n",
            "Train Accuracy = 100.00000\n",
            "EPOCH 1081 ...\n",
            "Validation Accuracy = 99.59973\n",
            "0.0\n",
            "\n",
            "Train Accuracy = 100.00000\n",
            "EPOCH 1091 ...\n",
            "Validation Accuracy = 99.59973\n",
            "0.0\n",
            "\n",
            "Train Accuracy = 100.00000\n",
            "EPOCH 1101 ...\n",
            "Validation Accuracy = 99.59973\n",
            "0.0\n",
            "\n",
            "Train Accuracy = 100.00000\n",
            "EPOCH 1111 ...\n",
            "Validation Accuracy = 99.59973\n",
            "0.0\n",
            "\n",
            "Train Accuracy = 100.00000\n",
            "EPOCH 1121 ...\n",
            "Validation Accuracy = 99.59973\n",
            "0.0\n",
            "\n",
            "Train Accuracy = 100.00000\n",
            "EPOCH 1131 ...\n",
            "Validation Accuracy = 99.59973\n",
            "0.0\n",
            "\n",
            "Train Accuracy = 100.00000\n",
            "EPOCH 1141 ...\n",
            "Validation Accuracy = 99.59973\n",
            "0.0\n",
            "\n",
            "Train Accuracy = 100.00000\n",
            "EPOCH 1151 ...\n",
            "Validation Accuracy = 99.59973\n",
            "0.0\n",
            "\n",
            "Train Accuracy = 100.00000\n",
            "EPOCH 1161 ...\n",
            "Validation Accuracy = 99.59973\n",
            "0.0\n",
            "\n",
            "Train Accuracy = 100.00000\n",
            "EPOCH 1171 ...\n",
            "Validation Accuracy = 99.59973\n",
            "0.0\n",
            "\n",
            "Train Accuracy = 100.00000\n",
            "EPOCH 1181 ...\n",
            "Validation Accuracy = 99.59973\n",
            "0.0\n",
            "\n",
            "Train Accuracy = 100.00000\n",
            "EPOCH 1191 ...\n",
            "Validation Accuracy = 99.59973\n",
            "0.0\n",
            "\n",
            "Train Accuracy = 100.00000\n",
            "EPOCH 1201 ...\n",
            "Validation Accuracy = 99.59973\n",
            "0.0\n",
            "\n",
            "Train Accuracy = 100.00000\n",
            "EPOCH 1211 ...\n",
            "Validation Accuracy = 99.59973\n",
            "0.0\n",
            "\n",
            "Train Accuracy = 100.00000\n",
            "EPOCH 1221 ...\n",
            "Validation Accuracy = 99.59973\n",
            "0.0\n",
            "\n",
            "Train Accuracy = 100.00000\n",
            "EPOCH 1231 ...\n",
            "Validation Accuracy = 99.59973\n",
            "0.0\n",
            "\n",
            "Train Accuracy = 100.00000\n",
            "EPOCH 1241 ...\n",
            "Validation Accuracy = 99.59973\n",
            "0.0\n",
            "\n",
            "Train Accuracy = 100.00000\n",
            "EPOCH 1251 ...\n",
            "Validation Accuracy = 99.59973\n",
            "0.0\n",
            "\n",
            "Train Accuracy = 100.00000\n",
            "EPOCH 1261 ...\n",
            "Validation Accuracy = 99.59973\n",
            "0.0\n",
            "\n",
            "Train Accuracy = 100.00000\n",
            "EPOCH 1271 ...\n",
            "Validation Accuracy = 99.59973\n",
            "0.0\n",
            "\n",
            "Train Accuracy = 100.00000\n",
            "EPOCH 1281 ...\n",
            "Validation Accuracy = 99.59973\n",
            "0.0\n",
            "\n",
            "Train Accuracy = 100.00000\n",
            "EPOCH 1291 ...\n",
            "Validation Accuracy = 99.59973\n",
            "0.0\n",
            "\n",
            "Train Accuracy = 100.00000\n",
            "EPOCH 1301 ...\n",
            "Validation Accuracy = 99.59973\n",
            "0.0\n",
            "\n",
            "Train Accuracy = 100.00000\n",
            "EPOCH 1311 ...\n",
            "Validation Accuracy = 99.59973\n",
            "0.0\n",
            "\n",
            "Train Accuracy = 100.00000\n",
            "EPOCH 1321 ...\n",
            "Validation Accuracy = 99.59973\n",
            "0.0\n",
            "\n",
            "Train Accuracy = 100.00000\n",
            "EPOCH 1331 ...\n",
            "Validation Accuracy = 99.59973\n",
            "0.0\n",
            "\n",
            "Train Accuracy = 100.00000\n",
            "EPOCH 1341 ...\n",
            "Validation Accuracy = 99.59973\n",
            "0.0\n",
            "\n",
            "Train Accuracy = 100.00000\n",
            "EPOCH 1351 ...\n",
            "Validation Accuracy = 99.66644\n",
            "0.0\n",
            "\n",
            "Train Accuracy = 100.00000\n",
            "EPOCH 1361 ...\n",
            "Validation Accuracy = 99.59973\n",
            "0.0\n",
            "\n",
            "Train Accuracy = 100.00000\n",
            "EPOCH 1371 ...\n",
            "Validation Accuracy = 99.59973\n",
            "0.0\n",
            "\n",
            "Train Accuracy = 100.00000\n",
            "EPOCH 1381 ...\n",
            "Validation Accuracy = 99.59973\n",
            "0.0\n",
            "\n",
            "Train Accuracy = 100.00000\n",
            "EPOCH 1391 ...\n",
            "Validation Accuracy = 99.59973\n",
            "0.0\n",
            "\n",
            "Train Accuracy = 100.00000\n",
            "EPOCH 1401 ...\n",
            "Validation Accuracy = 99.59973\n",
            "0.0\n",
            "\n",
            "Train Accuracy = 100.00000\n",
            "EPOCH 1411 ...\n",
            "Validation Accuracy = 99.66644\n",
            "0.0\n",
            "\n",
            "Train Accuracy = 100.00000\n",
            "EPOCH 1421 ...\n",
            "Validation Accuracy = 99.66644\n",
            "0.0\n",
            "\n",
            "Train Accuracy = 100.00000\n",
            "EPOCH 1431 ...\n",
            "Validation Accuracy = 99.66644\n",
            "0.0\n",
            "\n",
            "Train Accuracy = 100.00000\n",
            "EPOCH 1441 ...\n",
            "Validation Accuracy = 99.59973\n",
            "0.0\n",
            "\n",
            "Train Accuracy = 100.00000\n",
            "EPOCH 1451 ...\n",
            "Validation Accuracy = 99.59973\n",
            "0.0\n",
            "\n",
            "Train Accuracy = 100.00000\n",
            "EPOCH 1461 ...\n",
            "Validation Accuracy = 99.66644\n",
            "0.0\n",
            "\n",
            "Train Accuracy = 100.00000\n",
            "EPOCH 1471 ...\n",
            "Validation Accuracy = 99.66644\n",
            "0.0\n",
            "\n",
            "Train Accuracy = 100.00000\n",
            "EPOCH 1481 ...\n",
            "Validation Accuracy = 99.66644\n",
            "0.0\n",
            "\n",
            "Train Accuracy = 100.00000\n",
            "EPOCH 1491 ...\n",
            "Validation Accuracy = 99.66644\n",
            "0.0\n",
            "\n",
            "Train Accuracy = 100.00000\n",
            "EPOCH 1501 ...\n",
            "Validation Accuracy = 99.66644\n",
            "0.0\n",
            "\n",
            "Train Accuracy = 100.00000\n",
            "EPOCH 1511 ...\n",
            "Validation Accuracy = 99.66644\n",
            "0.0\n",
            "\n",
            "Train Accuracy = 100.00000\n",
            "EPOCH 1521 ...\n",
            "Validation Accuracy = 99.66644\n",
            "0.0\n",
            "\n",
            "Train Accuracy = 100.00000\n",
            "EPOCH 1531 ...\n",
            "Validation Accuracy = 99.66644\n",
            "0.0\n",
            "\n",
            "Train Accuracy = 100.00000\n",
            "EPOCH 1541 ...\n",
            "Validation Accuracy = 99.66644\n",
            "0.0\n",
            "\n",
            "Train Accuracy = 100.00000\n",
            "EPOCH 1551 ...\n",
            "Validation Accuracy = 99.66644\n",
            "0.0\n",
            "\n",
            "Train Accuracy = 100.00000\n",
            "EPOCH 1561 ...\n",
            "Validation Accuracy = 99.66644\n",
            "0.0\n",
            "\n",
            "Train Accuracy = 100.00000\n",
            "EPOCH 1571 ...\n",
            "Validation Accuracy = 99.66644\n",
            "0.0\n",
            "\n",
            "Train Accuracy = 100.00000\n",
            "EPOCH 1581 ...\n",
            "Validation Accuracy = 99.66644\n",
            "0.0\n",
            "\n",
            "Train Accuracy = 100.00000\n",
            "EPOCH 1591 ...\n",
            "Validation Accuracy = 99.66644\n",
            "0.0\n",
            "\n",
            "Train Accuracy = 100.00000\n",
            "EPOCH 1601 ...\n",
            "Validation Accuracy = 99.66644\n",
            "0.0\n",
            "\n",
            "Train Accuracy = 100.00000\n",
            "EPOCH 1611 ...\n",
            "Validation Accuracy = 99.66644\n",
            "0.0\n",
            "\n",
            "Train Accuracy = 100.00000\n",
            "EPOCH 1621 ...\n",
            "Validation Accuracy = 99.66644\n",
            "0.0\n",
            "\n",
            "Train Accuracy = 100.00000\n",
            "EPOCH 1631 ...\n",
            "Validation Accuracy = 99.66644\n",
            "0.0\n",
            "\n",
            "Train Accuracy = 100.00000\n",
            "EPOCH 1641 ...\n",
            "Validation Accuracy = 99.59973\n",
            "0.0\n",
            "\n",
            "Train Accuracy = 100.00000\n",
            "EPOCH 1651 ...\n",
            "Validation Accuracy = 99.66644\n",
            "0.0\n",
            "\n",
            "Train Accuracy = 100.00000\n",
            "EPOCH 1661 ...\n",
            "Validation Accuracy = 99.66644\n",
            "0.0\n",
            "\n",
            "Train Accuracy = 100.00000\n",
            "EPOCH 1671 ...\n",
            "Validation Accuracy = 99.66644\n",
            "0.0\n",
            "\n",
            "Train Accuracy = 100.00000\n",
            "EPOCH 1681 ...\n",
            "Validation Accuracy = 99.66644\n",
            "0.0\n",
            "\n",
            "Train Accuracy = 100.00000\n",
            "EPOCH 1691 ...\n",
            "Validation Accuracy = 99.66644\n",
            "0.0\n",
            "\n",
            "Train Accuracy = 100.00000\n",
            "EPOCH 1701 ...\n",
            "Validation Accuracy = 99.66644\n",
            "0.0\n",
            "\n",
            "Train Accuracy = 100.00000\n",
            "EPOCH 1711 ...\n",
            "Validation Accuracy = 99.66644\n",
            "0.0\n",
            "\n",
            "Train Accuracy = 100.00000\n",
            "EPOCH 1721 ...\n",
            "Validation Accuracy = 99.66644\n",
            "0.0\n",
            "\n",
            "Train Accuracy = 100.00000\n",
            "EPOCH 1731 ...\n",
            "Validation Accuracy = 99.66644\n",
            "0.0\n",
            "\n",
            "Train Accuracy = 100.00000\n",
            "EPOCH 1741 ...\n",
            "Validation Accuracy = 99.66644\n",
            "0.0\n",
            "\n",
            "Train Accuracy = 100.00000\n",
            "EPOCH 1751 ...\n",
            "Validation Accuracy = 99.66644\n",
            "0.0\n",
            "\n",
            "Train Accuracy = 100.00000\n",
            "EPOCH 1761 ...\n",
            "Validation Accuracy = 99.66644\n",
            "0.0\n",
            "\n",
            "Train Accuracy = 100.00000\n",
            "EPOCH 1771 ...\n",
            "Validation Accuracy = 99.66644\n",
            "0.0\n",
            "\n",
            "Train Accuracy = 100.00000\n",
            "EPOCH 1781 ...\n",
            "Validation Accuracy = 99.66644\n",
            "0.0\n",
            "\n",
            "Train Accuracy = 100.00000\n",
            "EPOCH 1791 ...\n",
            "Validation Accuracy = 99.66644\n",
            "0.0\n",
            "\n",
            "Train Accuracy = 100.00000\n",
            "EPOCH 1801 ...\n",
            "Validation Accuracy = 99.66644\n",
            "0.0\n",
            "\n",
            "Train Accuracy = 100.00000\n",
            "EPOCH 1811 ...\n",
            "Validation Accuracy = 99.66644\n",
            "0.0\n",
            "\n",
            "Train Accuracy = 100.00000\n",
            "EPOCH 1821 ...\n",
            "Validation Accuracy = 99.66644\n",
            "0.0\n",
            "\n",
            "Train Accuracy = 100.00000\n",
            "EPOCH 1831 ...\n",
            "Validation Accuracy = 99.66644\n",
            "0.0\n",
            "\n",
            "Train Accuracy = 100.00000\n",
            "EPOCH 1841 ...\n",
            "Validation Accuracy = 99.66644\n",
            "0.0\n",
            "\n",
            "Train Accuracy = 100.00000\n",
            "EPOCH 1851 ...\n",
            "Validation Accuracy = 99.66644\n",
            "0.0\n",
            "\n",
            "Train Accuracy = 100.00000\n",
            "EPOCH 1861 ...\n",
            "Validation Accuracy = 99.66644\n",
            "0.0\n",
            "\n",
            "Train Accuracy = 100.00000\n",
            "EPOCH 1871 ...\n",
            "Validation Accuracy = 99.66644\n",
            "0.0\n",
            "\n",
            "Train Accuracy = 100.00000\n",
            "EPOCH 1881 ...\n",
            "Validation Accuracy = 99.66644\n",
            "0.0\n",
            "\n",
            "Train Accuracy = 100.00000\n",
            "EPOCH 1891 ...\n",
            "Validation Accuracy = 99.66644\n",
            "0.0\n",
            "\n",
            "Train Accuracy = 100.00000\n",
            "EPOCH 1901 ...\n",
            "Validation Accuracy = 99.66644\n",
            "0.0\n",
            "\n",
            "Train Accuracy = 100.00000\n",
            "EPOCH 1911 ...\n",
            "Validation Accuracy = 99.66644\n",
            "0.0\n",
            "\n",
            "Train Accuracy = 100.00000\n",
            "EPOCH 1921 ...\n",
            "Validation Accuracy = 99.66644\n",
            "0.0\n",
            "\n",
            "Train Accuracy = 100.00000\n",
            "EPOCH 1931 ...\n",
            "Validation Accuracy = 99.66644\n",
            "0.0\n",
            "\n",
            "Train Accuracy = 100.00000\n",
            "EPOCH 1941 ...\n",
            "Validation Accuracy = 99.66644\n",
            "0.0\n",
            "\n",
            "Train Accuracy = 100.00000\n",
            "EPOCH 1951 ...\n",
            "Validation Accuracy = 99.66644\n",
            "0.0\n",
            "\n",
            "Train Accuracy = 100.00000\n",
            "EPOCH 1961 ...\n",
            "Validation Accuracy = 99.59973\n",
            "0.0\n",
            "\n",
            "Train Accuracy = 100.00000\n",
            "EPOCH 1971 ...\n",
            "Validation Accuracy = 99.66644\n",
            "0.0\n",
            "\n",
            "Train Accuracy = 100.00000\n",
            "EPOCH 1981 ...\n",
            "Validation Accuracy = 99.66644\n",
            "0.0\n",
            "\n",
            "Train Accuracy = 100.00000\n",
            "EPOCH 1991 ...\n",
            "Validation Accuracy = 99.66644\n",
            "0.0\n",
            "\n",
            "Train Accuracy = 100.00000\n",
            "EPOCH 2001 ...\n",
            "Validation Accuracy = 99.59973\n",
            "0.0\n",
            "\n",
            "Train Accuracy = 100.00000\n",
            "EPOCH 2011 ...\n",
            "Validation Accuracy = 99.59973\n",
            "0.0\n",
            "\n",
            "Train Accuracy = 100.00000\n",
            "EPOCH 2021 ...\n",
            "Validation Accuracy = 99.59973\n",
            "0.0\n",
            "\n",
            "Train Accuracy = 100.00000\n",
            "EPOCH 2031 ...\n",
            "Validation Accuracy = 99.59973\n",
            "0.0\n",
            "\n",
            "Train Accuracy = 100.00000\n",
            "EPOCH 2041 ...\n",
            "Validation Accuracy = 99.59973\n",
            "0.0\n",
            "\n",
            "Train Accuracy = 100.00000\n",
            "EPOCH 2051 ...\n",
            "Validation Accuracy = 99.59973\n",
            "0.0\n",
            "\n",
            "Train Accuracy = 100.00000\n",
            "EPOCH 2061 ...\n",
            "Validation Accuracy = 99.59973\n",
            "0.0\n",
            "\n",
            "Train Accuracy = 100.00000\n",
            "EPOCH 2071 ...\n",
            "Validation Accuracy = 99.59973\n",
            "0.0\n",
            "\n",
            "Train Accuracy = 100.00000\n",
            "EPOCH 2081 ...\n",
            "Validation Accuracy = 99.59973\n",
            "0.0\n",
            "\n",
            "Train Accuracy = 100.00000\n",
            "EPOCH 2091 ...\n",
            "Validation Accuracy = 99.59973\n",
            "0.0\n",
            "\n",
            "Train Accuracy = 100.00000\n",
            "EPOCH 2101 ...\n",
            "Validation Accuracy = 99.59973\n",
            "0.0\n",
            "\n",
            "Train Accuracy = 100.00000\n",
            "EPOCH 2111 ...\n",
            "Validation Accuracy = 99.59973\n",
            "0.0\n",
            "\n",
            "Train Accuracy = 100.00000\n",
            "EPOCH 2121 ...\n",
            "Validation Accuracy = 99.59973\n",
            "0.0\n",
            "\n",
            "Train Accuracy = 100.00000\n",
            "EPOCH 2131 ...\n",
            "Validation Accuracy = 99.59973\n",
            "0.0\n",
            "\n",
            "Train Accuracy = 100.00000\n",
            "EPOCH 2141 ...\n",
            "Validation Accuracy = 99.59973\n",
            "0.0\n",
            "\n",
            "Train Accuracy = 100.00000\n",
            "EPOCH 2151 ...\n",
            "Validation Accuracy = 99.59973\n",
            "0.0\n",
            "\n",
            "Train Accuracy = 100.00000\n",
            "EPOCH 2161 ...\n",
            "Validation Accuracy = 99.59973\n",
            "0.0\n",
            "\n",
            "Train Accuracy = 100.00000\n",
            "EPOCH 2171 ...\n",
            "Validation Accuracy = 99.59973\n",
            "0.0\n",
            "\n",
            "Train Accuracy = 100.00000\n",
            "EPOCH 2181 ...\n",
            "Validation Accuracy = 99.59973\n",
            "0.0\n",
            "\n",
            "Train Accuracy = 100.00000\n",
            "EPOCH 2191 ...\n",
            "Validation Accuracy = 99.59973\n",
            "0.0\n",
            "\n",
            "Train Accuracy = 100.00000\n",
            "EPOCH 2201 ...\n",
            "Validation Accuracy = 99.59973\n",
            "0.0\n",
            "\n",
            "Train Accuracy = 100.00000\n",
            "EPOCH 2211 ...\n",
            "Validation Accuracy = 99.59973\n",
            "0.0\n",
            "\n",
            "Train Accuracy = 100.00000\n",
            "EPOCH 2221 ...\n",
            "Validation Accuracy = 99.59973\n",
            "0.0\n",
            "\n",
            "Train Accuracy = 100.00000\n",
            "EPOCH 2231 ...\n",
            "Validation Accuracy = 99.59973\n",
            "0.0\n",
            "\n",
            "Train Accuracy = 100.00000\n",
            "EPOCH 2241 ...\n",
            "Validation Accuracy = 99.59973\n",
            "0.0\n",
            "\n",
            "Train Accuracy = 100.00000\n",
            "EPOCH 2251 ...\n",
            "Validation Accuracy = 99.59973\n",
            "0.0\n",
            "\n",
            "Train Accuracy = 100.00000\n",
            "EPOCH 2261 ...\n",
            "Validation Accuracy = 99.59973\n",
            "0.0\n",
            "\n",
            "Train Accuracy = 100.00000\n",
            "EPOCH 2271 ...\n",
            "Validation Accuracy = 99.59973\n",
            "0.0\n",
            "\n",
            "Train Accuracy = 100.00000\n",
            "EPOCH 2281 ...\n",
            "Validation Accuracy = 99.59973\n",
            "0.0\n",
            "\n",
            "Train Accuracy = 100.00000\n",
            "EPOCH 2291 ...\n",
            "Validation Accuracy = 99.59973\n",
            "0.0\n",
            "\n",
            "Train Accuracy = 100.00000\n"
          ],
          "name": "stdout"
        },
        {
          "output_type": "error",
          "ename": "KeyboardInterrupt",
          "evalue": "ignored",
          "traceback": [
            "\u001b[0;31m---------------------------------------------------------------------------\u001b[0m",
            "\u001b[0;31mKeyboardInterrupt\u001b[0m                         Traceback (most recent call last)",
            "\u001b[0;32m<ipython-input-108-7cbbaeb13c20>\u001b[0m in \u001b[0;36m<module>\u001b[0;34m()\u001b[0m\n\u001b[1;32m     34\u001b[0m           \u001b[0mtr_accuracy\u001b[0m \u001b[0;34m=\u001b[0m \u001b[0msess\u001b[0m\u001b[0;34m.\u001b[0m\u001b[0mrun\u001b[0m\u001b[0;34m(\u001b[0m\u001b[0maccuracy\u001b[0m\u001b[0;34m*\u001b[0m\u001b[0;36m100\u001b[0m\u001b[0;34m,\u001b[0m \u001b[0mfeed_dict\u001b[0m\u001b[0;34m=\u001b[0m\u001b[0;34m{\u001b[0m\u001b[0mx\u001b[0m\u001b[0;34m:\u001b[0m \u001b[0mX_train\u001b[0m\u001b[0;34m,\u001b[0m\u001b[0my\u001b[0m\u001b[0;34m:\u001b[0m\u001b[0my_train\u001b[0m\u001b[0;34m,\u001b[0m \u001b[0mis_testing\u001b[0m\u001b[0;34m:\u001b[0m \u001b[0;32mTrue\u001b[0m\u001b[0;34m}\u001b[0m\u001b[0;34m)\u001b[0m  \u001b[0;31m# evaluate(X_train, y_train)\u001b[0m\u001b[0;34m\u001b[0m\u001b[0;34m\u001b[0m\u001b[0m\n\u001b[1;32m     35\u001b[0m           \u001b[0mprint\u001b[0m\u001b[0;34m(\u001b[0m\u001b[0;34m\"Train Accuracy = {:.5f}\"\u001b[0m\u001b[0;34m.\u001b[0m\u001b[0mformat\u001b[0m\u001b[0;34m(\u001b[0m\u001b[0mtr_accuracy\u001b[0m\u001b[0;34m)\u001b[0m\u001b[0;34m)\u001b[0m\u001b[0;34m\u001b[0m\u001b[0;34m\u001b[0m\u001b[0m\n\u001b[0;32m---> 36\u001b[0;31m           \u001b[0mvalidation_accuracy\u001b[0m \u001b[0;34m=\u001b[0m \u001b[0msess\u001b[0m\u001b[0;34m.\u001b[0m\u001b[0mrun\u001b[0m\u001b[0;34m(\u001b[0m\u001b[0maccuracy\u001b[0m\u001b[0;34m*\u001b[0m\u001b[0;36m100\u001b[0m\u001b[0;34m,\u001b[0m \u001b[0mfeed_dict\u001b[0m\u001b[0;34m=\u001b[0m\u001b[0;34m{\u001b[0m\u001b[0mx\u001b[0m\u001b[0;34m:\u001b[0m \u001b[0mvalidation_data\u001b[0m\u001b[0;34m,\u001b[0m\u001b[0my\u001b[0m\u001b[0;34m:\u001b[0m\u001b[0mvalidation_label_one_hot\u001b[0m\u001b[0;34m,\u001b[0m \u001b[0mis_testing\u001b[0m\u001b[0;34m:\u001b[0m \u001b[0;32mTrue\u001b[0m\u001b[0;34m}\u001b[0m\u001b[0;34m)\u001b[0m \u001b[0;31m#evaluate(X_validation, y_validation)\u001b[0m\u001b[0;34m\u001b[0m\u001b[0;34m\u001b[0m\u001b[0m\n\u001b[0m\u001b[1;32m     37\u001b[0m           \u001b[0mvalidation_accuracy_track\u001b[0m\u001b[0;34m.\u001b[0m\u001b[0mappend\u001b[0m\u001b[0;34m(\u001b[0m\u001b[0mvalidation_accuracy\u001b[0m\u001b[0;34m)\u001b[0m\u001b[0;34m\u001b[0m\u001b[0;34m\u001b[0m\u001b[0m\n\u001b[1;32m     38\u001b[0m           \u001b[0mtrain_accuracy_track\u001b[0m\u001b[0;34m.\u001b[0m\u001b[0mappend\u001b[0m\u001b[0;34m(\u001b[0m\u001b[0mtr_accuracy\u001b[0m\u001b[0;34m)\u001b[0m\u001b[0;34m\u001b[0m\u001b[0;34m\u001b[0m\u001b[0m\n",
            "\u001b[0;32m/usr/local/lib/python3.6/dist-packages/tensorflow/python/client/session.py\u001b[0m in \u001b[0;36mrun\u001b[0;34m(self, fetches, feed_dict, options, run_metadata)\u001b[0m\n\u001b[1;32m    927\u001b[0m     \u001b[0;32mtry\u001b[0m\u001b[0;34m:\u001b[0m\u001b[0;34m\u001b[0m\u001b[0;34m\u001b[0m\u001b[0m\n\u001b[1;32m    928\u001b[0m       result = self._run(None, fetches, feed_dict, options_ptr,\n\u001b[0;32m--> 929\u001b[0;31m                          run_metadata_ptr)\n\u001b[0m\u001b[1;32m    930\u001b[0m       \u001b[0;32mif\u001b[0m \u001b[0mrun_metadata\u001b[0m\u001b[0;34m:\u001b[0m\u001b[0;34m\u001b[0m\u001b[0;34m\u001b[0m\u001b[0m\n\u001b[1;32m    931\u001b[0m         \u001b[0mproto_data\u001b[0m \u001b[0;34m=\u001b[0m \u001b[0mtf_session\u001b[0m\u001b[0;34m.\u001b[0m\u001b[0mTF_GetBuffer\u001b[0m\u001b[0;34m(\u001b[0m\u001b[0mrun_metadata_ptr\u001b[0m\u001b[0;34m)\u001b[0m\u001b[0;34m\u001b[0m\u001b[0;34m\u001b[0m\u001b[0m\n",
            "\u001b[0;32m/usr/local/lib/python3.6/dist-packages/tensorflow/python/client/session.py\u001b[0m in \u001b[0;36m_run\u001b[0;34m(self, handle, fetches, feed_dict, options, run_metadata)\u001b[0m\n\u001b[1;32m   1150\u001b[0m     \u001b[0;32mif\u001b[0m \u001b[0mfinal_fetches\u001b[0m \u001b[0;32mor\u001b[0m \u001b[0mfinal_targets\u001b[0m \u001b[0;32mor\u001b[0m \u001b[0;34m(\u001b[0m\u001b[0mhandle\u001b[0m \u001b[0;32mand\u001b[0m \u001b[0mfeed_dict_tensor\u001b[0m\u001b[0;34m)\u001b[0m\u001b[0;34m:\u001b[0m\u001b[0;34m\u001b[0m\u001b[0;34m\u001b[0m\u001b[0m\n\u001b[1;32m   1151\u001b[0m       results = self._do_run(handle, final_targets, final_fetches,\n\u001b[0;32m-> 1152\u001b[0;31m                              feed_dict_tensor, options, run_metadata)\n\u001b[0m\u001b[1;32m   1153\u001b[0m     \u001b[0;32melse\u001b[0m\u001b[0;34m:\u001b[0m\u001b[0;34m\u001b[0m\u001b[0;34m\u001b[0m\u001b[0m\n\u001b[1;32m   1154\u001b[0m       \u001b[0mresults\u001b[0m \u001b[0;34m=\u001b[0m \u001b[0;34m[\u001b[0m\u001b[0;34m]\u001b[0m\u001b[0;34m\u001b[0m\u001b[0;34m\u001b[0m\u001b[0m\n",
            "\u001b[0;32m/usr/local/lib/python3.6/dist-packages/tensorflow/python/client/session.py\u001b[0m in \u001b[0;36m_do_run\u001b[0;34m(self, handle, target_list, fetch_list, feed_dict, options, run_metadata)\u001b[0m\n\u001b[1;32m   1326\u001b[0m     \u001b[0;32mif\u001b[0m \u001b[0mhandle\u001b[0m \u001b[0;32mis\u001b[0m \u001b[0;32mNone\u001b[0m\u001b[0;34m:\u001b[0m\u001b[0;34m\u001b[0m\u001b[0;34m\u001b[0m\u001b[0m\n\u001b[1;32m   1327\u001b[0m       return self._do_call(_run_fn, feeds, fetches, targets, options,\n\u001b[0;32m-> 1328\u001b[0;31m                            run_metadata)\n\u001b[0m\u001b[1;32m   1329\u001b[0m     \u001b[0;32melse\u001b[0m\u001b[0;34m:\u001b[0m\u001b[0;34m\u001b[0m\u001b[0;34m\u001b[0m\u001b[0m\n\u001b[1;32m   1330\u001b[0m       \u001b[0;32mreturn\u001b[0m \u001b[0mself\u001b[0m\u001b[0;34m.\u001b[0m\u001b[0m_do_call\u001b[0m\u001b[0;34m(\u001b[0m\u001b[0m_prun_fn\u001b[0m\u001b[0;34m,\u001b[0m \u001b[0mhandle\u001b[0m\u001b[0;34m,\u001b[0m \u001b[0mfeeds\u001b[0m\u001b[0;34m,\u001b[0m \u001b[0mfetches\u001b[0m\u001b[0;34m)\u001b[0m\u001b[0;34m\u001b[0m\u001b[0;34m\u001b[0m\u001b[0m\n",
            "\u001b[0;32m/usr/local/lib/python3.6/dist-packages/tensorflow/python/client/session.py\u001b[0m in \u001b[0;36m_do_call\u001b[0;34m(self, fn, *args)\u001b[0m\n\u001b[1;32m   1332\u001b[0m   \u001b[0;32mdef\u001b[0m \u001b[0m_do_call\u001b[0m\u001b[0;34m(\u001b[0m\u001b[0mself\u001b[0m\u001b[0;34m,\u001b[0m \u001b[0mfn\u001b[0m\u001b[0;34m,\u001b[0m \u001b[0;34m*\u001b[0m\u001b[0margs\u001b[0m\u001b[0;34m)\u001b[0m\u001b[0;34m:\u001b[0m\u001b[0;34m\u001b[0m\u001b[0;34m\u001b[0m\u001b[0m\n\u001b[1;32m   1333\u001b[0m     \u001b[0;32mtry\u001b[0m\u001b[0;34m:\u001b[0m\u001b[0;34m\u001b[0m\u001b[0;34m\u001b[0m\u001b[0m\n\u001b[0;32m-> 1334\u001b[0;31m       \u001b[0;32mreturn\u001b[0m \u001b[0mfn\u001b[0m\u001b[0;34m(\u001b[0m\u001b[0;34m*\u001b[0m\u001b[0margs\u001b[0m\u001b[0;34m)\u001b[0m\u001b[0;34m\u001b[0m\u001b[0;34m\u001b[0m\u001b[0m\n\u001b[0m\u001b[1;32m   1335\u001b[0m     \u001b[0;32mexcept\u001b[0m \u001b[0merrors\u001b[0m\u001b[0;34m.\u001b[0m\u001b[0mOpError\u001b[0m \u001b[0;32mas\u001b[0m \u001b[0me\u001b[0m\u001b[0;34m:\u001b[0m\u001b[0;34m\u001b[0m\u001b[0;34m\u001b[0m\u001b[0m\n\u001b[1;32m   1336\u001b[0m       \u001b[0mmessage\u001b[0m \u001b[0;34m=\u001b[0m \u001b[0mcompat\u001b[0m\u001b[0;34m.\u001b[0m\u001b[0mas_text\u001b[0m\u001b[0;34m(\u001b[0m\u001b[0me\u001b[0m\u001b[0;34m.\u001b[0m\u001b[0mmessage\u001b[0m\u001b[0;34m)\u001b[0m\u001b[0;34m\u001b[0m\u001b[0;34m\u001b[0m\u001b[0m\n",
            "\u001b[0;32m/usr/local/lib/python3.6/dist-packages/tensorflow/python/client/session.py\u001b[0m in \u001b[0;36m_run_fn\u001b[0;34m(feed_dict, fetch_list, target_list, options, run_metadata)\u001b[0m\n\u001b[1;32m   1315\u001b[0m     \u001b[0;32mdef\u001b[0m \u001b[0m_run_fn\u001b[0m\u001b[0;34m(\u001b[0m\u001b[0mfeed_dict\u001b[0m\u001b[0;34m,\u001b[0m \u001b[0mfetch_list\u001b[0m\u001b[0;34m,\u001b[0m \u001b[0mtarget_list\u001b[0m\u001b[0;34m,\u001b[0m \u001b[0moptions\u001b[0m\u001b[0;34m,\u001b[0m \u001b[0mrun_metadata\u001b[0m\u001b[0;34m)\u001b[0m\u001b[0;34m:\u001b[0m\u001b[0;34m\u001b[0m\u001b[0;34m\u001b[0m\u001b[0m\n\u001b[1;32m   1316\u001b[0m       \u001b[0;31m# Ensure any changes to the graph are reflected in the runtime.\u001b[0m\u001b[0;34m\u001b[0m\u001b[0;34m\u001b[0m\u001b[0;34m\u001b[0m\u001b[0m\n\u001b[0;32m-> 1317\u001b[0;31m       \u001b[0mself\u001b[0m\u001b[0;34m.\u001b[0m\u001b[0m_extend_graph\u001b[0m\u001b[0;34m(\u001b[0m\u001b[0;34m)\u001b[0m\u001b[0;34m\u001b[0m\u001b[0;34m\u001b[0m\u001b[0m\n\u001b[0m\u001b[1;32m   1318\u001b[0m       return self._call_tf_sessionrun(\n\u001b[1;32m   1319\u001b[0m           options, feed_dict, fetch_list, target_list, run_metadata)\n",
            "\u001b[0;32m/usr/local/lib/python3.6/dist-packages/tensorflow/python/client/session.py\u001b[0m in \u001b[0;36m_extend_graph\u001b[0;34m(self)\u001b[0m\n\u001b[1;32m   1350\u001b[0m   \u001b[0;32mdef\u001b[0m \u001b[0m_extend_graph\u001b[0m\u001b[0;34m(\u001b[0m\u001b[0mself\u001b[0m\u001b[0;34m)\u001b[0m\u001b[0;34m:\u001b[0m\u001b[0;34m\u001b[0m\u001b[0;34m\u001b[0m\u001b[0m\n\u001b[1;32m   1351\u001b[0m     \u001b[0;32mwith\u001b[0m \u001b[0mself\u001b[0m\u001b[0;34m.\u001b[0m\u001b[0m_graph\u001b[0m\u001b[0;34m.\u001b[0m\u001b[0m_session_run_lock\u001b[0m\u001b[0;34m(\u001b[0m\u001b[0;34m)\u001b[0m\u001b[0;34m:\u001b[0m  \u001b[0;31m# pylint: disable=protected-access\u001b[0m\u001b[0;34m\u001b[0m\u001b[0;34m\u001b[0m\u001b[0m\n\u001b[0;32m-> 1352\u001b[0;31m       \u001b[0mtf_session\u001b[0m\u001b[0;34m.\u001b[0m\u001b[0mExtendSession\u001b[0m\u001b[0;34m(\u001b[0m\u001b[0mself\u001b[0m\u001b[0;34m.\u001b[0m\u001b[0m_session\u001b[0m\u001b[0;34m)\u001b[0m\u001b[0;34m\u001b[0m\u001b[0;34m\u001b[0m\u001b[0m\n\u001b[0m\u001b[1;32m   1353\u001b[0m \u001b[0;34m\u001b[0m\u001b[0m\n\u001b[1;32m   1354\u001b[0m   \u001b[0;31m# The threshold to run garbage collection to delete dead tensors.\u001b[0m\u001b[0;34m\u001b[0m\u001b[0;34m\u001b[0m\u001b[0;34m\u001b[0m\u001b[0m\n",
            "\u001b[0;31mKeyboardInterrupt\u001b[0m: "
          ]
        }
      ]
    },
    {
      "metadata": {
        "id": "oDevMH2N3JZu",
        "colab_type": "code",
        "colab": {
          "base_uri": "https://localhost:8080/",
          "height": 34
        },
        "outputId": "ab7f6332-99d4-4717-e78d-f0f3a0a28bae"
      },
      "cell_type": "code",
      "source": [
        "best_accuracy_valid"
      ],
      "execution_count": 110,
      "outputs": [
        {
          "output_type": "execute_result",
          "data": {
            "text/plain": [
              "99.66644"
            ]
          },
          "metadata": {
            "tags": []
          },
          "execution_count": 110
        }
      ]
    },
    {
      "metadata": {
        "id": "uhbuJEM0-sVm",
        "colab_type": "code",
        "colab": {
          "base_uri": "https://localhost:8080/",
          "height": 122
        },
        "outputId": "dbf44093-7e6e-43ee-88cf-2e97d0941aae"
      },
      "cell_type": "code",
      "source": [
        "with tf.Session() as sess:\n",
        "#     saver.restore(sess, tf.train.latest_checkpoint('.'))\n",
        "    saver.restore(sess, './PendigitSGDBased')\n",
        "    validation_accuracy = sess.run(accuracy*100, feed_dict={x: validation_data,y:validation_label_one_hot, is_testing: True})\n",
        "    print(\"Validation Accuracy = {:.6f}\".format(validation_accuracy))"
      ],
      "execution_count": 111,
      "outputs": [
        {
          "output_type": "stream",
          "text": [
            "WARNING:tensorflow:From /usr/local/lib/python3.6/dist-packages/tensorflow/python/training/saver.py:1266: checkpoint_exists (from tensorflow.python.training.checkpoint_management) is deprecated and will be removed in a future version.\n",
            "Instructions for updating:\n",
            "Use standard file APIs to check for files with this prefix.\n",
            "INFO:tensorflow:Restoring parameters from ./PendigitSGDBased\n",
            "Validation Accuracy = 99.666443\n"
          ],
          "name": "stdout"
        }
      ]
    },
    {
      "metadata": {
        "id": "q08ZXCdr-sTS",
        "colab_type": "code",
        "colab": {
          "base_uri": "https://localhost:8080/",
          "height": 51
        },
        "outputId": "308b06b9-e6da-4602-bdf6-d2938b4e386a"
      },
      "cell_type": "code",
      "source": [
        "with tf.Session() as sess:\n",
        "#     saver.restore(sess, tf.train.latest_checkpoint('.'))\n",
        "    saver.restore(sess, './PendigitSGDBased')\n",
        "    test_accuracy = sess.run(accuracy*100, feed_dict={x: test_data,y:test_label_one_hot, is_testing: True})\n",
        "    print(\"Test Accuracy = {:.6f}\".format(test_accuracy))"
      ],
      "execution_count": 112,
      "outputs": [
        {
          "output_type": "stream",
          "text": [
            "INFO:tensorflow:Restoring parameters from ./PendigitSGDBased\n",
            "Test Accuracy = 97.398514\n"
          ],
          "name": "stdout"
        }
      ]
    },
    {
      "metadata": {
        "id": "M9z1P1DG-sQM",
        "colab_type": "code",
        "colab": {}
      },
      "cell_type": "code",
      "source": [
        "import scipy.io as sio\n"
      ],
      "execution_count": 0,
      "outputs": []
    },
    {
      "metadata": {
        "id": "dW6V7O1e-sNf",
        "colab_type": "code",
        "colab": {}
      },
      "cell_type": "code",
      "source": [
        "epochTrack = [k for k in range(1,2292,1)]\n"
      ],
      "execution_count": 0,
      "outputs": []
    },
    {
      "metadata": {
        "id": "r7lCgbXR3JXa",
        "colab_type": "code",
        "colab": {}
      },
      "cell_type": "code",
      "source": [
        "sio.savemat('PendigitFullDatasetAdam_ProbabilityBasedValid97p4.mat', {'ValidationTracked':validation_accuracy_track,\n",
        "                                       'train_accuracy_track':train_accuracy_track,\n",
        "                                       'connection_probability_track':connection_probability_track,\n",
        "                                       'epochTrack':epochTrack, 'TestAcc':test_accuracy,\n",
        "                                                         'BestValidation':best_accuracy_valid})"
      ],
      "execution_count": 0,
      "outputs": []
    },
    {
      "metadata": {
        "id": "vFfzfjOB3JTx",
        "colab_type": "code",
        "colab": {}
      },
      "cell_type": "code",
      "source": [
        ""
      ],
      "execution_count": 0,
      "outputs": []
    },
    {
      "metadata": {
        "id": "7LMkZA4R2_QK",
        "colab_type": "text"
      },
      "cell_type": "markdown",
      "source": [
        ""
      ]
    },
    {
      "metadata": {
        "id": "DoJ0ulcsuK5V",
        "colab_type": "code",
        "colab": {}
      },
      "cell_type": "code",
      "source": [
        "from tensorflow.contrib.layers import flatten\n",
        "\n",
        "def neural_net(x, test_mode = False):    \n",
        "  \n",
        "    # TODO: Flatten. Input = 5x5x16. Output = 400.\n",
        "    x_flat = flatten(x)\n",
        "    fc1 = flatten(x)\n",
        "    fdense = x\n",
        "    \n",
        "    # TODO: Layer 3: Fully Connected. Input = 400. Output = 120.\n",
        "    fc1_w = G_W1# tf.Variable(tf.truncated_normal(shape = (X_train.shape[1]*X_train.shape[2],300), mean = mu, stddev = sigma))\n",
        "    fc1_b = G_b1# tf.Variable(tf.zeros(300))\n",
        "    fc1 = tf.matmul(fc1,fc1_w) + fc1_b\n",
        "    \n",
        "    # TODO: Activation.\n",
        "    fc1 = tf.nn.relu(fc1)\n",
        "\n",
        "    # TODO: Layer 4: Fully Connected. Input = 120. Output = 84.\n",
        "    fc2_w = G_W2# tf.Variable(tf.truncated_normal(shape = (300,100), mean = mu, stddev = sigma))\n",
        "    fc2_b = G_b2# tf.Variable(tf.zeros(100))\n",
        "    fc2 = tf.matmul(fc1,fc2_w) + fc2_b\n",
        "    # TODO: Activation.\n",
        "    fc2 = tf.nn.relu(fc2)\n",
        "    \n",
        "    \n",
        "    #################\n",
        "    ##### Inset probability connection from x to conv2\n",
        "    fc2p_w = tf.Variable(xavier_init([X_train.shape[1],clf.coefs_[1].shape[1]]))\n",
        "\n",
        "#     fc2p_b = tf.Variable(tf.zeros(clf.coefs_[1].shape[1]))\n",
        "    fc2p_b = tf.Variable(xavier_init([clf.coefs_[1].shape[1]]))\n",
        "\n",
        "    fc2_2nd_input = tf.matmul(fdense,fc2p_w) + fc2p_b\n",
        "    fc2_2nd_input = tf.nn.relu(fc2_2nd_input)\n",
        "    connect2 = tf.logical_and(tf.random.uniform(shape = tf.shape(connection_probability)) < connection_probability, tf.equal(test_mode,False))\n",
        "    fc2 = tf.cond(connect2,lambda: fc2 + fc2_2nd_input, lambda: fc2 )    \n",
        "    ################\n",
        "    \n",
        "    # TODO: Layer 5: Fully Connected. Input = 84. Output = 10.\n",
        "#     fc3_w = tf.Variable(tf.truncated_normal(shape = (clf.coefs_[1].shape[1],10), mean = mu , stddev = sigma))\n",
        "#     fc3_w = tf.Variable(tf.truncated_normal(shape = (clf.coefs_[1].shape[1],10), mean = mu , stddev = sigma))\n",
        "\n",
        "#     fc3_b = tf.Variable(tf.zeros(10))\n",
        "    fc3_w = G_W3\n",
        "    fc3_b = G_b3\n",
        "    \n",
        "    logits = tf.matmul(fc2, fc3_w) + fc3_b\n",
        "    return logits"
      ],
      "execution_count": 0,
      "outputs": []
    },
    {
      "metadata": {
        "id": "PyN_zVIA0En9",
        "colab_type": "code",
        "colab": {
          "base_uri": "https://localhost:8080/",
          "height": 34
        },
        "outputId": "cf6862c1-40c6-4ee2-d69b-cd3a219781db"
      },
      "cell_type": "code",
      "source": [
        "np.max(train_label)"
      ],
      "execution_count": 52,
      "outputs": [
        {
          "output_type": "execute_result",
          "data": {
            "text/plain": [
              "9"
            ]
          },
          "metadata": {
            "tags": []
          },
          "execution_count": 52
        }
      ]
    },
    {
      "metadata": {
        "id": "lIvjaGV1uK3O",
        "colab_type": "code",
        "colab": {}
      },
      "cell_type": "code",
      "source": [
        "## Building the graph - Best!\n",
        "saver = tf.train.Saver()\n",
        "hid_neuron = [104]\n",
        "num_steps = 100000\n",
        "batch_size = 200\n",
        "train_losses = []\n",
        "test_acc = []\n",
        "train_accuracy = []\n",
        "val_accuracy = []\n",
        "plot_every = 50\n",
        "\n",
        "learning_rate = 0.001\n",
        "\n",
        "X = tf.placeholder(\"float\", [None, train_data.shape[1]])\n",
        "Y = tf.placeholder(\"float\", [None, 1+np.max(train_label)])\n",
        "W_track = []\n",
        "ValidAccuracy_Track = []\n",
        "loss = tf.reduce_mean(tf.nn.softmax_cross_entropy_with_logits(logits=neural_net(X,test_mode=False), labels=Y))\n",
        "\n",
        "optimizer = tf.train.GradientDescentOptimizer(learning_rate=learning_rate)\n",
        "\n",
        "train_op = optimizer.minimize(loss)\n",
        "correct_pred = tf.equal(tf.argmax(neural_net(X, test_mode=True), 1), tf.argmax(Y, 1))\n",
        "accuracy = tf.reduce_mean(tf.cast(correct_pred, tf.float32))\n",
        "\n",
        "### Initialization and running the model\n",
        "with tf.Session() as sess:\n",
        "    sess.run(tf.global_variables_initializer())\n",
        "    best_accuracy_valid = 0\n",
        "    for step in range(0, num_steps):\n",
        "        batch_x, batch_y = next_batch(batch_size, train_data, train_label_one_hot)\n",
        "        sess.run(train_op, feed_dict={X: batch_x, Y: batch_y})\n",
        "        if step % plot_every == 0:\n",
        "            train_loss, train_acc = sess.run([loss, accuracy], feed_dict={X: batch_x,Y: batch_y})\n",
        "            train_accuracy.append(train_acc)\n",
        "            print(\"step \" + str(step) + \", training loss= \" + str(train_loss) +\", training acc= \"+str(train_acc*100)+\"%\")\n",
        "            train_losses.append(train_loss)\n",
        "            validation_accuracy = sess.run(accuracy*100, feed_dict={X: validation_data,Y:validation_label_one_hot})\n",
        "            val_accuracy.append(validation_accuracy)\n",
        "            if step%plot_every == 0:\n",
        "              print(\"Validation Accuracy {} ...\".format(validation_accuracy))\n",
        "              print()\n",
        "              if (validation_accuracy >= best_accuracy_valid):\n",
        "                best_accuracy_valid = validation_accuracy\n",
        "                saver.save(sess, './statlog_letter2')\n",
        "                G_W1np, G_b1np, G_W2np, G_b2np, G_W3np, G_b3np = sess.run([G_W1, G_b1, G_W2, G_b2, G_W3, G_b3])\n",
        "    print(\"Valid acc=\",str(best_accuracy_valid), \"%\")\n",
        "    ValidAccuracy_Track.append(best_accuracy_valid)\n",
        "    this_params = G_W1np, G_b1np, G_W2np, G_b2np\n",
        "    W_track.append(this_params)\n",
        "\n",
        "    print(\"=\"*50)\n",
        "    print(\"W1\")\n",
        "    print(wLoss1)\n",
        "\n",
        "    print(\"W2\")\n",
        "    print(wLoss2)\n",
        "    print(\"*\"*50)\n",
        "    print(\"=\"*50)"
      ],
      "execution_count": 0,
      "outputs": []
    },
    {
      "metadata": {
        "id": "tG104v-YuK06",
        "colab_type": "code",
        "colab": {}
      },
      "cell_type": "code",
      "source": [
        ""
      ],
      "execution_count": 0,
      "outputs": []
    },
    {
      "metadata": {
        "id": "sGNJ4zYOuKy3",
        "colab_type": "code",
        "colab": {}
      },
      "cell_type": "code",
      "source": [
        ""
      ],
      "execution_count": 0,
      "outputs": []
    },
    {
      "metadata": {
        "id": "hbSi7GeyuKvQ",
        "colab_type": "code",
        "colab": {}
      },
      "cell_type": "code",
      "source": [
        ""
      ],
      "execution_count": 0,
      "outputs": []
    },
    {
      "metadata": {
        "id": "MoPB270puKsy",
        "colab_type": "code",
        "colab": {}
      },
      "cell_type": "code",
      "source": [
        ""
      ],
      "execution_count": 0,
      "outputs": []
    },
    {
      "metadata": {
        "id": "30rhtKY4uKpH",
        "colab_type": "code",
        "colab": {}
      },
      "cell_type": "code",
      "source": [
        ""
      ],
      "execution_count": 0,
      "outputs": []
    },
    {
      "metadata": {
        "id": "b4TnV4r5uKll",
        "colab_type": "code",
        "colab": {}
      },
      "cell_type": "code",
      "source": [
        ""
      ],
      "execution_count": 0,
      "outputs": []
    },
    {
      "metadata": {
        "id": "BhUSRatauKiD",
        "colab_type": "code",
        "colab": {}
      },
      "cell_type": "code",
      "source": [
        ""
      ],
      "execution_count": 0,
      "outputs": []
    },
    {
      "metadata": {
        "id": "X1nJmcI7Cy5-",
        "colab_type": "code",
        "colab": {}
      },
      "cell_type": "code",
      "source": [
        "from tensorflow.contrib.layers import flatten\n",
        "\n",
        "def LeNet(x, test_mode = False):    \n",
        "  \n",
        "    # TODO: Flatten. Input = 5x5x16. Output = 400.\n",
        "    x_flat = flatten(x)\n",
        "    fc1 = flatten(x)\n",
        "    fdense = x\n",
        "    \n",
        "    # TODO: Layer 3: Fully Connected. Input = 400. Output = 120.\n",
        "    fc1_w = G_W1# tf.Variable(tf.truncated_normal(shape = (X_train.shape[1]*X_train.shape[2],300), mean = mu, stddev = sigma))\n",
        "    fc1_b = G_b1# tf.Variable(tf.zeros(300))\n",
        "    fc1 = tf.matmul(fc1,fc1_w) + fc1_b\n",
        "    \n",
        "    # TODO: Activation.\n",
        "    fc1 = tf.nn.relu(fc1)\n",
        "\n",
        "    # TODO: Layer 4: Fully Connected. Input = 120. Output = 84.\n",
        "    fc2_w = G_W2# tf.Variable(tf.truncated_normal(shape = (300,100), mean = mu, stddev = sigma))\n",
        "    fc2_b = G_b2# tf.Variable(tf.zeros(100))\n",
        "    fc2 = tf.matmul(fc1,fc2_w) + fc2_b\n",
        "    # TODO: Activation.\n",
        "    fc2 = tf.nn.relu(fc2)\n",
        "    \n",
        "    \n",
        "    #################\n",
        "    ##### Inset probability connection from x to conv2\n",
        "    fc2p_w = tf.Variable(xavier_init([X_train.shape[1],clf.coefs_[1].shape[1]]))\n",
        "\n",
        "#     fc2p_b = tf.Variable(tf.zeros(clf.coefs_[1].shape[1]))\n",
        "    fc2p_b = tf.Variable(xavier_init([clf.coefs_[1].shape[1]]))\n",
        "\n",
        "    fc2_2nd_input = tf.matmul(fdense,fc2p_w) + fc2p_b\n",
        "    fc2_2nd_input = tf.nn.relu(fc2_2nd_input)\n",
        "    connect2 = tf.logical_and(tf.random.uniform(shape = tf.shape(connection_probability)) < connection_probability, tf.equal(test_mode,False))\n",
        "    fc2 = tf.cond(connect2,lambda: fc2 + fc2_2nd_input, lambda: fc2 )    \n",
        "    ################\n",
        "    \n",
        "    # TODO: Layer 5: Fully Connected. Input = 84. Output = 10.\n",
        "#     fc3_w = tf.Variable(tf.truncated_normal(shape = (clf.coefs_[1].shape[1],10), mean = mu , stddev = sigma))\n",
        "#     fc3_w = tf.Variable(tf.truncated_normal(shape = (clf.coefs_[1].shape[1],10), mean = mu , stddev = sigma))\n",
        "\n",
        "#     fc3_b = tf.Variable(tf.zeros(10))\n",
        "    fc3_w = G_W3\n",
        "    fc3_b = G_b3\n",
        "    \n",
        "    logits = tf.matmul(fc2, fc3_w) + fc3_b\n",
        "    return logits"
      ],
      "execution_count": 0,
      "outputs": []
    },
    {
      "metadata": {
        "id": "2V3XEMaYvjDW",
        "colab_type": "code",
        "outputId": "d055d271-34f6-445d-d12c-ab3d9a182d03",
        "colab": {
          "base_uri": "https://localhost:8080/",
          "height": 34
        }
      },
      "cell_type": "code",
      "source": [
        "X_train.shape"
      ],
      "execution_count": 34,
      "outputs": [
        {
          "output_type": "execute_result",
          "data": {
            "text/plain": [
              "(5995, 16)"
            ]
          },
          "metadata": {
            "tags": []
          },
          "execution_count": 34
        }
      ]
    },
    {
      "metadata": {
        "id": "aCx837c9Cy6E",
        "colab_type": "text"
      },
      "cell_type": "markdown",
      "source": [
        "## Features and Labels\n",
        "Train LeNet to classify [MNIST](http://yann.lecun.com/exdb/mnist/) data.\n",
        "\n",
        "`x` is a placeholder for a batch of input images.\n",
        "`y` is a placeholder for a batch of output labels.\n",
        "\n",
        "You do not need to modify this section."
      ]
    },
    {
      "metadata": {
        "id": "iafVK0DgLRTY",
        "colab_type": "code",
        "colab": {
          "base_uri": "https://localhost:8080/",
          "height": 34
        },
        "outputId": "0628afb6-dcde-453b-acd8-3415d03d2e4f"
      },
      "cell_type": "code",
      "source": [
        "train_label_one_hot.shape"
      ],
      "execution_count": 35,
      "outputs": [
        {
          "output_type": "execute_result",
          "data": {
            "text/plain": [
              "(5995, 10)"
            ]
          },
          "metadata": {
            "tags": []
          },
          "execution_count": 35
        }
      ]
    },
    {
      "metadata": {
        "id": "Mrb2FHFHCy6G",
        "colab_type": "code",
        "colab": {}
      },
      "cell_type": "code",
      "source": [
        "with tf.name_scope('Input'):\n",
        "\n",
        "  x = tf.placeholder(tf.float32, (None, X_train.shape[1]), name='X')\n",
        "  tf.summary.image('input_image', x, max_outputs=5)\n",
        "  y = tf.placeholder(tf.int32, (None), name = 'Y')\n",
        "one_hot_y = tf.one_hot(y, train_label_one_hot.shape[1])\n",
        "is_testing= tf.placeholder(tf.bool) "
      ],
      "execution_count": 0,
      "outputs": []
    },
    {
      "metadata": {
        "id": "uk0pcAjmCy6M",
        "colab_type": "text"
      },
      "cell_type": "markdown",
      "source": [
        "## Training Pipeline\n",
        "Create a training pipeline that uses the model to classify MNIST data.\n",
        "\n",
        "You do not need to modify this section."
      ]
    },
    {
      "metadata": {
        "id": "TFClKQmsrr7l",
        "colab_type": "code",
        "colab": {}
      },
      "cell_type": "code",
      "source": [
        "connection_probability = tf.Variable(.9999)"
      ],
      "execution_count": 0,
      "outputs": []
    },
    {
      "metadata": {
        "id": "VcNRluRvrJoD",
        "colab_type": "code",
        "colab": {}
      },
      "cell_type": "code",
      "source": [
        "BATCH_SIZE = 512"
      ],
      "execution_count": 0,
      "outputs": []
    },
    {
      "metadata": {
        "id": "3oYy_Y3FCy6N",
        "colab_type": "code",
        "outputId": "deaec585-2a9f-48d5-a2e1-bddeb892075b",
        "colab": {
          "base_uri": "https://localhost:8080/",
          "height": 34
        }
      },
      "cell_type": "code",
      "source": [
        "rate = 0.001\n",
        "decay_rate = 1.0005**(X_train.shape[0]/BATCH_SIZE);\n",
        "decay_rate = 2\n",
        "print(decay_rate)\n",
        "logits = LeNet(x,is_testing)\n",
        "with tf.name_scope('Train'):\n",
        "  cross_entropy = tf.nn.softmax_cross_entropy_with_logits(logits = logits, labels = one_hot_y)\n",
        "  loss_operation = tf.reduce_mean(cross_entropy, name='loss')\n",
        "  tf.summary.scalar('loss', loss_operation)\n",
        "# optimizer = tf.train.MomentumOptimizer(learning_rate = rate,momentum=.9)\n",
        "optimizer = tf.train.GradientDescentOptimizer(learning_rate = rate)\n",
        "# tf.train.natural_exp_decay()\n",
        "training_operation = optimizer.minimize(loss_operation)\n",
        "new_prob = connection_probability.assign(connection_probability/decay_rate)\n",
        "\n"
      ],
      "execution_count": 47,
      "outputs": [
        {
          "output_type": "stream",
          "text": [
            "2\n"
          ],
          "name": "stdout"
        }
      ]
    },
    {
      "metadata": {
        "id": "KrMtHo6rCy6S",
        "colab_type": "text"
      },
      "cell_type": "markdown",
      "source": [
        "## Model Evaluation\n",
        "Evaluate how well the loss and accuracy of the model for a given dataset.\n",
        "\n",
        "You do not need to modify this section."
      ]
    },
    {
      "metadata": {
        "id": "OMR9XsLBCy6U",
        "colab_type": "code",
        "colab": {}
      },
      "cell_type": "code",
      "source": [
        "correct_prediction = tf.equal(tf.argmax(logits, 1), tf.argmax(one_hot_y, 1))\n",
        "accuracy_operation = tf.reduce_mean(tf.cast(correct_prediction, tf.float32))\n",
        "saver = tf.train.Saver()\n",
        "\n",
        "def evaluate(X_data, y_data):\n",
        "    num_examples = len(X_data)\n",
        "    total_accuracy = 0\n",
        "    sess = tf.get_default_session()\n",
        "    for offset in range(0, num_examples, BATCH_SIZE):\n",
        "        batch_x, batch_y = X_data[offset:offset+BATCH_SIZE], y_data[offset:offset+BATCH_SIZE]\n",
        "        accuracy = sess.run(accuracy_operation, feed_dict={x: batch_x, y: batch_y, is_testing: True})\n",
        "        total_accuracy += (accuracy * len(batch_x))\n",
        "    tot_acc = total_accuracy / num_examples\n",
        "    with tf.name_scope('Accuracy'):\n",
        "      tf.summary.scalar('accuracy', tot_acc)\n",
        "    return total_accuracy / num_examples"
      ],
      "execution_count": 0,
      "outputs": []
    },
    {
      "metadata": {
        "id": "2Jw7iox3Cy6X",
        "colab_type": "text"
      },
      "cell_type": "markdown",
      "source": [
        "## Train the Model\n",
        "Run the training data through the training pipeline to train the model.\n",
        "\n",
        "Before each epoch, shuffle the training set.\n",
        "\n",
        "After each epoch, measure the loss and accuracy of the validation set.\n",
        "\n",
        "Save the model after training.\n",
        "\n",
        "You do not need to modify this section."
      ]
    },
    {
      "metadata": {
        "id": "Eb8X_yO6QDIx",
        "colab_type": "code",
        "colab": {}
      },
      "cell_type": "code",
      "source": [
        "merged = tf.summary.merge_all()"
      ],
      "execution_count": 0,
      "outputs": []
    },
    {
      "metadata": {
        "id": "sw7vjTrPxBDU",
        "colab_type": "code",
        "outputId": "6e8a1e2d-f684-41b4-ad98-63d0dac4f269",
        "colab": {
          "base_uri": "https://localhost:8080/",
          "height": 34
        }
      },
      "cell_type": "code",
      "source": [
        "BATCH_SIZE"
      ],
      "execution_count": 0,
      "outputs": [
        {
          "output_type": "execute_result",
          "data": {
            "text/plain": [
              "512"
            ]
          },
          "metadata": {
            "tags": []
          },
          "execution_count": 68
        }
      ]
    },
    {
      "metadata": {
        "id": "MbueMHwfEbi4",
        "colab_type": "code",
        "colab": {}
      },
      "cell_type": "code",
      "source": [
        "EPOCHS = 200\n",
        "BATCH_SIZE= 1024"
      ],
      "execution_count": 0,
      "outputs": []
    },
    {
      "metadata": {
        "id": "INEVMxw4R0Nu",
        "colab_type": "code",
        "colab": {}
      },
      "cell_type": "code",
      "source": [
        "# mnist.test.images"
      ],
      "execution_count": 0,
      "outputs": []
    },
    {
      "metadata": {
        "id": "jYoZ96svRxfO",
        "colab_type": "code",
        "colab": {}
      },
      "cell_type": "code",
      "source": [
        "# # Load the test set\n",
        "# x_test = mnist.test.images\n",
        "# y_test = mnist.test.labels\n",
        "\n",
        "# # Initialize the embedding variable with the shape of our desired tensor\n",
        "# tensor_shape = (x_test.shape[0] , logits.get_shape()[1].value) # [test_set , h1] = [10000 , 200]\n",
        "# embedding_var = tf.Variable(tf.zeros(tensor_shape), \n",
        "#                             name='logits_embedding')\n",
        "# # assign the tensor that we want to visualize to the embedding variable\n",
        "# embedding_assign = embedding_var.assign(logits) "
      ],
      "execution_count": 0,
      "outputs": []
    },
    {
      "metadata": {
        "id": "sr3zr23HsgS7",
        "colab_type": "code",
        "colab": {
          "base_uri": "https://localhost:8080/",
          "height": 34
        },
        "outputId": "8d5c1cf5-14ff-4319-a1e6-700cdd7f6e81"
      },
      "cell_type": "code",
      "source": [
        "y_train.shape"
      ],
      "execution_count": 48,
      "outputs": [
        {
          "output_type": "execute_result",
          "data": {
            "text/plain": [
              "(5995, 10)"
            ]
          },
          "metadata": {
            "tags": []
          },
          "execution_count": 48
        }
      ]
    },
    {
      "metadata": {
        "id": "bKU1MIyJCy6Y",
        "colab_type": "code",
        "outputId": "c8630952-1d23-497e-ecc2-9b70eabd7cb3",
        "colab": {
          "base_uri": "https://localhost:8080/",
          "height": 1479
        }
      },
      "cell_type": "code",
      "source": [
        "validation_accuracy_track = []\n",
        "train_accuracy_track = []\n",
        "connection_probability_track = []\n",
        "number_of_ex = X_train.shape[0]\n",
        "total_steps_for_one_pass = number_of_ex//BATCH_SIZE + 1\n",
        "\n",
        "print_every = 10\n",
        "with tf.Session() as sess:\n",
        "    sess.run(tf.global_variables_initializer())\n",
        "    num_examples = len(X_train)\n",
        "    best_accuracy_valid = 0\n",
        "#     train_writer = tf.summary.FileWriter(logs_path, sess.graph)\n",
        "\n",
        "    print(\"Training...\")\n",
        "    print()\n",
        "    for i in range(EPOCHS):\n",
        "        X_train, y_train = shuffle(X_train, y_train)\n",
        "#         for step in range(0, total_steps_for_one_pass):        \n",
        "#           if step>=number_of_ex//BATCH_SIZE:\n",
        "#             batch_x, batch_y = X_train[step*BATCH_SIZE:,:,:,:],y_train[step*BATCH_SIZE:]\n",
        "# #             print(step,'Finishing',step*BATCH_SIZE )\n",
        "#             step = 0\n",
        "\n",
        "#           else:\n",
        "\n",
        "#             start = step*BATCH_SIZE\n",
        "#             finish = (step+1)*BATCH_SIZE\n",
        "# #             print(step,'Doing', 'Start = ', start, \"Finish = \", finish)\n",
        "#             batch_x, batch_y = X_train[step:finish,:,:,:],y_train[step:finish]\n",
        "#         sess.run(train_op, feed_dict={X: batch_x, Y: batch_y, lr: learn})\n",
        "  \n",
        "  \n",
        "        for offset in range(0, num_examples + BATCH_SIZE, BATCH_SIZE):\n",
        "            end = offset + BATCH_SIZE\n",
        "            if end>X_train.shape[0]:\n",
        "              end = X_train.shape[0]\n",
        "            print(offset,end)\n",
        "            batch_x, batch_y = X_train[offset:end], y_train[offset:end]\n",
        "            tr_op,summary_tr  = sess.run([training_operation,merged], feed_dict={x: batch_x, y: batch_y, is_testing : False})\n",
        "            train_writer.add_summary(summary_tr, i)\n",
        "        prob = sess.run(new_prob)\n",
        "#         print(prob)\n",
        "        if i%print_every == 0:\n",
        "          tr_accuracy = evaluate(X_train, y_train)\n",
        "          print(\"Train Accuracy = {:.5f}\".format(tr_accuracy))\n",
        "          validation_accuracy = evaluate(X_validation, y_validation)\n",
        "          validation_accuracy_track.append(validation_accuracy)\n",
        "          train_accuracy_track.append(tr_accuracy)\n",
        "          connection_probability_track.append(prob)\n",
        "          print(\"EPOCH {} ...\".format(i+1))\n",
        "          print(\"Validation Accuracy = {:.5f}\".format(validation_accuracy))\n",
        "          print(prob)\n",
        "          print()\n",
        "          if (validation_accuracy >= best_accuracy_valid):\n",
        "            best_accuracy_valid = validation_accuracy\n",
        "            saver.save(sess, './lenet')\n",
        "        \n",
        "#     saver.save(sess, './lenet')\n",
        "    print(\"Model saved\")"
      ],
      "execution_count": 50,
      "outputs": [
        {
          "output_type": "stream",
          "text": [
            "Training...\n",
            "\n",
            "0 1024\n"
          ],
          "name": "stdout"
        },
        {
          "output_type": "error",
          "ename": "InvalidArgumentError",
          "evalue": "ignored",
          "traceback": [
            "\u001b[0;31m---------------------------------------------------------------------------\u001b[0m",
            "\u001b[0;31mInvalidArgumentError\u001b[0m                      Traceback (most recent call last)",
            "\u001b[0;32m/usr/local/lib/python3.6/dist-packages/tensorflow/python/client/session.py\u001b[0m in \u001b[0;36m_do_call\u001b[0;34m(self, fn, *args)\u001b[0m\n\u001b[1;32m   1333\u001b[0m     \u001b[0;32mtry\u001b[0m\u001b[0;34m:\u001b[0m\u001b[0;34m\u001b[0m\u001b[0;34m\u001b[0m\u001b[0m\n\u001b[0;32m-> 1334\u001b[0;31m       \u001b[0;32mreturn\u001b[0m \u001b[0mfn\u001b[0m\u001b[0;34m(\u001b[0m\u001b[0;34m*\u001b[0m\u001b[0margs\u001b[0m\u001b[0;34m)\u001b[0m\u001b[0;34m\u001b[0m\u001b[0;34m\u001b[0m\u001b[0m\n\u001b[0m\u001b[1;32m   1335\u001b[0m     \u001b[0;32mexcept\u001b[0m \u001b[0merrors\u001b[0m\u001b[0;34m.\u001b[0m\u001b[0mOpError\u001b[0m \u001b[0;32mas\u001b[0m \u001b[0me\u001b[0m\u001b[0;34m:\u001b[0m\u001b[0;34m\u001b[0m\u001b[0;34m\u001b[0m\u001b[0m\n",
            "\u001b[0;32m/usr/local/lib/python3.6/dist-packages/tensorflow/python/client/session.py\u001b[0m in \u001b[0;36m_run_fn\u001b[0;34m(feed_dict, fetch_list, target_list, options, run_metadata)\u001b[0m\n\u001b[1;32m   1318\u001b[0m       return self._call_tf_sessionrun(\n\u001b[0;32m-> 1319\u001b[0;31m           options, feed_dict, fetch_list, target_list, run_metadata)\n\u001b[0m\u001b[1;32m   1320\u001b[0m \u001b[0;34m\u001b[0m\u001b[0m\n",
            "\u001b[0;32m/usr/local/lib/python3.6/dist-packages/tensorflow/python/client/session.py\u001b[0m in \u001b[0;36m_call_tf_sessionrun\u001b[0;34m(self, options, feed_dict, fetch_list, target_list, run_metadata)\u001b[0m\n\u001b[1;32m   1406\u001b[0m         \u001b[0mself\u001b[0m\u001b[0;34m.\u001b[0m\u001b[0m_session\u001b[0m\u001b[0;34m,\u001b[0m \u001b[0moptions\u001b[0m\u001b[0;34m,\u001b[0m \u001b[0mfeed_dict\u001b[0m\u001b[0;34m,\u001b[0m \u001b[0mfetch_list\u001b[0m\u001b[0;34m,\u001b[0m \u001b[0mtarget_list\u001b[0m\u001b[0;34m,\u001b[0m\u001b[0;34m\u001b[0m\u001b[0;34m\u001b[0m\u001b[0m\n\u001b[0;32m-> 1407\u001b[0;31m         run_metadata)\n\u001b[0m\u001b[1;32m   1408\u001b[0m \u001b[0;34m\u001b[0m\u001b[0m\n",
            "\u001b[0;31mInvalidArgumentError\u001b[0m: Tensor must be 4-D with last dim 1, 3, or 4, not [1024,16]\n\t [[{{node Input/input_image}}]]",
            "\nDuring handling of the above exception, another exception occurred:\n",
            "\u001b[0;31mInvalidArgumentError\u001b[0m                      Traceback (most recent call last)",
            "\u001b[0;32m<ipython-input-50-d0b6ceb8b3dc>\u001b[0m in \u001b[0;36m<module>\u001b[0;34m()\u001b[0m\n\u001b[1;32m     37\u001b[0m             \u001b[0mprint\u001b[0m\u001b[0;34m(\u001b[0m\u001b[0moffset\u001b[0m\u001b[0;34m,\u001b[0m\u001b[0mend\u001b[0m\u001b[0;34m)\u001b[0m\u001b[0;34m\u001b[0m\u001b[0;34m\u001b[0m\u001b[0m\n\u001b[1;32m     38\u001b[0m             \u001b[0mbatch_x\u001b[0m\u001b[0;34m,\u001b[0m \u001b[0mbatch_y\u001b[0m \u001b[0;34m=\u001b[0m \u001b[0mX_train\u001b[0m\u001b[0;34m[\u001b[0m\u001b[0moffset\u001b[0m\u001b[0;34m:\u001b[0m\u001b[0mend\u001b[0m\u001b[0;34m]\u001b[0m\u001b[0;34m,\u001b[0m \u001b[0my_train\u001b[0m\u001b[0;34m[\u001b[0m\u001b[0moffset\u001b[0m\u001b[0;34m:\u001b[0m\u001b[0mend\u001b[0m\u001b[0;34m]\u001b[0m\u001b[0;34m\u001b[0m\u001b[0;34m\u001b[0m\u001b[0m\n\u001b[0;32m---> 39\u001b[0;31m             \u001b[0mtr_op\u001b[0m\u001b[0;34m,\u001b[0m\u001b[0msummary_tr\u001b[0m  \u001b[0;34m=\u001b[0m \u001b[0msess\u001b[0m\u001b[0;34m.\u001b[0m\u001b[0mrun\u001b[0m\u001b[0;34m(\u001b[0m\u001b[0;34m[\u001b[0m\u001b[0mtraining_operation\u001b[0m\u001b[0;34m,\u001b[0m\u001b[0mmerged\u001b[0m\u001b[0;34m]\u001b[0m\u001b[0;34m,\u001b[0m \u001b[0mfeed_dict\u001b[0m\u001b[0;34m=\u001b[0m\u001b[0;34m{\u001b[0m\u001b[0mx\u001b[0m\u001b[0;34m:\u001b[0m \u001b[0mbatch_x\u001b[0m\u001b[0;34m,\u001b[0m \u001b[0my\u001b[0m\u001b[0;34m:\u001b[0m \u001b[0mbatch_y\u001b[0m\u001b[0;34m,\u001b[0m \u001b[0mis_testing\u001b[0m \u001b[0;34m:\u001b[0m \u001b[0;32mFalse\u001b[0m\u001b[0;34m}\u001b[0m\u001b[0;34m)\u001b[0m\u001b[0;34m\u001b[0m\u001b[0;34m\u001b[0m\u001b[0m\n\u001b[0m\u001b[1;32m     40\u001b[0m             \u001b[0mtrain_writer\u001b[0m\u001b[0;34m.\u001b[0m\u001b[0madd_summary\u001b[0m\u001b[0;34m(\u001b[0m\u001b[0msummary_tr\u001b[0m\u001b[0;34m,\u001b[0m \u001b[0mi\u001b[0m\u001b[0;34m)\u001b[0m\u001b[0;34m\u001b[0m\u001b[0;34m\u001b[0m\u001b[0m\n\u001b[1;32m     41\u001b[0m         \u001b[0mprob\u001b[0m \u001b[0;34m=\u001b[0m \u001b[0msess\u001b[0m\u001b[0;34m.\u001b[0m\u001b[0mrun\u001b[0m\u001b[0;34m(\u001b[0m\u001b[0mnew_prob\u001b[0m\u001b[0;34m)\u001b[0m\u001b[0;34m\u001b[0m\u001b[0;34m\u001b[0m\u001b[0m\n",
            "\u001b[0;32m/usr/local/lib/python3.6/dist-packages/tensorflow/python/client/session.py\u001b[0m in \u001b[0;36mrun\u001b[0;34m(self, fetches, feed_dict, options, run_metadata)\u001b[0m\n\u001b[1;32m    927\u001b[0m     \u001b[0;32mtry\u001b[0m\u001b[0;34m:\u001b[0m\u001b[0;34m\u001b[0m\u001b[0;34m\u001b[0m\u001b[0m\n\u001b[1;32m    928\u001b[0m       result = self._run(None, fetches, feed_dict, options_ptr,\n\u001b[0;32m--> 929\u001b[0;31m                          run_metadata_ptr)\n\u001b[0m\u001b[1;32m    930\u001b[0m       \u001b[0;32mif\u001b[0m \u001b[0mrun_metadata\u001b[0m\u001b[0;34m:\u001b[0m\u001b[0;34m\u001b[0m\u001b[0;34m\u001b[0m\u001b[0m\n\u001b[1;32m    931\u001b[0m         \u001b[0mproto_data\u001b[0m \u001b[0;34m=\u001b[0m \u001b[0mtf_session\u001b[0m\u001b[0;34m.\u001b[0m\u001b[0mTF_GetBuffer\u001b[0m\u001b[0;34m(\u001b[0m\u001b[0mrun_metadata_ptr\u001b[0m\u001b[0;34m)\u001b[0m\u001b[0;34m\u001b[0m\u001b[0;34m\u001b[0m\u001b[0m\n",
            "\u001b[0;32m/usr/local/lib/python3.6/dist-packages/tensorflow/python/client/session.py\u001b[0m in \u001b[0;36m_run\u001b[0;34m(self, handle, fetches, feed_dict, options, run_metadata)\u001b[0m\n\u001b[1;32m   1150\u001b[0m     \u001b[0;32mif\u001b[0m \u001b[0mfinal_fetches\u001b[0m \u001b[0;32mor\u001b[0m \u001b[0mfinal_targets\u001b[0m \u001b[0;32mor\u001b[0m \u001b[0;34m(\u001b[0m\u001b[0mhandle\u001b[0m \u001b[0;32mand\u001b[0m \u001b[0mfeed_dict_tensor\u001b[0m\u001b[0;34m)\u001b[0m\u001b[0;34m:\u001b[0m\u001b[0;34m\u001b[0m\u001b[0;34m\u001b[0m\u001b[0m\n\u001b[1;32m   1151\u001b[0m       results = self._do_run(handle, final_targets, final_fetches,\n\u001b[0;32m-> 1152\u001b[0;31m                              feed_dict_tensor, options, run_metadata)\n\u001b[0m\u001b[1;32m   1153\u001b[0m     \u001b[0;32melse\u001b[0m\u001b[0;34m:\u001b[0m\u001b[0;34m\u001b[0m\u001b[0;34m\u001b[0m\u001b[0m\n\u001b[1;32m   1154\u001b[0m       \u001b[0mresults\u001b[0m \u001b[0;34m=\u001b[0m \u001b[0;34m[\u001b[0m\u001b[0;34m]\u001b[0m\u001b[0;34m\u001b[0m\u001b[0;34m\u001b[0m\u001b[0m\n",
            "\u001b[0;32m/usr/local/lib/python3.6/dist-packages/tensorflow/python/client/session.py\u001b[0m in \u001b[0;36m_do_run\u001b[0;34m(self, handle, target_list, fetch_list, feed_dict, options, run_metadata)\u001b[0m\n\u001b[1;32m   1326\u001b[0m     \u001b[0;32mif\u001b[0m \u001b[0mhandle\u001b[0m \u001b[0;32mis\u001b[0m \u001b[0;32mNone\u001b[0m\u001b[0;34m:\u001b[0m\u001b[0;34m\u001b[0m\u001b[0;34m\u001b[0m\u001b[0m\n\u001b[1;32m   1327\u001b[0m       return self._do_call(_run_fn, feeds, fetches, targets, options,\n\u001b[0;32m-> 1328\u001b[0;31m                            run_metadata)\n\u001b[0m\u001b[1;32m   1329\u001b[0m     \u001b[0;32melse\u001b[0m\u001b[0;34m:\u001b[0m\u001b[0;34m\u001b[0m\u001b[0;34m\u001b[0m\u001b[0m\n\u001b[1;32m   1330\u001b[0m       \u001b[0;32mreturn\u001b[0m \u001b[0mself\u001b[0m\u001b[0;34m.\u001b[0m\u001b[0m_do_call\u001b[0m\u001b[0;34m(\u001b[0m\u001b[0m_prun_fn\u001b[0m\u001b[0;34m,\u001b[0m \u001b[0mhandle\u001b[0m\u001b[0;34m,\u001b[0m \u001b[0mfeeds\u001b[0m\u001b[0;34m,\u001b[0m \u001b[0mfetches\u001b[0m\u001b[0;34m)\u001b[0m\u001b[0;34m\u001b[0m\u001b[0;34m\u001b[0m\u001b[0m\n",
            "\u001b[0;32m/usr/local/lib/python3.6/dist-packages/tensorflow/python/client/session.py\u001b[0m in \u001b[0;36m_do_call\u001b[0;34m(self, fn, *args)\u001b[0m\n\u001b[1;32m   1346\u001b[0m           \u001b[0;32mpass\u001b[0m\u001b[0;34m\u001b[0m\u001b[0;34m\u001b[0m\u001b[0m\n\u001b[1;32m   1347\u001b[0m       \u001b[0mmessage\u001b[0m \u001b[0;34m=\u001b[0m \u001b[0merror_interpolation\u001b[0m\u001b[0;34m.\u001b[0m\u001b[0minterpolate\u001b[0m\u001b[0;34m(\u001b[0m\u001b[0mmessage\u001b[0m\u001b[0;34m,\u001b[0m \u001b[0mself\u001b[0m\u001b[0;34m.\u001b[0m\u001b[0m_graph\u001b[0m\u001b[0;34m)\u001b[0m\u001b[0;34m\u001b[0m\u001b[0;34m\u001b[0m\u001b[0m\n\u001b[0;32m-> 1348\u001b[0;31m       \u001b[0;32mraise\u001b[0m \u001b[0mtype\u001b[0m\u001b[0;34m(\u001b[0m\u001b[0me\u001b[0m\u001b[0;34m)\u001b[0m\u001b[0;34m(\u001b[0m\u001b[0mnode_def\u001b[0m\u001b[0;34m,\u001b[0m \u001b[0mop\u001b[0m\u001b[0;34m,\u001b[0m \u001b[0mmessage\u001b[0m\u001b[0;34m)\u001b[0m\u001b[0;34m\u001b[0m\u001b[0;34m\u001b[0m\u001b[0m\n\u001b[0m\u001b[1;32m   1349\u001b[0m \u001b[0;34m\u001b[0m\u001b[0m\n\u001b[1;32m   1350\u001b[0m   \u001b[0;32mdef\u001b[0m \u001b[0m_extend_graph\u001b[0m\u001b[0;34m(\u001b[0m\u001b[0mself\u001b[0m\u001b[0;34m)\u001b[0m\u001b[0;34m:\u001b[0m\u001b[0;34m\u001b[0m\u001b[0;34m\u001b[0m\u001b[0m\n",
            "\u001b[0;31mInvalidArgumentError\u001b[0m: Tensor must be 4-D with last dim 1, 3, or 4, not [1024,16]\n\t [[node Input/input_image (defined at <ipython-input-36-55d2d4f2d06b>:4) ]]\n\nCaused by op 'Input/input_image', defined at:\n  File \"/usr/lib/python3.6/runpy.py\", line 193, in _run_module_as_main\n    \"__main__\", mod_spec)\n  File \"/usr/lib/python3.6/runpy.py\", line 85, in _run_code\n    exec(code, run_globals)\n  File \"/usr/local/lib/python3.6/dist-packages/ipykernel_launcher.py\", line 16, in <module>\n    app.launch_new_instance()\n  File \"/usr/local/lib/python3.6/dist-packages/traitlets/config/application.py\", line 658, in launch_instance\n    app.start()\n  File \"/usr/local/lib/python3.6/dist-packages/ipykernel/kernelapp.py\", line 477, in start\n    ioloop.IOLoop.instance().start()\n  File \"/usr/local/lib/python3.6/dist-packages/tornado/ioloop.py\", line 888, in start\n    handler_func(fd_obj, events)\n  File \"/usr/local/lib/python3.6/dist-packages/tornado/stack_context.py\", line 277, in null_wrapper\n    return fn(*args, **kwargs)\n  File \"/usr/local/lib/python3.6/dist-packages/zmq/eventloop/zmqstream.py\", line 450, in _handle_events\n    self._handle_recv()\n  File \"/usr/local/lib/python3.6/dist-packages/zmq/eventloop/zmqstream.py\", line 480, in _handle_recv\n    self._run_callback(callback, msg)\n  File \"/usr/local/lib/python3.6/dist-packages/zmq/eventloop/zmqstream.py\", line 432, in _run_callback\n    callback(*args, **kwargs)\n  File \"/usr/local/lib/python3.6/dist-packages/tornado/stack_context.py\", line 277, in null_wrapper\n    return fn(*args, **kwargs)\n  File \"/usr/local/lib/python3.6/dist-packages/ipykernel/kernelbase.py\", line 283, in dispatcher\n    return self.dispatch_shell(stream, msg)\n  File \"/usr/local/lib/python3.6/dist-packages/ipykernel/kernelbase.py\", line 235, in dispatch_shell\n    handler(stream, idents, msg)\n  File \"/usr/local/lib/python3.6/dist-packages/ipykernel/kernelbase.py\", line 399, in execute_request\n    user_expressions, allow_stdin)\n  File \"/usr/local/lib/python3.6/dist-packages/ipykernel/ipkernel.py\", line 196, in do_execute\n    res = shell.run_cell(code, store_history=store_history, silent=silent)\n  File \"/usr/local/lib/python3.6/dist-packages/ipykernel/zmqshell.py\", line 533, in run_cell\n    return super(ZMQInteractiveShell, self).run_cell(*args, **kwargs)\n  File \"/usr/local/lib/python3.6/dist-packages/IPython/core/interactiveshell.py\", line 2718, in run_cell\n    interactivity=interactivity, compiler=compiler, result=result)\n  File \"/usr/local/lib/python3.6/dist-packages/IPython/core/interactiveshell.py\", line 2822, in run_ast_nodes\n    if self.run_code(code, result):\n  File \"/usr/local/lib/python3.6/dist-packages/IPython/core/interactiveshell.py\", line 2882, in run_code\n    exec(code_obj, self.user_global_ns, self.user_ns)\n  File \"<ipython-input-36-55d2d4f2d06b>\", line 4, in <module>\n    tf.summary.image('input_image', x, max_outputs=5)\n  File \"/usr/local/lib/python3.6/dist-packages/tensorflow/python/summary/summary.py\", line 136, in image\n    tag=tag, tensor=tensor, max_images=max_outputs, name=scope)\n  File \"/usr/local/lib/python3.6/dist-packages/tensorflow/python/ops/gen_logging_ops.py\", line 422, in image_summary\n    bad_color=bad_color, name=name)\n  File \"/usr/local/lib/python3.6/dist-packages/tensorflow/python/framework/op_def_library.py\", line 788, in _apply_op_helper\n    op_def=op_def)\n  File \"/usr/local/lib/python3.6/dist-packages/tensorflow/python/util/deprecation.py\", line 507, in new_func\n    return func(*args, **kwargs)\n  File \"/usr/local/lib/python3.6/dist-packages/tensorflow/python/framework/ops.py\", line 3300, in create_op\n    op_def=op_def)\n  File \"/usr/local/lib/python3.6/dist-packages/tensorflow/python/framework/ops.py\", line 1801, in __init__\n    self._traceback = tf_stack.extract_stack()\n\nInvalidArgumentError (see above for traceback): Tensor must be 4-D with last dim 1, 3, or 4, not [1024,16]\n\t [[node Input/input_image (defined at <ipython-input-36-55d2d4f2d06b>:4) ]]\n"
          ]
        }
      ]
    },
    {
      "metadata": {
        "id": "QOmTLbuCIaZJ",
        "colab_type": "code",
        "outputId": "8601f111-1fab-4c61-bd4b-1ca6a085c6a4",
        "colab": {
          "base_uri": "https://localhost:8080/",
          "height": 34
        }
      },
      "cell_type": "code",
      "source": [
        "best_accuracy_valid"
      ],
      "execution_count": 0,
      "outputs": [
        {
          "output_type": "execute_result",
          "data": {
            "text/plain": [
              "0.9873999964714051"
            ]
          },
          "metadata": {
            "tags": []
          },
          "execution_count": 71
        }
      ]
    },
    {
      "metadata": {
        "id": "hUc5BqhdSVtq",
        "colab_type": "code",
        "colab": {}
      },
      "cell_type": "code",
      "source": [
        "img_w = 28\n",
        "img_h = 28"
      ],
      "execution_count": 0,
      "outputs": []
    },
    {
      "metadata": {
        "id": "tr1bfaPASS3n",
        "colab_type": "code",
        "colab": {}
      },
      "cell_type": "code",
      "source": [
        "from tensorflow.contrib.tensorboard.plugins import projector\n",
        "\n",
        "# Create a config object to write the configuration parameters\n",
        "config = projector.ProjectorConfig()\n",
        "\n",
        "# Add embedding variable\n",
        "embedding = config.embeddings.add()\n",
        "embedding.tensor_name = embedding_var.name\n",
        "\n",
        "# Link this tensor to its metadata file (e.g. labels) -> we will create this file later\n",
        "embedding.metadata_path = 'metadata.tsv'\n",
        "\n",
        "# Specify where you find the sprite. -> we will create this image later\n",
        "embedding.sprite.image_path = 'sprite_images.png'\n",
        "embedding.sprite.single_image_dim.extend([img_w, img_h])\n",
        "\n",
        "# Write a projector_config.pbtxt in the logs_path.\n",
        "# TensorBoard will read this file during startup.\n",
        "projector.visualize_embeddings(train_writer, config)"
      ],
      "execution_count": 0,
      "outputs": []
    },
    {
      "metadata": {
        "id": "6JnCs7sUUcLl",
        "colab_type": "code",
        "colab": {}
      },
      "cell_type": "code",
      "source": [
        "# # Run session to evaluate the tensor\n",
        "# with tf.Session() as sess:\n",
        "#   x_test_fc1 = sess.run(embedding_assign, feed_dict={x: X_test})\n",
        "\n",
        "#   # Save the tensor in model.ckpt file\n",
        "#   saver = tf.train.Saver()\n",
        "#   saver.save(sess, os.path.join(logs_path, \"model.ckpt\"), i)"
      ],
      "execution_count": 0,
      "outputs": []
    },
    {
      "metadata": {
        "id": "yVIeYA_cCy6e",
        "colab_type": "text"
      },
      "cell_type": "markdown",
      "source": [
        "## Evaluate the Model\n",
        "Once you are completely satisfied with your model, evaluate the performance of the model on the test set.\n",
        "\n",
        "Be sure to only do this once!\n",
        "\n",
        "If you were to measure the performance of your trained model on the test set, then improve your model, and then measure the performance of your model on the test set again, that would invalidate your test results. You wouldn't get a true measure of how well your model would perform against real data.\n",
        "\n",
        "You do not need to modify this section."
      ]
    },
    {
      "metadata": {
        "id": "O4b5lSD5H_q9",
        "colab_type": "code",
        "outputId": "c20bc697-5b02-464b-b528-e33965477889",
        "colab": {
          "base_uri": "https://localhost:8080/",
          "height": 122
        }
      },
      "cell_type": "code",
      "source": [
        "with tf.Session() as sess:\n",
        "#     saver.restore(sess, tf.train.latest_checkpoint('.'))\n",
        "    saver.restore(sess, './lenet')\n",
        "    test_accuracy = evaluate(X_validation, y_validation)\n",
        "    print(\"Validation Accuracy = {:.6f}\".format(test_accuracy))"
      ],
      "execution_count": 0,
      "outputs": [
        {
          "output_type": "stream",
          "text": [
            "WARNING:tensorflow:From /usr/local/lib/python3.6/dist-packages/tensorflow/python/training/saver.py:1266: checkpoint_exists (from tensorflow.python.training.checkpoint_management) is deprecated and will be removed in a future version.\n",
            "Instructions for updating:\n",
            "Use standard file APIs to check for files with this prefix.\n",
            "INFO:tensorflow:Restoring parameters from ./lenet\n",
            "Validation Accuracy = 0.987400\n"
          ],
          "name": "stdout"
        }
      ]
    },
    {
      "metadata": {
        "id": "s-KeugG2UcKb",
        "colab_type": "code",
        "outputId": "526a22aa-4f96-4bd3-b062-cccf2827ade8",
        "colab": {
          "base_uri": "https://localhost:8080/",
          "height": 286
        }
      },
      "cell_type": "code",
      "source": [
        "plt.plot(validation_accuracy_track)"
      ],
      "execution_count": 0,
      "outputs": [
        {
          "output_type": "execute_result",
          "data": {
            "text/plain": [
              "[<matplotlib.lines.Line2D at 0x7f756063b400>]"
            ]
          },
          "metadata": {
            "tags": []
          },
          "execution_count": 73
        },
        {
          "output_type": "display_data",
          "data": {
            "image/png": "[encoded data removed]",
            "text/plain": [
              "<Figure size 432x288 with 1 Axes>"
            ]
          },
          "metadata": {
            "tags": []
          }
        }
      ]
    },
    {
      "metadata": {
        "id": "r8bS_3E0qKH1",
        "colab_type": "code",
        "outputId": "771bf5b2-bf9a-4748-ceea-02aa3195db51",
        "colab": {
          "base_uri": "https://localhost:8080/",
          "height": 51
        }
      },
      "cell_type": "code",
      "source": [
        "with tf.Session() as sess:\n",
        "#     saver.restore(sess, tf.train.latest_checkpoint('.'))\n",
        "    saver.restore(sess, './lenet')\n",
        "    test_accuracy = evaluate(X_test, y_test)\n",
        "    print(\"Test Accuracy = {:.6f}\".format(test_accuracy))"
      ],
      "execution_count": 0,
      "outputs": [
        {
          "output_type": "stream",
          "text": [
            "INFO:tensorflow:Restoring parameters from ./lenet\n",
            "Test Accuracy = 0.984600\n"
          ],
          "name": "stdout"
        }
      ]
    },
    {
      "metadata": {
        "id": "V7Uw7Yj0UaaK",
        "colab_type": "code",
        "colab": {}
      },
      "cell_type": "code",
      "source": [
        ""
      ],
      "execution_count": 0,
      "outputs": []
    },
    {
      "metadata": {
        "id": "MIMkpCgsTwRv",
        "colab_type": "code",
        "colab": {}
      },
      "cell_type": "code",
      "source": [
        "import scipy.io as sio\n"
      ],
      "execution_count": 0,
      "outputs": []
    },
    {
      "metadata": {
        "id": "C_tmzQ7mUs8C",
        "colab_type": "code",
        "colab": {}
      },
      "cell_type": "code",
      "source": [
        "epochTrack = [k for k in range(1,191,10)]\n",
        "# epochTrack"
      ],
      "execution_count": 0,
      "outputs": []
    },
    {
      "metadata": {
        "id": "AOxPCQoOUSjc",
        "colab_type": "code",
        "colab": {}
      },
      "cell_type": "code",
      "source": [
        "sio.savemat('LeNEt300-100Tracked.mat', {'ValidationTracked':validation_accuracy_track,\n",
        "                                       'train_accuracy_track':train_accuracy_track,\n",
        "                                       'connection_probability_track':connection_probability_track,\n",
        "                                       'epochTrack':epochTrack})"
      ],
      "execution_count": 0,
      "outputs": []
    },
    {
      "metadata": {
        "id": "4ldZP-eobLvM",
        "colab_type": "code",
        "colab": {}
      },
      "cell_type": "code",
      "source": [
        "# sio.savemat('LeNEt300-100TrackedV2Test98p42Valid98p74tNoDropConnection.mat', {'ValidationTracked':validation_accuracy_track,\n",
        "#                                        'train_accuracy_track':train_accuracy_track,\n",
        "#                                        'connection_probability_track':connection_probability_track,\n",
        "#                                        'epochTrack':epochTrack, 'TestAcc':test_accuracy,\n",
        "#                                                          'BestValidation':best_accuracy_valid})"
      ],
      "execution_count": 0,
      "outputs": []
    },
    {
      "metadata": {
        "id": "TZQ52QIrztzH",
        "colab_type": "code",
        "colab": {}
      },
      "cell_type": "code",
      "source": [
        "sio.savemat('V98p74T98p46_LeNEt300_100EpochBasedPRob_Decay1p0005.mat', {'ValidationTracked':validation_accuracy_track,\n",
        "                                       'train_accuracy_track':train_accuracy_track,\n",
        "                                       'connection_probability_track':connection_probability_track,\n",
        "                                       'epochTrack':epochTrack, 'TestAcc':test_accuracy,\n",
        "                                                         'BestValidation':best_accuracy_valid})"
      ],
      "execution_count": 0,
      "outputs": []
    },
    {
      "metadata": {
        "id": "nVXJD4prT0sh",
        "colab_type": "code",
        "colab": {}
      },
      "cell_type": "code",
      "source": [
        "{'ValidationTracked'}"
      ],
      "execution_count": 0,
      "outputs": []
    },
    {
      "metadata": {
        "id": "gATWCb50-pbt",
        "colab_type": "code",
        "colab": {}
      },
      "cell_type": "code",
      "source": [
        "# with tf.Session() as sess:\n",
        "# #     saver.restore(sess, tf.train.latest_checkpoint('.'))\n",
        "#     saver.restore(sess, './lenet')\n",
        "#     test_accuracy = evaluate(X_test, y_test)\n",
        "#     print(\"Test Accuracy = {:.6f}\".format(test_accuracy))"
      ],
      "execution_count": 0,
      "outputs": []
    },
    {
      "metadata": {
        "id": "bJONJ7CeCy6f",
        "colab_type": "code",
        "outputId": "99ef394d-dcd7-4efc-d863-1bb1c8dfd18e",
        "colab": {
          "base_uri": "https://localhost:8080/",
          "height": 3131
        }
      },
      "cell_type": "code",
      "source": [
        "with tf.Session() as sess:\n",
        "    saver.restore(sess, tf.train.latest_checkpoint('.'))\n",
        "#     saver.restore(sess, './lenet')\n",
        "    x_test_fc1 = sess.run(embedding_assign, feed_dict={x: X_test,is_testing: True})\n",
        "\n",
        "    # Save the tensor in model.ckpt file\n",
        "    saver = tf.train.Saver()\n",
        "    saver.save(sess, os.path.join(logs_path, \"model.ckpt\"), i)\n",
        "    test_accuracy = evaluate(X_test, y_test)\n",
        "    print(\"Test Accuracy = {:.3f}\".format(test_accuracy))"
      ],
      "execution_count": 0,
      "outputs": [
        {
          "output_type": "stream",
          "text": [
            "INFO:tensorflow:Restoring parameters from ./lenet\n"
          ],
          "name": "stdout"
        },
        {
          "output_type": "error",
          "ename": "NotFoundError",
          "evalue": "ignored",
          "traceback": [
            "\u001b[0;31m---------------------------------------------------------------------------\u001b[0m",
            "\u001b[0;31mNotFoundError\u001b[0m                             Traceback (most recent call last)",
            "\u001b[0;32m/usr/local/lib/python3.6/dist-packages/tensorflow/python/client/session.py\u001b[0m in \u001b[0;36m_do_call\u001b[0;34m(self, fn, *args)\u001b[0m\n\u001b[1;32m   1333\u001b[0m     \u001b[0;32mtry\u001b[0m\u001b[0;34m:\u001b[0m\u001b[0;34m\u001b[0m\u001b[0;34m\u001b[0m\u001b[0m\n\u001b[0;32m-> 1334\u001b[0;31m       \u001b[0;32mreturn\u001b[0m \u001b[0mfn\u001b[0m\u001b[0;34m(\u001b[0m\u001b[0;34m*\u001b[0m\u001b[0margs\u001b[0m\u001b[0;34m)\u001b[0m\u001b[0;34m\u001b[0m\u001b[0;34m\u001b[0m\u001b[0m\n\u001b[0m\u001b[1;32m   1335\u001b[0m     \u001b[0;32mexcept\u001b[0m \u001b[0merrors\u001b[0m\u001b[0;34m.\u001b[0m\u001b[0mOpError\u001b[0m \u001b[0;32mas\u001b[0m \u001b[0me\u001b[0m\u001b[0;34m:\u001b[0m\u001b[0;34m\u001b[0m\u001b[0;34m\u001b[0m\u001b[0m\n",
            "\u001b[0;32m/usr/local/lib/python3.6/dist-packages/tensorflow/python/client/session.py\u001b[0m in \u001b[0;36m_run_fn\u001b[0;34m(feed_dict, fetch_list, target_list, options, run_metadata)\u001b[0m\n\u001b[1;32m   1318\u001b[0m       return self._call_tf_sessionrun(\n\u001b[0;32m-> 1319\u001b[0;31m           options, feed_dict, fetch_list, target_list, run_metadata)\n\u001b[0m\u001b[1;32m   1320\u001b[0m \u001b[0;34m\u001b[0m\u001b[0m\n",
            "\u001b[0;32m/usr/local/lib/python3.6/dist-packages/tensorflow/python/client/session.py\u001b[0m in \u001b[0;36m_call_tf_sessionrun\u001b[0;34m(self, options, feed_dict, fetch_list, target_list, run_metadata)\u001b[0m\n\u001b[1;32m   1406\u001b[0m         \u001b[0mself\u001b[0m\u001b[0;34m.\u001b[0m\u001b[0m_session\u001b[0m\u001b[0;34m,\u001b[0m \u001b[0moptions\u001b[0m\u001b[0;34m,\u001b[0m \u001b[0mfeed_dict\u001b[0m\u001b[0;34m,\u001b[0m \u001b[0mfetch_list\u001b[0m\u001b[0;34m,\u001b[0m \u001b[0mtarget_list\u001b[0m\u001b[0;34m,\u001b[0m\u001b[0;34m\u001b[0m\u001b[0;34m\u001b[0m\u001b[0m\n\u001b[0;32m-> 1407\u001b[0;31m         run_metadata)\n\u001b[0m\u001b[1;32m   1408\u001b[0m \u001b[0;34m\u001b[0m\u001b[0m\n",
            "\u001b[0;31mNotFoundError\u001b[0m: Key logits_embedding_3 not found in checkpoint\n\t [[{{node save_5/RestoreV2}}]]\n\t [[{{node save_5/RestoreV2}}]]",
            "\nDuring handling of the above exception, another exception occurred:\n",
            "\u001b[0;31mNotFoundError\u001b[0m                             Traceback (most recent call last)",
            "\u001b[0;32m/usr/local/lib/python3.6/dist-packages/tensorflow/python/training/saver.py\u001b[0m in \u001b[0;36mrestore\u001b[0;34m(self, sess, save_path)\u001b[0m\n\u001b[1;32m   1275\u001b[0m         sess.run(self.saver_def.restore_op_name,\n\u001b[0;32m-> 1276\u001b[0;31m                  {self.saver_def.filename_tensor_name: save_path})\n\u001b[0m\u001b[1;32m   1277\u001b[0m     \u001b[0;32mexcept\u001b[0m \u001b[0merrors\u001b[0m\u001b[0;34m.\u001b[0m\u001b[0mNotFoundError\u001b[0m \u001b[0;32mas\u001b[0m \u001b[0merr\u001b[0m\u001b[0;34m:\u001b[0m\u001b[0;34m\u001b[0m\u001b[0;34m\u001b[0m\u001b[0m\n",
            "\u001b[0;32m/usr/local/lib/python3.6/dist-packages/tensorflow/python/client/session.py\u001b[0m in \u001b[0;36mrun\u001b[0;34m(self, fetches, feed_dict, options, run_metadata)\u001b[0m\n\u001b[1;32m    928\u001b[0m       result = self._run(None, fetches, feed_dict, options_ptr,\n\u001b[0;32m--> 929\u001b[0;31m                          run_metadata_ptr)\n\u001b[0m\u001b[1;32m    930\u001b[0m       \u001b[0;32mif\u001b[0m \u001b[0mrun_metadata\u001b[0m\u001b[0;34m:\u001b[0m\u001b[0;34m\u001b[0m\u001b[0;34m\u001b[0m\u001b[0m\n",
            "\u001b[0;32m/usr/local/lib/python3.6/dist-packages/tensorflow/python/client/session.py\u001b[0m in \u001b[0;36m_run\u001b[0;34m(self, handle, fetches, feed_dict, options, run_metadata)\u001b[0m\n\u001b[1;32m   1151\u001b[0m       results = self._do_run(handle, final_targets, final_fetches,\n\u001b[0;32m-> 1152\u001b[0;31m                              feed_dict_tensor, options, run_metadata)\n\u001b[0m\u001b[1;32m   1153\u001b[0m     \u001b[0;32melse\u001b[0m\u001b[0;34m:\u001b[0m\u001b[0;34m\u001b[0m\u001b[0;34m\u001b[0m\u001b[0m\n",
            "\u001b[0;32m/usr/local/lib/python3.6/dist-packages/tensorflow/python/client/session.py\u001b[0m in \u001b[0;36m_do_run\u001b[0;34m(self, handle, target_list, fetch_list, feed_dict, options, run_metadata)\u001b[0m\n\u001b[1;32m   1327\u001b[0m       return self._do_call(_run_fn, feeds, fetches, targets, options,\n\u001b[0;32m-> 1328\u001b[0;31m                            run_metadata)\n\u001b[0m\u001b[1;32m   1329\u001b[0m     \u001b[0;32melse\u001b[0m\u001b[0;34m:\u001b[0m\u001b[0;34m\u001b[0m\u001b[0;34m\u001b[0m\u001b[0m\n",
            "\u001b[0;32m/usr/local/lib/python3.6/dist-packages/tensorflow/python/client/session.py\u001b[0m in \u001b[0;36m_do_call\u001b[0;34m(self, fn, *args)\u001b[0m\n\u001b[1;32m   1347\u001b[0m       \u001b[0mmessage\u001b[0m \u001b[0;34m=\u001b[0m \u001b[0merror_interpolation\u001b[0m\u001b[0;34m.\u001b[0m\u001b[0minterpolate\u001b[0m\u001b[0;34m(\u001b[0m\u001b[0mmessage\u001b[0m\u001b[0;34m,\u001b[0m \u001b[0mself\u001b[0m\u001b[0;34m.\u001b[0m\u001b[0m_graph\u001b[0m\u001b[0;34m)\u001b[0m\u001b[0;34m\u001b[0m\u001b[0;34m\u001b[0m\u001b[0m\n\u001b[0;32m-> 1348\u001b[0;31m       \u001b[0;32mraise\u001b[0m \u001b[0mtype\u001b[0m\u001b[0;34m(\u001b[0m\u001b[0me\u001b[0m\u001b[0;34m)\u001b[0m\u001b[0;34m(\u001b[0m\u001b[0mnode_def\u001b[0m\u001b[0;34m,\u001b[0m \u001b[0mop\u001b[0m\u001b[0;34m,\u001b[0m \u001b[0mmessage\u001b[0m\u001b[0;34m)\u001b[0m\u001b[0;34m\u001b[0m\u001b[0;34m\u001b[0m\u001b[0m\n\u001b[0m\u001b[1;32m   1349\u001b[0m \u001b[0;34m\u001b[0m\u001b[0m\n",
            "\u001b[0;31mNotFoundError\u001b[0m: Key logits_embedding_3 not found in checkpoint\n\t [[node save_5/RestoreV2 (defined at <ipython-input-76-789083789e7d>:7) ]]\n\t [[node save_5/RestoreV2 (defined at <ipython-input-76-789083789e7d>:7) ]]\n\nCaused by op 'save_5/RestoreV2', defined at:\n  File \"/usr/lib/python3.6/runpy.py\", line 193, in _run_module_as_main\n    \"__main__\", mod_spec)\n  File \"/usr/lib/python3.6/runpy.py\", line 85, in _run_code\n    exec(code, run_globals)\n  File \"/usr/local/lib/python3.6/dist-packages/ipykernel_launcher.py\", line 16, in <module>\n    app.launch_new_instance()\n  File \"/usr/local/lib/python3.6/dist-packages/traitlets/config/application.py\", line 658, in launch_instance\n    app.start()\n  File \"/usr/local/lib/python3.6/dist-packages/ipykernel/kernelapp.py\", line 477, in start\n    ioloop.IOLoop.instance().start()\n  File \"/usr/local/lib/python3.6/dist-packages/tornado/ioloop.py\", line 888, in start\n    handler_func(fd_obj, events)\n  File \"/usr/local/lib/python3.6/dist-packages/tornado/stack_context.py\", line 277, in null_wrapper\n    return fn(*args, **kwargs)\n  File \"/usr/local/lib/python3.6/dist-packages/zmq/eventloop/zmqstream.py\", line 450, in _handle_events\n    self._handle_recv()\n  File \"/usr/local/lib/python3.6/dist-packages/zmq/eventloop/zmqstream.py\", line 480, in _handle_recv\n    self._run_callback(callback, msg)\n  File \"/usr/local/lib/python3.6/dist-packages/zmq/eventloop/zmqstream.py\", line 432, in _run_callback\n    callback(*args, **kwargs)\n  File \"/usr/local/lib/python3.6/dist-packages/tornado/stack_context.py\", line 277, in null_wrapper\n    return fn(*args, **kwargs)\n  File \"/usr/local/lib/python3.6/dist-packages/ipykernel/kernelbase.py\", line 283, in dispatcher\n    return self.dispatch_shell(stream, msg)\n  File \"/usr/local/lib/python3.6/dist-packages/ipykernel/kernelbase.py\", line 235, in dispatch_shell\n    handler(stream, idents, msg)\n  File \"/usr/local/lib/python3.6/dist-packages/ipykernel/kernelbase.py\", line 399, in execute_request\n    user_expressions, allow_stdin)\n  File \"/usr/local/lib/python3.6/dist-packages/ipykernel/ipkernel.py\", line 196, in do_execute\n    res = shell.run_cell(code, store_history=store_history, silent=silent)\n  File \"/usr/local/lib/python3.6/dist-packages/ipykernel/zmqshell.py\", line 533, in run_cell\n    return super(ZMQInteractiveShell, self).run_cell(*args, **kwargs)\n  File \"/usr/local/lib/python3.6/dist-packages/IPython/core/interactiveshell.py\", line 2718, in run_cell\n    interactivity=interactivity, compiler=compiler, result=result)\n  File \"/usr/local/lib/python3.6/dist-packages/IPython/core/interactiveshell.py\", line 2822, in run_ast_nodes\n    if self.run_code(code, result):\n  File \"/usr/local/lib/python3.6/dist-packages/IPython/core/interactiveshell.py\", line 2882, in run_code\n    exec(code_obj, self.user_global_ns, self.user_ns)\n  File \"<ipython-input-76-789083789e7d>\", line 7, in <module>\n    saver = tf.train.Saver()\n  File \"/usr/local/lib/python3.6/dist-packages/tensorflow/python/training/saver.py\", line 832, in __init__\n    self.build()\n  File \"/usr/local/lib/python3.6/dist-packages/tensorflow/python/training/saver.py\", line 844, in build\n    self._build(self._filename, build_save=True, build_restore=True)\n  File \"/usr/local/lib/python3.6/dist-packages/tensorflow/python/training/saver.py\", line 881, in _build\n    build_save=build_save, build_restore=build_restore)\n  File \"/usr/local/lib/python3.6/dist-packages/tensorflow/python/training/saver.py\", line 513, in _build_internal\n    restore_sequentially, reshape)\n  File \"/usr/local/lib/python3.6/dist-packages/tensorflow/python/training/saver.py\", line 332, in _AddRestoreOps\n    restore_sequentially)\n  File \"/usr/local/lib/python3.6/dist-packages/tensorflow/python/training/saver.py\", line 580, in bulk_restore\n    return io_ops.restore_v2(filename_tensor, names, slices, dtypes)\n  File \"/usr/local/lib/python3.6/dist-packages/tensorflow/python/ops/gen_io_ops.py\", line 1572, in restore_v2\n    name=name)\n  File \"/usr/local/lib/python3.6/dist-packages/tensorflow/python/framework/op_def_library.py\", line 788, in _apply_op_helper\n    op_def=op_def)\n  File \"/usr/local/lib/python3.6/dist-packages/tensorflow/python/util/deprecation.py\", line 507, in new_func\n    return func(*args, **kwargs)\n  File \"/usr/local/lib/python3.6/dist-packages/tensorflow/python/framework/ops.py\", line 3300, in create_op\n    op_def=op_def)\n  File \"/usr/local/lib/python3.6/dist-packages/tensorflow/python/framework/ops.py\", line 1801, in __init__\n    self._traceback = tf_stack.extract_stack()\n\nNotFoundError (see above for traceback): Key logits_embedding_3 not found in checkpoint\n\t [[node save_5/RestoreV2 (defined at <ipython-input-76-789083789e7d>:7) ]]\n\t [[node save_5/RestoreV2 (defined at <ipython-input-76-789083789e7d>:7) ]]\n",
            "\nDuring handling of the above exception, another exception occurred:\n",
            "\u001b[0;31mNotFoundError\u001b[0m                             Traceback (most recent call last)",
            "\u001b[0;32m/usr/local/lib/python3.6/dist-packages/tensorflow/python/training/saver.py\u001b[0m in \u001b[0;36mrestore\u001b[0;34m(self, sess, save_path)\u001b[0m\n\u001b[1;32m   1285\u001b[0m       \u001b[0;32mtry\u001b[0m\u001b[0;34m:\u001b[0m\u001b[0;34m\u001b[0m\u001b[0;34m\u001b[0m\u001b[0m\n\u001b[0;32m-> 1286\u001b[0;31m         \u001b[0mnames_to_keys\u001b[0m \u001b[0;34m=\u001b[0m \u001b[0mobject_graph_key_mapping\u001b[0m\u001b[0;34m(\u001b[0m\u001b[0msave_path\u001b[0m\u001b[0;34m)\u001b[0m\u001b[0;34m\u001b[0m\u001b[0;34m\u001b[0m\u001b[0m\n\u001b[0m\u001b[1;32m   1287\u001b[0m       \u001b[0;32mexcept\u001b[0m \u001b[0merrors\u001b[0m\u001b[0;34m.\u001b[0m\u001b[0mNotFoundError\u001b[0m\u001b[0;34m:\u001b[0m\u001b[0;34m\u001b[0m\u001b[0;34m\u001b[0m\u001b[0m\n",
            "\u001b[0;32m/usr/local/lib/python3.6/dist-packages/tensorflow/python/training/saver.py\u001b[0m in \u001b[0;36mobject_graph_key_mapping\u001b[0;34m(checkpoint_path)\u001b[0m\n\u001b[1;32m   1590\u001b[0m   object_graph_string = reader.get_tensor(\n\u001b[0;32m-> 1591\u001b[0;31m       checkpointable.OBJECT_GRAPH_PROTO_KEY)\n\u001b[0m\u001b[1;32m   1592\u001b[0m   object_graph_proto = (\n",
            "\u001b[0;32m/usr/local/lib/python3.6/dist-packages/tensorflow/python/pywrap_tensorflow_internal.py\u001b[0m in \u001b[0;36mget_tensor\u001b[0;34m(self, tensor_str)\u001b[0m\n\u001b[1;32m    369\u001b[0m         return CheckpointReader_GetTensor(self, compat.as_bytes(tensor_str),\n\u001b[0;32m--> 370\u001b[0;31m                                           status)\n\u001b[0m\u001b[1;32m    371\u001b[0m \u001b[0;34m\u001b[0m\u001b[0m\n",
            "\u001b[0;32m/usr/local/lib/python3.6/dist-packages/tensorflow/python/framework/errors_impl.py\u001b[0m in \u001b[0;36m__exit__\u001b[0;34m(self, type_arg, value_arg, traceback_arg)\u001b[0m\n\u001b[1;32m    527\u001b[0m             \u001b[0mcompat\u001b[0m\u001b[0;34m.\u001b[0m\u001b[0mas_text\u001b[0m\u001b[0;34m(\u001b[0m\u001b[0mc_api\u001b[0m\u001b[0;34m.\u001b[0m\u001b[0mTF_Message\u001b[0m\u001b[0;34m(\u001b[0m\u001b[0mself\u001b[0m\u001b[0;34m.\u001b[0m\u001b[0mstatus\u001b[0m\u001b[0;34m.\u001b[0m\u001b[0mstatus\u001b[0m\u001b[0;34m)\u001b[0m\u001b[0;34m)\u001b[0m\u001b[0;34m,\u001b[0m\u001b[0;34m\u001b[0m\u001b[0;34m\u001b[0m\u001b[0m\n\u001b[0;32m--> 528\u001b[0;31m             c_api.TF_GetCode(self.status.status))\n\u001b[0m\u001b[1;32m    529\u001b[0m     \u001b[0;31m# Delete the underlying status object from memory otherwise it stays alive\u001b[0m\u001b[0;34m\u001b[0m\u001b[0;34m\u001b[0m\u001b[0;34m\u001b[0m\u001b[0m\n",
            "\u001b[0;31mNotFoundError\u001b[0m: Key _CHECKPOINTABLE_OBJECT_GRAPH not found in checkpoint",
            "\nDuring handling of the above exception, another exception occurred:\n",
            "\u001b[0;31mNotFoundError\u001b[0m                             Traceback (most recent call last)",
            "\u001b[0;32m<ipython-input-83-2a49aef686ef>\u001b[0m in \u001b[0;36m<module>\u001b[0;34m()\u001b[0m\n\u001b[1;32m      1\u001b[0m \u001b[0;32mwith\u001b[0m \u001b[0mtf\u001b[0m\u001b[0;34m.\u001b[0m\u001b[0mSession\u001b[0m\u001b[0;34m(\u001b[0m\u001b[0;34m)\u001b[0m \u001b[0;32mas\u001b[0m \u001b[0msess\u001b[0m\u001b[0;34m:\u001b[0m\u001b[0;34m\u001b[0m\u001b[0;34m\u001b[0m\u001b[0m\n\u001b[0;32m----> 2\u001b[0;31m     \u001b[0msaver\u001b[0m\u001b[0;34m.\u001b[0m\u001b[0mrestore\u001b[0m\u001b[0;34m(\u001b[0m\u001b[0msess\u001b[0m\u001b[0;34m,\u001b[0m \u001b[0mtf\u001b[0m\u001b[0;34m.\u001b[0m\u001b[0mtrain\u001b[0m\u001b[0;34m.\u001b[0m\u001b[0mlatest_checkpoint\u001b[0m\u001b[0;34m(\u001b[0m\u001b[0;34m'.'\u001b[0m\u001b[0;34m)\u001b[0m\u001b[0;34m)\u001b[0m\u001b[0;34m\u001b[0m\u001b[0;34m\u001b[0m\u001b[0m\n\u001b[0m\u001b[1;32m      3\u001b[0m \u001b[0;31m#     saver.restore(sess, './lenet')\u001b[0m\u001b[0;34m\u001b[0m\u001b[0;34m\u001b[0m\u001b[0;34m\u001b[0m\u001b[0m\n\u001b[1;32m      4\u001b[0m     \u001b[0mx_test_fc1\u001b[0m \u001b[0;34m=\u001b[0m \u001b[0msess\u001b[0m\u001b[0;34m.\u001b[0m\u001b[0mrun\u001b[0m\u001b[0;34m(\u001b[0m\u001b[0membedding_assign\u001b[0m\u001b[0;34m,\u001b[0m \u001b[0mfeed_dict\u001b[0m\u001b[0;34m=\u001b[0m\u001b[0;34m{\u001b[0m\u001b[0mx\u001b[0m\u001b[0;34m:\u001b[0m \u001b[0mX_test\u001b[0m\u001b[0;34m,\u001b[0m\u001b[0mis_testing\u001b[0m\u001b[0;34m:\u001b[0m \u001b[0;32mTrue\u001b[0m\u001b[0;34m}\u001b[0m\u001b[0;34m)\u001b[0m\u001b[0;34m\u001b[0m\u001b[0;34m\u001b[0m\u001b[0m\n\u001b[1;32m      5\u001b[0m \u001b[0;34m\u001b[0m\u001b[0m\n",
            "\u001b[0;32m/usr/local/lib/python3.6/dist-packages/tensorflow/python/training/saver.py\u001b[0m in \u001b[0;36mrestore\u001b[0;34m(self, sess, save_path)\u001b[0m\n\u001b[1;32m   1290\u001b[0m         \u001b[0;31m# a helpful message (b/110263146)\u001b[0m\u001b[0;34m\u001b[0m\u001b[0;34m\u001b[0m\u001b[0;34m\u001b[0m\u001b[0m\n\u001b[1;32m   1291\u001b[0m         raise _wrap_restore_error_with_msg(\n\u001b[0;32m-> 1292\u001b[0;31m             err, \"a Variable name or other graph key that is missing\")\n\u001b[0m\u001b[1;32m   1293\u001b[0m \u001b[0;34m\u001b[0m\u001b[0m\n\u001b[1;32m   1294\u001b[0m       \u001b[0;31m# This is an object-based checkpoint. We'll print a warning and then do\u001b[0m\u001b[0;34m\u001b[0m\u001b[0;34m\u001b[0m\u001b[0;34m\u001b[0m\u001b[0m\n",
            "\u001b[0;31mNotFoundError\u001b[0m: Restoring from checkpoint failed. This is most likely due to a Variable name or other graph key that is missing from the checkpoint. Please ensure that you have not altered the graph expected based on the checkpoint. Original error:\n\nKey logits_embedding_3 not found in checkpoint\n\t [[node save_5/RestoreV2 (defined at <ipython-input-76-789083789e7d>:7) ]]\n\t [[node save_5/RestoreV2 (defined at <ipython-input-76-789083789e7d>:7) ]]\n\nCaused by op 'save_5/RestoreV2', defined at:\n  File \"/usr/lib/python3.6/runpy.py\", line 193, in _run_module_as_main\n    \"__main__\", mod_spec)\n  File \"/usr/lib/python3.6/runpy.py\", line 85, in _run_code\n    exec(code, run_globals)\n  File \"/usr/local/lib/python3.6/dist-packages/ipykernel_launcher.py\", line 16, in <module>\n    app.launch_new_instance()\n  File \"/usr/local/lib/python3.6/dist-packages/traitlets/config/application.py\", line 658, in launch_instance\n    app.start()\n  File \"/usr/local/lib/python3.6/dist-packages/ipykernel/kernelapp.py\", line 477, in start\n    ioloop.IOLoop.instance().start()\n  File \"/usr/local/lib/python3.6/dist-packages/tornado/ioloop.py\", line 888, in start\n    handler_func(fd_obj, events)\n  File \"/usr/local/lib/python3.6/dist-packages/tornado/stack_context.py\", line 277, in null_wrapper\n    return fn(*args, **kwargs)\n  File \"/usr/local/lib/python3.6/dist-packages/zmq/eventloop/zmqstream.py\", line 450, in _handle_events\n    self._handle_recv()\n  File \"/usr/local/lib/python3.6/dist-packages/zmq/eventloop/zmqstream.py\", line 480, in _handle_recv\n    self._run_callback(callback, msg)\n  File \"/usr/local/lib/python3.6/dist-packages/zmq/eventloop/zmqstream.py\", line 432, in _run_callback\n    callback(*args, **kwargs)\n  File \"/usr/local/lib/python3.6/dist-packages/tornado/stack_context.py\", line 277, in null_wrapper\n    return fn(*args, **kwargs)\n  File \"/usr/local/lib/python3.6/dist-packages/ipykernel/kernelbase.py\", line 283, in dispatcher\n    return self.dispatch_shell(stream, msg)\n  File \"/usr/local/lib/python3.6/dist-packages/ipykernel/kernelbase.py\", line 235, in dispatch_shell\n    handler(stream, idents, msg)\n  File \"/usr/local/lib/python3.6/dist-packages/ipykernel/kernelbase.py\", line 399, in execute_request\n    user_expressions, allow_stdin)\n  File \"/usr/local/lib/python3.6/dist-packages/ipykernel/ipkernel.py\", line 196, in do_execute\n    res = shell.run_cell(code, store_history=store_history, silent=silent)\n  File \"/usr/local/lib/python3.6/dist-packages/ipykernel/zmqshell.py\", line 533, in run_cell\n    return super(ZMQInteractiveShell, self).run_cell(*args, **kwargs)\n  File \"/usr/local/lib/python3.6/dist-packages/IPython/core/interactiveshell.py\", line 2718, in run_cell\n    interactivity=interactivity, compiler=compiler, result=result)\n  File \"/usr/local/lib/python3.6/dist-packages/IPython/core/interactiveshell.py\", line 2822, in run_ast_nodes\n    if self.run_code(code, result):\n  File \"/usr/local/lib/python3.6/dist-packages/IPython/core/interactiveshell.py\", line 2882, in run_code\n    exec(code_obj, self.user_global_ns, self.user_ns)\n  File \"<ipython-input-76-789083789e7d>\", line 7, in <module>\n    saver = tf.train.Saver()\n  File \"/usr/local/lib/python3.6/dist-packages/tensorflow/python/training/saver.py\", line 832, in __init__\n    self.build()\n  File \"/usr/local/lib/python3.6/dist-packages/tensorflow/python/training/saver.py\", line 844, in build\n    self._build(self._filename, build_save=True, build_restore=True)\n  File \"/usr/local/lib/python3.6/dist-packages/tensorflow/python/training/saver.py\", line 881, in _build\n    build_save=build_save, build_restore=build_restore)\n  File \"/usr/local/lib/python3.6/dist-packages/tensorflow/python/training/saver.py\", line 513, in _build_internal\n    restore_sequentially, reshape)\n  File \"/usr/local/lib/python3.6/dist-packages/tensorflow/python/training/saver.py\", line 332, in _AddRestoreOps\n    restore_sequentially)\n  File \"/usr/local/lib/python3.6/dist-packages/tensorflow/python/training/saver.py\", line 580, in bulk_restore\n    return io_ops.restore_v2(filename_tensor, names, slices, dtypes)\n  File \"/usr/local/lib/python3.6/dist-packages/tensorflow/python/ops/gen_io_ops.py\", line 1572, in restore_v2\n    name=name)\n  File \"/usr/local/lib/python3.6/dist-packages/tensorflow/python/framework/op_def_library.py\", line 788, in _apply_op_helper\n    op_def=op_def)\n  File \"/usr/local/lib/python3.6/dist-packages/tensorflow/python/util/deprecation.py\", line 507, in new_func\n    return func(*args, **kwargs)\n  File \"/usr/local/lib/python3.6/dist-packages/tensorflow/python/framework/ops.py\", line 3300, in create_op\n    op_def=op_def)\n  File \"/usr/local/lib/python3.6/dist-packages/tensorflow/python/framework/ops.py\", line 1801, in __init__\n    self._traceback = tf_stack.extract_stack()\n\nNotFoundError (see above for traceback): Restoring from checkpoint failed. This is most likely due to a Variable name or other graph key that is missing from the checkpoint. Please ensure that you have not altered the graph expected based on the checkpoint. Original error:\n\nKey logits_embedding_3 not found in checkpoint\n\t [[node save_5/RestoreV2 (defined at <ipython-input-76-789083789e7d>:7) ]]\n\t [[node save_5/RestoreV2 (defined at <ipython-input-76-789083789e7d>:7) ]]\n"
          ]
        }
      ]
    },
    {
      "metadata": {
        "id": "qvRqnUrrCy6m",
        "colab_type": "code",
        "colab": {}
      },
      "cell_type": "code",
      "source": [
        "def write_sprite_image(filename, images):\n",
        "    \"\"\"\n",
        "        Create a sprite image consisting of sample images\n",
        "        :param filename: name of the file to save on disk\n",
        "        :param shape: tensor of flattened images\n",
        "    \"\"\"\n",
        "\n",
        "    # Invert grayscale image\n",
        "    images = 1 - images\n",
        "\n",
        "    # Calculate number of plot\n",
        "    n_plots = int(np.ceil(np.sqrt(images.shape[0])))\n",
        "\n",
        "    # Make the background of sprite image\n",
        "    sprite_image = np.ones((img_h * n_plots, img_w * n_plots))\n",
        "\n",
        "    for i in range(n_plots):\n",
        "        for j in range(n_plots):\n",
        "            img_idx = i * n_plots + j\n",
        "            if img_idx < images.shape[0]:\n",
        "                img = images[img_idx]\n",
        "                sprite_image[i * img_h:(i + 1) * img_h,\n",
        "                j * img_w:(j + 1) * img_w] = img\n",
        "\n",
        "    plt.imsave(filename, sprite_image, cmap='gray')\n",
        "    print('Sprite image saved in {}'.format(filename))\n",
        "\n",
        "def write_metadata(filename, labels):\n",
        "    \"\"\"\n",
        "            Create a metadata file image consisting of sample indices and labels\n",
        "            :param filename: name of the file to save on disk\n",
        "            :param shape: tensor of labels\n",
        "    \"\"\"\n",
        "    with open(filename, 'w') as f:\n",
        "        f.write(\"Index\\tLabel\\n\")\n",
        "        for index, label in enumerate(labels):\n",
        "            f.write(\"{}\\t{}\\n\".format(index, label))\n",
        "\n",
        "    print('Metadata file saved in {}'.format(filename))\n",
        " "
      ],
      "execution_count": 0,
      "outputs": []
    },
    {
      "metadata": {
        "id": "vE0ULEJ7XGlH",
        "colab_type": "code",
        "outputId": "521734b2-6287-4ee4-e907-495d334f9f27",
        "colab": {
          "base_uri": "https://localhost:8080/",
          "height": 35
        }
      },
      "cell_type": "code",
      "source": [
        "y_test.shape"
      ],
      "execution_count": 0,
      "outputs": [
        {
          "output_type": "execute_result",
          "data": {
            "text/plain": [
              "(10000,)"
            ]
          },
          "metadata": {
            "tags": []
          },
          "execution_count": 31
        }
      ]
    },
    {
      "metadata": {
        "id": "F-zHFsYHWvrv",
        "colab_type": "code",
        "outputId": "54ffa52c-c52a-47e8-a521-bb74797f586b",
        "colab": {
          "base_uri": "https://localhost:8080/",
          "height": 54
        }
      },
      "cell_type": "code",
      "source": [
        "# Reshape images from vector to matrix\n",
        "x_test_images = np.reshape(np.array(X_test), (-1, img_w, img_h))\n",
        "# Reshape labels from one-hot-encode to index\n",
        "x_test_labels = y_test\n",
        "\n",
        "write_sprite_image(os.path.join(logs_path, 'sprite_images.png'), x_test_images)\n",
        "write_metadata(os.path.join(logs_path, 'metadata.tsv'), x_test_labels)"
      ],
      "execution_count": 0,
      "outputs": [
        {
          "output_type": "stream",
          "text": [
            "Sprite image saved in ./logs/embedding/sprite_images.png\n",
            "Metadata file saved in ./logs/embedding/metadata.tsv\n"
          ],
          "name": "stdout"
        }
      ]
    },
    {
      "metadata": {
        "id": "uPVpeenpW8sp",
        "colab_type": "code",
        "outputId": "23e1a68e-78ab-4b89-d0ff-571473bf15b0",
        "colab": {
          "base_uri": "https://localhost:8080/",
          "height": 254
        }
      },
      "cell_type": "code",
      "source": [
        "!wget https://bin.equinox.io/c/4VmDzA7iaHb/ngrok-stable-linux-amd64.zip\n",
        "!unzip -o ngrok-stable-linux-amd64.zip\n",
        "# logdir=logs/embedding/\n",
        "LOG_DIR = 'logs/embedding/'\n",
        "get_ipython().system_raw(\n",
        "    'tensorboard --logdir {} --host 0.0.0.0 --port 6006 &'\n",
        "    .format(LOG_DIR)\n",
        ")\n",
        "\n",
        "get_ipython().system_raw('./ngrok http 6006 &')"
      ],
      "execution_count": 0,
      "outputs": [
        {
          "output_type": "stream",
          "text": [
            "--2019-04-07 22:31:50--  https://bin.equinox.io/c/4VmDzA7iaHb/ngrok-stable-linux-amd64.zip\n",
            "Resolving bin.equinox.io (bin.equinox.io)... 52.73.94.166, 52.45.111.123, 52.4.95.48, ...\n",
            "Connecting to bin.equinox.io (bin.equinox.io)|52.73.94.166|:443... connected.\n",
            "HTTP request sent, awaiting response... 200 OK\n",
            "Length: 14977695 (14M) [application/octet-stream]\n",
            "Saving to: ‘ngrok-stable-linux-amd64.zip’\n",
            "\n",
            "ngrok-stable-linux- 100%[===================>]  14.28M  7.04MB/s    in 2.0s    \n",
            "\n",
            "2019-04-07 22:31:53 (7.04 MB/s) - ‘ngrok-stable-linux-amd64.zip’ saved [14977695/14977695]\n",
            "\n",
            "Archive:  ngrok-stable-linux-amd64.zip\n",
            "  inflating: ngrok                   \n"
          ],
          "name": "stdout"
        }
      ]
    },
    {
      "metadata": {
        "id": "sULv8PgRXp2j",
        "colab_type": "code",
        "outputId": "7e8c41b2-028f-4d9d-ff5b-4cf9db24e07a",
        "colab": {
          "base_uri": "https://localhost:8080/",
          "height": 35
        }
      },
      "cell_type": "code",
      "source": [
        "ngrok_url = !curl -s http://localhost:4040/api/tunnels | python -c \\\n",
        "    \"import sys, json; print(json.load(sys.stdin)['tunnels'][0]['public_url'])\"\n",
        "        \n",
        "ngrok_url = ngrok_url[0].replace(\"'\", '')\n",
        "print(ngrok_url)"
      ],
      "execution_count": 0,
      "outputs": [
        {
          "output_type": "stream",
          "text": [
            "https://d310ebff.ngrok.io\n"
          ],
          "name": "stdout"
        }
      ]
    },
    {
      "metadata": {
        "id": "q7TjVgm-X6N1",
        "colab_type": "code",
        "outputId": "b58870c5-0ee1-4f23-f15e-fd4e0a933754",
        "colab": {
          "base_uri": "https://localhost:8080/",
          "height": 921
        }
      },
      "cell_type": "code",
      "source": [
        "from IPython.display import IFrame\n",
        "\n",
        "IFrame(ngrok_url, width=700, height=900)"
      ],
      "execution_count": 0,
      "outputs": [
        {
          "output_type": "execute_result",
          "data": {
            "text/html": [
              "\n",
              "        <iframe\n",
              "            width=\"700\"\n",
              "            height=\"900\"\n",
              "            src=\"https://d310ebff.ngrok.io\"\n",
              "            frameborder=\"0\"\n",
              "            allowfullscreen\n",
              "        ></iframe>\n",
              "        "
            ],
            "text/plain": [
              "<IPython.lib.display.IFrame at 0x7f82b37fed30>"
            ]
          },
          "metadata": {
            "tags": []
          },
          "execution_count": 35
        }
      ]
    },
    {
      "metadata": {
        "id": "u5OZDSZ7X9eO",
        "colab_type": "code",
        "colab": {}
      },
      "cell_type": "code",
      "source": [
        ""
      ],
      "execution_count": 0,
      "outputs": []
    }
  ]
}