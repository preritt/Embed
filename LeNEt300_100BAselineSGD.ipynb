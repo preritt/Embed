{
  "nbformat": 4,
  "nbformat_minor": 0,
  "metadata": {
    "colab": {
      "name": "LeNEt300-100BAselineSGD.ipynb",
      "version": "0.3.2",
      "provenance": [],
      "collapsed_sections": [],
      "include_colab_link": true
    },
    "language_info": {
      "codemirror_mode": {
        "name": "ipython",
        "version": 3
      },
      "file_extension": ".py",
      "mimetype": "text/x-python",
      "name": "python",
      "nbconvert_exporter": "python",
      "pygments_lexer": "ipython3",
      "version": "3.5.6"
    },
    "kernelspec": {
      "display_name": "Python [conda env:padhai]",
      "language": "python",
      "name": "conda-env-padhai-py"
    },
    "accelerator": "GPU"
  },
  "cells": [
    {
      "cell_type": "markdown",
      "metadata": {
        "id": "view-in-github",
        "colab_type": "text"
      },
      "source": [
        "<a href=\"https://colab.research.google.com/github/preritt/Embed/blob/master/LeNEt300_100BAselineSGD.ipynb\" target=\"_parent\"><img src=\"https://colab.research.google.com/assets/colab-badge.svg\" alt=\"Open In Colab\"/></a>"
      ]
    },
    {
      "metadata": {
        "id": "IhXDOT-CZHes",
        "colab_type": "text"
      },
      "cell_type": "markdown",
      "source": [
        "# LeNet Lab\n",
        "![LeNet Architecture](https://github.com/sujaybabruwad/LeNet-in-Tensorflow/blob/master/lenet.png?raw=1)\n",
        "Source: Yan LeCun"
      ]
    },
    {
      "metadata": {
        "id": "9sheng-ZZHev",
        "colab_type": "text"
      },
      "cell_type": "markdown",
      "source": [
        "## Load Data\n",
        "\n",
        "Load the MNIST data, which comes pre-loaded with TensorFlow.\n",
        "\n",
        "You do not need to modify this section."
      ]
    },
    {
      "metadata": {
        "id": "t7J9GmniZHew",
        "colab_type": "code",
        "outputId": "9c769c6d-39a7-4921-c8e2-b612cdee69f9",
        "colab": {
          "base_uri": "https://localhost:8080/",
          "height": 187
        }
      },
      "cell_type": "code",
      "source": [
        "from tensorflow.examples.tutorials.mnist import input_data\n",
        "\n",
        "mnist = input_data.read_data_sets(\"MNIST_data/\", reshape=False)\n",
        "X_train, y_train           = mnist.train.images, mnist.train.labels\n",
        "X_validation, y_validation = mnist.validation.images, mnist.validation.labels\n",
        "X_test, y_test             = mnist.test.images, mnist.test.labels\n",
        "\n",
        "assert(len(X_train) == len(y_train))\n",
        "assert(len(X_validation) == len(y_validation))\n",
        "assert(len(X_test) == len(y_test))\n",
        "\n",
        "print()\n",
        "print(\"Image Shape: {}\".format(X_train[0].shape))\n",
        "print()\n",
        "print(\"Training Set:   {} samples\".format(len(X_train)))\n",
        "print(\"Validation Set: {} samples\".format(len(X_validation)))\n",
        "print(\"Test Set:       {} samples\".format(len(X_test)))"
      ],
      "execution_count": 9,
      "outputs": [
        {
          "output_type": "stream",
          "text": [
            "Extracting MNIST_data/train-images-idx3-ubyte.gz\n",
            "Extracting MNIST_data/train-labels-idx1-ubyte.gz\n",
            "Extracting MNIST_data/t10k-images-idx3-ubyte.gz\n",
            "Extracting MNIST_data/t10k-labels-idx1-ubyte.gz\n",
            "\n",
            "Image Shape: (28, 28, 1)\n",
            "\n",
            "Training Set:   55000 samples\n",
            "Validation Set: 5000 samples\n",
            "Test Set:       10000 samples\n"
          ],
          "name": "stdout"
        }
      ]
    },
    {
      "metadata": {
        "id": "B3sJ2OzvZHe5",
        "colab_type": "text"
      },
      "cell_type": "markdown",
      "source": [
        "The MNIST data that TensorFlow pre-loads comes as 28x28x1 images.\n",
        "\n",
        "However, the LeNet architecture only accepts 32x32xC images, where C is the number of color channels.\n",
        "\n",
        "In order to reformat the MNIST data into a shape that LeNet will accept, we pad the data with two rows of zeros on the top and bottom, and two columns of zeros on the left and right (28+2+2 = 32).\n",
        "\n",
        "You do not need to modify this section."
      ]
    },
    {
      "metadata": {
        "id": "Ov_e4qaXZHe7",
        "colab_type": "code",
        "outputId": "12851330-ae41-4d50-d48b-ec47c40c9708",
        "colab": {
          "base_uri": "https://localhost:8080/",
          "height": 34
        }
      },
      "cell_type": "code",
      "source": [
        "import numpy as np\n",
        "\n",
        "# Pad images with 0s\n",
        "# X_train      = np.pad(X_train, ((0,0),(2,2),(2,2),(0,0)), 'constant')\n",
        "# X_validation = np.pad(X_validation, ((0,0),(2,2),(2,2),(0,0)), 'constant')\n",
        "# X_test       = np.pad(X_test, ((0,0),(2,2),(2,2),(0,0)), 'constant')\n",
        "    \n",
        "print(\"Updated Image Shape: {}\".format(X_train[0].shape))"
      ],
      "execution_count": 10,
      "outputs": [
        {
          "output_type": "stream",
          "text": [
            "Updated Image Shape: (28, 28, 1)\n"
          ],
          "name": "stdout"
        }
      ]
    },
    {
      "metadata": {
        "id": "ZKcSwjCmZHfB",
        "colab_type": "text"
      },
      "cell_type": "markdown",
      "source": [
        "## Visualize Data\n",
        "\n",
        "View a sample from the dataset.\n",
        "\n",
        "You do not need to modify this section."
      ]
    },
    {
      "metadata": {
        "id": "8c-ip1U9ZHfC",
        "colab_type": "code",
        "outputId": "bb48c6fd-8edb-43a7-e9ce-daedef4ae29b",
        "colab": {
          "base_uri": "https://localhost:8080/",
          "height": 123
        }
      },
      "cell_type": "code",
      "source": [
        "import random\n",
        "import numpy as np\n",
        "import matplotlib.pyplot as plt\n",
        "%matplotlib inline\n",
        "\n",
        "index = random.randint(0, len(X_train))\n",
        "image = X_train[index].squeeze()\n",
        "\n",
        "plt.figure(figsize=(1,1))\n",
        "plt.imshow(image, cmap=\"gray\")\n",
        "print(y_train[index])"
      ],
      "execution_count": 11,
      "outputs": [
        {
          "output_type": "stream",
          "text": [
            "3\n"
          ],
          "name": "stdout"
        },
        {
          "output_type": "display_data",
          "data": {
            "image/png": "[encoded data removed]",
            "text/plain": [
              "<Figure size 72x72 with 1 Axes>"
            ]
          },
          "metadata": {
            "tags": []
          }
        }
      ]
    },
    {
      "metadata": {
        "id": "ZYcNNS_OZHfJ",
        "colab_type": "text"
      },
      "cell_type": "markdown",
      "source": [
        "## Preprocess Data\n",
        "\n",
        "Shuffle the training data.\n",
        "\n",
        "You do not need to modify this section."
      ]
    },
    {
      "metadata": {
        "id": "ruzaxNTkZHfL",
        "colab_type": "code",
        "colab": {}
      },
      "cell_type": "code",
      "source": [
        "from sklearn.utils import shuffle\n",
        "\n",
        "X_train, y_train = shuffle(X_train, y_train)"
      ],
      "execution_count": 0,
      "outputs": []
    },
    {
      "metadata": {
        "id": "nD6O8IccZHfP",
        "colab_type": "text"
      },
      "cell_type": "markdown",
      "source": [
        "## Setup TensorFlow\n",
        "The `EPOCH` and `BATCH_SIZE` values affect the training speed and model accuracy.\n",
        "\n",
        "You do not need to modify this section."
      ]
    },
    {
      "metadata": {
        "id": "_1J0e74uZHfQ",
        "colab_type": "code",
        "colab": {}
      },
      "cell_type": "code",
      "source": [
        "import tensorflow as tf\n",
        "\n",
        "EPOCHS = 10\n",
        "BATCH_SIZE = 128"
      ],
      "execution_count": 0,
      "outputs": []
    },
    {
      "metadata": {
        "id": "wAaZHoyTZHfU",
        "colab_type": "text"
      },
      "cell_type": "markdown",
      "source": [
        "## TODO: Implement LeNet-5\n",
        "Implement the [LeNet-5](http://yann.lecun.com/exdb/lenet/) neural network architecture.\n",
        "\n",
        "This is the only cell you need to edit.\n",
        "### Input\n",
        "The LeNet architecture accepts a 32x32xC image as input, where C is the number of color channels. Since MNIST images are grayscale, C is 1 in this case.\n",
        "\n",
        "### Architecture\n",
        "**Layer 1: Convolutional.** The output shape should be 28x28x6.\n",
        "\n",
        "**Activation.** Your choice of activation function.\n",
        "\n",
        "**Pooling.** The output shape should be 14x14x6.\n",
        "\n",
        "**Layer 2: Convolutional.** The output shape should be 10x10x16.\n",
        "\n",
        "**Activation.** Your choice of activation function.\n",
        "\n",
        "**Pooling.** The output shape should be 5x5x16.\n",
        "\n",
        "**Flatten.** Flatten the output shape of the final pooling layer such that it's 1D instead of 3D. The easiest way to do is by using `tf.contrib.layers.flatten`, which is already imported for you.\n",
        "\n",
        "**Layer 3: Fully Connected.** This should have 120 outputs.\n",
        "\n",
        "**Activation.** Your choice of activation function.\n",
        "\n",
        "**Layer 4: Fully Connected.** This should have 84 outputs.\n",
        "\n",
        "**Activation.** Your choice of activation function.\n",
        "\n",
        "**Layer 5: Fully Connected (Logits).** This should have 10 outputs.\n",
        "\n",
        "### Output\n",
        "Return the result of the 2nd fully connected layer."
      ]
    },
    {
      "metadata": {
        "id": "BOKCTv8jyeRu",
        "colab_type": "code",
        "colab": {}
      },
      "cell_type": "code",
      "source": [
        "def xavier_init(size):\n",
        "    in_dim = size[0]\n",
        "    xavier_stddev = 1. / tf.sqrt(in_dim / 2.)\n",
        "    return tf.random_normal(shape=size, stddev=xavier_stddev, seed=1000)"
      ],
      "execution_count": 0,
      "outputs": []
    },
    {
      "metadata": {
        "id": "3xuzyvlmZHfV",
        "colab_type": "code",
        "colab": {}
      },
      "cell_type": "code",
      "source": [
        "from tensorflow.contrib.layers import flatten\n",
        "\n",
        "def LeNet(x):    \n",
        "    # Hyperparameters\n",
        "    mu = 0\n",
        "    sigma = 0.1\n",
        "    layer_depth = {\n",
        "        'layer_1' : 6,\n",
        "        'layer_2' : 16,\n",
        "        'layer_3' : 120,\n",
        "        'layer_f1' : 84\n",
        "    }\n",
        "\n",
        "    \n",
        "#     # TODO: Layer 1: Convolutional. Input = 32x32x1. Output = 28x28x6.\n",
        "#     conv1_w = tf.Variable(tf.truncated_normal(shape = [5,5,1,6],mean = mu, stddev = sigma))\n",
        "#     conv1_b = tf.Variable(tf.zeros(6))\n",
        "#     conv1 = tf.nn.conv2d(x,conv1_w, strides = [1,1,1,1], padding = 'VALID') + conv1_b \n",
        "#     # TODO: Activation.\n",
        "#     conv1 = tf.nn.relu(conv1)\n",
        "\n",
        "#     # TODO: Pooling. Input = 28x28x6. Output = 14x14x6.\n",
        "#     pool_1 = tf.nn.max_pool(conv1,ksize = [1,2,2,1], strides = [1,2,2,1], padding = 'VALID')\n",
        "    \n",
        "#     # TODO: Layer 2: Convolutional. Output = 10x10x16.\n",
        "#     conv2_w = tf.Variable(tf.truncated_normal(shape = [5,5,6,16], mean = mu, stddev = sigma))\n",
        "#     conv2_b = tf.Variable(tf.zeros(16))\n",
        "#     conv2 = tf.nn.conv2d(pool_1, conv2_w, strides = [1,1,1,1], padding = 'VALID') + conv2_b\n",
        "#     # TODO: Activation.\n",
        "#     conv2 = tf.nn.relu(conv2)\n",
        "\n",
        "#     # TODO: Pooling. Input = 10x10x16. Output = 5x5x16.\n",
        "#     pool_2 = tf.nn.max_pool(conv2, ksize = [1,2,2,1], strides = [1,2,2,1], padding = 'VALID') \n",
        "    \n",
        "    # TODO: Flatten. Input = 5x5x16. Output = 400.\n",
        "    fc1 = flatten(x)\n",
        "    \n",
        "    # TODO: Layer 3: Fully Connected. Input = 400. Output = 120.\n",
        "#     fc1_w = tf.Variable(tf.truncated_normal(shape = (300,100), mean = mu, stddev = sigma))\n",
        "    fc1_w = tf.Variable(xavier_init([784,300]))\n",
        "    fc1_b = tf.Variable(xavier_init([300]))\n",
        "#     fc1_b = tf.Variable(tf.zeros(100))\n",
        "    fc1 = tf.matmul(fc1,fc1_w) + fc1_b\n",
        "    \n",
        "    # TODO: Activation.\n",
        "    fc1 = tf.nn.relu(fc1)\n",
        "\n",
        "    # TODO: Layer 4: Fully Connected. Input = 120. Output = 84.\n",
        "    fc2_w = tf.Variable(xavier_init([300,100]))\n",
        "    fc2_b = tf.Variable(xavier_init([100]))\n",
        "#     fc2_w = tf.Variable(tf.truncated_normal(shape = (120,84), mean = mu, stddev = sigma))\n",
        "#     fc2_b = tf.Variable(tf.zeros(84))\n",
        "    fc2 = tf.matmul(fc1,fc2_w) + fc2_b\n",
        "    # TODO: Activation.\n",
        "    fc2 = tf.nn.relu(fc2)\n",
        "    \n",
        "    fc3_w = tf.Variable(xavier_init([100,10]))\n",
        "    fc3_b = tf.Variable(xavier_init([10]))\n",
        "    logits = tf.matmul(fc2, fc3_w) + fc3_b\n",
        "    \n",
        "#     # TODO: Layer 5: Fully Connected. Input = 84. Output = 10.\n",
        "#     fc3_w = tf.Variable(tf.truncated_normal(shape = (84,10), mean = mu , stddev = sigma))\n",
        "#     fc3_b = tf.Variable(tf.zeros(10))\n",
        "#     logits = tf.matmul(fc2, fc3_w) + fc3_b\n",
        "    return logits"
      ],
      "execution_count": 0,
      "outputs": []
    },
    {
      "metadata": {
        "id": "mbQ9oJaMZHfc",
        "colab_type": "text"
      },
      "cell_type": "markdown",
      "source": [
        "## Features and Labels\n",
        "Train LeNet to classify [MNIST](http://yann.lecun.com/exdb/mnist/) data.\n",
        "\n",
        "`x` is a placeholder for a batch of input images.\n",
        "`y` is a placeholder for a batch of output labels.\n",
        "\n",
        "You do not need to modify this section."
      ]
    },
    {
      "metadata": {
        "id": "DNJfpWL_ZHfe",
        "colab_type": "code",
        "colab": {}
      },
      "cell_type": "code",
      "source": [
        "x = tf.placeholder(tf.float32, (None, 28, 28, 1))\n",
        "y = tf.placeholder(tf.int32, (None))\n",
        "one_hot_y = tf.one_hot(y, 10)"
      ],
      "execution_count": 0,
      "outputs": []
    },
    {
      "metadata": {
        "id": "DgxcjFjvZHfi",
        "colab_type": "text"
      },
      "cell_type": "markdown",
      "source": [
        "## Training Pipeline\n",
        "Create a training pipeline that uses the model to classify MNIST data.\n",
        "\n",
        "You do not need to modify this section."
      ]
    },
    {
      "metadata": {
        "id": "8VQ5yfgiZHfk",
        "colab_type": "code",
        "colab": {}
      },
      "cell_type": "code",
      "source": [
        "rate = 0.1\n",
        "\n",
        "logits = LeNet(x)\n",
        "cross_entropy = tf.nn.softmax_cross_entropy_with_logits(logits = logits, labels = one_hot_y)\n",
        "loss_operation = tf.reduce_mean(cross_entropy)\n",
        "# optimizer = tf.train.AdamOptimizer(learning_rate = rate)\n",
        "optimizer = tf.train.GradientDescentOptimizer(learning_rate = rate)\n",
        "\n",
        "training_operation = optimizer.minimize(loss_operation)"
      ],
      "execution_count": 0,
      "outputs": []
    },
    {
      "metadata": {
        "id": "fVRfPY2GZHfn",
        "colab_type": "text"
      },
      "cell_type": "markdown",
      "source": [
        "## Model Evaluation\n",
        "Evaluate how well the loss and accuracy of the model for a given dataset.\n",
        "\n",
        "You do not need to modify this section."
      ]
    },
    {
      "metadata": {
        "id": "36Lr7QbyZHfo",
        "colab_type": "code",
        "colab": {}
      },
      "cell_type": "code",
      "source": [
        "correct_prediction = tf.equal(tf.argmax(logits, 1), tf.argmax(one_hot_y, 1))\n",
        "accuracy_operation = tf.reduce_mean(tf.cast(correct_prediction, tf.float32))\n",
        "saver = tf.train.Saver()\n",
        "\n",
        "def evaluate(X_data, y_data):\n",
        "    num_examples = len(X_data)\n",
        "    total_accuracy = 0\n",
        "    sess = tf.get_default_session()\n",
        "    for offset in range(0, num_examples, BATCH_SIZE):\n",
        "        batch_x, batch_y = X_data[offset:offset+BATCH_SIZE], y_data[offset:offset+BATCH_SIZE]\n",
        "        accuracy = sess.run(accuracy_operation, feed_dict={x: batch_x, y: batch_y})\n",
        "        total_accuracy += (accuracy * len(batch_x))\n",
        "    return total_accuracy / num_examples"
      ],
      "execution_count": 0,
      "outputs": []
    },
    {
      "metadata": {
        "id": "VXXZN-_RZHfs",
        "colab_type": "text"
      },
      "cell_type": "markdown",
      "source": [
        "## Train the Model\n",
        "Run the training data through the training pipeline to train the model.\n",
        "\n",
        "Before each epoch, shuffle the training set.\n",
        "\n",
        "After each epoch, measure the loss and accuracy of the validation set.\n",
        "\n",
        "Save the model after training.\n",
        "\n",
        "You do not need to modify this section."
      ]
    },
    {
      "metadata": {
        "id": "RgklH7xMZb1K",
        "colab_type": "code",
        "colab": {}
      },
      "cell_type": "code",
      "source": [
        "EPOCHS = 100"
      ],
      "execution_count": 0,
      "outputs": []
    },
    {
      "metadata": {
        "id": "8g-8zUeLZHft",
        "colab_type": "code",
        "colab": {}
      },
      "cell_type": "code",
      "source": [
        "# with tf.Session() as sess:\n",
        "#     sess.run(tf.global_variables_initializer())\n",
        "#     num_examples = len(X_train)\n",
        "    \n",
        "#     print(\"Training...\")\n",
        "#     print()\n",
        "#     for i in range(EPOCHS):\n",
        "#         X_train, y_train = shuffle(X_train, y_train)\n",
        "#         for offset in range(0, num_examples, BATCH_SIZE):\n",
        "#             end = offset + BATCH_SIZE\n",
        "#             batch_x, batch_y = X_train[offset:end], y_train[offset:end]\n",
        "#             sess.run(training_operation, feed_dict={x: batch_x, y: batch_y})\n",
        "            \n",
        "#         validation_accuracy = evaluate(X_validation, y_validation)\n",
        "#         print(\"EPOCH {} ...\".format(i+1))\n",
        "#         print(\"Validation Accuracy = {:.3f}\".format(validation_accuracy))\n",
        "#         print()\n",
        "        \n",
        "#     saver.save(sess, './lenet')\n",
        "#     print(\"Model saved\")"
      ],
      "execution_count": 0,
      "outputs": []
    },
    {
      "metadata": {
        "id": "1FtX5o0uZrEh",
        "colab_type": "code",
        "colab": {}
      },
      "cell_type": "code",
      "source": [
        "\n",
        "images, labels = (X_train, y_train)"
      ],
      "execution_count": 0,
      "outputs": []
    },
    {
      "metadata": {
        "id": "3a2HAyP3ZzJ-",
        "colab_type": "code",
        "colab": {}
      },
      "cell_type": "code",
      "source": [
        "EPOCHS = 500"
      ],
      "execution_count": 0,
      "outputs": []
    },
    {
      "metadata": {
        "id": "mQ8s2IHZz1tg",
        "colab_type": "code",
        "colab": {
          "base_uri": "https://localhost:8080/",
          "height": 34
        },
        "outputId": "98a40244-1d36-43a9-d4e8-11dc3f983cbb"
      },
      "cell_type": "code",
      "source": [
        "BATCH_SIZE"
      ],
      "execution_count": 51,
      "outputs": [
        {
          "output_type": "execute_result",
          "data": {
            "text/plain": [
              "128"
            ]
          },
          "metadata": {
            "tags": []
          },
          "execution_count": 51
        }
      ]
    },
    {
      "metadata": {
        "id": "IuY5lO1uZmFt",
        "colab_type": "code",
        "outputId": "7b3bbc6d-d70f-483f-9081-4591ba8c63a3",
        "colab": {
          "base_uri": "https://localhost:8080/",
          "height": 3468
        }
      },
      "cell_type": "code",
      "source": [
        "validation_accuracy_track = []\n",
        "train_accuracy_track = []\n",
        "connection_probability_track = []\n",
        "print_every = 10\n",
        "number_of_ex = X_train.shape[0]\n",
        "total_steps_for_one_pass = number_of_ex//BATCH_SIZE + 1\n",
        "\n",
        "with tf.Session() as sess:\n",
        "    sess.run(tf.global_variables_initializer())\n",
        "    num_examples = len(X_train)\n",
        "    best_accuracy_valid = 0\n",
        "    \n",
        "    print(\"Training...\")\n",
        "    print()\n",
        "    for i in range(EPOCHS):\n",
        "        X_train, y_train = shuffle(X_train, y_train)\n",
        "        X_train, y_train = shuffle(images, labels)\n",
        "\n",
        "        for offset in range(0, num_examples, BATCH_SIZE):\n",
        "          end = offset + BATCH_SIZE\n",
        "          batch_x, batch_y = X_train[offset:end], y_train[offset:end]\n",
        "          \n",
        "#         for step in range(0, total_steps_for_one_pass):  \n",
        "# #           print(step)\n",
        "#           if step>=number_of_ex//BATCH_SIZE:\n",
        "#             batch_x, batch_y = X_train[step*BATCH_SIZE:,:,:,:],y_train[step*BATCH_SIZE:]\n",
        "# #             print(step,'Finishing',step*BATCH_SIZE )\n",
        "#             step = 0\n",
        "\n",
        "#           else:\n",
        "\n",
        "#             start = step*BATCH_SIZE\n",
        "#             finish = (step+1)*BATCH_SIZE\n",
        "# #             print(step,'Doing', 'Start = ', start, \"Finish = \", finish)\n",
        "#             batch_x, batch_y = X_train[step:finish,:,:,:],y_train[step:finish]\n",
        "  \n",
        "          tr_op = sess.run([training_operation], feed_dict={x: batch_x, y: batch_y})\n",
        "#         print(i)  \n",
        "        if i%print_every == 0:\n",
        "#           prob = sess.run(new_prob)\n",
        "#           print(prob)\n",
        "          validation_accuracy = evaluate(X_validation, y_validation)\n",
        "          validation_accuracy_track.append(validation_accuracy)\n",
        "          tr_accuracy = evaluate(X_train, y_train)\n",
        "          print(\"Train Accuracy = {:.5f}\".format(tr_accuracy))\n",
        "          train_accuracy_track.append(tr_accuracy)\n",
        "#           connection_probability_track.append(prob)\n",
        "          print(\"EPOCH {} ...\".format(i+1))\n",
        "          print(\"Validation Accuracy = {:.5f}\".format(validation_accuracy))\n",
        "          print()\n",
        "          if (validation_accuracy >= best_accuracy_valid):\n",
        "            best_accuracy_valid = validation_accuracy\n",
        "            saver.save(sess, './lenet5Init_0p0NonAug')\n",
        "        \n",
        "#     saver.save(sess, './lenet')\n",
        "    print(\"Model saved\")"
      ],
      "execution_count": 52,
      "outputs": [
        {
          "output_type": "stream",
          "text": [
            "Training...\n",
            "\n",
            "Train Accuracy = 0.93664\n",
            "EPOCH 1 ...\n",
            "Validation Accuracy = 0.94240\n",
            "\n",
            "Train Accuracy = 0.99264\n",
            "EPOCH 11 ...\n",
            "Validation Accuracy = 0.97980\n",
            "\n",
            "Train Accuracy = 0.99935\n",
            "EPOCH 21 ...\n",
            "Validation Accuracy = 0.98180\n",
            "\n",
            "Train Accuracy = 0.99982\n",
            "EPOCH 31 ...\n",
            "Validation Accuracy = 0.98300\n",
            "\n",
            "Train Accuracy = 0.99998\n",
            "EPOCH 41 ...\n",
            "Validation Accuracy = 0.98340\n",
            "\n",
            "Train Accuracy = 1.00000\n",
            "EPOCH 51 ...\n",
            "Validation Accuracy = 0.98220\n",
            "\n",
            "Train Accuracy = 1.00000\n",
            "EPOCH 61 ...\n",
            "Validation Accuracy = 0.98320\n",
            "\n",
            "Train Accuracy = 1.00000\n",
            "EPOCH 71 ...\n",
            "Validation Accuracy = 0.98380\n",
            "\n",
            "Train Accuracy = 1.00000\n",
            "EPOCH 81 ...\n",
            "Validation Accuracy = 0.98360\n",
            "\n",
            "Train Accuracy = 1.00000\n",
            "EPOCH 91 ...\n",
            "Validation Accuracy = 0.98360\n",
            "\n",
            "Train Accuracy = 1.00000\n",
            "EPOCH 101 ...\n",
            "Validation Accuracy = 0.98360\n",
            "\n",
            "Train Accuracy = 1.00000\n",
            "EPOCH 111 ...\n",
            "Validation Accuracy = 0.98300\n",
            "\n",
            "Train Accuracy = 1.00000\n",
            "EPOCH 121 ...\n",
            "Validation Accuracy = 0.98360\n",
            "\n",
            "Train Accuracy = 1.00000\n",
            "EPOCH 131 ...\n",
            "Validation Accuracy = 0.98360\n",
            "\n",
            "Train Accuracy = 1.00000\n",
            "EPOCH 141 ...\n",
            "Validation Accuracy = 0.98320\n",
            "\n",
            "Train Accuracy = 1.00000\n",
            "EPOCH 151 ...\n",
            "Validation Accuracy = 0.98360\n",
            "\n",
            "Train Accuracy = 1.00000\n",
            "EPOCH 161 ...\n",
            "Validation Accuracy = 0.98360\n",
            "\n",
            "Train Accuracy = 1.00000\n",
            "EPOCH 171 ...\n",
            "Validation Accuracy = 0.98360\n",
            "\n",
            "Train Accuracy = 1.00000\n",
            "EPOCH 181 ...\n",
            "Validation Accuracy = 0.98380\n",
            "\n",
            "Train Accuracy = 1.00000\n",
            "EPOCH 191 ...\n",
            "Validation Accuracy = 0.98380\n",
            "\n",
            "Train Accuracy = 1.00000\n",
            "EPOCH 201 ...\n",
            "Validation Accuracy = 0.98400\n",
            "\n",
            "Train Accuracy = 1.00000\n",
            "EPOCH 211 ...\n",
            "Validation Accuracy = 0.98360\n",
            "\n",
            "Train Accuracy = 1.00000\n",
            "EPOCH 221 ...\n",
            "Validation Accuracy = 0.98360\n",
            "\n",
            "Train Accuracy = 1.00000\n",
            "EPOCH 231 ...\n",
            "Validation Accuracy = 0.98380\n",
            "\n",
            "Train Accuracy = 1.00000\n",
            "EPOCH 241 ...\n",
            "Validation Accuracy = 0.98380\n",
            "\n",
            "Train Accuracy = 1.00000\n",
            "EPOCH 251 ...\n",
            "Validation Accuracy = 0.98380\n",
            "\n",
            "Train Accuracy = 1.00000\n",
            "EPOCH 261 ...\n",
            "Validation Accuracy = 0.98360\n",
            "\n",
            "Train Accuracy = 1.00000\n",
            "EPOCH 271 ...\n",
            "Validation Accuracy = 0.98380\n",
            "\n",
            "Train Accuracy = 1.00000\n",
            "EPOCH 281 ...\n",
            "Validation Accuracy = 0.98380\n",
            "\n",
            "Train Accuracy = 1.00000\n",
            "EPOCH 291 ...\n",
            "Validation Accuracy = 0.98420\n",
            "\n",
            "Train Accuracy = 1.00000\n",
            "EPOCH 301 ...\n",
            "Validation Accuracy = 0.98400\n",
            "\n",
            "Train Accuracy = 1.00000\n",
            "EPOCH 311 ...\n",
            "Validation Accuracy = 0.98400\n",
            "\n",
            "Train Accuracy = 1.00000\n",
            "EPOCH 321 ...\n",
            "Validation Accuracy = 0.98380\n",
            "\n",
            "Train Accuracy = 1.00000\n",
            "EPOCH 331 ...\n",
            "Validation Accuracy = 0.98400\n",
            "\n",
            "Train Accuracy = 1.00000\n",
            "EPOCH 341 ...\n",
            "Validation Accuracy = 0.98380\n",
            "\n",
            "Train Accuracy = 1.00000\n",
            "EPOCH 351 ...\n",
            "Validation Accuracy = 0.98420\n",
            "\n",
            "Train Accuracy = 1.00000\n",
            "EPOCH 361 ...\n",
            "Validation Accuracy = 0.98380\n",
            "\n",
            "Train Accuracy = 1.00000\n",
            "EPOCH 371 ...\n",
            "Validation Accuracy = 0.98380\n",
            "\n",
            "Train Accuracy = 1.00000\n",
            "EPOCH 381 ...\n",
            "Validation Accuracy = 0.98400\n",
            "\n",
            "Train Accuracy = 1.00000\n",
            "EPOCH 391 ...\n",
            "Validation Accuracy = 0.98420\n",
            "\n",
            "Train Accuracy = 1.00000\n",
            "EPOCH 401 ...\n",
            "Validation Accuracy = 0.98400\n",
            "\n",
            "Train Accuracy = 1.00000\n",
            "EPOCH 411 ...\n",
            "Validation Accuracy = 0.98380\n",
            "\n",
            "Train Accuracy = 1.00000\n",
            "EPOCH 421 ...\n",
            "Validation Accuracy = 0.98420\n",
            "\n",
            "Train Accuracy = 1.00000\n",
            "EPOCH 431 ...\n",
            "Validation Accuracy = 0.98420\n",
            "\n",
            "Train Accuracy = 1.00000\n",
            "EPOCH 441 ...\n",
            "Validation Accuracy = 0.98420\n",
            "\n",
            "Train Accuracy = 1.00000\n",
            "EPOCH 451 ...\n",
            "Validation Accuracy = 0.98400\n",
            "\n",
            "Train Accuracy = 1.00000\n",
            "EPOCH 461 ...\n",
            "Validation Accuracy = 0.98420\n",
            "\n",
            "Train Accuracy = 1.00000\n",
            "EPOCH 471 ...\n",
            "Validation Accuracy = 0.98400\n",
            "\n",
            "Train Accuracy = 1.00000\n",
            "EPOCH 481 ...\n",
            "Validation Accuracy = 0.98400\n",
            "\n",
            "Train Accuracy = 1.00000\n",
            "EPOCH 491 ...\n",
            "Validation Accuracy = 0.98380\n",
            "\n",
            "Model saved\n"
          ],
          "name": "stdout"
        }
      ]
    },
    {
      "metadata": {
        "id": "RHMTtoIJZHf3",
        "colab_type": "text"
      },
      "cell_type": "markdown",
      "source": [
        "## Evaluate the Model\n",
        "Once you are completely satisfied with your model, evaluate the performance of the model on the test set.\n",
        "\n",
        "Be sure to only do this once!\n",
        "\n",
        "If you were to measure the performance of your trained model on the test set, then improve your model, and then measure the performance of your model on the test set again, that would invalidate your test results. You wouldn't get a true measure of how well your model would perform against real data.\n",
        "\n",
        "You do not need to modify this section."
      ]
    },
    {
      "metadata": {
        "id": "p7UVftc0ZHf4",
        "colab_type": "code",
        "outputId": "313d8c0e-80cc-4643-84b2-2f16feca5b24",
        "colab": {
          "base_uri": "https://localhost:8080/",
          "height": 51
        }
      },
      "cell_type": "code",
      "source": [
        "with tf.Session() as sess:\n",
        "    saver.restore(sess, tf.train.latest_checkpoint('.'))\n",
        "\n",
        "    test_accuracy = evaluate(X_test, y_test)\n",
        "    print(\"Test Accuracy = {:.3f}\".format(test_accuracy))"
      ],
      "execution_count": 53,
      "outputs": [
        {
          "output_type": "stream",
          "text": [
            "INFO:tensorflow:Restoring parameters from ./lenet5Init_0p0NonAug\n",
            "Test Accuracy = 0.981\n"
          ],
          "name": "stdout"
        }
      ]
    },
    {
      "metadata": {
        "id": "NCF2agZOZHf8",
        "colab_type": "code",
        "colab": {}
      },
      "cell_type": "code",
      "source": [
        ""
      ],
      "execution_count": 0,
      "outputs": []
    }
  ]
}