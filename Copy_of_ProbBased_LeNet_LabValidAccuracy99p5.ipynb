{
  "nbformat": 4,
  "nbformat_minor": 0,
  "metadata": {
    "colab": {
      "name": "Copy of ProbBased LeNet-LabValidAccuracy99p5.ipynb",
      "version": "0.3.2",
      "provenance": [],
      "collapsed_sections": [],
      "include_colab_link": true
    },
    "kernelspec": {
      "name": "python3",
      "display_name": "Python 3"
    },
    "accelerator": "GPU"
  },
  "cells": [
    {
      "cell_type": "markdown",
      "metadata": {
        "id": "view-in-github",
        "colab_type": "text"
      },
      "source": [
        "<a href=\"https://colab.research.google.com/github/preritt/Embed/blob/master/Copy_of_ProbBased_LeNet_LabValidAccuracy99p5.ipynb\" target=\"_parent\"><img src=\"https://colab.research.google.com/assets/colab-badge.svg\" alt=\"Open In Colab\"/></a>"
      ]
    },
    {
      "metadata": {
        "id": "HFVqYNiRCy47",
        "colab_type": "text"
      },
      "cell_type": "markdown",
      "source": [
        "# LeNet Lab\n",
        "![LeNet Architecture](https://github.com/sujaybabruwad/LeNet-in-Tensorflow/blob/master/lenet.png?raw=1)\n",
        "Source: Yan LeCun"
      ]
    },
    {
      "metadata": {
        "id": "k7PXv7fjCy5B",
        "colab_type": "text"
      },
      "cell_type": "markdown",
      "source": [
        "## Load Data\n",
        "\n",
        "Load the MNIST data, which comes pre-loaded with TensorFlow.\n",
        "\n",
        "You do not need to modify this section."
      ]
    },
    {
      "metadata": {
        "id": "t4iqynjrCy5E",
        "colab_type": "code",
        "outputId": "65a6b30d-39f7-4f3d-c758-5c962f4318d6",
        "colab": {
          "base_uri": "https://localhost:8080/",
          "height": 462
        }
      },
      "cell_type": "code",
      "source": [
        "from tensorflow.examples.tutorials.mnist import input_data\n",
        "\n",
        "mnist = input_data.read_data_sets(\"MNIST_data/\", reshape=False)\n",
        "X_train, y_train           = mnist.train.images, mnist.train.labels\n",
        "X_validation, y_validation = mnist.validation.images, mnist.validation.labels\n",
        "X_test, y_test             = mnist.test.images, mnist.test.labels\n",
        "\n",
        "assert(len(X_train) == len(y_train))\n",
        "assert(len(X_validation) == len(y_validation))\n",
        "assert(len(X_test) == len(y_test))\n",
        "\n",
        "print()\n",
        "print(\"Image Shape: {}\".format(X_train[0].shape))\n",
        "print()\n",
        "print(\"Training Set:   {} samples\".format(len(X_train)))\n",
        "print(\"Validation Set: {} samples\".format(len(X_validation)))\n",
        "print(\"Test Set:       {} samples\".format(len(X_test)))"
      ],
      "execution_count": 1,
      "outputs": [
        {
          "output_type": "stream",
          "text": [
            "WARNING:tensorflow:From <ipython-input-1-566519a95339>:3: read_data_sets (from tensorflow.contrib.learn.python.learn.datasets.mnist) is deprecated and will be removed in a future version.\n",
            "Instructions for updating:\n",
            "Please use alternatives such as official/mnist/dataset.py from tensorflow/models.\n",
            "WARNING:tensorflow:From /usr/local/lib/python3.6/dist-packages/tensorflow/contrib/learn/python/learn/datasets/mnist.py:260: maybe_download (from tensorflow.contrib.learn.python.learn.datasets.base) is deprecated and will be removed in a future version.\n",
            "Instructions for updating:\n",
            "Please write your own downloading logic.\n",
            "WARNING:tensorflow:From /usr/local/lib/python3.6/dist-packages/tensorflow/contrib/learn/python/learn/datasets/mnist.py:262: extract_images (from tensorflow.contrib.learn.python.learn.datasets.mnist) is deprecated and will be removed in a future version.\n",
            "Instructions for updating:\n",
            "Please use tf.data to implement this functionality.\n",
            "Extracting MNIST_data/train-images-idx3-ubyte.gz\n",
            "WARNING:tensorflow:From /usr/local/lib/python3.6/dist-packages/tensorflow/contrib/learn/python/learn/datasets/mnist.py:267: extract_labels (from tensorflow.contrib.learn.python.learn.datasets.mnist) is deprecated and will be removed in a future version.\n",
            "Instructions for updating:\n",
            "Please use tf.data to implement this functionality.\n",
            "Extracting MNIST_data/train-labels-idx1-ubyte.gz\n",
            "Extracting MNIST_data/t10k-images-idx3-ubyte.gz\n",
            "Extracting MNIST_data/t10k-labels-idx1-ubyte.gz\n",
            "WARNING:tensorflow:From /usr/local/lib/python3.6/dist-packages/tensorflow/contrib/learn/python/learn/datasets/mnist.py:290: DataSet.__init__ (from tensorflow.contrib.learn.python.learn.datasets.mnist) is deprecated and will be removed in a future version.\n",
            "Instructions for updating:\n",
            "Please use alternatives such as official/mnist/dataset.py from tensorflow/models.\n",
            "\n",
            "Image Shape: (28, 28, 1)\n",
            "\n",
            "Training Set:   55000 samples\n",
            "Validation Set: 5000 samples\n",
            "Test Set:       10000 samples\n"
          ],
          "name": "stdout"
        }
      ]
    },
    {
      "metadata": {
        "id": "pV8kvNmMCy5T",
        "colab_type": "text"
      },
      "cell_type": "markdown",
      "source": [
        "The MNIST data that TensorFlow pre-loads comes as 28x28x1 images.\n",
        "\n",
        "However, the LeNet architecture only accepts 32x32xC images, where C is the number of color channels.\n",
        "\n",
        "In order to reformat the MNIST data into a shape that LeNet will accept, we pad the data with two rows of zeros on the top and bottom, and two columns of zeros on the left and right (28+2+2 = 32).\n",
        "\n",
        "You do not need to modify this section."
      ]
    },
    {
      "metadata": {
        "id": "sBWJCBw1Cy5U",
        "colab_type": "code",
        "outputId": "71b6fad5-cd45-47c0-921c-bf358f4283ab",
        "colab": {
          "base_uri": "https://localhost:8080/",
          "height": 34
        }
      },
      "cell_type": "code",
      "source": [
        "import numpy as np\n",
        "\n",
        "# Pad images with 0s\n",
        "X_train      = np.pad(X_train, ((0,0),(2,2),(2,2),(0,0)), 'constant')\n",
        "X_validation = np.pad(X_validation, ((0,0),(2,2),(2,2),(0,0)), 'constant')\n",
        "X_test       = np.pad(X_test, ((0,0),(2,2),(2,2),(0,0)), 'constant')\n",
        "    \n",
        "print(\"Updated Image Shape: {}\".format(X_train[0].shape))"
      ],
      "execution_count": 2,
      "outputs": [
        {
          "output_type": "stream",
          "text": [
            "Updated Image Shape: (32, 32, 1)\n"
          ],
          "name": "stdout"
        }
      ]
    },
    {
      "metadata": {
        "id": "cW7cCH1xCy5c",
        "colab_type": "text"
      },
      "cell_type": "markdown",
      "source": [
        "## Visualize Data\n",
        "\n",
        "View a sample from the dataset.\n",
        "\n",
        "You do not need to modify this section."
      ]
    },
    {
      "metadata": {
        "id": "h7UbBX8RCy5e",
        "colab_type": "code",
        "outputId": "ebfc1841-f9f6-4288-d7e3-c88cfe61f7bf",
        "colab": {
          "base_uri": "https://localhost:8080/",
          "height": 123
        }
      },
      "cell_type": "code",
      "source": [
        "import random\n",
        "import numpy as np\n",
        "import matplotlib.pyplot as plt\n",
        "%matplotlib inline\n",
        "\n",
        "index = random.randint(0, len(X_train))\n",
        "image = X_train[index].squeeze()\n",
        "\n",
        "plt.figure(figsize=(1,1))\n",
        "plt.imshow(image, cmap=\"gray\")\n",
        "print(y_train[index])"
      ],
      "execution_count": 3,
      "outputs": [
        {
          "output_type": "stream",
          "text": [
            "5\n"
          ],
          "name": "stdout"
        },
        {
          "output_type": "display_data",
          "data": {
            "image/png": "[encoded data removed]",
            "text/plain": [
              "<Figure size 72x72 with 1 Axes>"
            ]
          },
          "metadata": {
            "tags": []
          }
        }
      ]
    },
    {
      "metadata": {
        "id": "1W6py5mlCy5n",
        "colab_type": "text"
      },
      "cell_type": "markdown",
      "source": [
        "## Preprocess Data\n",
        "\n",
        "Shuffle the training data.\n",
        "\n",
        "You do not need to modify this section."
      ]
    },
    {
      "metadata": {
        "id": "UYJZs7GgCy5p",
        "colab_type": "code",
        "colab": {}
      },
      "cell_type": "code",
      "source": [
        "from sklearn.utils import shuffle\n",
        "\n",
        "X_train, y_train = shuffle(X_train, y_train)"
      ],
      "execution_count": 0,
      "outputs": []
    },
    {
      "metadata": {
        "id": "Q4WFIdiuCy53",
        "colab_type": "text"
      },
      "cell_type": "markdown",
      "source": [
        "## Setup TensorFlow\n",
        "The `EPOCH` and `BATCH_SIZE` values affect the training speed and model accuracy.\n",
        "\n",
        "You do not need to modify this section."
      ]
    },
    {
      "metadata": {
        "id": "est-t83SCy55",
        "colab_type": "code",
        "colab": {}
      },
      "cell_type": "code",
      "source": [
        "import tensorflow as tf\n",
        "\n",
        "EPOCHS = 100\n",
        "BATCH_SIZE = 128"
      ],
      "execution_count": 0,
      "outputs": []
    },
    {
      "metadata": {
        "id": "cWVHSK0pCy59",
        "colab_type": "text"
      },
      "cell_type": "markdown",
      "source": [
        "## TODO: Implement LeNet-5\n",
        "Implement the [LeNet-5](http://yann.lecun.com/exdb/lenet/) neural network architecture.\n",
        "\n",
        "This is the only cell you need to edit.\n",
        "### Input\n",
        "The LeNet architecture accepts a 32x32xC image as input, where C is the number of color channels. Since MNIST images are grayscale, C is 1 in this case.\n",
        "\n",
        "### Architecture\n",
        "**Layer 1: Convolutional.** The output shape should be 28x28x6.\n",
        "\n",
        "**Activation.** Your choice of activation function.\n",
        "\n",
        "**Pooling.** The output shape should be 14x14x6.\n",
        "\n",
        "**Layer 2: Convolutional.** The output shape should be 10x10x16.\n",
        "\n",
        "**Activation.** Your choice of activation function.\n",
        "\n",
        "**Pooling.** The output shape should be 5x5x16.\n",
        "\n",
        "**Flatten.** Flatten the output shape of the final pooling layer such that it's 1D instead of 3D. The easiest way to do is by using `tf.contrib.layers.flatten`, which is already imported for you.\n",
        "\n",
        "**Layer 3: Fully Connected.** This should have 120 outputs.\n",
        "\n",
        "**Activation.** Your choice of activation function.\n",
        "\n",
        "**Layer 4: Fully Connected.** This should have 84 outputs.\n",
        "\n",
        "**Activation.** Your choice of activation function.\n",
        "\n",
        "**Layer 5: Fully Connected (Logits).** This should have 10 outputs.\n",
        "\n",
        "### Output\n",
        "Return the result of the 2nd fully connected layer."
      ]
    },
    {
      "metadata": {
        "id": "Vgad6Ny0OjqN",
        "colab_type": "code",
        "colab": {}
      },
      "cell_type": "code",
      "source": [
        "connection_probability = .7"
      ],
      "execution_count": 0,
      "outputs": []
    },
    {
      "metadata": {
        "id": "X1nJmcI7Cy5-",
        "colab_type": "code",
        "colab": {}
      },
      "cell_type": "code",
      "source": [
        "from tensorflow.contrib.layers import flatten\n",
        "\n",
        "def LeNet(x, test_mode = False):    \n",
        "    # Hyperparameters\n",
        "    mu = 0\n",
        "    sigma = 0.1\n",
        "    layer_depth = {\n",
        "        'layer_1' : 6,\n",
        "        'layer_2' : 16,\n",
        "        'layer_3' : 120,\n",
        "        'layer_f1' : 84\n",
        "    }\n",
        "\n",
        "    \n",
        "    # TODO: Layer 1: Convolutional. Input = 32x32x1. Output = 28x28x6.\n",
        "    conv1_w = tf.Variable(tf.truncated_normal(shape = [5,5,1,6],mean = mu, stddev = sigma))\n",
        "    conv1_b = tf.Variable(tf.zeros(6))\n",
        "    conv1 = tf.nn.conv2d(x,conv1_w, strides = [1,1,1,1], padding = 'VALID') + conv1_b \n",
        "    # TODO: Activation.\n",
        "    conv1 = tf.nn.relu(conv1)\n",
        "\n",
        "    # TODO: Pooling. Input = 28x28x6. Output = 14x14x6.\n",
        "    pool_1 = tf.nn.max_pool(conv1,ksize = [1,2,2,1], strides = [1,2,2,1], padding = 'VALID')\n",
        "    \n",
        "    # TODO: Layer 2: Convolutional. Output = 10x10x16.\n",
        "    conv2_w = tf.Variable(tf.truncated_normal(shape = [5,5,6,16], mean = mu, stddev = sigma))\n",
        "    conv2_b = tf.Variable(tf.zeros(16))\n",
        "    conv2 = tf.nn.conv2d(pool_1, conv2_w, strides = [1,1,1,1], padding = 'VALID') + conv2_b\n",
        "    # TODO: Activation.\n",
        "    conv2 = tf.nn.relu(conv2)\n",
        "    \n",
        "    ##### Inset probability connection from x to conv2\n",
        "    conv1p_w = tf.Variable(tf.truncated_normal(shape = [5,5,1,16], mean = mu, stddev = sigma))\n",
        "    conv1p_b = tf.Variable(tf.zeros(16))\n",
        "    conv2_2nd_input = tf.nn.conv2d(x, conv1p_w, strides = [1,3,3,1], padding = 'VALID') + conv1p_b\n",
        "    conv2_2nd_input = tf.nn.relu(conv2_2nd_input)\n",
        "    if (np.random.random_sample()<connection_probability):\n",
        "        conv2 = conv2 + conv2_2nd_input\n",
        "    if test_mode == True:\n",
        "      conv2 = conv2 + conv2_2nd_input*connection_probability*0\n",
        "    \n",
        "    # TODO: Pooling. Input = 10x10x16. Output = 5x5x16.\n",
        "    pool_2 = tf.nn.max_pool(conv2, ksize = [1,2,2,1], strides = [1,2,2,1], padding = 'VALID') \n",
        "    \n",
        "    # TODO: Flatten. Input = 5x5x16. Output = 400.\n",
        "    fc1 = flatten(pool_2)\n",
        "    fdense = fc1\n",
        "    \n",
        "    # TODO: Layer 3: Fully Connected. Input = 400. Output = 120.\n",
        "    fc1_w = tf.Variable(tf.truncated_normal(shape = (400,120), mean = mu, stddev = sigma))\n",
        "    fc1_b = tf.Variable(tf.zeros(120))\n",
        "    fc1 = tf.matmul(fc1,fc1_w) + fc1_b\n",
        "    \n",
        "    # TODO: Activation.\n",
        "    fc1 = tf.nn.relu(fc1)\n",
        "\n",
        "    # TODO: Layer 4: Fully Connected. Input = 120. Output = 84.\n",
        "    fc2_w = tf.Variable(tf.truncated_normal(shape = (120,84), mean = mu, stddev = sigma))\n",
        "    fc2_b = tf.Variable(tf.zeros(84))\n",
        "    fc2 = tf.matmul(fc1,fc2_w) + fc2_b\n",
        "    # TODO: Activation.\n",
        "    fc2 = tf.nn.relu(fc2)\n",
        "    \n",
        "    \n",
        "    #################\n",
        "    ##### Inset probability connection from x to conv2\n",
        "    fc2p_w = tf.Variable(tf.truncated_normal(shape = [400,84], mean = mu, stddev = sigma))\n",
        "    fc2p_b = tf.Variable(tf.zeros(84))\n",
        "    fc2_2nd_input = tf.matmul(fdense,fc2p_w) + fc2p_b\n",
        "    fc2_2nd_input = tf.nn.relu(fc2_2nd_input)\n",
        "    if (np.random.random_sample()<connection_probability):\n",
        "        fc2 = fc2 + fc2_2nd_input\n",
        "    if test_mode == True:\n",
        "        fc2 = fc2 + fc2_2nd_input*connection_probability*0\n",
        "    \n",
        "    ################\n",
        "    \n",
        "    # TODO: Layer 5: Fully Connected. Input = 84. Output = 10.\n",
        "    fc3_w = tf.Variable(tf.truncated_normal(shape = (84,10), mean = mu , stddev = sigma))\n",
        "    fc3_b = tf.Variable(tf.zeros(10))\n",
        "    logits = tf.matmul(fc2, fc3_w) + fc3_b\n",
        "    return logits"
      ],
      "execution_count": 0,
      "outputs": []
    },
    {
      "metadata": {
        "id": "aCx837c9Cy6E",
        "colab_type": "text"
      },
      "cell_type": "markdown",
      "source": [
        "## Features and Labels\n",
        "Train LeNet to classify [MNIST](http://yann.lecun.com/exdb/mnist/) data.\n",
        "\n",
        "`x` is a placeholder for a batch of input images.\n",
        "`y` is a placeholder for a batch of output labels.\n",
        "\n",
        "You do not need to modify this section."
      ]
    },
    {
      "metadata": {
        "id": "Mrb2FHFHCy6G",
        "colab_type": "code",
        "colab": {}
      },
      "cell_type": "code",
      "source": [
        "x = tf.placeholder(tf.float32, (None, 32, 32, 1))\n",
        "y = tf.placeholder(tf.int32, (None))\n",
        "one_hot_y = tf.one_hot(y, 10)\n",
        "is_testing= tf.placeholder(tf.bool) "
      ],
      "execution_count": 0,
      "outputs": []
    },
    {
      "metadata": {
        "id": "uk0pcAjmCy6M",
        "colab_type": "text"
      },
      "cell_type": "markdown",
      "source": [
        "## Training Pipeline\n",
        "Create a training pipeline that uses the model to classify MNIST data.\n",
        "\n",
        "You do not need to modify this section."
      ]
    },
    {
      "metadata": {
        "id": "3oYy_Y3FCy6N",
        "colab_type": "code",
        "colab": {
          "base_uri": "https://localhost:8080/",
          "height": 275
        },
        "outputId": "3ee3b881-7d58-46b1-ddba-71bb8dea8eea"
      },
      "cell_type": "code",
      "source": [
        "rate = 0.001\n",
        "\n",
        "logits = LeNet(x,is_testing)\n",
        "cross_entropy = tf.nn.softmax_cross_entropy_with_logits(logits = logits, labels = one_hot_y)\n",
        "loss_operation = tf.reduce_mean(cross_entropy)\n",
        "optimizer = tf.train.AdamOptimizer(learning_rate = rate)\n",
        "training_operation = optimizer.minimize(loss_operation)"
      ],
      "execution_count": 9,
      "outputs": [
        {
          "output_type": "stream",
          "text": [
            "WARNING:tensorflow:From /usr/local/lib/python3.6/dist-packages/tensorflow/python/framework/op_def_library.py:263: colocate_with (from tensorflow.python.framework.ops) is deprecated and will be removed in a future version.\n",
            "Instructions for updating:\n",
            "Colocations handled automatically by placer.\n",
            "WARNING:tensorflow:From /usr/local/lib/python3.6/dist-packages/tensorflow/contrib/layers/python/layers/layers.py:1624: flatten (from tensorflow.python.layers.core) is deprecated and will be removed in a future version.\n",
            "Instructions for updating:\n",
            "Use keras.layers.flatten instead.\n",
            "WARNING:tensorflow:From <ipython-input-9-9f3c420d43a0>:4: softmax_cross_entropy_with_logits (from tensorflow.python.ops.nn_ops) is deprecated and will be removed in a future version.\n",
            "Instructions for updating:\n",
            "\n",
            "Future major versions of TensorFlow will allow gradients to flow\n",
            "into the labels input on backprop by default.\n",
            "\n",
            "See `tf.nn.softmax_cross_entropy_with_logits_v2`.\n",
            "\n"
          ],
          "name": "stdout"
        }
      ]
    },
    {
      "metadata": {
        "id": "KrMtHo6rCy6S",
        "colab_type": "text"
      },
      "cell_type": "markdown",
      "source": [
        "## Model Evaluation\n",
        "Evaluate how well the loss and accuracy of the model for a given dataset.\n",
        "\n",
        "You do not need to modify this section."
      ]
    },
    {
      "metadata": {
        "id": "OMR9XsLBCy6U",
        "colab_type": "code",
        "colab": {}
      },
      "cell_type": "code",
      "source": [
        "correct_prediction = tf.equal(tf.argmax(logits, 1), tf.argmax(one_hot_y, 1))\n",
        "accuracy_operation = tf.reduce_mean(tf.cast(correct_prediction, tf.float32))\n",
        "saver = tf.train.Saver()\n",
        "\n",
        "def evaluate(X_data, y_data):\n",
        "    num_examples = len(X_data)\n",
        "    total_accuracy = 0\n",
        "    sess = tf.get_default_session()\n",
        "    for offset in range(0, num_examples, BATCH_SIZE):\n",
        "        batch_x, batch_y = X_data[offset:offset+BATCH_SIZE], y_data[offset:offset+BATCH_SIZE]\n",
        "        accuracy = sess.run(accuracy_operation, feed_dict={x: batch_x, y: batch_y, is_testing: True})\n",
        "        total_accuracy += (accuracy * len(batch_x))\n",
        "    return total_accuracy / num_examples"
      ],
      "execution_count": 0,
      "outputs": []
    },
    {
      "metadata": {
        "id": "2Jw7iox3Cy6X",
        "colab_type": "text"
      },
      "cell_type": "markdown",
      "source": [
        "## Train the Model\n",
        "Run the training data through the training pipeline to train the model.\n",
        "\n",
        "Before each epoch, shuffle the training set.\n",
        "\n",
        "After each epoch, measure the loss and accuracy of the validation set.\n",
        "\n",
        "Save the model after training.\n",
        "\n",
        "You do not need to modify this section."
      ]
    },
    {
      "metadata": {
        "id": "bKU1MIyJCy6Y",
        "colab_type": "code",
        "outputId": "5b0ead7f-1036-4979-c605-d10fba238ec2",
        "colab": {
          "base_uri": "https://localhost:8080/",
          "height": 5168
        }
      },
      "cell_type": "code",
      "source": [
        "with tf.Session() as sess:\n",
        "    sess.run(tf.global_variables_initializer())\n",
        "    num_examples = len(X_train)\n",
        "    best_accuracy_valid = 0\n",
        "    \n",
        "    print(\"Training...\")\n",
        "    print()\n",
        "    for i in range(EPOCHS):\n",
        "        X_train, y_train = shuffle(X_train, y_train)\n",
        "        for offset in range(0, num_examples, BATCH_SIZE):\n",
        "            end = offset + BATCH_SIZE\n",
        "            batch_x, batch_y = X_train[offset:end], y_train[offset:end]\n",
        "            sess.run(training_operation, feed_dict={x: batch_x, y: batch_y, is_testing : False})\n",
        "            \n",
        "        validation_accuracy = evaluate(X_validation, y_validation)\n",
        "        print(\"EPOCH {} ...\".format(i+1))\n",
        "        print(\"Validation Accuracy = {:.6f}\".format(validation_accuracy))\n",
        "        print()\n",
        "        if (validation_accuracy >= best_accuracy_valid):\n",
        "          best_accuracy_valid = validation_accuracy\n",
        "          saver.save(sess, './lenet123')\n",
        "        \n",
        "#     saver.save(sess, './lenet')\n",
        "    print(\"Model saved\")"
      ],
      "execution_count": 12,
      "outputs": [
        {
          "output_type": "stream",
          "text": [
            "Training...\n",
            "\n",
            "EPOCH 1 ...\n",
            "Validation Accuracy = 0.972400\n",
            "\n",
            "EPOCH 2 ...\n",
            "Validation Accuracy = 0.981400\n",
            "\n",
            "EPOCH 3 ...\n",
            "Validation Accuracy = 0.985000\n",
            "\n",
            "EPOCH 4 ...\n",
            "Validation Accuracy = 0.986600\n",
            "\n",
            "EPOCH 5 ...\n",
            "Validation Accuracy = 0.987800\n",
            "\n",
            "EPOCH 6 ...\n",
            "Validation Accuracy = 0.986400\n",
            "\n",
            "EPOCH 7 ...\n",
            "Validation Accuracy = 0.988400\n",
            "\n",
            "EPOCH 8 ...\n",
            "Validation Accuracy = 0.985800\n",
            "\n",
            "EPOCH 9 ...\n",
            "Validation Accuracy = 0.988800\n",
            "\n",
            "EPOCH 10 ...\n",
            "Validation Accuracy = 0.988400\n",
            "\n",
            "EPOCH 11 ...\n",
            "Validation Accuracy = 0.987800\n",
            "\n",
            "EPOCH 12 ...\n",
            "Validation Accuracy = 0.989600\n",
            "\n",
            "EPOCH 13 ...\n",
            "Validation Accuracy = 0.990600\n",
            "\n",
            "EPOCH 14 ...\n",
            "Validation Accuracy = 0.990200\n",
            "\n",
            "EPOCH 15 ...\n",
            "Validation Accuracy = 0.990200\n",
            "\n",
            "EPOCH 16 ...\n",
            "Validation Accuracy = 0.989000\n",
            "\n",
            "EPOCH 17 ...\n",
            "Validation Accuracy = 0.989600\n",
            "\n",
            "EPOCH 18 ...\n",
            "Validation Accuracy = 0.989200\n",
            "\n",
            "EPOCH 19 ...\n",
            "Validation Accuracy = 0.991200\n",
            "\n",
            "EPOCH 20 ...\n",
            "Validation Accuracy = 0.990200\n",
            "\n",
            "EPOCH 21 ...\n",
            "Validation Accuracy = 0.988200\n",
            "\n",
            "EPOCH 22 ...\n",
            "Validation Accuracy = 0.991600\n",
            "\n",
            "EPOCH 23 ...\n",
            "Validation Accuracy = 0.989200\n",
            "\n",
            "EPOCH 24 ...\n",
            "Validation Accuracy = 0.991200\n",
            "\n",
            "EPOCH 25 ...\n",
            "Validation Accuracy = 0.990800\n",
            "\n",
            "EPOCH 26 ...\n",
            "Validation Accuracy = 0.990400\n",
            "\n",
            "EPOCH 27 ...\n",
            "Validation Accuracy = 0.992400\n",
            "\n",
            "EPOCH 28 ...\n",
            "Validation Accuracy = 0.989400\n",
            "\n",
            "EPOCH 29 ...\n",
            "Validation Accuracy = 0.990400\n",
            "\n",
            "EPOCH 30 ...\n",
            "Validation Accuracy = 0.990600\n",
            "\n",
            "EPOCH 31 ...\n",
            "Validation Accuracy = 0.989000\n",
            "\n",
            "EPOCH 32 ...\n",
            "Validation Accuracy = 0.990000\n",
            "\n",
            "EPOCH 33 ...\n",
            "Validation Accuracy = 0.991800\n",
            "\n",
            "EPOCH 34 ...\n",
            "Validation Accuracy = 0.990800\n",
            "\n",
            "EPOCH 35 ...\n",
            "Validation Accuracy = 0.990600\n",
            "\n",
            "EPOCH 36 ...\n",
            "Validation Accuracy = 0.990200\n",
            "\n",
            "EPOCH 37 ...\n",
            "Validation Accuracy = 0.991200\n",
            "\n",
            "EPOCH 38 ...\n",
            "Validation Accuracy = 0.993200\n",
            "\n",
            "EPOCH 39 ...\n",
            "Validation Accuracy = 0.991800\n",
            "\n",
            "EPOCH 40 ...\n",
            "Validation Accuracy = 0.992800\n",
            "\n",
            "EPOCH 41 ...\n",
            "Validation Accuracy = 0.992800\n",
            "\n",
            "EPOCH 42 ...\n",
            "Validation Accuracy = 0.993400\n",
            "\n",
            "EPOCH 43 ...\n",
            "Validation Accuracy = 0.993000\n",
            "\n",
            "EPOCH 44 ...\n",
            "Validation Accuracy = 0.993000\n",
            "\n",
            "EPOCH 45 ...\n",
            "Validation Accuracy = 0.992800\n",
            "\n",
            "EPOCH 46 ...\n",
            "Validation Accuracy = 0.992800\n",
            "\n",
            "EPOCH 47 ...\n",
            "Validation Accuracy = 0.993200\n",
            "\n",
            "EPOCH 48 ...\n",
            "Validation Accuracy = 0.993200\n",
            "\n",
            "EPOCH 49 ...\n",
            "Validation Accuracy = 0.993200\n",
            "\n",
            "EPOCH 50 ...\n",
            "Validation Accuracy = 0.993000\n",
            "\n",
            "EPOCH 51 ...\n",
            "Validation Accuracy = 0.993600\n",
            "\n",
            "EPOCH 52 ...\n",
            "Validation Accuracy = 0.993600\n",
            "\n",
            "EPOCH 53 ...\n",
            "Validation Accuracy = 0.993400\n",
            "\n",
            "EPOCH 54 ...\n",
            "Validation Accuracy = 0.993400\n",
            "\n",
            "EPOCH 55 ...\n",
            "Validation Accuracy = 0.993600\n",
            "\n",
            "EPOCH 56 ...\n",
            "Validation Accuracy = 0.993600\n",
            "\n",
            "EPOCH 57 ...\n",
            "Validation Accuracy = 0.993400\n",
            "\n",
            "EPOCH 58 ...\n",
            "Validation Accuracy = 0.993600\n",
            "\n",
            "EPOCH 59 ...\n",
            "Validation Accuracy = 0.993600\n",
            "\n",
            "EPOCH 60 ...\n",
            "Validation Accuracy = 0.993400\n",
            "\n",
            "EPOCH 61 ...\n",
            "Validation Accuracy = 0.993400\n",
            "\n",
            "EPOCH 62 ...\n",
            "Validation Accuracy = 0.993200\n",
            "\n",
            "EPOCH 63 ...\n",
            "Validation Accuracy = 0.993200\n",
            "\n",
            "EPOCH 64 ...\n",
            "Validation Accuracy = 0.993400\n",
            "\n",
            "EPOCH 65 ...\n",
            "Validation Accuracy = 0.993200\n",
            "\n",
            "EPOCH 66 ...\n",
            "Validation Accuracy = 0.993400\n",
            "\n",
            "EPOCH 67 ...\n",
            "Validation Accuracy = 0.993400\n",
            "\n",
            "EPOCH 68 ...\n",
            "Validation Accuracy = 0.993400\n",
            "\n",
            "EPOCH 69 ...\n",
            "Validation Accuracy = 0.993400\n",
            "\n",
            "EPOCH 70 ...\n",
            "Validation Accuracy = 0.993200\n",
            "\n",
            "EPOCH 71 ...\n",
            "Validation Accuracy = 0.993400\n",
            "\n",
            "EPOCH 72 ...\n",
            "Validation Accuracy = 0.993200\n",
            "\n",
            "EPOCH 73 ...\n",
            "Validation Accuracy = 0.993000\n",
            "\n",
            "EPOCH 74 ...\n",
            "Validation Accuracy = 0.993200\n",
            "\n",
            "EPOCH 75 ...\n",
            "Validation Accuracy = 0.993000\n",
            "\n",
            "EPOCH 76 ...\n",
            "Validation Accuracy = 0.993000\n",
            "\n",
            "EPOCH 77 ...\n",
            "Validation Accuracy = 0.992800\n",
            "\n",
            "EPOCH 78 ...\n",
            "Validation Accuracy = 0.993200\n",
            "\n",
            "EPOCH 79 ...\n",
            "Validation Accuracy = 0.992800\n",
            "\n",
            "EPOCH 80 ...\n",
            "Validation Accuracy = 0.993000\n",
            "\n",
            "EPOCH 81 ...\n",
            "Validation Accuracy = 0.993000\n",
            "\n",
            "EPOCH 82 ...\n",
            "Validation Accuracy = 0.993000\n",
            "\n",
            "EPOCH 83 ...\n",
            "Validation Accuracy = 0.992800\n",
            "\n",
            "EPOCH 84 ...\n",
            "Validation Accuracy = 0.993000\n",
            "\n",
            "EPOCH 85 ...\n",
            "Validation Accuracy = 0.993200\n",
            "\n",
            "EPOCH 86 ...\n",
            "Validation Accuracy = 0.992800\n",
            "\n",
            "EPOCH 87 ...\n",
            "Validation Accuracy = 0.993000\n",
            "\n",
            "EPOCH 88 ...\n",
            "Validation Accuracy = 0.993000\n",
            "\n",
            "EPOCH 89 ...\n",
            "Validation Accuracy = 0.993000\n",
            "\n",
            "EPOCH 90 ...\n",
            "Validation Accuracy = 0.993000\n",
            "\n",
            "EPOCH 91 ...\n",
            "Validation Accuracy = 0.993000\n",
            "\n",
            "EPOCH 92 ...\n",
            "Validation Accuracy = 0.993000\n",
            "\n",
            "EPOCH 93 ...\n",
            "Validation Accuracy = 0.993200\n",
            "\n",
            "EPOCH 94 ...\n",
            "Validation Accuracy = 0.992800\n",
            "\n",
            "EPOCH 95 ...\n",
            "Validation Accuracy = 0.993000\n",
            "\n",
            "EPOCH 96 ...\n",
            "Validation Accuracy = 0.993200\n",
            "\n",
            "EPOCH 97 ...\n",
            "Validation Accuracy = 0.993000\n",
            "\n",
            "EPOCH 98 ...\n",
            "Validation Accuracy = 0.992800\n",
            "\n",
            "EPOCH 99 ...\n",
            "Validation Accuracy = 0.992400\n",
            "\n",
            "EPOCH 100 ...\n",
            "Validation Accuracy = 0.993000\n",
            "\n",
            "Model saved\n"
          ],
          "name": "stdout"
        }
      ]
    },
    {
      "metadata": {
        "id": "PqRPCRSqDUC-",
        "colab_type": "code",
        "colab": {
          "base_uri": "https://localhost:8080/",
          "height": 34
        },
        "outputId": "f32a5e6f-7c86-4017-d817-6cb86e6670ce"
      },
      "cell_type": "code",
      "source": [
        "best_accuracy_valid"
      ],
      "execution_count": 14,
      "outputs": [
        {
          "output_type": "execute_result",
          "data": {
            "text/plain": [
              "0.9936"
            ]
          },
          "metadata": {
            "tags": []
          },
          "execution_count": 14
        }
      ]
    },
    {
      "metadata": {
        "id": "yVIeYA_cCy6e",
        "colab_type": "text"
      },
      "cell_type": "markdown",
      "source": [
        "## Evaluate the Model\n",
        "Once you are completely satisfied with your model, evaluate the performance of the model on the test set.\n",
        "\n",
        "Be sure to only do this once!\n",
        "\n",
        "If you were to measure the performance of your trained model on the test set, then improve your model, and then measure the performance of your model on the test set again, that would invalidate your test results. You wouldn't get a true measure of how well your model would perform against real data.\n",
        "\n",
        "You do not need to modify this section."
      ]
    },
    {
      "metadata": {
        "id": "bJONJ7CeCy6f",
        "colab_type": "code",
        "outputId": "4b6505d2-cda8-48a6-e0bc-6c24c5695b3a",
        "colab": {
          "base_uri": "https://localhost:8080/",
          "height": 122
        }
      },
      "cell_type": "code",
      "source": [
        "with tf.Session() as sess:\n",
        "    saver.restore(sess, tf.train.latest_checkpoint('.'))\n",
        "\n",
        "    test_accuracy = evaluate(X_test, y_test)\n",
        "    print(\"Test Accuracy = {:.3f}\".format(test_accuracy))"
      ],
      "execution_count": 13,
      "outputs": [
        {
          "output_type": "stream",
          "text": [
            "WARNING:tensorflow:From /usr/local/lib/python3.6/dist-packages/tensorflow/python/training/saver.py:1266: checkpoint_exists (from tensorflow.python.training.checkpoint_management) is deprecated and will be removed in a future version.\n",
            "Instructions for updating:\n",
            "Use standard file APIs to check for files with this prefix.\n",
            "INFO:tensorflow:Restoring parameters from ./lenet123\n",
            "Test Accuracy = 0.993\n"
          ],
          "name": "stdout"
        }
      ]
    },
    {
      "metadata": {
        "id": "qvRqnUrrCy6m",
        "colab_type": "code",
        "colab": {}
      },
      "cell_type": "code",
      "source": [
        ""
      ],
      "execution_count": 0,
      "outputs": []
    }
  ]
}