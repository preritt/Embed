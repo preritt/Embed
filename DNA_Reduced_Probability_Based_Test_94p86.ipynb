{
  "nbformat": 4,
  "nbformat_minor": 0,
  "metadata": {
    "colab": {
      "name": "DNA Reduced Probability Based Test 94p86.ipynb",
      "version": "0.3.2",
      "provenance": [],
      "collapsed_sections": [],
      "toc_visible": true,
      "include_colab_link": true
    },
    "kernelspec": {
      "name": "python3",
      "display_name": "Python 3"
    },
    "accelerator": "GPU"
  },
  "cells": [
    {
      "cell_type": "markdown",
      "metadata": {
        "id": "view-in-github",
        "colab_type": "text"
      },
      "source": [
        "<a href=\"https://colab.research.google.com/github/preritt/Embed/blob/master/DNA_Reduced_Probability_Based_Test_94p86.ipynb\" target=\"_parent\"><img src=\"https://colab.research.google.com/assets/colab-badge.svg\" alt=\"Open In Colab\"/></a>"
      ]
    },
    {
      "metadata": {
        "id": "qWL1XvRKt0EI",
        "colab_type": "code",
        "colab": {}
      },
      "cell_type": "code",
      "source": [
        "import numpy as np\n",
        "import matplotlib.pyplot as plt\n",
        "import pandas as pd\n",
        "from sklearn.neural_network import MLPClassifier\n",
        "from sklearn.preprocessing import OneHotEncoder\n",
        "%matplotlib inline\n",
        "import tensorflow as tf"
      ],
      "execution_count": 0,
      "outputs": []
    },
    {
      "metadata": {
        "id": "yuoNYnTshaZC",
        "colab_type": "code",
        "colab": {}
      },
      "cell_type": "code",
      "source": [
        "# Load data\n",
        "train_data = np.load('X_train.npy')\n",
        "train_label = np.load('y_train.npy')\n",
        "validation_data = np.load('X_validation.npy')\n",
        "validation_label = np.load('y_validation.npy')\n",
        "test_data = np.load('X_test.npy')\n",
        "test_label = np.load('y_test.npy')"
      ],
      "execution_count": 0,
      "outputs": []
    },
    {
      "metadata": {
        "id": "G4FSwFTChgdn",
        "colab_type": "code",
        "colab": {}
      },
      "cell_type": "code",
      "source": [
        "train_valid_combined = np.concatenate((train_data, validation_data))\n",
        "train_valid_label = np.concatenate((train_label, validation_label))"
      ],
      "execution_count": 0,
      "outputs": []
    },
    {
      "metadata": {
        "id": "VloppGYRyrEX",
        "colab_type": "code",
        "outputId": "bc6a18b0-2538-4e8a-f58b-2545d96dbf63",
        "colab": {
          "base_uri": "https://localhost:8080/",
          "height": 3590
        }
      },
      "cell_type": "code",
      "source": [
        "clf = MLPClassifier(hidden_layer_sizes=(138, ), max_iter=200, alpha=1e-4,\n",
        "                    solver='sgd', verbose=10, tol=1e-5, random_state=1,\n",
        "                    learning_rate_init=.01)\n",
        "\n",
        "clf.fit(train_data, train_label)"
      ],
      "execution_count": 5,
      "outputs": [
        {
          "output_type": "stream",
          "text": [
            "Iteration 1, loss = 1.19113258\n",
            "Iteration 2, loss = 1.01009171\n",
            "Iteration 3, loss = 0.84970326\n",
            "Iteration 4, loss = 0.71361306\n",
            "Iteration 5, loss = 0.60549314\n",
            "Iteration 6, loss = 0.51974736\n",
            "Iteration 7, loss = 0.45079054\n",
            "Iteration 8, loss = 0.39350212\n",
            "Iteration 9, loss = 0.34670357\n",
            "Iteration 10, loss = 0.30710786\n",
            "Iteration 11, loss = 0.27474230\n",
            "Iteration 12, loss = 0.24741212\n",
            "Iteration 13, loss = 0.22443345\n",
            "Iteration 14, loss = 0.20450708\n",
            "Iteration 15, loss = 0.18779527\n",
            "Iteration 16, loss = 0.17309816\n",
            "Iteration 17, loss = 0.15999054\n",
            "Iteration 18, loss = 0.14877533\n",
            "Iteration 19, loss = 0.13840638\n",
            "Iteration 20, loss = 0.12941453\n",
            "Iteration 21, loss = 0.12128939\n",
            "Iteration 22, loss = 0.11378779\n",
            "Iteration 23, loss = 0.10715411\n",
            "Iteration 24, loss = 0.10086864\n",
            "Iteration 25, loss = 0.09544108\n",
            "Iteration 26, loss = 0.09024088\n",
            "Iteration 27, loss = 0.08550149\n",
            "Iteration 28, loss = 0.08118749\n",
            "Iteration 29, loss = 0.07720110\n",
            "Iteration 30, loss = 0.07337679\n",
            "Iteration 31, loss = 0.06994639\n",
            "Iteration 32, loss = 0.06676823\n",
            "Iteration 33, loss = 0.06372529\n",
            "Iteration 34, loss = 0.06091058\n",
            "Iteration 35, loss = 0.05829514\n",
            "Iteration 36, loss = 0.05586008\n",
            "Iteration 37, loss = 0.05359733\n",
            "Iteration 38, loss = 0.05144066\n",
            "Iteration 39, loss = 0.04940965\n",
            "Iteration 40, loss = 0.04753014\n",
            "Iteration 41, loss = 0.04574422\n",
            "Iteration 42, loss = 0.04407502\n",
            "Iteration 43, loss = 0.04248416\n",
            "Iteration 44, loss = 0.04103003\n",
            "Iteration 45, loss = 0.03955591\n",
            "Iteration 46, loss = 0.03827631\n",
            "Iteration 47, loss = 0.03700468\n",
            "Iteration 48, loss = 0.03586690\n",
            "Iteration 49, loss = 0.03471634\n",
            "Iteration 50, loss = 0.03363056\n",
            "Iteration 51, loss = 0.03262115\n",
            "Iteration 52, loss = 0.03166825\n",
            "Iteration 53, loss = 0.03073287\n",
            "Iteration 54, loss = 0.02985037\n",
            "Iteration 55, loss = 0.02903502\n",
            "Iteration 56, loss = 0.02822780\n",
            "Iteration 57, loss = 0.02746830\n",
            "Iteration 58, loss = 0.02674097\n",
            "Iteration 59, loss = 0.02603418\n",
            "Iteration 60, loss = 0.02538406\n",
            "Iteration 61, loss = 0.02475452\n",
            "Iteration 62, loss = 0.02413188\n",
            "Iteration 63, loss = 0.02355618\n",
            "Iteration 64, loss = 0.02297461\n",
            "Iteration 65, loss = 0.02245802\n",
            "Iteration 66, loss = 0.02192311\n",
            "Iteration 67, loss = 0.02144879\n",
            "Iteration 68, loss = 0.02095068\n",
            "Iteration 69, loss = 0.02049604\n",
            "Iteration 70, loss = 0.02005095\n",
            "Iteration 71, loss = 0.01961769\n",
            "Iteration 72, loss = 0.01921732\n",
            "Iteration 73, loss = 0.01881627\n",
            "Iteration 74, loss = 0.01843110\n",
            "Iteration 75, loss = 0.01806977\n",
            "Iteration 76, loss = 0.01770756\n",
            "Iteration 77, loss = 0.01735367\n",
            "Iteration 78, loss = 0.01703175\n",
            "Iteration 79, loss = 0.01670688\n",
            "Iteration 80, loss = 0.01639634\n",
            "Iteration 81, loss = 0.01609561\n",
            "Iteration 82, loss = 0.01580898\n",
            "Iteration 83, loss = 0.01552415\n",
            "Iteration 84, loss = 0.01524103\n",
            "Iteration 85, loss = 0.01497805\n",
            "Iteration 86, loss = 0.01472393\n",
            "Iteration 87, loss = 0.01447121\n",
            "Iteration 88, loss = 0.01422796\n",
            "Iteration 89, loss = 0.01398887\n",
            "Iteration 90, loss = 0.01376050\n",
            "Iteration 91, loss = 0.01354669\n",
            "Iteration 92, loss = 0.01332180\n",
            "Iteration 93, loss = 0.01311902\n",
            "Iteration 94, loss = 0.01291032\n",
            "Iteration 95, loss = 0.01271222\n",
            "Iteration 96, loss = 0.01251867\n",
            "Iteration 97, loss = 0.01232936\n",
            "Iteration 98, loss = 0.01214891\n",
            "Iteration 99, loss = 0.01196799\n",
            "Iteration 100, loss = 0.01179569\n",
            "Iteration 101, loss = 0.01162387\n",
            "Iteration 102, loss = 0.01145940\n",
            "Iteration 103, loss = 0.01130028\n",
            "Iteration 104, loss = 0.01114171\n",
            "Iteration 105, loss = 0.01099289\n",
            "Iteration 106, loss = 0.01084058\n",
            "Iteration 107, loss = 0.01069713\n",
            "Iteration 108, loss = 0.01054977\n",
            "Iteration 109, loss = 0.01041533\n",
            "Iteration 110, loss = 0.01027769\n",
            "Iteration 111, loss = 0.01014261\n",
            "Iteration 112, loss = 0.01001439\n",
            "Iteration 113, loss = 0.00988712\n",
            "Iteration 114, loss = 0.00976342\n",
            "Iteration 115, loss = 0.00964443\n",
            "Iteration 116, loss = 0.00952468\n",
            "Iteration 117, loss = 0.00940749\n",
            "Iteration 118, loss = 0.00929681\n",
            "Iteration 119, loss = 0.00918411\n",
            "Iteration 120, loss = 0.00907617\n",
            "Iteration 121, loss = 0.00896859\n",
            "Iteration 122, loss = 0.00886449\n",
            "Iteration 123, loss = 0.00876126\n",
            "Iteration 124, loss = 0.00866475\n",
            "Iteration 125, loss = 0.00856623\n",
            "Iteration 126, loss = 0.00847052\n",
            "Iteration 127, loss = 0.00837600\n",
            "Iteration 128, loss = 0.00828310\n",
            "Iteration 129, loss = 0.00819303\n",
            "Iteration 130, loss = 0.00810665\n",
            "Iteration 131, loss = 0.00801825\n",
            "Iteration 132, loss = 0.00793253\n",
            "Iteration 133, loss = 0.00784939\n",
            "Iteration 134, loss = 0.00776898\n",
            "Iteration 135, loss = 0.00768696\n",
            "Iteration 136, loss = 0.00760750\n",
            "Iteration 137, loss = 0.00753193\n",
            "Iteration 138, loss = 0.00745567\n",
            "Iteration 139, loss = 0.00738051\n",
            "Iteration 140, loss = 0.00730831\n",
            "Iteration 141, loss = 0.00723537\n",
            "Iteration 142, loss = 0.00716347\n",
            "Iteration 143, loss = 0.00709481\n",
            "Iteration 144, loss = 0.00702759\n",
            "Iteration 145, loss = 0.00695949\n",
            "Iteration 146, loss = 0.00689294\n",
            "Iteration 147, loss = 0.00682912\n",
            "Iteration 148, loss = 0.00676527\n",
            "Iteration 149, loss = 0.00670412\n",
            "Iteration 150, loss = 0.00664076\n",
            "Iteration 151, loss = 0.00658133\n",
            "Iteration 152, loss = 0.00652083\n",
            "Iteration 153, loss = 0.00646257\n",
            "Iteration 154, loss = 0.00640489\n",
            "Iteration 155, loss = 0.00634774\n",
            "Iteration 156, loss = 0.00629265\n",
            "Iteration 157, loss = 0.00623799\n",
            "Iteration 158, loss = 0.00618407\n",
            "Iteration 159, loss = 0.00613052\n",
            "Iteration 160, loss = 0.00607825\n",
            "Iteration 161, loss = 0.00602700\n",
            "Iteration 162, loss = 0.00597567\n",
            "Iteration 163, loss = 0.00592526\n",
            "Iteration 164, loss = 0.00587674\n",
            "Iteration 165, loss = 0.00582735\n",
            "Iteration 166, loss = 0.00578072\n",
            "Iteration 167, loss = 0.00573341\n",
            "Iteration 168, loss = 0.00568716\n",
            "Iteration 169, loss = 0.00564057\n",
            "Iteration 170, loss = 0.00559461\n",
            "Iteration 171, loss = 0.00555116\n",
            "Iteration 172, loss = 0.00550803\n",
            "Iteration 173, loss = 0.00546582\n",
            "Iteration 174, loss = 0.00542276\n",
            "Iteration 175, loss = 0.00538115\n",
            "Iteration 176, loss = 0.00533890\n",
            "Iteration 177, loss = 0.00529795\n",
            "Iteration 178, loss = 0.00525891\n",
            "Iteration 179, loss = 0.00521894\n",
            "Iteration 180, loss = 0.00517972\n",
            "Iteration 181, loss = 0.00514120\n",
            "Iteration 182, loss = 0.00510356\n",
            "Iteration 183, loss = 0.00506604\n",
            "Iteration 184, loss = 0.00502818\n",
            "Iteration 185, loss = 0.00499240\n",
            "Iteration 186, loss = 0.00495610\n",
            "Iteration 187, loss = 0.00492026\n",
            "Iteration 188, loss = 0.00488602\n",
            "Iteration 189, loss = 0.00485079\n",
            "Iteration 190, loss = 0.00481721\n",
            "Iteration 191, loss = 0.00478366\n",
            "Iteration 192, loss = 0.00474998\n",
            "Iteration 193, loss = 0.00471742\n",
            "Iteration 194, loss = 0.00468453\n",
            "Iteration 195, loss = 0.00465249\n",
            "Iteration 196, loss = 0.00462072\n",
            "Iteration 197, loss = 0.00459010\n",
            "Iteration 198, loss = 0.00455939\n",
            "Iteration 199, loss = 0.00452802\n",
            "Iteration 200, loss = 0.00449795\n"
          ],
          "name": "stdout"
        },
        {
          "output_type": "stream",
          "text": [
            "/usr/local/lib/python3.6/dist-packages/sklearn/neural_network/multilayer_perceptron.py:562: ConvergenceWarning: Stochastic Optimizer: Maximum iterations (200) reached and the optimization hasn't converged yet.\n",
            "  % self.max_iter, ConvergenceWarning)\n"
          ],
          "name": "stderr"
        },
        {
          "output_type": "execute_result",
          "data": {
            "text/plain": [
              "MLPClassifier(activation='relu', alpha=0.0001, batch_size='auto', beta_1=0.9,\n",
              "       beta_2=0.999, early_stopping=False, epsilon=1e-08,\n",
              "       hidden_layer_sizes=(138,), learning_rate='constant',\n",
              "       learning_rate_init=0.01, max_iter=200, momentum=0.9,\n",
              "       n_iter_no_change=10, nesterovs_momentum=True, power_t=0.5,\n",
              "       random_state=1, shuffle=True, solver='sgd', tol=1e-05,\n",
              "       validation_fraction=0.1, verbose=10, warm_start=False)"
            ]
          },
          "metadata": {
            "tags": []
          },
          "execution_count": 5
        }
      ]
    },
    {
      "metadata": {
        "id": "8m9_X9bUdZJe",
        "colab_type": "code",
        "colab": {}
      },
      "cell_type": "code",
      "source": [
        "# train_valid_combined = np.concatenate((train_data, validation_data))\n",
        "# train_valid_label = np.concatenate((train_label, validation_label))\n"
      ],
      "execution_count": 0,
      "outputs": []
    },
    {
      "metadata": {
        "id": "Fo_lFxdIc85n",
        "colab_type": "code",
        "outputId": "f891a755-8dd6-41ff-c07c-8b3a2d1c4411",
        "colab": {
          "base_uri": "https://localhost:8080/",
          "height": 3590
        }
      },
      "cell_type": "code",
      "source": [
        "# clf =MLPClassifier(hidden_layer_sizes=(300,100, ), max_iter=200, alpha=1e-4,\n",
        "#                     solver='adam', verbose=10, tol=1e-5, random_state=1,\n",
        "#                     learning_rate_init=.1)\n",
        "### acc is 98.41\n",
        "clf2 = MLPClassifier(hidden_layer_sizes=(138, ), max_iter=200, alpha=1e-4,\n",
        "                    solver='sgd', verbose=10, tol=1e-5, random_state=1,\n",
        "                    learning_rate_init=.01)\n",
        "# Test set score: 0.950119\n",
        "\n",
        "clf2.fit(train_valid_combined, train_valid_label)\n",
        "# clf2.fit(train_data, train_label)"
      ],
      "execution_count": 6,
      "outputs": [
        {
          "output_type": "stream",
          "text": [
            "Iteration 1, loss = 1.15072293\n",
            "Iteration 2, loss = 0.91569572\n",
            "Iteration 3, loss = 0.72166672\n",
            "Iteration 4, loss = 0.57821542\n",
            "Iteration 5, loss = 0.47305136\n",
            "Iteration 6, loss = 0.39365008\n",
            "Iteration 7, loss = 0.33232918\n",
            "Iteration 8, loss = 0.28531490\n",
            "Iteration 9, loss = 0.24854399\n",
            "Iteration 10, loss = 0.21954920\n",
            "Iteration 11, loss = 0.19633368\n",
            "Iteration 12, loss = 0.17762887\n",
            "Iteration 13, loss = 0.16193546\n",
            "Iteration 14, loss = 0.14845612\n",
            "Iteration 15, loss = 0.13701009\n",
            "Iteration 16, loss = 0.12693760\n",
            "Iteration 17, loss = 0.11820281\n",
            "Iteration 18, loss = 0.11039802\n",
            "Iteration 19, loss = 0.10331484\n",
            "Iteration 20, loss = 0.09716385\n",
            "Iteration 21, loss = 0.09141162\n",
            "Iteration 22, loss = 0.08635659\n",
            "Iteration 23, loss = 0.08158839\n",
            "Iteration 24, loss = 0.07731552\n",
            "Iteration 25, loss = 0.07325289\n",
            "Iteration 26, loss = 0.06961857\n",
            "Iteration 27, loss = 0.06621410\n",
            "Iteration 28, loss = 0.06302236\n",
            "Iteration 29, loss = 0.06011450\n",
            "Iteration 30, loss = 0.05734502\n",
            "Iteration 31, loss = 0.05481820\n",
            "Iteration 32, loss = 0.05232316\n",
            "Iteration 33, loss = 0.05014528\n",
            "Iteration 34, loss = 0.04803267\n",
            "Iteration 35, loss = 0.04604300\n",
            "Iteration 36, loss = 0.04422010\n",
            "Iteration 37, loss = 0.04243525\n",
            "Iteration 38, loss = 0.04080024\n",
            "Iteration 39, loss = 0.03929857\n",
            "Iteration 40, loss = 0.03781607\n",
            "Iteration 41, loss = 0.03648034\n",
            "Iteration 42, loss = 0.03511426\n",
            "Iteration 43, loss = 0.03387861\n",
            "Iteration 44, loss = 0.03272863\n",
            "Iteration 45, loss = 0.03163791\n",
            "Iteration 46, loss = 0.03055580\n",
            "Iteration 47, loss = 0.02955941\n",
            "Iteration 48, loss = 0.02859447\n",
            "Iteration 49, loss = 0.02772411\n",
            "Iteration 50, loss = 0.02689200\n",
            "Iteration 51, loss = 0.02606292\n",
            "Iteration 52, loss = 0.02528093\n",
            "Iteration 53, loss = 0.02456171\n",
            "Iteration 54, loss = 0.02382916\n",
            "Iteration 55, loss = 0.02317736\n",
            "Iteration 56, loss = 0.02251817\n",
            "Iteration 57, loss = 0.02192281\n",
            "Iteration 58, loss = 0.02133733\n",
            "Iteration 59, loss = 0.02078698\n",
            "Iteration 60, loss = 0.02023008\n",
            "Iteration 61, loss = 0.01973807\n",
            "Iteration 62, loss = 0.01925119\n",
            "Iteration 63, loss = 0.01876434\n",
            "Iteration 64, loss = 0.01833849\n",
            "Iteration 65, loss = 0.01788560\n",
            "Iteration 66, loss = 0.01747378\n",
            "Iteration 67, loss = 0.01708056\n",
            "Iteration 68, loss = 0.01669004\n",
            "Iteration 69, loss = 0.01633133\n",
            "Iteration 70, loss = 0.01596694\n",
            "Iteration 71, loss = 0.01564091\n",
            "Iteration 72, loss = 0.01529899\n",
            "Iteration 73, loss = 0.01498363\n",
            "Iteration 74, loss = 0.01467515\n",
            "Iteration 75, loss = 0.01437444\n",
            "Iteration 76, loss = 0.01409830\n",
            "Iteration 77, loss = 0.01382389\n",
            "Iteration 78, loss = 0.01356077\n",
            "Iteration 79, loss = 0.01329626\n",
            "Iteration 80, loss = 0.01304650\n",
            "Iteration 81, loss = 0.01280434\n",
            "Iteration 82, loss = 0.01257339\n",
            "Iteration 83, loss = 0.01234938\n",
            "Iteration 84, loss = 0.01212282\n",
            "Iteration 85, loss = 0.01191548\n",
            "Iteration 86, loss = 0.01171598\n",
            "Iteration 87, loss = 0.01150995\n",
            "Iteration 88, loss = 0.01131526\n",
            "Iteration 89, loss = 0.01113114\n",
            "Iteration 90, loss = 0.01094831\n",
            "Iteration 91, loss = 0.01076900\n",
            "Iteration 92, loss = 0.01059831\n",
            "Iteration 93, loss = 0.01042636\n",
            "Iteration 94, loss = 0.01026719\n",
            "Iteration 95, loss = 0.01011157\n",
            "Iteration 96, loss = 0.00995243\n",
            "Iteration 97, loss = 0.00980672\n",
            "Iteration 98, loss = 0.00966030\n",
            "Iteration 99, loss = 0.00951901\n",
            "Iteration 100, loss = 0.00938138\n",
            "Iteration 101, loss = 0.00924581\n",
            "Iteration 102, loss = 0.00911423\n",
            "Iteration 103, loss = 0.00898860\n",
            "Iteration 104, loss = 0.00886067\n",
            "Iteration 105, loss = 0.00874233\n",
            "Iteration 106, loss = 0.00862296\n",
            "Iteration 107, loss = 0.00850296\n",
            "Iteration 108, loss = 0.00839312\n",
            "Iteration 109, loss = 0.00828406\n",
            "Iteration 110, loss = 0.00817623\n",
            "Iteration 111, loss = 0.00806560\n",
            "Iteration 112, loss = 0.00796645\n",
            "Iteration 113, loss = 0.00786725\n",
            "Iteration 114, loss = 0.00776954\n",
            "Iteration 115, loss = 0.00766811\n",
            "Iteration 116, loss = 0.00757761\n",
            "Iteration 117, loss = 0.00748471\n",
            "Iteration 118, loss = 0.00739419\n",
            "Iteration 119, loss = 0.00730647\n",
            "Iteration 120, loss = 0.00722004\n",
            "Iteration 121, loss = 0.00713473\n",
            "Iteration 122, loss = 0.00705382\n",
            "Iteration 123, loss = 0.00697305\n",
            "Iteration 124, loss = 0.00689551\n",
            "Iteration 125, loss = 0.00681480\n",
            "Iteration 126, loss = 0.00673992\n",
            "Iteration 127, loss = 0.00666738\n",
            "Iteration 128, loss = 0.00659245\n",
            "Iteration 129, loss = 0.00652048\n",
            "Iteration 130, loss = 0.00645145\n",
            "Iteration 131, loss = 0.00638215\n",
            "Iteration 132, loss = 0.00631395\n",
            "Iteration 133, loss = 0.00624915\n",
            "Iteration 134, loss = 0.00618380\n",
            "Iteration 135, loss = 0.00612086\n",
            "Iteration 136, loss = 0.00605653\n",
            "Iteration 137, loss = 0.00599633\n",
            "Iteration 138, loss = 0.00593693\n",
            "Iteration 139, loss = 0.00587769\n",
            "Iteration 140, loss = 0.00581912\n",
            "Iteration 141, loss = 0.00576190\n",
            "Iteration 142, loss = 0.00570472\n",
            "Iteration 143, loss = 0.00565080\n",
            "Iteration 144, loss = 0.00559714\n",
            "Iteration 145, loss = 0.00554288\n",
            "Iteration 146, loss = 0.00549058\n",
            "Iteration 147, loss = 0.00544068\n",
            "Iteration 148, loss = 0.00538986\n",
            "Iteration 149, loss = 0.00533826\n",
            "Iteration 150, loss = 0.00529110\n",
            "Iteration 151, loss = 0.00524224\n",
            "Iteration 152, loss = 0.00519506\n",
            "Iteration 153, loss = 0.00514839\n",
            "Iteration 154, loss = 0.00510350\n",
            "Iteration 155, loss = 0.00505722\n",
            "Iteration 156, loss = 0.00501388\n",
            "Iteration 157, loss = 0.00497161\n",
            "Iteration 158, loss = 0.00492742\n",
            "Iteration 159, loss = 0.00488465\n",
            "Iteration 160, loss = 0.00484313\n",
            "Iteration 161, loss = 0.00480191\n",
            "Iteration 162, loss = 0.00476236\n",
            "Iteration 163, loss = 0.00472470\n",
            "Iteration 164, loss = 0.00468314\n",
            "Iteration 165, loss = 0.00464538\n",
            "Iteration 166, loss = 0.00460693\n",
            "Iteration 167, loss = 0.00457014\n",
            "Iteration 168, loss = 0.00453250\n",
            "Iteration 169, loss = 0.00449584\n",
            "Iteration 170, loss = 0.00446096\n",
            "Iteration 171, loss = 0.00442511\n",
            "Iteration 172, loss = 0.00439031\n",
            "Iteration 173, loss = 0.00435568\n",
            "Iteration 174, loss = 0.00432279\n",
            "Iteration 175, loss = 0.00428911\n",
            "Iteration 176, loss = 0.00425587\n",
            "Iteration 177, loss = 0.00422389\n",
            "Iteration 178, loss = 0.00419245\n",
            "Iteration 179, loss = 0.00416048\n",
            "Iteration 180, loss = 0.00412985\n",
            "Iteration 181, loss = 0.00409830\n",
            "Iteration 182, loss = 0.00406817\n",
            "Iteration 183, loss = 0.00403897\n",
            "Iteration 184, loss = 0.00400991\n",
            "Iteration 185, loss = 0.00398016\n",
            "Iteration 186, loss = 0.00395228\n",
            "Iteration 187, loss = 0.00392331\n",
            "Iteration 188, loss = 0.00389573\n",
            "Iteration 189, loss = 0.00386861\n",
            "Iteration 190, loss = 0.00384142\n",
            "Iteration 191, loss = 0.00381422\n",
            "Iteration 192, loss = 0.00378828\n",
            "Iteration 193, loss = 0.00376225\n",
            "Iteration 194, loss = 0.00373597\n",
            "Iteration 195, loss = 0.00371012\n",
            "Iteration 196, loss = 0.00368630\n",
            "Iteration 197, loss = 0.00366029\n",
            "Iteration 198, loss = 0.00363631\n",
            "Iteration 199, loss = 0.00361206\n",
            "Iteration 200, loss = 0.00358804\n"
          ],
          "name": "stdout"
        },
        {
          "output_type": "stream",
          "text": [
            "/usr/local/lib/python3.6/dist-packages/sklearn/neural_network/multilayer_perceptron.py:562: ConvergenceWarning: Stochastic Optimizer: Maximum iterations (200) reached and the optimization hasn't converged yet.\n",
            "  % self.max_iter, ConvergenceWarning)\n"
          ],
          "name": "stderr"
        },
        {
          "output_type": "execute_result",
          "data": {
            "text/plain": [
              "MLPClassifier(activation='relu', alpha=0.0001, batch_size='auto', beta_1=0.9,\n",
              "       beta_2=0.999, early_stopping=False, epsilon=1e-08,\n",
              "       hidden_layer_sizes=(138,), learning_rate='constant',\n",
              "       learning_rate_init=0.01, max_iter=200, momentum=0.9,\n",
              "       n_iter_no_change=10, nesterovs_momentum=True, power_t=0.5,\n",
              "       random_state=1, shuffle=True, solver='sgd', tol=1e-05,\n",
              "       validation_fraction=0.1, verbose=10, warm_start=False)"
            ]
          },
          "metadata": {
            "tags": []
          },
          "execution_count": 6
        }
      ]
    },
    {
      "metadata": {
        "id": "Wi_0y1C6e9Er",
        "colab_type": "code",
        "outputId": "f965c17f-bcbd-42a2-d0db-24385ae51216",
        "colab": {
          "base_uri": "https://localhost:8080/",
          "height": 34
        }
      },
      "cell_type": "code",
      "source": [
        "train_valid_combined.shape"
      ],
      "execution_count": 7,
      "outputs": [
        {
          "output_type": "execute_result",
          "data": {
            "text/plain": [
              "(2000, 138)"
            ]
          },
          "metadata": {
            "tags": []
          },
          "execution_count": 7
        }
      ]
    },
    {
      "metadata": {
        "id": "oy5MNJqFys-H",
        "colab_type": "code",
        "outputId": "de9ed8c3-1155-48fc-e0ca-c8bd344e309a",
        "colab": {
          "base_uri": "https://localhost:8080/",
          "height": 34
        }
      },
      "cell_type": "code",
      "source": [
        "clf.score(train_data,train_label)"
      ],
      "execution_count": 8,
      "outputs": [
        {
          "output_type": "execute_result",
          "data": {
            "text/plain": [
              "1.0"
            ]
          },
          "metadata": {
            "tags": []
          },
          "execution_count": 8
        }
      ]
    },
    {
      "metadata": {
        "id": "T0aiYNsdyuBR",
        "colab_type": "code",
        "outputId": "fdb10129-2d43-41bc-ae4b-0d8a9f644ed1",
        "colab": {
          "base_uri": "https://localhost:8080/",
          "height": 34
        }
      },
      "cell_type": "code",
      "source": [
        "clf.score(validation_data,validation_label)"
      ],
      "execution_count": 9,
      "outputs": [
        {
          "output_type": "execute_result",
          "data": {
            "text/plain": [
              "0.9333333333333333"
            ]
          },
          "metadata": {
            "tags": []
          },
          "execution_count": 9
        }
      ]
    },
    {
      "metadata": {
        "id": "w7DSKjQcyvL0",
        "colab_type": "code",
        "outputId": "50c11e7a-12fd-44e4-f33b-6c4269bba43f",
        "colab": {
          "base_uri": "https://localhost:8080/",
          "height": 34
        }
      },
      "cell_type": "code",
      "source": [
        "clf.score(test_data,test_label)"
      ],
      "execution_count": 10,
      "outputs": [
        {
          "output_type": "execute_result",
          "data": {
            "text/plain": [
              "0.9300168634064081"
            ]
          },
          "metadata": {
            "tags": []
          },
          "execution_count": 10
        }
      ]
    },
    {
      "metadata": {
        "id": "bOJLm3y6dkCs",
        "colab_type": "code",
        "outputId": "c1210bb0-cea0-4b33-ea9a-eac3c0eb928a",
        "colab": {
          "base_uri": "https://localhost:8080/",
          "height": 34
        }
      },
      "cell_type": "code",
      "source": [
        "clf2.score(train_data,train_label)"
      ],
      "execution_count": 11,
      "outputs": [
        {
          "output_type": "execute_result",
          "data": {
            "text/plain": [
              "1.0"
            ]
          },
          "metadata": {
            "tags": []
          },
          "execution_count": 11
        }
      ]
    },
    {
      "metadata": {
        "id": "hnUFUI4rdjwi",
        "colab_type": "code",
        "outputId": "f70e5992-a761-4b8f-c0a6-be5b725eb8ea",
        "colab": {
          "base_uri": "https://localhost:8080/",
          "height": 34
        }
      },
      "cell_type": "code",
      "source": [
        "clf2.score(validation_data,validation_label)"
      ],
      "execution_count": 12,
      "outputs": [
        {
          "output_type": "execute_result",
          "data": {
            "text/plain": [
              "1.0"
            ]
          },
          "metadata": {
            "tags": []
          },
          "execution_count": 12
        }
      ]
    },
    {
      "metadata": {
        "id": "1u7u5mLsirGr",
        "colab_type": "code",
        "outputId": "f041082d-2533-467c-c34a-1da5b98cc574",
        "colab": {
          "base_uri": "https://localhost:8080/",
          "height": 34
        }
      },
      "cell_type": "code",
      "source": [
        "clf.score(test_data,test_label)"
      ],
      "execution_count": 13,
      "outputs": [
        {
          "output_type": "execute_result",
          "data": {
            "text/plain": [
              "0.9300168634064081"
            ]
          },
          "metadata": {
            "tags": []
          },
          "execution_count": 13
        }
      ]
    },
    {
      "metadata": {
        "id": "BtNN_G2Bdkpr",
        "colab_type": "code",
        "outputId": "6b0c7ea6-9989-46e8-9de5-cc8b3942a943",
        "colab": {
          "base_uri": "https://localhost:8080/",
          "height": 34
        }
      },
      "cell_type": "code",
      "source": [
        "clf2.score(test_data,test_label)"
      ],
      "execution_count": 14,
      "outputs": [
        {
          "output_type": "execute_result",
          "data": {
            "text/plain": [
              "0.9494097807757167"
            ]
          },
          "metadata": {
            "tags": []
          },
          "execution_count": 14
        }
      ]
    },
    {
      "metadata": {
        "id": "63SIF9YCiJ9X",
        "colab_type": "code",
        "colab": {}
      },
      "cell_type": "code",
      "source": [
        "enc = OneHotEncoder(handle_unknown='ignore',sparse=False)\n",
        "enc.fit(train_label.reshape(1,-1).T)\n",
        "train_label_one_hot = enc.transform(train_label.reshape(-1,1))\n",
        "test_label_one_hot = enc.transform(test_label.reshape(-1,1))\n",
        "validation_label_one_hot = enc.transform(validation_label.reshape(-1,1))\n",
        "validation_test_label_one_hot = enc.transform(train_valid_label.reshape(-1,1))"
      ],
      "execution_count": 0,
      "outputs": []
    },
    {
      "metadata": {
        "id": "9T8IoNGpkVv_",
        "colab_type": "code",
        "outputId": "f1f25bd6-5ea2-47ae-a616-075981a867be",
        "colab": {
          "base_uri": "https://localhost:8080/",
          "height": 34
        }
      },
      "cell_type": "code",
      "source": [
        "test_label_one_hot.shape"
      ],
      "execution_count": 16,
      "outputs": [
        {
          "output_type": "execute_result",
          "data": {
            "text/plain": [
              "(1186, 3)"
            ]
          },
          "metadata": {
            "tags": []
          },
          "execution_count": 16
        }
      ]
    },
    {
      "metadata": {
        "id": "kxWBf1tjiJm4",
        "colab_type": "code",
        "colab": {}
      },
      "cell_type": "code",
      "source": [
        "def next_batch(num, data, labels):\n",
        "    '''\n",
        "    Return a total of `num` random samples and labels. \n",
        "    '''\n",
        "    idx = np.arange(0 , len(data))\n",
        "    np.random.shuffle(idx)\n",
        "    idx = idx[:num]\n",
        "    data_shuffle = [data[ i] for i in idx]\n",
        "    labels_shuffle = [labels[ i] for i in idx]\n",
        "    \n",
        "    return np.asarray(data_shuffle), np.asarray(labels_shuffle)"
      ],
      "execution_count": 0,
      "outputs": []
    },
    {
      "metadata": {
        "id": "DYHOkr0CiOxa",
        "colab_type": "code",
        "colab": {}
      },
      "cell_type": "code",
      "source": [
        "def xavier_init(size):\n",
        "    in_dim = size[0]\n",
        "    xavier_stddev = 1. / tf.sqrt(in_dim / 2.)\n",
        "    return tf.random_normal(shape=size, stddev=xavier_stddev, seed=1000)"
      ],
      "execution_count": 0,
      "outputs": []
    },
    {
      "metadata": {
        "id": "eDauxfwliQZb",
        "colab_type": "code",
        "colab": {}
      },
      "cell_type": "code",
      "source": [
        "## Define weights of the layer\n",
        "\n",
        "\n",
        "\n",
        "# saver = tf.train.Saver()"
      ],
      "execution_count": 0,
      "outputs": []
    },
    {
      "metadata": {
        "id": "GlClhIpViZoW",
        "colab_type": "text"
      },
      "cell_type": "markdown",
      "source": [
        "#### Divide valid in two parts for validation and validation-test"
      ]
    },
    {
      "metadata": {
        "id": "NhtjHgUwl0Kq",
        "colab_type": "code",
        "colab": {}
      },
      "cell_type": "code",
      "source": [
        ""
      ],
      "execution_count": 0,
      "outputs": []
    },
    {
      "metadata": {
        "id": "vLrSUA61iQW_",
        "colab_type": "code",
        "outputId": "8ec8588c-253f-49b4-b719-5f42a1ef8780",
        "colab": {
          "base_uri": "https://localhost:8080/",
          "height": 320
        }
      },
      "cell_type": "code",
      "source": [
        "plt.hist(np.argmax(train_label_one_hot,axis = 1))"
      ],
      "execution_count": 20,
      "outputs": [
        {
          "output_type": "execute_result",
          "data": {
            "text/plain": [
              "(array([331.,   0.,   0.,   0.,   0., 329.,   0.,   0.,   0., 740.]),\n",
              " array([0. , 0.2, 0.4, 0.6, 0.8, 1. , 1.2, 1.4, 1.6, 1.8, 2. ]),\n",
              " <a list of 10 Patch objects>)"
            ]
          },
          "metadata": {
            "tags": []
          },
          "execution_count": 20
        },
        {
          "output_type": "display_data",
          "data": {
            "image/png": "[encoded data removed]",
            "text/plain": [
              "<Figure size 432x288 with 1 Axes>"
            ]
          },
          "metadata": {
            "tags": []
          }
        }
      ]
    },
    {
      "metadata": {
        "id": "XfNKrbvrmDl6",
        "colab_type": "code",
        "outputId": "0d986930-0520-41fe-96c5-b83d29824034",
        "colab": {
          "base_uri": "https://localhost:8080/",
          "height": 320
        }
      },
      "cell_type": "code",
      "source": [
        "plt.hist(np.argmax(validation_label_one_hot,axis = 1))"
      ],
      "execution_count": 21,
      "outputs": [
        {
          "output_type": "execute_result",
          "data": {
            "text/plain": [
              "(array([133.,   0.,   0.,   0.,   0., 156.,   0.,   0.,   0., 311.]),\n",
              " array([0. , 0.2, 0.4, 0.6, 0.8, 1. , 1.2, 1.4, 1.6, 1.8, 2. ]),\n",
              " <a list of 10 Patch objects>)"
            ]
          },
          "metadata": {
            "tags": []
          },
          "execution_count": 21
        },
        {
          "output_type": "display_data",
          "data": {
            "image/png": "[encoded data removed]",
            "text/plain": [
              "<Figure size 432x288 with 1 Axes>"
            ]
          },
          "metadata": {
            "tags": []
          }
        }
      ]
    },
    {
      "metadata": {
        "id": "fX0eodcgiQTr",
        "colab_type": "code",
        "colab": {}
      },
      "cell_type": "code",
      "source": [
        ""
      ],
      "execution_count": 0,
      "outputs": []
    },
    {
      "metadata": {
        "id": "UYJZs7GgCy5p",
        "colab_type": "code",
        "colab": {}
      },
      "cell_type": "code",
      "source": [
        "from sklearn.utils import shuffle  #train_data, train_label\n",
        "\n",
        "X_train, y_train = shuffle(train_data, train_label_one_hot)\n",
        "validation_data, validation_label_one_hot = validation_data, validation_label_one_hot"
      ],
      "execution_count": 0,
      "outputs": []
    },
    {
      "metadata": {
        "id": "Q4WFIdiuCy53",
        "colab_type": "text"
      },
      "cell_type": "markdown",
      "source": [
        "## Setup TensorFlow\n",
        "The `EPOCH` and `BATCH_SIZE` values affect the training speed and model accuracy.\n",
        "\n",
        "You do not need to modify this section."
      ]
    },
    {
      "metadata": {
        "id": "est-t83SCy55",
        "colab_type": "code",
        "colab": {}
      },
      "cell_type": "code",
      "source": [
        "import tensorflow as tf\n",
        "\n",
        "EPOCHS = 100\n",
        "BATCH_SIZE = 512"
      ],
      "execution_count": 0,
      "outputs": []
    },
    {
      "metadata": {
        "id": "Vgad6Ny0OjqN",
        "colab_type": "code",
        "outputId": "fc4a136f-a7ea-4fd2-a406-7960e4462111",
        "colab": {
          "base_uri": "https://localhost:8080/",
          "height": 88
        }
      },
      "cell_type": "code",
      "source": [
        "connection_probability = tf.Variable(.9999)"
      ],
      "execution_count": 24,
      "outputs": [
        {
          "output_type": "stream",
          "text": [
            "WARNING:tensorflow:From /usr/local/lib/python3.6/dist-packages/tensorflow/python/framework/op_def_library.py:263: colocate_with (from tensorflow.python.framework.ops) is deprecated and will be removed in a future version.\n",
            "Instructions for updating:\n",
            "Colocations handled automatically by placer.\n"
          ],
          "name": "stdout"
        }
      ]
    },
    {
      "metadata": {
        "id": "2ZqUctyopqzZ",
        "colab_type": "code",
        "outputId": "6e95493a-982a-4b6f-983d-9758bcda103e",
        "colab": {
          "base_uri": "https://localhost:8080/",
          "height": 34
        }
      },
      "cell_type": "code",
      "source": [
        "print(X_train.shape)\n",
        "# print(G_W1.shape)\n",
        "# print(G_W2.shape)\n",
        "# print(G_W3.shape)\n"
      ],
      "execution_count": 25,
      "outputs": [
        {
          "output_type": "stream",
          "text": [
            "(1400, 138)\n"
          ],
          "name": "stdout"
        }
      ]
    },
    {
      "metadata": {
        "id": "UYVUi6tIf1mG",
        "colab_type": "code",
        "colab": {}
      },
      "cell_type": "code",
      "source": [
        "# len(clf.coefs_)"
      ],
      "execution_count": 0,
      "outputs": []
    },
    {
      "metadata": {
        "id": "w6aNutv83RcA",
        "colab_type": "text"
      },
      "cell_type": "markdown",
      "source": [
        "#### Define the network"
      ]
    },
    {
      "metadata": {
        "colab_type": "code",
        "id": "stGmwMYz8vws",
        "colab": {}
      },
      "cell_type": "code",
      "source": [
        "G_W1 = tf.Variable(np.float32(clf.coefs_[0]))\n",
        "G_b1 = tf.Variable(np.float32(clf.intercepts_ [0]))\n",
        "\n",
        "G_W2 =  tf.Variable(np.float32(clf.coefs_[1]))\n",
        "G_b2 = tf.Variable(np.float32(clf.intercepts_ [1]))\n",
        "\n",
        "# G_W3 =  tf.Variable(np.float32(clf.coefs_[2]))\n",
        "# G_b3 = tf.Variable(np.float32(clf.intercepts_ [2]))\n",
        "\n",
        "# G_w_out_h1 = tf.Variable(xavier_init([10,80]))\n",
        "# G_b_out_h1 = tf.Variable(xavier_init([80]))\n",
        "\n",
        "# G_w_h2_h1 = tf.Variable(xavier_init([40,80]))\n",
        "# G_b_h2_h1 = tf.Variable(xavier_init([80]))\n",
        "\n",
        "\n",
        "# G_w_h1_input = tf.Variable(xavier_init([80,16]))\n",
        "# G_b_h1_input = tf.Variable(xavier_init([16]))\n",
        "\n",
        "\n",
        "# G_w_input_h1_h2 = tf.Variable(xavier_init([16,40]))\n",
        "# G_b_h1_input = tf.Variable(xavier_init([40]))\n",
        "\n",
        "\n"
      ],
      "execution_count": 0,
      "outputs": []
    },
    {
      "metadata": {
        "id": "2bajK44GmiR1",
        "colab_type": "code",
        "colab": {
          "base_uri": "https://localhost:8080/",
          "height": 34
        },
        "outputId": "087005cc-074d-48cc-83cd-ee7dab7640fc"
      },
      "cell_type": "code",
      "source": [
        "train_data.shape"
      ],
      "execution_count": 28,
      "outputs": [
        {
          "output_type": "execute_result",
          "data": {
            "text/plain": [
              "(1400, 138)"
            ]
          },
          "metadata": {
            "tags": []
          },
          "execution_count": 28
        }
      ]
    },
    {
      "metadata": {
        "id": "hncjRrBbmRDY",
        "colab_type": "code",
        "colab": {
          "base_uri": "https://localhost:8080/",
          "height": 34
        },
        "outputId": "a71ea059-537b-4e7a-88b8-e2a38bd4cbee"
      },
      "cell_type": "code",
      "source": [
        "clf.coefs_[0].shape"
      ],
      "execution_count": 29,
      "outputs": [
        {
          "output_type": "execute_result",
          "data": {
            "text/plain": [
              "(138, 138)"
            ]
          },
          "metadata": {
            "tags": []
          },
          "execution_count": 29
        }
      ]
    },
    {
      "metadata": {
        "id": "-sfSdtHU3JfJ",
        "colab_type": "code",
        "colab": {}
      },
      "cell_type": "code",
      "source": [
        "from tensorflow.contrib.layers import flatten\n",
        "\n",
        "def LeNet(x, test_mode = False):    \n",
        "    # Hyperparameters\n",
        "    mu = 0\n",
        "    sigma = 0.1\n",
        "    layer_depth = {\n",
        "        'layer_1' : 6,\n",
        "        'layer_2' : 16,\n",
        "        'layer_3' : 120,\n",
        "        'layer_f1' : 84\n",
        "    }\n",
        "\n",
        "\n",
        "    \n",
        "    # TODO: Flatten. Input = 5x5x16. Output = 400.\n",
        "    x_flat = flatten(x)\n",
        "    fc1 = flatten(x)\n",
        "    fdense = fc1\n",
        "    \n",
        "    # TODO: Layer 3: Fully Connected. Input = 400. Output = 120.\n",
        "    fc1_w = G_W1# tf.Variable(tf.truncated_normal(shape = (X_train.shape[1]*X_train.shape[2],300), mean = mu, stddev = sigma))\n",
        "    fc1_b = G_b1# tf.Variable(tf.zeros(300))\n",
        "    fc1 = tf.matmul(fc1,fc1_w) + fc1_b\n",
        "    \n",
        "    # TODO: Activation.\n",
        "    fc1 = tf.nn.relu(fc1)\n",
        "\n",
        "#     # TODO: Layer 4: Fully Connected. Input = 120. Output = 84.\n",
        "#     fc2_w = G_W2# tf.Variable(tf.truncated_normal(shape = (300,100), mean = mu, stddev = sigma))\n",
        "#     fc2_b = G_b2# tf.Variable(tf.zeros(100))\n",
        "#     fc2 = tf.matmul(fc1,fc2_w) + fc2_b\n",
        "#     # TODO: Activation.\n",
        "#     fc2 = tf.nn.relu(fc2)\n",
        "    fc3_w = G_W2\n",
        "    fc3_b = G_b2\n",
        "    \n",
        "    logits = tf.matmul(fc1, fc3_w) + fc3_b\n",
        "    \n",
        "    #################\n",
        "    ##### Inset probability connection from x to conv2\n",
        "    fc2p_w = tf.Variable(xavier_init([X_train.shape[1],clf.coefs_[1].shape[1]]))\n",
        "    fc2p_b = tf.Variable(xavier_init([clf.coefs_[1].shape[1]]))\n",
        "    fc2_2nd_input = tf.matmul(x_flat,fc2p_w) + fc2p_b\n",
        "#     fc2_2nd_input = tf.nn.relu(fc2_2nd_input)\n",
        "    connect2 = tf.logical_and(tf.random.uniform(shape = tf.shape(connection_probability)) < connection_probability, tf.equal(test_mode,False))\n",
        "    logits = tf.cond(connect2,lambda: logits + fc2_2nd_input, lambda: logits )    \n",
        "    ################    \n",
        "#     fc3_w = G_W3\n",
        "#     fc3_b = G_b3\n",
        "    \n",
        "#     logits = tf.matmul(fc2, fc3_w) + fc3_b\n",
        "#     print(logits.shape)\n",
        "    return logits"
      ],
      "execution_count": 0,
      "outputs": []
    },
    {
      "metadata": {
        "id": "AGmN34tg3_tv",
        "colab_type": "code",
        "outputId": "cf6fbfd6-ff39-43fa-ed01-264fc2c7780e",
        "colab": {
          "base_uri": "https://localhost:8080/",
          "height": 34
        }
      },
      "cell_type": "code",
      "source": [
        "train_label_one_hot.shape"
      ],
      "execution_count": 31,
      "outputs": [
        {
          "output_type": "execute_result",
          "data": {
            "text/plain": [
              "(1400, 3)"
            ]
          },
          "metadata": {
            "tags": []
          },
          "execution_count": 31
        }
      ]
    },
    {
      "metadata": {
        "id": "-NX_lWUB6zue",
        "colab_type": "code",
        "outputId": "7bef97bc-e503-4691-aead-e30364c75f67",
        "colab": {
          "base_uri": "https://localhost:8080/",
          "height": 34
        }
      },
      "cell_type": "code",
      "source": [
        "train_label"
      ],
      "execution_count": 32,
      "outputs": [
        {
          "output_type": "execute_result",
          "data": {
            "text/plain": [
              "array([1, 1, 1, ..., 2, 2, 0])"
            ]
          },
          "metadata": {
            "tags": []
          },
          "execution_count": 32
        }
      ]
    },
    {
      "metadata": {
        "id": "M3U_MKYr34Xp",
        "colab_type": "code",
        "colab": {}
      },
      "cell_type": "code",
      "source": [
        "\n",
        "with tf.name_scope('Input'):\n",
        "\n",
        "  x = tf.placeholder(tf.float32, (None, train_data.shape[1]), name='X')\n",
        "  y = tf.placeholder(\"float\", [None, 1+np.max(train_label)])\n",
        "# one_hot_y = tf.one_hot(y, train_label_one_hot.shape[1])\n",
        "is_testing= tf.placeholder(tf.bool)"
      ],
      "execution_count": 0,
      "outputs": []
    },
    {
      "metadata": {
        "id": "-rtTKpeM4P8z",
        "colab_type": "code",
        "colab": {}
      },
      "cell_type": "code",
      "source": [
        "BATCH_SIZE = 1024"
      ],
      "execution_count": 0,
      "outputs": []
    },
    {
      "metadata": {
        "id": "-e6BG9DI3Jb3",
        "colab_type": "code",
        "outputId": "37e2fed4-fae9-4175-f607-df57b133a1ad",
        "colab": {
          "base_uri": "https://localhost:8080/",
          "height": 34
        }
      },
      "cell_type": "code",
      "source": [
        "rate = 0.001\n",
        "decay_rate = 1.0005**(X_train.shape[0]/BATCH_SIZE);\n",
        "decay_rate = 1.4\n",
        "print(decay_rate)\n",
        "logits = LeNet(x,is_testing)\n",
        "with tf.name_scope('Train'):\n",
        "#   cross_entropy = tf.nn.softmax_cross_entropy_with_logits(logits = logits, labels = one_hot_y)\n",
        "#   loss_operation = tf.reduce_mean(cross_entropy, name='loss')\n",
        "  loss_operation = tf.reduce_mean(tf.nn.softmax_cross_entropy_with_logits(logits=LeNet(x, test_mode=False), labels=y))\n",
        "  tf.summary.scalar('loss', loss_operation)\n",
        "# optimizer = tf.train.MomentumOptimizer(learning_rate = rate,momentum=.9)\n",
        "optimizer = tf.train.AdamOptimizer(learning_rate = rate)\n",
        "# tf.train.natural_exp_decay()\n",
        "training_operation = optimizer.minimize(loss_operation)\n",
        "new_prob = connection_probability.assign(connection_probability/decay_rate)"
      ],
      "execution_count": 44,
      "outputs": [
        {
          "output_type": "stream",
          "text": [
            "1.4\n"
          ],
          "name": "stdout"
        }
      ]
    },
    {
      "metadata": {
        "id": "g8eQKHOw7PHm",
        "colab_type": "code",
        "colab": {}
      },
      "cell_type": "code",
      "source": [
        "# def evaluate(X_data, y_data):\n",
        "correct_pred = tf.equal(tf.argmax(LeNet(x,test_mode=True), 1), tf.argmax(y, 1))\n",
        "accuracy = tf.reduce_mean(tf.cast(correct_pred, tf.float32))"
      ],
      "execution_count": 0,
      "outputs": []
    },
    {
      "metadata": {
        "id": "8tb-sFE34OGp",
        "colab_type": "code",
        "colab": {}
      },
      "cell_type": "code",
      "source": [
        "\n",
        "# correct_prediction = tf.equal(tf.argmax(logits, 1), tf.argmax(one_hot_y, 1))\n",
        "# accuracy_operation = tf.reduce_mean(tf.cast(correct_prediction, tf.float32))\n",
        "# saver = tf.train.Saver()\n",
        "\n",
        "# def evaluate(X_data, y_data):\n",
        "#     num_examples = len(X_data)\n",
        "#     total_accuracy = 0\n",
        "#     sess = tf.get_default_session()\n",
        "#     for offset in range(0, num_examples, BATCH_SIZE):\n",
        "#         batch_x, batch_y = X_data[offset:offset+BATCH_SIZE], y_data[offset:offset+BATCH_SIZE]\n",
        "#         accuracy = sess.run(accuracy_operation, feed_dict={x: batch_x, y: batch_y, is_testing: True})\n",
        "#         total_accuracy += (accuracy * len(batch_x))\n",
        "#     tot_acc = total_accuracy / num_examples\n",
        "#     with tf.name_scope('Accuracy'):\n",
        "#       tf.summary.scalar('accuracy', tot_acc)\n",
        "#     return total_accuracy / num_examples"
      ],
      "execution_count": 0,
      "outputs": []
    },
    {
      "metadata": {
        "id": "yCovfr0E4oJq",
        "colab_type": "text"
      },
      "cell_type": "markdown",
      "source": [
        "### Train the mode"
      ]
    },
    {
      "metadata": {
        "id": "NGF2PRgw9nLL",
        "colab_type": "code",
        "outputId": "9536c5ef-db8e-4a37-c9f1-a5df40748a2d",
        "colab": {
          "base_uri": "https://localhost:8080/",
          "height": 34
        }
      },
      "cell_type": "code",
      "source": [
        "2056*2"
      ],
      "execution_count": 47,
      "outputs": [
        {
          "output_type": "execute_result",
          "data": {
            "text/plain": [
              "4112"
            ]
          },
          "metadata": {
            "tags": []
          },
          "execution_count": 47
        }
      ]
    },
    {
      "metadata": {
        "id": "6Cl89uCj9hjc",
        "colab_type": "code",
        "colab": {}
      },
      "cell_type": "code",
      "source": [
        "BATCH_SIZE = 1024"
      ],
      "execution_count": 0,
      "outputs": []
    },
    {
      "metadata": {
        "id": "4H5Dgkf69TOx",
        "colab_type": "code",
        "colab": {}
      },
      "cell_type": "code",
      "source": [
        "EPOCHS = 5000"
      ],
      "execution_count": 0,
      "outputs": []
    },
    {
      "metadata": {
        "id": "nk5Kihg685LI",
        "colab_type": "code",
        "colab": {}
      },
      "cell_type": "code",
      "source": [
        "saver = tf.train.Saver()"
      ],
      "execution_count": 0,
      "outputs": []
    },
    {
      "metadata": {
        "id": "ZQaEeNO285BK",
        "colab_type": "code",
        "outputId": "6692d1d6-4e5b-4972-c502-fe6bc027f3fa",
        "colab": {
          "base_uri": "https://localhost:8080/",
          "height": 34
        }
      },
      "cell_type": "code",
      "source": [
        "X_train.shape"
      ],
      "execution_count": 51,
      "outputs": [
        {
          "output_type": "execute_result",
          "data": {
            "text/plain": [
              "(1400, 138)"
            ]
          },
          "metadata": {
            "tags": []
          },
          "execution_count": 51
        }
      ]
    },
    {
      "metadata": {
        "id": "4VP4QWKJ4ODG",
        "colab_type": "code",
        "outputId": "8dc173af-a328-4d17-863d-78b5796aea1b",
        "colab": {
          "base_uri": "https://localhost:8080/",
          "height": 18873
        }
      },
      "cell_type": "code",
      "source": [
        "\n",
        "validation_accuracy_track = []\n",
        "train_accuracy_track = []\n",
        "connection_probability_track = []\n",
        "number_of_ex = X_train.shape[0]\n",
        "total_steps_for_one_pass = number_of_ex//BATCH_SIZE + 1\n",
        "epoch_track = []\n",
        "print_every = 10\n",
        "with tf.Session() as sess:\n",
        "    sess.run(tf.global_variables_initializer())\n",
        "    num_examples = len(X_train)\n",
        "    best_accuracy_valid = 0\n",
        "    print(\"Training...\")\n",
        "    print()\n",
        "    for i in range(EPOCHS):\n",
        "        X_train, y_train = shuffle(X_train, y_train)\n",
        "        for step in range(0, total_steps_for_one_pass):        \n",
        "          if step>=number_of_ex//BATCH_SIZE:\n",
        "            batch_x, batch_y = X_train[step*BATCH_SIZE:,:],y_train[step*BATCH_SIZE:]\n",
        "#             print(step,'Finishing',step*BATCH_SIZE )\n",
        "            step = 0\n",
        "\n",
        "          else:\n",
        "\n",
        "            start = step*BATCH_SIZE\n",
        "            finish = (step+1)*BATCH_SIZE\n",
        "#             print(step,'Doing', 'Start = ', start, \"Finish = \", finish)\n",
        "            batch_x, batch_y = X_train[step:finish,:],y_train[step:finish]\n",
        "#           print(batch_y.shape)\n",
        "          tr_op  = sess.run([training_operation], feed_dict={x: batch_x, y: batch_y, is_testing : False})\n",
        "#           train_writer.add_summary(summary_tr, i)\n",
        "        prob = sess.run(new_prob)\n",
        "        if i%print_every == 0:\n",
        "          tr_accuracy = sess.run(accuracy*100, feed_dict={x: X_train,y:y_train, is_testing: True})  # evaluate(X_train, y_train)\n",
        "          print(\"Train Accuracy = {:.5f}\".format(tr_accuracy))\n",
        "          validation_accuracy = sess.run(accuracy*100, feed_dict={x: validation_data,y:validation_label_one_hot, is_testing: True}) #evaluate(X_validation, y_validation)\n",
        "          validation_accuracy_track.append(validation_accuracy)\n",
        "          train_accuracy_track.append(tr_accuracy)\n",
        "          epoch_track.append(i)\n",
        "          connection_probability_track.append(prob)\n",
        "          print(\"EPOCH {} ...\".format(i+1))\n",
        "          print(\"Validation Accuracy = {:.5f}\".format(validation_accuracy))\n",
        "          print(prob)\n",
        "          print()\n",
        "          if (validation_accuracy >= best_accuracy_valid):\n",
        "            best_accuracy_valid = validation_accuracy\n",
        "            saver.save(sess, './DNAAdamBased')\n",
        "        \n",
        "#     saver.save(sess, './lenet')\n",
        "    print(\"Model saved\")"
      ],
      "execution_count": 52,
      "outputs": [
        {
          "output_type": "stream",
          "text": [
            "Training...\n",
            "\n",
            "Train Accuracy = 100.00000\n",
            "EPOCH 1 ...\n",
            "Validation Accuracy = 93.50000\n",
            "0.71421427\n",
            "\n",
            "Train Accuracy = 100.00000\n",
            "EPOCH 11 ...\n",
            "Validation Accuracy = 93.00000\n",
            "0.024691546\n",
            "\n",
            "Train Accuracy = 100.00000\n",
            "EPOCH 21 ...\n",
            "Validation Accuracy = 93.66666\n",
            "0.00085362676\n",
            "\n",
            "Train Accuracy = 100.00000\n",
            "EPOCH 31 ...\n",
            "Validation Accuracy = 93.33334\n",
            "2.9511264e-05\n",
            "\n",
            "Train Accuracy = 100.00000\n",
            "EPOCH 41 ...\n",
            "Validation Accuracy = 93.83334\n",
            "1.0202523e-06\n",
            "\n",
            "Train Accuracy = 100.00000\n",
            "EPOCH 51 ...\n",
            "Validation Accuracy = 93.83334\n",
            "3.527178e-08\n",
            "\n",
            "Train Accuracy = 100.00000\n",
            "EPOCH 61 ...\n",
            "Validation Accuracy = 94.00000\n",
            "1.2194024e-09\n",
            "\n",
            "Train Accuracy = 100.00000\n",
            "EPOCH 71 ...\n",
            "Validation Accuracy = 94.33334\n",
            "4.2156716e-11\n",
            "\n",
            "Train Accuracy = 100.00000\n",
            "EPOCH 81 ...\n",
            "Validation Accuracy = 94.33334\n",
            "1.457426e-12\n",
            "\n",
            "Train Accuracy = 100.00000\n",
            "EPOCH 91 ...\n",
            "Validation Accuracy = 94.50000\n",
            "5.0385572e-14\n",
            "\n",
            "Train Accuracy = 100.00000\n",
            "EPOCH 101 ...\n",
            "Validation Accuracy = 94.66666\n",
            "1.7419111e-15\n",
            "\n",
            "Train Accuracy = 100.00000\n",
            "EPOCH 111 ...\n",
            "Validation Accuracy = 94.33334\n",
            "6.022069e-17\n",
            "\n",
            "Train Accuracy = 100.00000\n",
            "EPOCH 121 ...\n",
            "Validation Accuracy = 94.50000\n",
            "2.081927e-18\n",
            "\n",
            "Train Accuracy = 100.00000\n",
            "EPOCH 131 ...\n",
            "Validation Accuracy = 94.50000\n",
            "7.197559e-20\n",
            "\n",
            "Train Accuracy = 100.00000\n",
            "EPOCH 141 ...\n",
            "Validation Accuracy = 94.50000\n",
            "2.4883126e-21\n",
            "\n",
            "Train Accuracy = 100.00000\n",
            "EPOCH 151 ...\n",
            "Validation Accuracy = 94.66666\n",
            "8.6024985e-23\n",
            "\n",
            "Train Accuracy = 100.00000\n",
            "EPOCH 161 ...\n",
            "Validation Accuracy = 94.66666\n",
            "2.9740232e-24\n",
            "\n",
            "Train Accuracy = 100.00000\n",
            "EPOCH 171 ...\n",
            "Validation Accuracy = 94.66666\n",
            "1.02816796e-25\n",
            "\n",
            "Train Accuracy = 100.00000\n",
            "EPOCH 181 ...\n",
            "Validation Accuracy = 94.66666\n",
            "3.5545433e-27\n",
            "\n",
            "Train Accuracy = 100.00000\n",
            "EPOCH 191 ...\n",
            "Validation Accuracy = 94.66666\n",
            "1.2288633e-28\n",
            "\n",
            "Train Accuracy = 100.00000\n",
            "EPOCH 201 ...\n",
            "Validation Accuracy = 94.66666\n",
            "4.2483803e-30\n",
            "\n",
            "Train Accuracy = 100.00000\n",
            "EPOCH 211 ...\n",
            "Validation Accuracy = 94.83334\n",
            "1.4687339e-31\n",
            "\n",
            "Train Accuracy = 100.00000\n",
            "EPOCH 221 ...\n",
            "Validation Accuracy = 94.83334\n",
            "5.0776518e-33\n",
            "\n",
            "Train Accuracy = 100.00000\n",
            "EPOCH 231 ...\n",
            "Validation Accuracy = 94.83334\n",
            "1.7554266e-34\n",
            "\n",
            "Train Accuracy = 100.00000\n",
            "EPOCH 241 ...\n",
            "Validation Accuracy = 94.83334\n",
            "6.068794e-36\n",
            "\n",
            "Train Accuracy = 100.00000\n",
            "EPOCH 251 ...\n",
            "Validation Accuracy = 94.83334\n",
            "2.0980801e-37\n",
            "\n",
            "Train Accuracy = 100.00000\n",
            "EPOCH 261 ...\n",
            "Validation Accuracy = 94.83334\n",
            "0.0\n",
            "\n",
            "Train Accuracy = 100.00000\n",
            "EPOCH 271 ...\n",
            "Validation Accuracy = 94.83334\n",
            "0.0\n",
            "\n",
            "Train Accuracy = 100.00000\n",
            "EPOCH 281 ...\n",
            "Validation Accuracy = 94.83334\n",
            "0.0\n",
            "\n",
            "Train Accuracy = 100.00000\n",
            "EPOCH 291 ...\n",
            "Validation Accuracy = 94.83334\n",
            "0.0\n",
            "\n",
            "Train Accuracy = 100.00000\n",
            "EPOCH 301 ...\n",
            "Validation Accuracy = 94.83334\n",
            "0.0\n",
            "\n",
            "Train Accuracy = 100.00000\n",
            "EPOCH 311 ...\n",
            "Validation Accuracy = 94.83334\n",
            "0.0\n",
            "\n",
            "Train Accuracy = 100.00000\n",
            "EPOCH 321 ...\n",
            "Validation Accuracy = 94.83334\n",
            "0.0\n",
            "\n",
            "Train Accuracy = 100.00000\n",
            "EPOCH 331 ...\n",
            "Validation Accuracy = 94.83334\n",
            "0.0\n",
            "\n",
            "Train Accuracy = 100.00000\n",
            "EPOCH 341 ...\n",
            "Validation Accuracy = 94.83334\n",
            "0.0\n",
            "\n",
            "Train Accuracy = 100.00000\n",
            "EPOCH 351 ...\n",
            "Validation Accuracy = 94.83334\n",
            "0.0\n",
            "\n",
            "Train Accuracy = 100.00000\n",
            "EPOCH 361 ...\n",
            "Validation Accuracy = 94.83334\n",
            "0.0\n",
            "\n",
            "Train Accuracy = 100.00000\n",
            "EPOCH 371 ...\n",
            "Validation Accuracy = 94.83334\n",
            "0.0\n",
            "\n",
            "Train Accuracy = 100.00000\n",
            "EPOCH 381 ...\n",
            "Validation Accuracy = 94.83334\n",
            "0.0\n",
            "\n",
            "Train Accuracy = 100.00000\n",
            "EPOCH 391 ...\n",
            "Validation Accuracy = 94.83334\n",
            "0.0\n",
            "\n",
            "Train Accuracy = 100.00000\n",
            "EPOCH 401 ...\n",
            "Validation Accuracy = 94.83334\n",
            "0.0\n",
            "\n",
            "Train Accuracy = 100.00000\n",
            "EPOCH 411 ...\n",
            "Validation Accuracy = 94.83334\n",
            "0.0\n",
            "\n",
            "Train Accuracy = 100.00000\n",
            "EPOCH 421 ...\n",
            "Validation Accuracy = 94.83334\n",
            "0.0\n",
            "\n",
            "Train Accuracy = 100.00000\n",
            "EPOCH 431 ...\n",
            "Validation Accuracy = 95.00000\n",
            "0.0\n",
            "\n",
            "Train Accuracy = 100.00000\n",
            "EPOCH 441 ...\n",
            "Validation Accuracy = 95.00000\n",
            "0.0\n",
            "\n",
            "Train Accuracy = 100.00000\n",
            "EPOCH 451 ...\n",
            "Validation Accuracy = 95.00000\n",
            "0.0\n",
            "\n",
            "Train Accuracy = 100.00000\n",
            "EPOCH 461 ...\n",
            "Validation Accuracy = 95.00000\n",
            "0.0\n",
            "\n",
            "Train Accuracy = 100.00000\n",
            "EPOCH 471 ...\n",
            "Validation Accuracy = 95.00000\n",
            "0.0\n",
            "\n",
            "Train Accuracy = 100.00000\n",
            "EPOCH 481 ...\n",
            "Validation Accuracy = 95.00000\n",
            "0.0\n",
            "\n",
            "Train Accuracy = 100.00000\n",
            "EPOCH 491 ...\n",
            "Validation Accuracy = 95.00000\n",
            "0.0\n",
            "\n",
            "Train Accuracy = 100.00000\n",
            "EPOCH 501 ...\n",
            "Validation Accuracy = 95.00000\n",
            "0.0\n",
            "\n",
            "Train Accuracy = 100.00000\n",
            "EPOCH 511 ...\n",
            "Validation Accuracy = 95.00000\n",
            "0.0\n",
            "\n",
            "Train Accuracy = 100.00000\n",
            "EPOCH 521 ...\n",
            "Validation Accuracy = 95.00000\n",
            "0.0\n",
            "\n",
            "Train Accuracy = 100.00000\n",
            "EPOCH 531 ...\n",
            "Validation Accuracy = 95.00000\n",
            "0.0\n",
            "\n",
            "Train Accuracy = 100.00000\n",
            "EPOCH 541 ...\n",
            "Validation Accuracy = 94.83334\n",
            "0.0\n",
            "\n",
            "Train Accuracy = 100.00000\n",
            "EPOCH 551 ...\n",
            "Validation Accuracy = 94.66666\n",
            "0.0\n",
            "\n",
            "Train Accuracy = 100.00000\n",
            "EPOCH 561 ...\n",
            "Validation Accuracy = 94.83334\n",
            "0.0\n",
            "\n",
            "Train Accuracy = 100.00000\n",
            "EPOCH 571 ...\n",
            "Validation Accuracy = 94.83334\n",
            "0.0\n",
            "\n",
            "Train Accuracy = 100.00000\n",
            "EPOCH 581 ...\n",
            "Validation Accuracy = 94.66666\n",
            "0.0\n",
            "\n",
            "Train Accuracy = 100.00000\n",
            "EPOCH 591 ...\n",
            "Validation Accuracy = 94.66666\n",
            "0.0\n",
            "\n",
            "Train Accuracy = 100.00000\n",
            "EPOCH 601 ...\n",
            "Validation Accuracy = 94.66666\n",
            "0.0\n",
            "\n",
            "Train Accuracy = 100.00000\n",
            "EPOCH 611 ...\n",
            "Validation Accuracy = 94.66666\n",
            "0.0\n",
            "\n",
            "Train Accuracy = 100.00000\n",
            "EPOCH 621 ...\n",
            "Validation Accuracy = 94.66666\n",
            "0.0\n",
            "\n",
            "Train Accuracy = 100.00000\n",
            "EPOCH 631 ...\n",
            "Validation Accuracy = 94.66666\n",
            "0.0\n",
            "\n",
            "Train Accuracy = 100.00000\n",
            "EPOCH 641 ...\n",
            "Validation Accuracy = 94.66666\n",
            "0.0\n",
            "\n",
            "Train Accuracy = 100.00000\n",
            "EPOCH 651 ...\n",
            "Validation Accuracy = 94.66666\n",
            "0.0\n",
            "\n",
            "Train Accuracy = 100.00000\n",
            "EPOCH 661 ...\n",
            "Validation Accuracy = 94.66666\n",
            "0.0\n",
            "\n",
            "Train Accuracy = 100.00000\n",
            "EPOCH 671 ...\n",
            "Validation Accuracy = 94.66666\n",
            "0.0\n",
            "\n",
            "Train Accuracy = 100.00000\n",
            "EPOCH 681 ...\n",
            "Validation Accuracy = 94.66666\n",
            "0.0\n",
            "\n",
            "Train Accuracy = 100.00000\n",
            "EPOCH 691 ...\n",
            "Validation Accuracy = 94.66666\n",
            "0.0\n",
            "\n",
            "Train Accuracy = 100.00000\n",
            "EPOCH 701 ...\n",
            "Validation Accuracy = 94.66666\n",
            "0.0\n",
            "\n",
            "Train Accuracy = 100.00000\n",
            "EPOCH 711 ...\n",
            "Validation Accuracy = 94.66666\n",
            "0.0\n",
            "\n",
            "Train Accuracy = 100.00000\n",
            "EPOCH 721 ...\n",
            "Validation Accuracy = 94.66666\n",
            "0.0\n",
            "\n",
            "Train Accuracy = 100.00000\n",
            "EPOCH 731 ...\n",
            "Validation Accuracy = 94.66666\n",
            "0.0\n",
            "\n",
            "Train Accuracy = 100.00000\n",
            "EPOCH 741 ...\n",
            "Validation Accuracy = 94.66666\n",
            "0.0\n",
            "\n",
            "Train Accuracy = 100.00000\n",
            "EPOCH 751 ...\n",
            "Validation Accuracy = 94.66666\n",
            "0.0\n",
            "\n",
            "Train Accuracy = 100.00000\n",
            "EPOCH 761 ...\n",
            "Validation Accuracy = 94.66666\n",
            "0.0\n",
            "\n",
            "Train Accuracy = 100.00000\n",
            "EPOCH 771 ...\n",
            "Validation Accuracy = 94.66666\n",
            "0.0\n",
            "\n",
            "Train Accuracy = 100.00000\n",
            "EPOCH 781 ...\n",
            "Validation Accuracy = 94.66666\n",
            "0.0\n",
            "\n",
            "Train Accuracy = 100.00000\n",
            "EPOCH 791 ...\n",
            "Validation Accuracy = 94.66666\n",
            "0.0\n",
            "\n",
            "Train Accuracy = 100.00000\n",
            "EPOCH 801 ...\n",
            "Validation Accuracy = 94.66666\n",
            "0.0\n",
            "\n",
            "Train Accuracy = 100.00000\n",
            "EPOCH 811 ...\n",
            "Validation Accuracy = 94.66666\n",
            "0.0\n",
            "\n",
            "Train Accuracy = 100.00000\n",
            "EPOCH 821 ...\n",
            "Validation Accuracy = 94.66666\n",
            "0.0\n",
            "\n",
            "Train Accuracy = 100.00000\n",
            "EPOCH 831 ...\n",
            "Validation Accuracy = 94.66666\n",
            "0.0\n",
            "\n",
            "Train Accuracy = 100.00000\n",
            "EPOCH 841 ...\n",
            "Validation Accuracy = 94.66666\n",
            "0.0\n",
            "\n",
            "Train Accuracy = 100.00000\n",
            "EPOCH 851 ...\n",
            "Validation Accuracy = 94.66666\n",
            "0.0\n",
            "\n",
            "Train Accuracy = 100.00000\n",
            "EPOCH 861 ...\n",
            "Validation Accuracy = 94.66666\n",
            "0.0\n",
            "\n",
            "Train Accuracy = 100.00000\n",
            "EPOCH 871 ...\n",
            "Validation Accuracy = 94.66666\n",
            "0.0\n",
            "\n",
            "Train Accuracy = 100.00000\n",
            "EPOCH 881 ...\n",
            "Validation Accuracy = 94.66666\n",
            "0.0\n",
            "\n",
            "Train Accuracy = 100.00000\n",
            "EPOCH 891 ...\n",
            "Validation Accuracy = 94.66666\n",
            "0.0\n",
            "\n",
            "Train Accuracy = 100.00000\n",
            "EPOCH 901 ...\n",
            "Validation Accuracy = 94.66666\n",
            "0.0\n",
            "\n",
            "Train Accuracy = 100.00000\n",
            "EPOCH 911 ...\n",
            "Validation Accuracy = 94.66666\n",
            "0.0\n",
            "\n",
            "Train Accuracy = 100.00000\n",
            "EPOCH 921 ...\n",
            "Validation Accuracy = 94.66666\n",
            "0.0\n",
            "\n",
            "Train Accuracy = 100.00000\n",
            "EPOCH 931 ...\n",
            "Validation Accuracy = 94.66666\n",
            "0.0\n",
            "\n",
            "Train Accuracy = 100.00000\n",
            "EPOCH 941 ...\n",
            "Validation Accuracy = 94.50000\n",
            "0.0\n",
            "\n",
            "Train Accuracy = 100.00000\n",
            "EPOCH 951 ...\n",
            "Validation Accuracy = 94.50000\n",
            "0.0\n",
            "\n",
            "Train Accuracy = 100.00000\n",
            "EPOCH 961 ...\n",
            "Validation Accuracy = 94.66666\n",
            "0.0\n",
            "\n",
            "Train Accuracy = 100.00000\n",
            "EPOCH 971 ...\n",
            "Validation Accuracy = 94.66666\n",
            "0.0\n",
            "\n",
            "Train Accuracy = 100.00000\n",
            "EPOCH 981 ...\n",
            "Validation Accuracy = 94.66666\n",
            "0.0\n",
            "\n",
            "Train Accuracy = 100.00000\n",
            "EPOCH 991 ...\n",
            "Validation Accuracy = 94.66666\n",
            "0.0\n",
            "\n",
            "Train Accuracy = 100.00000\n",
            "EPOCH 1001 ...\n",
            "Validation Accuracy = 94.66666\n",
            "0.0\n",
            "\n",
            "Train Accuracy = 100.00000\n",
            "EPOCH 1011 ...\n",
            "Validation Accuracy = 94.66666\n",
            "0.0\n",
            "\n",
            "Train Accuracy = 100.00000\n",
            "EPOCH 1021 ...\n",
            "Validation Accuracy = 94.66666\n",
            "0.0\n",
            "\n",
            "Train Accuracy = 100.00000\n",
            "EPOCH 1031 ...\n",
            "Validation Accuracy = 94.66666\n",
            "0.0\n",
            "\n",
            "Train Accuracy = 100.00000\n",
            "EPOCH 1041 ...\n",
            "Validation Accuracy = 94.66666\n",
            "0.0\n",
            "\n",
            "Train Accuracy = 100.00000\n",
            "EPOCH 1051 ...\n",
            "Validation Accuracy = 94.66666\n",
            "0.0\n",
            "\n",
            "Train Accuracy = 100.00000\n",
            "EPOCH 1061 ...\n",
            "Validation Accuracy = 94.66666\n",
            "0.0\n",
            "\n",
            "Train Accuracy = 100.00000\n",
            "EPOCH 1071 ...\n",
            "Validation Accuracy = 94.66666\n",
            "0.0\n",
            "\n",
            "Train Accuracy = 100.00000\n",
            "EPOCH 1081 ...\n",
            "Validation Accuracy = 94.66666\n",
            "0.0\n",
            "\n",
            "Train Accuracy = 100.00000\n",
            "EPOCH 1091 ...\n",
            "Validation Accuracy = 94.66666\n",
            "0.0\n",
            "\n",
            "Train Accuracy = 100.00000\n",
            "EPOCH 1101 ...\n",
            "Validation Accuracy = 94.66666\n",
            "0.0\n",
            "\n",
            "Train Accuracy = 100.00000\n",
            "EPOCH 1111 ...\n",
            "Validation Accuracy = 94.66666\n",
            "0.0\n",
            "\n",
            "Train Accuracy = 100.00000\n",
            "EPOCH 1121 ...\n",
            "Validation Accuracy = 94.66666\n",
            "0.0\n",
            "\n",
            "Train Accuracy = 100.00000\n",
            "EPOCH 1131 ...\n",
            "Validation Accuracy = 94.66666\n",
            "0.0\n",
            "\n",
            "Train Accuracy = 100.00000\n",
            "EPOCH 1141 ...\n",
            "Validation Accuracy = 94.66666\n",
            "0.0\n",
            "\n",
            "Train Accuracy = 100.00000\n",
            "EPOCH 1151 ...\n",
            "Validation Accuracy = 94.66666\n",
            "0.0\n",
            "\n",
            "Train Accuracy = 100.00000\n",
            "EPOCH 1161 ...\n",
            "Validation Accuracy = 94.66666\n",
            "0.0\n",
            "\n",
            "Train Accuracy = 100.00000\n",
            "EPOCH 1171 ...\n",
            "Validation Accuracy = 94.66666\n",
            "0.0\n",
            "\n",
            "Train Accuracy = 100.00000\n",
            "EPOCH 1181 ...\n",
            "Validation Accuracy = 94.66666\n",
            "0.0\n",
            "\n",
            "Train Accuracy = 100.00000\n",
            "EPOCH 1191 ...\n",
            "Validation Accuracy = 94.66666\n",
            "0.0\n",
            "\n",
            "Train Accuracy = 100.00000\n",
            "EPOCH 1201 ...\n",
            "Validation Accuracy = 94.66666\n",
            "0.0\n",
            "\n",
            "Train Accuracy = 100.00000\n",
            "EPOCH 1211 ...\n",
            "Validation Accuracy = 94.66666\n",
            "0.0\n",
            "\n",
            "Train Accuracy = 100.00000\n",
            "EPOCH 1221 ...\n",
            "Validation Accuracy = 94.66666\n",
            "0.0\n",
            "\n",
            "Train Accuracy = 100.00000\n",
            "EPOCH 1231 ...\n",
            "Validation Accuracy = 94.66666\n",
            "0.0\n",
            "\n",
            "Train Accuracy = 100.00000\n",
            "EPOCH 1241 ...\n",
            "Validation Accuracy = 94.66666\n",
            "0.0\n",
            "\n",
            "Train Accuracy = 100.00000\n",
            "EPOCH 1251 ...\n",
            "Validation Accuracy = 94.66666\n",
            "0.0\n",
            "\n",
            "Train Accuracy = 100.00000\n",
            "EPOCH 1261 ...\n",
            "Validation Accuracy = 94.66666\n",
            "0.0\n",
            "\n",
            "Train Accuracy = 100.00000\n",
            "EPOCH 1271 ...\n",
            "Validation Accuracy = 94.66666\n",
            "0.0\n",
            "\n",
            "Train Accuracy = 100.00000\n",
            "EPOCH 1281 ...\n",
            "Validation Accuracy = 94.66666\n",
            "0.0\n",
            "\n",
            "Train Accuracy = 100.00000\n",
            "EPOCH 1291 ...\n",
            "Validation Accuracy = 94.66666\n",
            "0.0\n",
            "\n",
            "Train Accuracy = 100.00000\n",
            "EPOCH 1301 ...\n",
            "Validation Accuracy = 94.66666\n",
            "0.0\n",
            "\n",
            "Train Accuracy = 100.00000\n",
            "EPOCH 1311 ...\n",
            "Validation Accuracy = 94.66666\n",
            "0.0\n",
            "\n",
            "Train Accuracy = 100.00000\n",
            "EPOCH 1321 ...\n",
            "Validation Accuracy = 94.66666\n",
            "0.0\n",
            "\n",
            "Train Accuracy = 100.00000\n",
            "EPOCH 1331 ...\n",
            "Validation Accuracy = 94.66666\n",
            "0.0\n",
            "\n",
            "Train Accuracy = 100.00000\n",
            "EPOCH 1341 ...\n",
            "Validation Accuracy = 94.66666\n",
            "0.0\n",
            "\n",
            "Train Accuracy = 100.00000\n",
            "EPOCH 1351 ...\n",
            "Validation Accuracy = 94.66666\n",
            "0.0\n",
            "\n",
            "Train Accuracy = 100.00000\n",
            "EPOCH 1361 ...\n",
            "Validation Accuracy = 94.66666\n",
            "0.0\n",
            "\n",
            "Train Accuracy = 100.00000\n",
            "EPOCH 1371 ...\n",
            "Validation Accuracy = 94.66666\n",
            "0.0\n",
            "\n",
            "Train Accuracy = 100.00000\n",
            "EPOCH 1381 ...\n",
            "Validation Accuracy = 94.66666\n",
            "0.0\n",
            "\n",
            "Train Accuracy = 100.00000\n",
            "EPOCH 1391 ...\n",
            "Validation Accuracy = 94.66666\n",
            "0.0\n",
            "\n",
            "Train Accuracy = 100.00000\n",
            "EPOCH 1401 ...\n",
            "Validation Accuracy = 94.66666\n",
            "0.0\n",
            "\n",
            "Train Accuracy = 100.00000\n",
            "EPOCH 1411 ...\n",
            "Validation Accuracy = 94.66666\n",
            "0.0\n",
            "\n",
            "Train Accuracy = 100.00000\n",
            "EPOCH 1421 ...\n",
            "Validation Accuracy = 94.66666\n",
            "0.0\n",
            "\n",
            "Train Accuracy = 100.00000\n",
            "EPOCH 1431 ...\n",
            "Validation Accuracy = 94.66666\n",
            "0.0\n",
            "\n",
            "Train Accuracy = 100.00000\n",
            "EPOCH 1441 ...\n",
            "Validation Accuracy = 94.66666\n",
            "0.0\n",
            "\n",
            "Train Accuracy = 100.00000\n",
            "EPOCH 1451 ...\n",
            "Validation Accuracy = 94.66666\n",
            "0.0\n",
            "\n",
            "Train Accuracy = 100.00000\n",
            "EPOCH 1461 ...\n",
            "Validation Accuracy = 94.66666\n",
            "0.0\n",
            "\n",
            "Train Accuracy = 100.00000\n",
            "EPOCH 1471 ...\n",
            "Validation Accuracy = 94.66666\n",
            "0.0\n",
            "\n",
            "Train Accuracy = 100.00000\n",
            "EPOCH 1481 ...\n",
            "Validation Accuracy = 94.66666\n",
            "0.0\n",
            "\n",
            "Train Accuracy = 100.00000\n",
            "EPOCH 1491 ...\n",
            "Validation Accuracy = 94.66666\n",
            "0.0\n",
            "\n",
            "Train Accuracy = 100.00000\n",
            "EPOCH 1501 ...\n",
            "Validation Accuracy = 94.66666\n",
            "0.0\n",
            "\n",
            "Train Accuracy = 100.00000\n",
            "EPOCH 1511 ...\n",
            "Validation Accuracy = 94.66666\n",
            "0.0\n",
            "\n",
            "Train Accuracy = 100.00000\n",
            "EPOCH 1521 ...\n",
            "Validation Accuracy = 94.66666\n",
            "0.0\n",
            "\n",
            "Train Accuracy = 100.00000\n",
            "EPOCH 1531 ...\n",
            "Validation Accuracy = 94.66666\n",
            "0.0\n",
            "\n",
            "Train Accuracy = 100.00000\n",
            "EPOCH 1541 ...\n",
            "Validation Accuracy = 94.66666\n",
            "0.0\n",
            "\n",
            "Train Accuracy = 100.00000\n",
            "EPOCH 1551 ...\n",
            "Validation Accuracy = 94.66666\n",
            "0.0\n",
            "\n",
            "Train Accuracy = 100.00000\n",
            "EPOCH 1561 ...\n",
            "Validation Accuracy = 94.66666\n",
            "0.0\n",
            "\n",
            "Train Accuracy = 100.00000\n",
            "EPOCH 1571 ...\n",
            "Validation Accuracy = 94.66666\n",
            "0.0\n",
            "\n",
            "Train Accuracy = 100.00000\n",
            "EPOCH 1581 ...\n",
            "Validation Accuracy = 94.66666\n",
            "0.0\n",
            "\n",
            "Train Accuracy = 100.00000\n",
            "EPOCH 1591 ...\n",
            "Validation Accuracy = 94.66666\n",
            "0.0\n",
            "\n",
            "Train Accuracy = 100.00000\n",
            "EPOCH 1601 ...\n",
            "Validation Accuracy = 94.66666\n",
            "0.0\n",
            "\n",
            "Train Accuracy = 100.00000\n",
            "EPOCH 1611 ...\n",
            "Validation Accuracy = 94.66666\n",
            "0.0\n",
            "\n",
            "Train Accuracy = 100.00000\n",
            "EPOCH 1621 ...\n",
            "Validation Accuracy = 94.66666\n",
            "0.0\n",
            "\n",
            "Train Accuracy = 100.00000\n",
            "EPOCH 1631 ...\n",
            "Validation Accuracy = 94.66666\n",
            "0.0\n",
            "\n",
            "Train Accuracy = 100.00000\n",
            "EPOCH 1641 ...\n",
            "Validation Accuracy = 94.66666\n",
            "0.0\n",
            "\n",
            "Train Accuracy = 100.00000\n",
            "EPOCH 1651 ...\n",
            "Validation Accuracy = 94.66666\n",
            "0.0\n",
            "\n",
            "Train Accuracy = 100.00000\n",
            "EPOCH 1661 ...\n",
            "Validation Accuracy = 94.66666\n",
            "0.0\n",
            "\n",
            "Train Accuracy = 100.00000\n",
            "EPOCH 1671 ...\n",
            "Validation Accuracy = 94.66666\n",
            "0.0\n",
            "\n",
            "Train Accuracy = 100.00000\n",
            "EPOCH 1681 ...\n",
            "Validation Accuracy = 94.66666\n",
            "0.0\n",
            "\n",
            "Train Accuracy = 100.00000\n",
            "EPOCH 1691 ...\n",
            "Validation Accuracy = 94.66666\n",
            "0.0\n",
            "\n",
            "Train Accuracy = 100.00000\n",
            "EPOCH 1701 ...\n",
            "Validation Accuracy = 94.66666\n",
            "0.0\n",
            "\n",
            "Train Accuracy = 100.00000\n",
            "EPOCH 1711 ...\n",
            "Validation Accuracy = 94.66666\n",
            "0.0\n",
            "\n",
            "Train Accuracy = 100.00000\n",
            "EPOCH 1721 ...\n",
            "Validation Accuracy = 94.66666\n",
            "0.0\n",
            "\n",
            "Train Accuracy = 100.00000\n",
            "EPOCH 1731 ...\n",
            "Validation Accuracy = 94.66666\n",
            "0.0\n",
            "\n",
            "Train Accuracy = 100.00000\n",
            "EPOCH 1741 ...\n",
            "Validation Accuracy = 94.66666\n",
            "0.0\n",
            "\n",
            "Train Accuracy = 100.00000\n",
            "EPOCH 1751 ...\n",
            "Validation Accuracy = 94.66666\n",
            "0.0\n",
            "\n",
            "Train Accuracy = 100.00000\n",
            "EPOCH 1761 ...\n",
            "Validation Accuracy = 94.66666\n",
            "0.0\n",
            "\n",
            "Train Accuracy = 100.00000\n",
            "EPOCH 1771 ...\n",
            "Validation Accuracy = 94.66666\n",
            "0.0\n",
            "\n",
            "Train Accuracy = 100.00000\n",
            "EPOCH 1781 ...\n",
            "Validation Accuracy = 94.66666\n",
            "0.0\n",
            "\n",
            "Train Accuracy = 100.00000\n",
            "EPOCH 1791 ...\n",
            "Validation Accuracy = 94.66666\n",
            "0.0\n",
            "\n",
            "Train Accuracy = 100.00000\n",
            "EPOCH 1801 ...\n",
            "Validation Accuracy = 94.66666\n",
            "0.0\n",
            "\n",
            "Train Accuracy = 100.00000\n",
            "EPOCH 1811 ...\n",
            "Validation Accuracy = 94.66666\n",
            "0.0\n",
            "\n",
            "Train Accuracy = 100.00000\n",
            "EPOCH 1821 ...\n",
            "Validation Accuracy = 94.66666\n",
            "0.0\n",
            "\n",
            "Train Accuracy = 100.00000\n",
            "EPOCH 1831 ...\n",
            "Validation Accuracy = 94.66666\n",
            "0.0\n",
            "\n",
            "Train Accuracy = 100.00000\n",
            "EPOCH 1841 ...\n",
            "Validation Accuracy = 94.66666\n",
            "0.0\n",
            "\n",
            "Train Accuracy = 100.00000\n",
            "EPOCH 1851 ...\n",
            "Validation Accuracy = 94.66666\n",
            "0.0\n",
            "\n",
            "Train Accuracy = 100.00000\n",
            "EPOCH 1861 ...\n",
            "Validation Accuracy = 94.66666\n",
            "0.0\n",
            "\n",
            "Train Accuracy = 100.00000\n",
            "EPOCH 1871 ...\n",
            "Validation Accuracy = 94.66666\n",
            "0.0\n",
            "\n",
            "Train Accuracy = 100.00000\n",
            "EPOCH 1881 ...\n",
            "Validation Accuracy = 94.66666\n",
            "0.0\n",
            "\n",
            "Train Accuracy = 100.00000\n",
            "EPOCH 1891 ...\n",
            "Validation Accuracy = 94.66666\n",
            "0.0\n",
            "\n",
            "Train Accuracy = 100.00000\n",
            "EPOCH 1901 ...\n",
            "Validation Accuracy = 94.66666\n",
            "0.0\n",
            "\n",
            "Train Accuracy = 100.00000\n",
            "EPOCH 1911 ...\n",
            "Validation Accuracy = 94.66666\n",
            "0.0\n",
            "\n",
            "Train Accuracy = 100.00000\n",
            "EPOCH 1921 ...\n",
            "Validation Accuracy = 94.66666\n",
            "0.0\n",
            "\n",
            "Train Accuracy = 100.00000\n",
            "EPOCH 1931 ...\n",
            "Validation Accuracy = 94.66666\n",
            "0.0\n",
            "\n",
            "Train Accuracy = 100.00000\n",
            "EPOCH 1941 ...\n",
            "Validation Accuracy = 94.66666\n",
            "0.0\n",
            "\n",
            "Train Accuracy = 100.00000\n",
            "EPOCH 1951 ...\n",
            "Validation Accuracy = 94.66666\n",
            "0.0\n",
            "\n",
            "Train Accuracy = 100.00000\n",
            "EPOCH 1961 ...\n",
            "Validation Accuracy = 94.66666\n",
            "0.0\n",
            "\n",
            "Train Accuracy = 100.00000\n",
            "EPOCH 1971 ...\n",
            "Validation Accuracy = 94.66666\n",
            "0.0\n",
            "\n",
            "Train Accuracy = 100.00000\n",
            "EPOCH 1981 ...\n",
            "Validation Accuracy = 94.66666\n",
            "0.0\n",
            "\n",
            "Train Accuracy = 100.00000\n",
            "EPOCH 1991 ...\n",
            "Validation Accuracy = 94.66666\n",
            "0.0\n",
            "\n",
            "Train Accuracy = 100.00000\n",
            "EPOCH 2001 ...\n",
            "Validation Accuracy = 94.66666\n",
            "0.0\n",
            "\n",
            "Train Accuracy = 100.00000\n",
            "EPOCH 2011 ...\n",
            "Validation Accuracy = 94.66666\n",
            "0.0\n",
            "\n",
            "Train Accuracy = 100.00000\n",
            "EPOCH 2021 ...\n",
            "Validation Accuracy = 94.66666\n",
            "0.0\n",
            "\n",
            "Train Accuracy = 100.00000\n",
            "EPOCH 2031 ...\n",
            "Validation Accuracy = 94.66666\n",
            "0.0\n",
            "\n",
            "Train Accuracy = 100.00000\n",
            "EPOCH 2041 ...\n",
            "Validation Accuracy = 94.66666\n",
            "0.0\n",
            "\n",
            "Train Accuracy = 100.00000\n",
            "EPOCH 2051 ...\n",
            "Validation Accuracy = 94.66666\n",
            "0.0\n",
            "\n",
            "Train Accuracy = 100.00000\n",
            "EPOCH 2061 ...\n",
            "Validation Accuracy = 94.66666\n",
            "0.0\n",
            "\n",
            "Train Accuracy = 100.00000\n",
            "EPOCH 2071 ...\n",
            "Validation Accuracy = 94.66666\n",
            "0.0\n",
            "\n",
            "Train Accuracy = 100.00000\n",
            "EPOCH 2081 ...\n",
            "Validation Accuracy = 94.66666\n",
            "0.0\n",
            "\n",
            "Train Accuracy = 100.00000\n",
            "EPOCH 2091 ...\n",
            "Validation Accuracy = 94.66666\n",
            "0.0\n",
            "\n",
            "Train Accuracy = 100.00000\n",
            "EPOCH 2101 ...\n",
            "Validation Accuracy = 94.66666\n",
            "0.0\n",
            "\n",
            "Train Accuracy = 100.00000\n",
            "EPOCH 2111 ...\n",
            "Validation Accuracy = 94.66666\n",
            "0.0\n",
            "\n",
            "Train Accuracy = 100.00000\n",
            "EPOCH 2121 ...\n",
            "Validation Accuracy = 94.66666\n",
            "0.0\n",
            "\n",
            "Train Accuracy = 100.00000\n",
            "EPOCH 2131 ...\n",
            "Validation Accuracy = 94.66666\n",
            "0.0\n",
            "\n",
            "Train Accuracy = 100.00000\n",
            "EPOCH 2141 ...\n",
            "Validation Accuracy = 94.66666\n",
            "0.0\n",
            "\n",
            "Train Accuracy = 100.00000\n",
            "EPOCH 2151 ...\n",
            "Validation Accuracy = 94.66666\n",
            "0.0\n",
            "\n",
            "Train Accuracy = 100.00000\n",
            "EPOCH 2161 ...\n",
            "Validation Accuracy = 94.66666\n",
            "0.0\n",
            "\n"
          ],
          "name": "stdout"
        },
        {
          "output_type": "error",
          "ename": "KeyboardInterrupt",
          "evalue": "ignored",
          "traceback": [
            "\u001b[0;31m---------------------------------------------------------------------------\u001b[0m",
            "\u001b[0;31mKeyboardInterrupt\u001b[0m                         Traceback (most recent call last)",
            "\u001b[0;32m<ipython-input-52-2665bba4e43b>\u001b[0m in \u001b[0;36m<module>\u001b[0;34m()\u001b[0m\n\u001b[1;32m     32\u001b[0m         \u001b[0mprob\u001b[0m \u001b[0;34m=\u001b[0m \u001b[0msess\u001b[0m\u001b[0;34m.\u001b[0m\u001b[0mrun\u001b[0m\u001b[0;34m(\u001b[0m\u001b[0mnew_prob\u001b[0m\u001b[0;34m)\u001b[0m\u001b[0;34m\u001b[0m\u001b[0;34m\u001b[0m\u001b[0m\n\u001b[1;32m     33\u001b[0m         \u001b[0;32mif\u001b[0m \u001b[0mi\u001b[0m\u001b[0;34m%\u001b[0m\u001b[0mprint_every\u001b[0m \u001b[0;34m==\u001b[0m \u001b[0;36m0\u001b[0m\u001b[0;34m:\u001b[0m\u001b[0;34m\u001b[0m\u001b[0;34m\u001b[0m\u001b[0m\n\u001b[0;32m---> 34\u001b[0;31m           \u001b[0mtr_accuracy\u001b[0m \u001b[0;34m=\u001b[0m \u001b[0msess\u001b[0m\u001b[0;34m.\u001b[0m\u001b[0mrun\u001b[0m\u001b[0;34m(\u001b[0m\u001b[0maccuracy\u001b[0m\u001b[0;34m*\u001b[0m\u001b[0;36m100\u001b[0m\u001b[0;34m,\u001b[0m \u001b[0mfeed_dict\u001b[0m\u001b[0;34m=\u001b[0m\u001b[0;34m{\u001b[0m\u001b[0mx\u001b[0m\u001b[0;34m:\u001b[0m \u001b[0mX_train\u001b[0m\u001b[0;34m,\u001b[0m\u001b[0my\u001b[0m\u001b[0;34m:\u001b[0m\u001b[0my_train\u001b[0m\u001b[0;34m,\u001b[0m \u001b[0mis_testing\u001b[0m\u001b[0;34m:\u001b[0m \u001b[0;32mTrue\u001b[0m\u001b[0;34m}\u001b[0m\u001b[0;34m)\u001b[0m  \u001b[0;31m# evaluate(X_train, y_train)\u001b[0m\u001b[0;34m\u001b[0m\u001b[0;34m\u001b[0m\u001b[0m\n\u001b[0m\u001b[1;32m     35\u001b[0m           \u001b[0mprint\u001b[0m\u001b[0;34m(\u001b[0m\u001b[0;34m\"Train Accuracy = {:.5f}\"\u001b[0m\u001b[0;34m.\u001b[0m\u001b[0mformat\u001b[0m\u001b[0;34m(\u001b[0m\u001b[0mtr_accuracy\u001b[0m\u001b[0;34m)\u001b[0m\u001b[0;34m)\u001b[0m\u001b[0;34m\u001b[0m\u001b[0;34m\u001b[0m\u001b[0m\n\u001b[1;32m     36\u001b[0m           \u001b[0mvalidation_accuracy\u001b[0m \u001b[0;34m=\u001b[0m \u001b[0msess\u001b[0m\u001b[0;34m.\u001b[0m\u001b[0mrun\u001b[0m\u001b[0;34m(\u001b[0m\u001b[0maccuracy\u001b[0m\u001b[0;34m*\u001b[0m\u001b[0;36m100\u001b[0m\u001b[0;34m,\u001b[0m \u001b[0mfeed_dict\u001b[0m\u001b[0;34m=\u001b[0m\u001b[0;34m{\u001b[0m\u001b[0mx\u001b[0m\u001b[0;34m:\u001b[0m \u001b[0mvalidation_data\u001b[0m\u001b[0;34m,\u001b[0m\u001b[0my\u001b[0m\u001b[0;34m:\u001b[0m\u001b[0mvalidation_label_one_hot\u001b[0m\u001b[0;34m,\u001b[0m \u001b[0mis_testing\u001b[0m\u001b[0;34m:\u001b[0m \u001b[0;32mTrue\u001b[0m\u001b[0;34m}\u001b[0m\u001b[0;34m)\u001b[0m \u001b[0;31m#evaluate(X_validation, y_validation)\u001b[0m\u001b[0;34m\u001b[0m\u001b[0;34m\u001b[0m\u001b[0m\n",
            "\u001b[0;32m/usr/local/lib/python3.6/dist-packages/tensorflow/python/client/session.py\u001b[0m in \u001b[0;36mrun\u001b[0;34m(self, fetches, feed_dict, options, run_metadata)\u001b[0m\n\u001b[1;32m    927\u001b[0m     \u001b[0;32mtry\u001b[0m\u001b[0;34m:\u001b[0m\u001b[0;34m\u001b[0m\u001b[0;34m\u001b[0m\u001b[0m\n\u001b[1;32m    928\u001b[0m       result = self._run(None, fetches, feed_dict, options_ptr,\n\u001b[0;32m--> 929\u001b[0;31m                          run_metadata_ptr)\n\u001b[0m\u001b[1;32m    930\u001b[0m       \u001b[0;32mif\u001b[0m \u001b[0mrun_metadata\u001b[0m\u001b[0;34m:\u001b[0m\u001b[0;34m\u001b[0m\u001b[0;34m\u001b[0m\u001b[0m\n\u001b[1;32m    931\u001b[0m         \u001b[0mproto_data\u001b[0m \u001b[0;34m=\u001b[0m \u001b[0mtf_session\u001b[0m\u001b[0;34m.\u001b[0m\u001b[0mTF_GetBuffer\u001b[0m\u001b[0;34m(\u001b[0m\u001b[0mrun_metadata_ptr\u001b[0m\u001b[0;34m)\u001b[0m\u001b[0;34m\u001b[0m\u001b[0;34m\u001b[0m\u001b[0m\n",
            "\u001b[0;32m/usr/local/lib/python3.6/dist-packages/tensorflow/python/client/session.py\u001b[0m in \u001b[0;36m_run\u001b[0;34m(self, handle, fetches, feed_dict, options, run_metadata)\u001b[0m\n\u001b[1;32m   1150\u001b[0m     \u001b[0;32mif\u001b[0m \u001b[0mfinal_fetches\u001b[0m \u001b[0;32mor\u001b[0m \u001b[0mfinal_targets\u001b[0m \u001b[0;32mor\u001b[0m \u001b[0;34m(\u001b[0m\u001b[0mhandle\u001b[0m \u001b[0;32mand\u001b[0m \u001b[0mfeed_dict_tensor\u001b[0m\u001b[0;34m)\u001b[0m\u001b[0;34m:\u001b[0m\u001b[0;34m\u001b[0m\u001b[0;34m\u001b[0m\u001b[0m\n\u001b[1;32m   1151\u001b[0m       results = self._do_run(handle, final_targets, final_fetches,\n\u001b[0;32m-> 1152\u001b[0;31m                              feed_dict_tensor, options, run_metadata)\n\u001b[0m\u001b[1;32m   1153\u001b[0m     \u001b[0;32melse\u001b[0m\u001b[0;34m:\u001b[0m\u001b[0;34m\u001b[0m\u001b[0;34m\u001b[0m\u001b[0m\n\u001b[1;32m   1154\u001b[0m       \u001b[0mresults\u001b[0m \u001b[0;34m=\u001b[0m \u001b[0;34m[\u001b[0m\u001b[0;34m]\u001b[0m\u001b[0;34m\u001b[0m\u001b[0;34m\u001b[0m\u001b[0m\n",
            "\u001b[0;32m/usr/local/lib/python3.6/dist-packages/tensorflow/python/client/session.py\u001b[0m in \u001b[0;36m_do_run\u001b[0;34m(self, handle, target_list, fetch_list, feed_dict, options, run_metadata)\u001b[0m\n\u001b[1;32m   1326\u001b[0m     \u001b[0;32mif\u001b[0m \u001b[0mhandle\u001b[0m \u001b[0;32mis\u001b[0m \u001b[0;32mNone\u001b[0m\u001b[0;34m:\u001b[0m\u001b[0;34m\u001b[0m\u001b[0;34m\u001b[0m\u001b[0m\n\u001b[1;32m   1327\u001b[0m       return self._do_call(_run_fn, feeds, fetches, targets, options,\n\u001b[0;32m-> 1328\u001b[0;31m                            run_metadata)\n\u001b[0m\u001b[1;32m   1329\u001b[0m     \u001b[0;32melse\u001b[0m\u001b[0;34m:\u001b[0m\u001b[0;34m\u001b[0m\u001b[0;34m\u001b[0m\u001b[0m\n\u001b[1;32m   1330\u001b[0m       \u001b[0;32mreturn\u001b[0m \u001b[0mself\u001b[0m\u001b[0;34m.\u001b[0m\u001b[0m_do_call\u001b[0m\u001b[0;34m(\u001b[0m\u001b[0m_prun_fn\u001b[0m\u001b[0;34m,\u001b[0m \u001b[0mhandle\u001b[0m\u001b[0;34m,\u001b[0m \u001b[0mfeeds\u001b[0m\u001b[0;34m,\u001b[0m \u001b[0mfetches\u001b[0m\u001b[0;34m)\u001b[0m\u001b[0;34m\u001b[0m\u001b[0;34m\u001b[0m\u001b[0m\n",
            "\u001b[0;32m/usr/local/lib/python3.6/dist-packages/tensorflow/python/client/session.py\u001b[0m in \u001b[0;36m_do_call\u001b[0;34m(self, fn, *args)\u001b[0m\n\u001b[1;32m   1332\u001b[0m   \u001b[0;32mdef\u001b[0m \u001b[0m_do_call\u001b[0m\u001b[0;34m(\u001b[0m\u001b[0mself\u001b[0m\u001b[0;34m,\u001b[0m \u001b[0mfn\u001b[0m\u001b[0;34m,\u001b[0m \u001b[0;34m*\u001b[0m\u001b[0margs\u001b[0m\u001b[0;34m)\u001b[0m\u001b[0;34m:\u001b[0m\u001b[0;34m\u001b[0m\u001b[0;34m\u001b[0m\u001b[0m\n\u001b[1;32m   1333\u001b[0m     \u001b[0;32mtry\u001b[0m\u001b[0;34m:\u001b[0m\u001b[0;34m\u001b[0m\u001b[0;34m\u001b[0m\u001b[0m\n\u001b[0;32m-> 1334\u001b[0;31m       \u001b[0;32mreturn\u001b[0m \u001b[0mfn\u001b[0m\u001b[0;34m(\u001b[0m\u001b[0;34m*\u001b[0m\u001b[0margs\u001b[0m\u001b[0;34m)\u001b[0m\u001b[0;34m\u001b[0m\u001b[0;34m\u001b[0m\u001b[0m\n\u001b[0m\u001b[1;32m   1335\u001b[0m     \u001b[0;32mexcept\u001b[0m \u001b[0merrors\u001b[0m\u001b[0;34m.\u001b[0m\u001b[0mOpError\u001b[0m \u001b[0;32mas\u001b[0m \u001b[0me\u001b[0m\u001b[0;34m:\u001b[0m\u001b[0;34m\u001b[0m\u001b[0;34m\u001b[0m\u001b[0m\n\u001b[1;32m   1336\u001b[0m       \u001b[0mmessage\u001b[0m \u001b[0;34m=\u001b[0m \u001b[0mcompat\u001b[0m\u001b[0;34m.\u001b[0m\u001b[0mas_text\u001b[0m\u001b[0;34m(\u001b[0m\u001b[0me\u001b[0m\u001b[0;34m.\u001b[0m\u001b[0mmessage\u001b[0m\u001b[0;34m)\u001b[0m\u001b[0;34m\u001b[0m\u001b[0;34m\u001b[0m\u001b[0m\n",
            "\u001b[0;32m/usr/local/lib/python3.6/dist-packages/tensorflow/python/client/session.py\u001b[0m in \u001b[0;36m_run_fn\u001b[0;34m(feed_dict, fetch_list, target_list, options, run_metadata)\u001b[0m\n\u001b[1;32m   1315\u001b[0m     \u001b[0;32mdef\u001b[0m \u001b[0m_run_fn\u001b[0m\u001b[0;34m(\u001b[0m\u001b[0mfeed_dict\u001b[0m\u001b[0;34m,\u001b[0m \u001b[0mfetch_list\u001b[0m\u001b[0;34m,\u001b[0m \u001b[0mtarget_list\u001b[0m\u001b[0;34m,\u001b[0m \u001b[0moptions\u001b[0m\u001b[0;34m,\u001b[0m \u001b[0mrun_metadata\u001b[0m\u001b[0;34m)\u001b[0m\u001b[0;34m:\u001b[0m\u001b[0;34m\u001b[0m\u001b[0;34m\u001b[0m\u001b[0m\n\u001b[1;32m   1316\u001b[0m       \u001b[0;31m# Ensure any changes to the graph are reflected in the runtime.\u001b[0m\u001b[0;34m\u001b[0m\u001b[0;34m\u001b[0m\u001b[0;34m\u001b[0m\u001b[0m\n\u001b[0;32m-> 1317\u001b[0;31m       \u001b[0mself\u001b[0m\u001b[0;34m.\u001b[0m\u001b[0m_extend_graph\u001b[0m\u001b[0;34m(\u001b[0m\u001b[0;34m)\u001b[0m\u001b[0;34m\u001b[0m\u001b[0;34m\u001b[0m\u001b[0m\n\u001b[0m\u001b[1;32m   1318\u001b[0m       return self._call_tf_sessionrun(\n\u001b[1;32m   1319\u001b[0m           options, feed_dict, fetch_list, target_list, run_metadata)\n",
            "\u001b[0;32m/usr/local/lib/python3.6/dist-packages/tensorflow/python/client/session.py\u001b[0m in \u001b[0;36m_extend_graph\u001b[0;34m(self)\u001b[0m\n\u001b[1;32m   1350\u001b[0m   \u001b[0;32mdef\u001b[0m \u001b[0m_extend_graph\u001b[0m\u001b[0;34m(\u001b[0m\u001b[0mself\u001b[0m\u001b[0;34m)\u001b[0m\u001b[0;34m:\u001b[0m\u001b[0;34m\u001b[0m\u001b[0;34m\u001b[0m\u001b[0m\n\u001b[1;32m   1351\u001b[0m     \u001b[0;32mwith\u001b[0m \u001b[0mself\u001b[0m\u001b[0;34m.\u001b[0m\u001b[0m_graph\u001b[0m\u001b[0;34m.\u001b[0m\u001b[0m_session_run_lock\u001b[0m\u001b[0;34m(\u001b[0m\u001b[0;34m)\u001b[0m\u001b[0;34m:\u001b[0m  \u001b[0;31m# pylint: disable=protected-access\u001b[0m\u001b[0;34m\u001b[0m\u001b[0;34m\u001b[0m\u001b[0m\n\u001b[0;32m-> 1352\u001b[0;31m       \u001b[0mtf_session\u001b[0m\u001b[0;34m.\u001b[0m\u001b[0mExtendSession\u001b[0m\u001b[0;34m(\u001b[0m\u001b[0mself\u001b[0m\u001b[0;34m.\u001b[0m\u001b[0m_session\u001b[0m\u001b[0;34m)\u001b[0m\u001b[0;34m\u001b[0m\u001b[0;34m\u001b[0m\u001b[0m\n\u001b[0m\u001b[1;32m   1353\u001b[0m \u001b[0;34m\u001b[0m\u001b[0m\n\u001b[1;32m   1354\u001b[0m   \u001b[0;31m# The threshold to run garbage collection to delete dead tensors.\u001b[0m\u001b[0;34m\u001b[0m\u001b[0;34m\u001b[0m\u001b[0;34m\u001b[0m\u001b[0m\n",
            "\u001b[0;31mKeyboardInterrupt\u001b[0m: "
          ]
        }
      ]
    },
    {
      "metadata": {
        "id": "zydEA48dDeNA",
        "colab_type": "code",
        "outputId": "7637603a-8bc0-4557-fe8c-97526b8a3c7a",
        "colab": {
          "base_uri": "https://localhost:8080/",
          "height": 34
        }
      },
      "cell_type": "code",
      "source": [
        "np.argmax(validation_accuracy_track)"
      ],
      "execution_count": 53,
      "outputs": [
        {
          "output_type": "execute_result",
          "data": {
            "text/plain": [
              "43"
            ]
          },
          "metadata": {
            "tags": []
          },
          "execution_count": 53
        }
      ]
    },
    {
      "metadata": {
        "id": "oDevMH2N3JZu",
        "colab_type": "code",
        "outputId": "7dfbef28-db6b-48e7-de01-dc04a11dafe2",
        "colab": {
          "base_uri": "https://localhost:8080/",
          "height": 34
        }
      },
      "cell_type": "code",
      "source": [
        "best_accuracy_valid"
      ],
      "execution_count": 54,
      "outputs": [
        {
          "output_type": "execute_result",
          "data": {
            "text/plain": [
              "95.0"
            ]
          },
          "metadata": {
            "tags": []
          },
          "execution_count": 54
        }
      ]
    },
    {
      "metadata": {
        "id": "uhbuJEM0-sVm",
        "colab_type": "code",
        "outputId": "669432d7-49b9-401a-98b6-5dea41181dd8",
        "colab": {
          "base_uri": "https://localhost:8080/",
          "height": 122
        }
      },
      "cell_type": "code",
      "source": [
        "with tf.Session() as sess:\n",
        "#     saver.restore(sess, tf.train.latest_checkpoint('.'))\n",
        "    saver.restore(sess, './DNAAdamBased')\n",
        "    validation_accuracy = sess.run(accuracy*100, feed_dict={x: validation_data,y:validation_label_one_hot, is_testing: True})\n",
        "    print(\"Validation Accuracy = {:.6f}\".format(validation_accuracy))"
      ],
      "execution_count": 55,
      "outputs": [
        {
          "output_type": "stream",
          "text": [
            "WARNING:tensorflow:From /usr/local/lib/python3.6/dist-packages/tensorflow/python/training/saver.py:1266: checkpoint_exists (from tensorflow.python.training.checkpoint_management) is deprecated and will be removed in a future version.\n",
            "Instructions for updating:\n",
            "Use standard file APIs to check for files with this prefix.\n",
            "INFO:tensorflow:Restoring parameters from ./DNAAdamBased\n",
            "Validation Accuracy = 95.000000\n"
          ],
          "name": "stdout"
        }
      ]
    },
    {
      "metadata": {
        "id": "D5okZYa4CSqu",
        "colab_type": "code",
        "colab": {}
      },
      "cell_type": "code",
      "source": [
        "import matplotlib.pyplot as plt\n",
        "from scipy.interpolate import spline\n",
        "from scipy.signal import savgol_filter"
      ],
      "execution_count": 0,
      "outputs": []
    },
    {
      "metadata": {
        "id": "7ou2-UqDCXZH",
        "colab_type": "code",
        "colab": {}
      },
      "cell_type": "code",
      "source": [
        "steps_plot =  [step for step in range(0, 4861, print_every)]\n"
      ],
      "execution_count": 0,
      "outputs": []
    },
    {
      "metadata": {
        "id": "p6G17qZY_Pxq",
        "colab_type": "code",
        "outputId": "b9b7cbe0-3b4e-432d-9af1-fa7234f2ecca",
        "colab": {
          "base_uri": "https://localhost:8080/",
          "height": 34
        }
      },
      "cell_type": "code",
      "source": [
        "len(validation_accuracy_track)"
      ],
      "execution_count": 58,
      "outputs": [
        {
          "output_type": "execute_result",
          "data": {
            "text/plain": [
              "217"
            ]
          },
          "metadata": {
            "tags": []
          },
          "execution_count": 58
        }
      ]
    },
    {
      "metadata": {
        "id": "sNS-YE0XCg4s",
        "colab_type": "code",
        "outputId": "cc3df157-87e8-46cc-839b-cffb1e485cf4",
        "colab": {
          "base_uri": "https://localhost:8080/",
          "height": 286
        }
      },
      "cell_type": "code",
      "source": [
        "# plt.plot( savgol_filter(np.asarray(validation_accuracy_track),51,1))\n",
        "plt.plot( (validation_accuracy_track))\n"
      ],
      "execution_count": 59,
      "outputs": [
        {
          "output_type": "execute_result",
          "data": {
            "text/plain": [
              "[<matplotlib.lines.Line2D at 0x7f9c918ecc88>]"
            ]
          },
          "metadata": {
            "tags": []
          },
          "execution_count": 59
        },
        {
          "output_type": "display_data",
          "data": {
            "image/png": "[encoded data removed]",
            "text/plain": [
              "<Figure size 432x288 with 1 Axes>"
            ]
          },
          "metadata": {
            "tags": []
          }
        }
      ]
    },
    {
      "metadata": {
        "id": "BBlFJwfn-45J",
        "colab_type": "code",
        "colab": {
          "base_uri": "https://localhost:8080/",
          "height": 286
        },
        "outputId": "7f535483-cbde-4d35-b878-89aa6c3e0bf3"
      },
      "cell_type": "code",
      "source": [
        "plt.plot( (connection_probability_track))\n"
      ],
      "execution_count": 60,
      "outputs": [
        {
          "output_type": "execute_result",
          "data": {
            "text/plain": [
              "[<matplotlib.lines.Line2D at 0x7f9c918b4400>]"
            ]
          },
          "metadata": {
            "tags": []
          },
          "execution_count": 60
        },
        {
          "output_type": "display_data",
          "data": {
            "image/png": "[encoded data removed]",
            "text/plain": [
              "<Figure size 432x288 with 1 Axes>"
            ]
          },
          "metadata": {
            "tags": []
          }
        }
      ]
    },
    {
      "metadata": {
        "id": "MCKAiyEFCg2F",
        "colab_type": "code",
        "outputId": "38fbcc52-7335-4971-edd9-f107c01feaa7",
        "colab": {
          "base_uri": "https://localhost:8080/",
          "height": 297
        }
      },
      "cell_type": "code",
      "source": [
        "steps_plot = epoch_track# [step for step in range(0, 2291, print_every)]\n",
        "# plt.plot(steps_plot, 100*np.asarray(train_accuracy))\n",
        "# plt.plot(steps_plot, val_accuracy)\n",
        "\n",
        "plt.plot(steps_plot, np.asarray(train_accuracy_track))  \n",
        "plt.plot(steps_plot, validation_accuracy_track)\n",
        "plt.tight_layout()\n",
        "# plt.xticks(np.arange(min(steps_plot), max(steps_plot)+1, 2000))\n",
        "plt.ylabel('Accuracy')\n",
        "plt.grid(abs)\n",
        "plt.show()"
      ],
      "execution_count": 61,
      "outputs": [
        {
          "output_type": "display_data",
          "data": {
            "image/png": "[encoded data removed]",
            "text/plain": [
              "<Figure size 432x288 with 1 Axes>"
            ]
          },
          "metadata": {
            "tags": []
          }
        }
      ]
    },
    {
      "metadata": {
        "id": "u7hYf8U_CXWh",
        "colab_type": "code",
        "outputId": "4114d9ed-c684-442e-fdde-887264eac7f6",
        "colab": {
          "base_uri": "https://localhost:8080/",
          "height": 68
        }
      },
      "cell_type": "code",
      "source": [
        "valid_accuracy_filtered = validation_accuracy_track\n",
        "print(max(valid_accuracy_filtered))\n",
        "valid_accuracy_filtered_np = np.asarray(valid_accuracy_filtered)\n",
        "print(np.argmax(valid_accuracy_filtered))\n",
        "print(steps_plot[np.argmax(valid_accuracy_filtered)])"
      ],
      "execution_count": 62,
      "outputs": [
        {
          "output_type": "stream",
          "text": [
            "95.0\n",
            "43\n",
            "430\n"
          ],
          "name": "stdout"
        }
      ]
    },
    {
      "metadata": {
        "id": "TKucNn6bEZzn",
        "colab_type": "code",
        "colab": {}
      },
      "cell_type": "code",
      "source": [
        "import scipy.io as sio\n"
      ],
      "execution_count": 0,
      "outputs": []
    },
    {
      "metadata": {
        "id": "4lrwM4UUCXTc",
        "colab_type": "code",
        "colab": {}
      },
      "cell_type": "code",
      "source": [
        "sio.savemat('DNAReducedDatasetMomentADAM_ProbabilityBasedValid95.mat', {'ValidationTracked':validation_accuracy_track,\n",
        "                                       'train_accuracy_track':train_accuracy_track,\n",
        "                                       'connection_probability_track':connection_probability_track,\n",
        "                                       'epochTrack':epoch_track, 'TestAcc':'test_accuracy',\n",
        "                                                         'BestValidation':best_accuracy_valid})"
      ],
      "execution_count": 0,
      "outputs": []
    },
    {
      "metadata": {
        "id": "JFCL8d7-CIxP",
        "colab_type": "text"
      },
      "cell_type": "markdown",
      "source": [
        "### Now  retrain til 181 Epochs"
      ]
    },
    {
      "metadata": {
        "id": "qoqMxUbZCIRd",
        "colab_type": "code",
        "colab": {}
      },
      "cell_type": "code",
      "source": [
        "# keep aside \n",
        "aside_examples= 1\n",
        "aside_valid_test = train_valid_combined[-aside_examples:]\n",
        "aside_valid_test_label = validation_test_label_one_hot[-aside_examples:]\n",
        "combined_train_valid = train_valid_combined[:train_valid_combined.shape[0]-aside_examples,:]\n",
        "combined_train_valid_label = validation_test_label_one_hot[:train_valid_combined.shape[0]-aside_examples,:]"
      ],
      "execution_count": 0,
      "outputs": []
    },
    {
      "metadata": {
        "id": "5n7bYp9-FCn8",
        "colab_type": "code",
        "colab": {}
      },
      "cell_type": "code",
      "source": [
        "EPOCHS = 500"
      ],
      "execution_count": 0,
      "outputs": []
    },
    {
      "metadata": {
        "id": "puoBTQ3fCIOT",
        "colab_type": "code",
        "outputId": "2326e69e-354e-403b-c219-1395a1e6dea8",
        "colab": {
          "base_uri": "https://localhost:8080/",
          "height": 4318
        }
      },
      "cell_type": "code",
      "source": [
        "\n",
        "validation_accuracy_track = []\n",
        "train_accuracy_track = []\n",
        "connection_probability_track = []\n",
        "number_of_ex = combined_train_valid.shape[0]\n",
        "total_steps_for_one_pass = number_of_ex//BATCH_SIZE + 1\n",
        "\n",
        "print_every = 10\n",
        "with tf.Session() as sess:\n",
        "    sess.run(tf.global_variables_initializer())\n",
        "    num_examples = len(X_train)\n",
        "    best_accuracy_valid = 0\n",
        "    print(\"Training...\")\n",
        "    print()\n",
        "    for i in range(EPOCHS):\n",
        "        X_train, y_train = shuffle(combined_train_valid, combined_train_valid_label)\n",
        "        for step in range(0, total_steps_for_one_pass):        \n",
        "          if step>=number_of_ex//BATCH_SIZE:\n",
        "            batch_x, batch_y = X_train[step*BATCH_SIZE:,:],y_train[step*BATCH_SIZE:]\n",
        "#             print(step,'Finishing',step*BATCH_SIZE )\n",
        "            step = 0\n",
        "\n",
        "          else:\n",
        "\n",
        "            start = step*BATCH_SIZE\n",
        "            finish = (step+1)*BATCH_SIZE\n",
        "#             print(step,'Doing', 'Start = ', start, \"Finish = \", finish)\n",
        "            batch_x, batch_y = X_train[step:finish,:],y_train[step:finish]\n",
        "#           print(batch_y.shape)\n",
        "          tr_op  = sess.run([training_operation], feed_dict={x: batch_x, y: batch_y, is_testing : False})\n",
        "#           train_writer.add_summary(summary_tr, i)\n",
        "        prob = sess.run(new_prob)\n",
        "        if i%print_every == 0:\n",
        "          tr_accuracy = sess.run(accuracy*100, feed_dict={x: X_train,y:y_train, is_testing: True})  # evaluate(X_train, y_train)\n",
        "          print(\"Train Accuracy = {:.5f}\".format(tr_accuracy))\n",
        "          validation_accuracy = sess.run(accuracy*100, feed_dict={x: aside_valid_test,y:aside_valid_test_label, is_testing: True}) #evaluate(X_validation, y_validation)\n",
        "          validation_accuracy_track.append(validation_accuracy)\n",
        "          train_accuracy_track.append(tr_accuracy)\n",
        "          connection_probability_track.append(prob)\n",
        "          print(\"EPOCH {} ...\".format(i+1))\n",
        "          print(\"Validation Accuracy = {:.5f}\".format(validation_accuracy))\n",
        "          print(prob)\n",
        "          print()\n",
        "          if (validation_accuracy >= best_accuracy_valid):\n",
        "            best_accuracy_valid = validation_accuracy\n",
        "#             saver.save(sess, './PendigitSGDBased')\n",
        "    saver.save(sess, './DNAAdamBasedAllPass')   \n",
        "#     saver.save(sess, './lenet')\n",
        "    print(\"Model saved\")"
      ],
      "execution_count": 67,
      "outputs": [
        {
          "output_type": "stream",
          "text": [
            "Training...\n",
            "\n",
            "Train Accuracy = 98.54928\n",
            "EPOCH 1 ...\n",
            "Validation Accuracy = 100.00000\n",
            "0.71421427\n",
            "\n",
            "Train Accuracy = 99.94997\n",
            "EPOCH 11 ...\n",
            "Validation Accuracy = 100.00000\n",
            "0.024691546\n",
            "\n",
            "Train Accuracy = 100.00000\n",
            "EPOCH 21 ...\n",
            "Validation Accuracy = 100.00000\n",
            "0.00085362676\n",
            "\n",
            "Train Accuracy = 100.00000\n",
            "EPOCH 31 ...\n",
            "Validation Accuracy = 100.00000\n",
            "2.9511264e-05\n",
            "\n",
            "Train Accuracy = 100.00000\n",
            "EPOCH 41 ...\n",
            "Validation Accuracy = 100.00000\n",
            "1.0202523e-06\n",
            "\n",
            "Train Accuracy = 100.00000\n",
            "EPOCH 51 ...\n",
            "Validation Accuracy = 100.00000\n",
            "3.527178e-08\n",
            "\n",
            "Train Accuracy = 100.00000\n",
            "EPOCH 61 ...\n",
            "Validation Accuracy = 100.00000\n",
            "1.2194024e-09\n",
            "\n",
            "Train Accuracy = 100.00000\n",
            "EPOCH 71 ...\n",
            "Validation Accuracy = 100.00000\n",
            "4.2156716e-11\n",
            "\n",
            "Train Accuracy = 100.00000\n",
            "EPOCH 81 ...\n",
            "Validation Accuracy = 100.00000\n",
            "1.457426e-12\n",
            "\n",
            "Train Accuracy = 100.00000\n",
            "EPOCH 91 ...\n",
            "Validation Accuracy = 100.00000\n",
            "5.0385572e-14\n",
            "\n",
            "Train Accuracy = 100.00000\n",
            "EPOCH 101 ...\n",
            "Validation Accuracy = 100.00000\n",
            "1.7419111e-15\n",
            "\n",
            "Train Accuracy = 100.00000\n",
            "EPOCH 111 ...\n",
            "Validation Accuracy = 100.00000\n",
            "6.022069e-17\n",
            "\n",
            "Train Accuracy = 100.00000\n",
            "EPOCH 121 ...\n",
            "Validation Accuracy = 100.00000\n",
            "2.081927e-18\n",
            "\n",
            "Train Accuracy = 100.00000\n",
            "EPOCH 131 ...\n",
            "Validation Accuracy = 100.00000\n",
            "7.197559e-20\n",
            "\n",
            "Train Accuracy = 100.00000\n",
            "EPOCH 141 ...\n",
            "Validation Accuracy = 100.00000\n",
            "2.4883126e-21\n",
            "\n",
            "Train Accuracy = 100.00000\n",
            "EPOCH 151 ...\n",
            "Validation Accuracy = 100.00000\n",
            "8.6024985e-23\n",
            "\n",
            "Train Accuracy = 100.00000\n",
            "EPOCH 161 ...\n",
            "Validation Accuracy = 100.00000\n",
            "2.9740232e-24\n",
            "\n",
            "Train Accuracy = 100.00000\n",
            "EPOCH 171 ...\n",
            "Validation Accuracy = 100.00000\n",
            "1.02816796e-25\n",
            "\n",
            "Train Accuracy = 100.00000\n",
            "EPOCH 181 ...\n",
            "Validation Accuracy = 100.00000\n",
            "3.5545433e-27\n",
            "\n",
            "Train Accuracy = 100.00000\n",
            "EPOCH 191 ...\n",
            "Validation Accuracy = 100.00000\n",
            "1.2288633e-28\n",
            "\n",
            "Train Accuracy = 100.00000\n",
            "EPOCH 201 ...\n",
            "Validation Accuracy = 100.00000\n",
            "4.2483803e-30\n",
            "\n",
            "Train Accuracy = 100.00000\n",
            "EPOCH 211 ...\n",
            "Validation Accuracy = 100.00000\n",
            "1.4687339e-31\n",
            "\n",
            "Train Accuracy = 100.00000\n",
            "EPOCH 221 ...\n",
            "Validation Accuracy = 100.00000\n",
            "5.0776518e-33\n",
            "\n",
            "Train Accuracy = 100.00000\n",
            "EPOCH 231 ...\n",
            "Validation Accuracy = 100.00000\n",
            "1.7554266e-34\n",
            "\n",
            "Train Accuracy = 100.00000\n",
            "EPOCH 241 ...\n",
            "Validation Accuracy = 100.00000\n",
            "6.068794e-36\n",
            "\n",
            "Train Accuracy = 100.00000\n",
            "EPOCH 251 ...\n",
            "Validation Accuracy = 100.00000\n",
            "2.0980801e-37\n",
            "\n",
            "Train Accuracy = 100.00000\n",
            "EPOCH 261 ...\n",
            "Validation Accuracy = 100.00000\n",
            "0.0\n",
            "\n",
            "Train Accuracy = 100.00000\n",
            "EPOCH 271 ...\n",
            "Validation Accuracy = 100.00000\n",
            "0.0\n",
            "\n",
            "Train Accuracy = 100.00000\n",
            "EPOCH 281 ...\n",
            "Validation Accuracy = 100.00000\n",
            "0.0\n",
            "\n",
            "Train Accuracy = 100.00000\n",
            "EPOCH 291 ...\n",
            "Validation Accuracy = 100.00000\n",
            "0.0\n",
            "\n",
            "Train Accuracy = 100.00000\n",
            "EPOCH 301 ...\n",
            "Validation Accuracy = 100.00000\n",
            "0.0\n",
            "\n",
            "Train Accuracy = 100.00000\n",
            "EPOCH 311 ...\n",
            "Validation Accuracy = 100.00000\n",
            "0.0\n",
            "\n",
            "Train Accuracy = 100.00000\n",
            "EPOCH 321 ...\n",
            "Validation Accuracy = 100.00000\n",
            "0.0\n",
            "\n",
            "Train Accuracy = 100.00000\n",
            "EPOCH 331 ...\n",
            "Validation Accuracy = 100.00000\n",
            "0.0\n",
            "\n",
            "Train Accuracy = 100.00000\n",
            "EPOCH 341 ...\n",
            "Validation Accuracy = 100.00000\n",
            "0.0\n",
            "\n",
            "Train Accuracy = 100.00000\n",
            "EPOCH 351 ...\n",
            "Validation Accuracy = 100.00000\n",
            "0.0\n",
            "\n",
            "Train Accuracy = 100.00000\n",
            "EPOCH 361 ...\n",
            "Validation Accuracy = 100.00000\n",
            "0.0\n",
            "\n",
            "Train Accuracy = 100.00000\n",
            "EPOCH 371 ...\n",
            "Validation Accuracy = 100.00000\n",
            "0.0\n",
            "\n",
            "Train Accuracy = 100.00000\n",
            "EPOCH 381 ...\n",
            "Validation Accuracy = 100.00000\n",
            "0.0\n",
            "\n",
            "Train Accuracy = 100.00000\n",
            "EPOCH 391 ...\n",
            "Validation Accuracy = 100.00000\n",
            "0.0\n",
            "\n",
            "Train Accuracy = 100.00000\n",
            "EPOCH 401 ...\n",
            "Validation Accuracy = 100.00000\n",
            "0.0\n",
            "\n",
            "Train Accuracy = 100.00000\n",
            "EPOCH 411 ...\n",
            "Validation Accuracy = 100.00000\n",
            "0.0\n",
            "\n",
            "Train Accuracy = 100.00000\n",
            "EPOCH 421 ...\n",
            "Validation Accuracy = 100.00000\n",
            "0.0\n",
            "\n",
            "Train Accuracy = 100.00000\n",
            "EPOCH 431 ...\n",
            "Validation Accuracy = 100.00000\n",
            "0.0\n",
            "\n",
            "Train Accuracy = 100.00000\n",
            "EPOCH 441 ...\n",
            "Validation Accuracy = 100.00000\n",
            "0.0\n",
            "\n",
            "Train Accuracy = 100.00000\n",
            "EPOCH 451 ...\n",
            "Validation Accuracy = 100.00000\n",
            "0.0\n",
            "\n",
            "Train Accuracy = 100.00000\n",
            "EPOCH 461 ...\n",
            "Validation Accuracy = 100.00000\n",
            "0.0\n",
            "\n",
            "Train Accuracy = 100.00000\n",
            "EPOCH 471 ...\n",
            "Validation Accuracy = 100.00000\n",
            "0.0\n",
            "\n",
            "Train Accuracy = 100.00000\n",
            "EPOCH 481 ...\n",
            "Validation Accuracy = 100.00000\n",
            "0.0\n",
            "\n",
            "Train Accuracy = 100.00000\n",
            "EPOCH 491 ...\n",
            "Validation Accuracy = 100.00000\n",
            "0.0\n",
            "\n",
            "Model saved\n"
          ],
          "name": "stdout"
        }
      ]
    },
    {
      "metadata": {
        "id": "ImtSTCNJF9E_",
        "colab_type": "code",
        "outputId": "bb7e4509-0676-42f5-a75b-17462a0f61c6",
        "colab": {
          "base_uri": "https://localhost:8080/",
          "height": 51
        }
      },
      "cell_type": "code",
      "source": [
        "with tf.Session() as sess:\n",
        "#     saver.restore(sess, tf.train.latest_checkpoint('.'))\n",
        "    saver.restore(sess, './DNAAdamBasedAllPass')\n",
        "    saver.save(sess, './DNAReducedAdamBasedAllPass')  \n",
        "    validation_accuracy = sess.run(accuracy*100, feed_dict={x: validation_data,y:validation_label_one_hot, is_testing: True})\n",
        "    print(\"Validation Accuracy = {:.6f}\".format(validation_accuracy))"
      ],
      "execution_count": 68,
      "outputs": [
        {
          "output_type": "stream",
          "text": [
            "INFO:tensorflow:Restoring parameters from ./DNAAdamBasedAllPass\n",
            "Validation Accuracy = 100.000000\n"
          ],
          "name": "stdout"
        }
      ]
    },
    {
      "metadata": {
        "id": "4FVMAeXpCIL8",
        "colab_type": "code",
        "outputId": "5b12f6d4-981b-4d1a-a192-d9e42d496bb4",
        "colab": {
          "base_uri": "https://localhost:8080/",
          "height": 51
        }
      },
      "cell_type": "code",
      "source": [
        "# Without all pass\n",
        "with tf.Session() as sess:\n",
        "#     saver.restore(sess, tf.train.latest_checkpoint('.'))\n",
        "    saver.restore(sess, './DNAReducedAdamBasedAllPass')\n",
        "    test_accuracy = sess.run(accuracy*100, feed_dict={x: test_data,y:test_label_one_hot, is_testing: True})\n",
        "    print(\"Test Accuracy = {:.6f}\".format(test_accuracy))"
      ],
      "execution_count": 69,
      "outputs": [
        {
          "output_type": "stream",
          "text": [
            "INFO:tensorflow:Restoring parameters from ./DNAReducedAdamBasedAllPass\n",
            "Test Accuracy = 94.856659\n"
          ],
          "name": "stdout"
        }
      ]
    },
    {
      "metadata": {
        "id": "VGUWHQR3CIJg",
        "colab_type": "code",
        "colab": {}
      },
      "cell_type": "code",
      "source": [
        ""
      ],
      "execution_count": 0,
      "outputs": []
    },
    {
      "metadata": {
        "id": "-HXCpiAuCIGT",
        "colab_type": "code",
        "colab": {}
      },
      "cell_type": "code",
      "source": [
        ""
      ],
      "execution_count": 0,
      "outputs": []
    },
    {
      "metadata": {
        "id": "JGYzlt7KCIDI",
        "colab_type": "code",
        "colab": {}
      },
      "cell_type": "code",
      "source": [
        ""
      ],
      "execution_count": 0,
      "outputs": []
    },
    {
      "metadata": {
        "id": "hr57zkSqCIAK",
        "colab_type": "code",
        "colab": {}
      },
      "cell_type": "code",
      "source": [
        ""
      ],
      "execution_count": 0,
      "outputs": []
    },
    {
      "metadata": {
        "id": "q08ZXCdr-sTS",
        "colab_type": "code",
        "colab": {}
      },
      "cell_type": "code",
      "source": [
        "# # Without all pass\n",
        "# with tf.Session() as sess:\n",
        "# #     saver.restore(sess, tf.train.latest_checkpoint('.'))\n",
        "#     saver.restore(sess, './PendigitSGDBased')\n",
        "#     test_accuracy = sess.run(accuracy*100, feed_dict={x: test_data,y:test_label_one_hot, is_testing: True})\n",
        "#     print(\"Test Accuracy = {:.6f}\".format(test_accuracy))"
      ],
      "execution_count": 0,
      "outputs": []
    },
    {
      "metadata": {
        "id": "M9z1P1DG-sQM",
        "colab_type": "code",
        "colab": {}
      },
      "cell_type": "code",
      "source": [
        "import scipy.io as sio\n"
      ],
      "execution_count": 0,
      "outputs": []
    },
    {
      "metadata": {
        "id": "dW6V7O1e-sNf",
        "colab_type": "code",
        "colab": {}
      },
      "cell_type": "code",
      "source": [
        "epochTrack = epoch_track\n"
      ],
      "execution_count": 0,
      "outputs": []
    },
    {
      "metadata": {
        "id": "r7lCgbXR3JXa",
        "colab_type": "code",
        "colab": {}
      },
      "cell_type": "code",
      "source": [
        ""
      ],
      "execution_count": 0,
      "outputs": []
    },
    {
      "metadata": {
        "id": "vFfzfjOB3JTx",
        "colab_type": "code",
        "colab": {}
      },
      "cell_type": "code",
      "source": [
        ""
      ],
      "execution_count": 0,
      "outputs": []
    }
  ]
}